{
 "cells": [
  {
   "cell_type": "markdown",
   "id": "0",
   "metadata": {},
   "source": [
    "# SMuRF basic checks"
   ]
  },
  {
   "cell_type": "markdown",
   "id": "1",
   "metadata": {},
   "source": [
    "## Changes\n",
    "[Describe new version changes and why they were implemented]"
   ]
  },
  {
   "cell_type": "markdown",
   "id": "2",
   "metadata": {},
   "source": [
    "## Start server\n",
    "Navigate to the release directory and start the server with the `run.sh` script."
   ]
  },
  {
   "cell_type": "markdown",
   "id": "3",
   "metadata": {},
   "source": [
    "## Setup system\n",
    "\n",
    "### Imports"
   ]
  },
  {
   "cell_type": "code",
   "execution_count": null,
   "id": "4",
   "metadata": {},
   "outputs": [],
   "source": [
    "import matplotlib\n",
    "matplotlib.use('Agg')\n",
    "%matplotlib inline\n",
    "import matplotlib.pyplot as plt\n",
    "import ipywidgets as widgets\n",
    "import os\n",
    "import numpy as np\n",
    "\n",
    "import pysmurf.client"
   ]
  },
  {
   "cell_type": "markdown",
   "id": "5",
   "metadata": {},
   "source": [
    "### Get a SmurfControl instance"
   ]
  },
  {
   "cell_type": "code",
   "execution_count": null,
   "id": "6",
   "metadata": {},
   "outputs": [],
   "source": [
    "slot = 4\n",
    "epics_prefix = f\"smurf_server_s{slot}\"\n",
    "config_file = os.path.abspath(\"/usr/local/src/pysmurf/cfg_files/rflab/experiment_rflab_2xLB_backplane.cfg\")\n",
    "shelf_man = \"shm-smrf-sp01\""
   ]
  },
  {
   "cell_type": "code",
   "execution_count": null,
   "id": "7",
   "metadata": {},
   "outputs": [],
   "source": [
    "S = pysmurf.client.SmurfControl(\n",
    "    epics_root=epics_prefix,\n",
    "    cfg_file=config_file,\n",
    "    setup=False,\n",
    "    make_logfile=False,\n",
    "    shelf_manager=shelf_man\n",
    ")"
   ]
  },
  {
   "cell_type": "markdown",
   "id": "8",
   "metadata": {},
   "source": [
    "What versions of everything are we running?"
   ]
  },
  {
   "cell_type": "code",
   "execution_count": null,
   "id": "9",
   "metadata": {},
   "outputs": [],
   "source": [
    "pysmurf.__version__"
   ]
  },
  {
   "cell_type": "code",
   "execution_count": null,
   "id": "10",
   "metadata": {},
   "outputs": [],
   "source": [
    "S._caget(f'{epics_prefix}:AMCc:RogueVersion', as_string=True)"
   ]
  },
  {
   "cell_type": "code",
   "execution_count": null,
   "id": "11",
   "metadata": {},
   "outputs": [],
   "source": [
    "S._caget(f'{epics_prefix}:AMCc:SmurfApplication:SmurfVersion', as_string=True)"
   ]
  },
  {
   "cell_type": "code",
   "execution_count": null,
   "id": "12",
   "metadata": {},
   "outputs": [],
   "source": [
    "S._caget(f'{epics_prefix}:AMCc:SmurfApplication:StartupArguments', as_string=True)"
   ]
  },
  {
   "cell_type": "code",
   "execution_count": null,
   "id": "13",
   "metadata": {},
   "outputs": [],
   "source": [
    "S.get_fpga_git_hash_short()"
   ]
  },
  {
   "cell_type": "code",
   "execution_count": null,
   "id": "14",
   "metadata": {},
   "outputs": [],
   "source": [
    "bands = []\n",
    "for i in S.get_enabled_bays():\n",
    "    bands += [4 * i + j for j in range(4)]"
   ]
  },
  {
   "cell_type": "code",
   "execution_count": null,
   "id": "15",
   "metadata": {},
   "outputs": [],
   "source": [
    "# convenience function for displaying the output of a given function in tabs per band\n",
    "def do_tabs(func, *args, bands=bands, **kwargs):\n",
    "    # create a tab for each band\n",
    "    tab_outputs = [widgets.Output() for b in bands]\n",
    "    for i, band in enumerate(bands):\n",
    "        with tab_outputs[i]:\n",
    "            func(band, *args, **kwargs)\n",
    "\n",
    "    # display as tabs\n",
    "    tab = widgets.Tab(children=tab_outputs)\n",
    "    for i, band in enumerate(bands):\n",
    "        tab.set_title(i, f\"Band {band}\")\n",
    "    display(tab)"
   ]
  },
  {
   "cell_type": "markdown",
   "id": "16",
   "metadata": {},
   "source": [
    "### Run setup\n",
    "Check that the output contains no errors and the function returns `True`"
   ]
  },
  {
   "cell_type": "code",
   "execution_count": null,
   "id": "17",
   "metadata": {},
   "outputs": [],
   "source": [
    "assert S.setup(force_configure=True)"
   ]
  },
  {
   "cell_type": "markdown",
   "id": "18",
   "metadata": {},
   "source": [
    "### If available, using timing slot"
   ]
  },
  {
   "cell_type": "code",
   "execution_count": null,
   "id": "19",
   "metadata": {},
   "outputs": [],
   "source": [
    "S.set_timing_mode('backplane')"
   ]
  },
  {
   "cell_type": "markdown",
   "id": "20",
   "metadata": {},
   "source": [
    "### Check JESD is locked\n",
    "(JESD204 is a standard interface for communication links to the FPGA.)"
   ]
  },
  {
   "cell_type": "code",
   "execution_count": null,
   "id": "21",
   "metadata": {},
   "outputs": [],
   "source": [
    "for i in S.get_enabled_bays():\n",
    "    print(f\"JESD in bay {i}:\", S.check_jesd(i))"
   ]
  },
  {
   "cell_type": "markdown",
   "id": "22",
   "metadata": {},
   "source": [
    "## Loopback tests\n",
    "For these tests, no cold resonators are required, and the system should be configured in loopback."
   ]
  },
  {
   "cell_type": "markdown",
   "id": "23",
   "metadata": {},
   "source": [
    "### Bias RF amps for B33 DR RF chain #1\n",
    "\n",
    "**TODO:** Should we have alternative parameters for the lab 1 setup?"
   ]
  },
  {
   "cell_type": "code",
   "execution_count": null,
   "id": "24",
   "metadata": {},
   "outputs": [],
   "source": [
    "S.get_amplifier_biases()"
   ]
  },
  {
   "cell_type": "code",
   "execution_count": null,
   "id": "25",
   "metadata": {},
   "outputs": [],
   "source": [
    "#adjust gate until hemt_Id is 4mA if needed.  \n",
    "S.set_amp_gate_voltage('hemt1',0.395,override=True)\n",
    "S.set_amp_drain_voltage('hemt1',0.5)\n",
    "\n",
    "#50K is B&Z amp that doesn't have a gate.\n",
    "S.set_amp_drain_voltage('50k1',5.0)"
   ]
  },
  {
   "cell_type": "code",
   "execution_count": null,
   "id": "26",
   "metadata": {},
   "outputs": [],
   "source": [
    "S.get_amplifier_biases()"
   ]
  },
  {
   "cell_type": "markdown",
   "id": "27",
   "metadata": {},
   "source": [
    "Gate voltage corresponding to 4mA is similar to what it usually is."
   ]
  },
  {
   "cell_type": "markdown",
   "id": "28",
   "metadata": {},
   "source": [
    "### Estimate phase delay\n",
    "\n",
    "Measure the delay in the cable and digital signal processing by fitting for a linear phase trend in the full band response.\n",
    "\n",
    "The phase plots should look linear in frequency, and the delays should be around 8.5 us for the cable and 0.8 us for the DSP."
   ]
  },
  {
   "cell_type": "code",
   "execution_count": null,
   "id": "29",
   "metadata": {},
   "outputs": [],
   "source": [
    "do_tabs(S.estimate_phase_delay)"
   ]
  },
  {
   "cell_type": "markdown",
   "id": "30",
   "metadata": {},
   "source": [
    "### Full band response\n",
    "Measure the response within each band by streaming noise and reading it back.\n",
    "\n",
    "The result should be relatively smooth across frequencies, except where resonators are present on some bands."
   ]
  },
  {
   "cell_type": "code",
   "execution_count": null,
   "id": "31",
   "metadata": {},
   "outputs": [],
   "source": [
    "do_tabs(S.full_band_resp, make_plot=True, show_plot=True)"
   ]
  },
  {
   "cell_type": "markdown",
   "id": "32",
   "metadata": {},
   "source": [
    "# TODO:\n",
    "- currently tests transceivers and low-level DSP\n",
    "- not analog low-freq low-noise stuff (not in loopback)\n",
    "- data streaming: track on the cable delay or fixed tones:\n",
    "    - stream for some amount time in loopback\n",
    "    - may be more of a hardware test - out of scope\n",
    "- make a list of existing tests and what they do"
   ]
  },
  {
   "cell_type": "markdown",
   "id": "33",
   "metadata": {},
   "source": [
    "## SMB/SPB cold resonator tests\n",
    "\n",
    "**TODO:** There is a lot of information in this section. Should add some descriptions of what to expect/look out for. Or reduce the amount of things to look through."
   ]
  },
  {
   "cell_type": "markdown",
   "id": "34",
   "metadata": {},
   "source": [
    "### Bias RF amps for B33 DR RF chain #1\n",
    "(can skip if this was done in the loopback section)"
   ]
  },
  {
   "cell_type": "code",
   "execution_count": null,
   "id": "35",
   "metadata": {},
   "outputs": [],
   "source": [
    "S.get_amplifier_biases()"
   ]
  },
  {
   "cell_type": "code",
   "execution_count": null,
   "id": "36",
   "metadata": {},
   "outputs": [],
   "source": [
    "#adjust gate until hemt_Id is 4mA if needed.  \n",
    "S.set_amp_gate_voltage('hemt1',0.395,override=True)\n",
    "S.set_amp_drain_voltage('hemt1',0.5)\n",
    "\n",
    "#50K is B&Z amp that doesn't have a gate.\n",
    "S.set_amp_drain_voltage('50k1',5.0)"
   ]
  },
  {
   "cell_type": "code",
   "execution_count": null,
   "id": "37",
   "metadata": {},
   "outputs": [],
   "source": [
    "S.get_amplifier_biases()"
   ]
  },
  {
   "cell_type": "markdown",
   "id": "38",
   "metadata": {},
   "source": [
    "Gate voltage corresponding to 4mA is similar to what it usually is."
   ]
  },
  {
   "cell_type": "markdown",
   "id": "39",
   "metadata": {},
   "source": [
    "Set and get UC and DC attenuators.  Matching UC=12, DC=12 to keep ADC from saturating during `find_freqs`."
   ]
  },
  {
   "cell_type": "code",
   "execution_count": null,
   "id": "40",
   "metadata": {},
   "outputs": [],
   "source": [
    "bands=[0,3]  # these are where the SMB/SPB are connected\n",
    "\n",
    "uc_atts={}\n",
    "dc_atts={}\n",
    "\n",
    "# SMB is on band 0\n",
    "uc_atts[0]=24\n",
    "dc_atts[0]=12\n",
    "\n",
    "# SPB is on band 3\n",
    "uc_atts[3]=12\n",
    "dc_atts[3]=0\n",
    "\n",
    "for band in bands:\n",
    "    S.set_att_uc(band,uc_atts[band]) # 0.5dB per step\n",
    "    S.set_att_dc(band,dc_atts[band]) # 0.5dB per step\n",
    "\n",
    "    print(S.get_att_uc(band,write_log=True))\n",
    "    print(S.get_att_dc(band,write_log=True))"
   ]
  },
  {
   "cell_type": "markdown",
   "id": "41",
   "metadata": {},
   "source": [
    "### Cable phase delay\n",
    "(can skip if this was done in the loopback section)"
   ]
  },
  {
   "cell_type": "code",
   "execution_count": null,
   "id": "42",
   "metadata": {},
   "outputs": [],
   "source": [
    "do_tabs(S.estimate_phase_delay, bands=bands)"
   ]
  },
  {
   "cell_type": "markdown",
   "id": "43",
   "metadata": {},
   "source": [
    "### Find resonator frequencies (`find_freq`)\n",
    "\n",
    "First look for their presence in the quick full band reponse."
   ]
  },
  {
   "cell_type": "code",
   "execution_count": null,
   "id": "44",
   "metadata": {},
   "outputs": [],
   "source": [
    "do_tabs(S.full_band_resp, bands=bands, make_plot=True, show_plot=True)"
   ]
  },
  {
   "cell_type": "markdown",
   "id": "45",
   "metadata": {},
   "source": [
    "Identify the resonator frequencies. You should see dips in the response at the resonator frequencies."
   ]
  },
  {
   "cell_type": "code",
   "execution_count": null,
   "id": "46",
   "metadata": {},
   "outputs": [],
   "source": [
    "do_tabs(S.find_freq, bands=bands, tone_power=12, grad_cut=0.01, amp_cut=0.1, make_plot=True, show_plot=True)"
   ]
  },
  {
   "cell_type": "markdown",
   "id": "47",
   "metadata": {},
   "source": [
    "Scan narrower range for clarity; first SMB resonators;"
   ]
  },
  {
   "cell_type": "code",
   "execution_count": null,
   "id": "48",
   "metadata": {},
   "outputs": [],
   "source": [
    "freqs, resps = S.find_freq(band=0, start_freq=10, stop_freq=150, tone_power=12, grad_cut=0.01, amp_cut=0.1, make_plot=True, show_plot=True)"
   ]
  },
  {
   "cell_type": "markdown",
   "id": "49",
   "metadata": {},
   "source": [
    "Now the SPB resonators;"
   ]
  },
  {
   "cell_type": "code",
   "execution_count": null,
   "id": "50",
   "metadata": {},
   "outputs": [],
   "source": [
    "freqs, resps = S.find_freq(band=3, start_freq=-150, stop_freq=25, tone_power=12,grad_cut=0.01, amp_cut=0.1,make_plot=True,show_plot=True)"
   ]
  },
  {
   "cell_type": "markdown",
   "id": "51",
   "metadata": {},
   "source": [
    "### Calibrate the resonator circles (`setup_notches`)\n",
    "Will also set fixed tones off resonance for phase monitoring. Pick these off resonance;"
   ]
  },
  {
   "cell_type": "code",
   "execution_count": null,
   "id": "52",
   "metadata": {},
   "outputs": [],
   "source": [
    "fixed_tone_freqs={}\n",
    "fixed_tone_freqs[0]=4250\n",
    "fixed_tone_freqs[3]=5687.5\n",
    "\n",
    "fixed_tone_amp=12"
   ]
  },
  {
   "cell_type": "markdown",
   "id": "53",
   "metadata": {},
   "source": [
    "Calibrate the resonator circles and plot. Running `run_serial_gradient_descent` and `run_serial_eta_scan` should refine the eta parameter and resonator frequency estimates."
   ]
  },
  {
   "cell_type": "code",
   "execution_count": null,
   "id": "54",
   "metadata": {},
   "outputs": [],
   "source": [
    "for band in bands:\n",
    "    # Tune\n",
    "    S.setup_notches(band, new_master_assignment=True)\n",
    "    \n",
    "    # Could do this here, but don't for now.\n",
    "    # Drop DC for for optimal S/N\n",
    "    #S.set_att_dc(band,2)\n",
    "    \n",
    "    # Refine tuning\n",
    "    S.run_serial_gradient_descent(band)\n",
    "    \n",
    "    # Add fixed tone to monitor RF phase\n",
    "    S.set_fixed_tone(fixed_tone_freqs[band], fixed_tone_amp)\n",
    "    \n",
    "    # Refine eta calibrations\n",
    "    S.run_serial_eta_scan(band)\n",
    "do_tabs(S.plot_tune_summary, bands=bands, eta_scan=True, show_plot=True)"
   ]
  },
  {
   "cell_type": "markdown",
   "id": "55",
   "metadata": {},
   "source": [
    "Should turn off bad channels before attempting to track, but I think everything I just found looks pretty reasonable. Some are slightly collided, but we'll see if/how they track.\n",
    "\n",
    "Make sure to turn off feedback for the fixed tones and make sure it's center frequency is zero."
   ]
  },
  {
   "cell_type": "code",
   "execution_count": null,
   "id": "56",
   "metadata": {},
   "outputs": [],
   "source": [
    "# SMB fixed tone at 4250 MHz\n",
    "S.set_feedback_enable_channel(0,0,0)\n",
    "\n",
    "# SPB fixed tone at 5687.5 MHz\n",
    "S.set_feedback_enable_channel(3,103,0)"
   ]
  },
  {
   "cell_type": "markdown",
   "id": "57",
   "metadata": {},
   "source": [
    "Set AC flux ramp mode"
   ]
  },
  {
   "cell_type": "code",
   "execution_count": null,
   "id": "58",
   "metadata": {},
   "outputs": [],
   "source": [
    "S.set_cryo_card_relay_bit(16,0)\n",
    "bin(S.get_cryo_card_relays())"
   ]
  },
  {
   "cell_type": "markdown",
   "id": "59",
   "metadata": {},
   "source": [
    "How many channels are on in each band?"
   ]
  },
  {
   "cell_type": "code",
   "execution_count": null,
   "id": "60",
   "metadata": {},
   "outputs": [],
   "source": [
    "for band in bands:\n",
    "    print(len(S.which_on(band)))"
   ]
  },
  {
   "cell_type": "markdown",
   "id": "61",
   "metadata": {},
   "source": [
    "Before moving on to tracking, let's make sure neither the ADC or DAC are saturated;"
   ]
  },
  {
   "cell_type": "code",
   "execution_count": null,
   "id": "62",
   "metadata": {},
   "outputs": [],
   "source": [
    "for band in bands:\n",
    "    S.check_dac_saturation(band)\n",
    "    S.check_adc_saturation(band)"
   ]
  },
  {
   "cell_type": "markdown",
   "id": "63",
   "metadata": {},
   "source": [
    "Not clipping either the RF DAC or ADC."
   ]
  },
  {
   "cell_type": "markdown",
   "id": "64",
   "metadata": {},
   "source": [
    "### Tracking setup\n",
    "Moment of truth - does the flux ramp still work? First the SMB;"
   ]
  },
  {
   "cell_type": "code",
   "execution_count": null,
   "id": "65",
   "metadata": {},
   "outputs": [],
   "source": [
    "band=0\n",
    "S.tracking_setup(band, channel = S.which_on(band), reset_rate_khz=4, make_plot=True, save_plot=True, show_plot=True, \n",
    "                 lms_freq_hz=None, n_phi0=5, meas_flux_ramp_amp=True, fraction_full_scale=0.2,feedback_gain=2048,lms_gain=0,\n",
    "                 return_data=False, feedback_start_frac=0.02, feedback_end_frac=0.98,nsamp = 2**18)"
   ]
  },
  {
   "cell_type": "markdown",
   "id": "66",
   "metadata": {},
   "source": [
    "Yes! Many nice curves. Let's do the same for SPB resonators."
   ]
  },
  {
   "cell_type": "code",
   "execution_count": null,
   "id": "67",
   "metadata": {},
   "outputs": [],
   "source": [
    "band=3\n",
    "S.tracking_setup(band, channel = S.which_on(band), reset_rate_khz=4, make_plot=True, save_plot=True, show_plot=True, \n",
    "                 lms_freq_hz=None, n_phi0=5, meas_flux_ramp_amp=True, fraction_full_scale=0.2,feedback_gain=2048,lms_gain=0,\n",
    "                 return_data=False, feedback_start_frac=0.02, feedback_end_frac=0.98,nsamp = 2**18)"
   ]
  },
  {
   "cell_type": "markdown",
   "id": "68",
   "metadata": {},
   "source": [
    "Looks good! Recording the numerical value of the fraction full scale it settled on here for posterity;"
   ]
  },
  {
   "cell_type": "code",
   "execution_count": null,
   "id": "69",
   "metadata": {},
   "outputs": [],
   "source": [
    "S.get_fraction_full_scale()"
   ]
  },
  {
   "cell_type": "markdown",
   "id": "70",
   "metadata": {},
   "source": [
    "### Take noise data\n",
    "Let's try taking noise on the SMB+SPB together and see where we land. 5 min.\n",
    "\n",
    "**TODO**: What to look for in these plots?"
   ]
  },
  {
   "cell_type": "code",
   "execution_count": null,
   "id": "71",
   "metadata": {},
   "outputs": [],
   "source": [
    "S.take_noise_psd(300,show_plot=True)"
   ]
  },
  {
   "cell_type": "markdown",
   "id": "72",
   "metadata": {},
   "source": [
    "Here's a hack for looking at individual timestream plots; first one on SMB that's dark;"
   ]
  },
  {
   "cell_type": "code",
   "execution_count": null,
   "id": "73",
   "metadata": {},
   "outputs": [],
   "source": [
    "#Import library\n",
    "from IPython.display import Image\n",
    "# Load image from local storage\n",
    "plt.ion()\n",
    "\n",
    "Image(filename = \"/data/smurf_data/20240426/1714162930/plots/1714165921_noise_timestream_b0_ch340.png\", width = 600, height = 300)"
   ]
  },
  {
   "cell_type": "markdown",
   "id": "74",
   "metadata": {},
   "source": [
    "Now the band 0 fixed tone ;"
   ]
  },
  {
   "cell_type": "code",
   "execution_count": null,
   "id": "75",
   "metadata": {},
   "outputs": [],
   "source": [
    "Image(filename = \"/data/smurf_data/20240426/1714162930/plots/1714165921_noise_timestream_b0_ch000.png\", width = 600, height = 300)"
   ]
  },
  {
   "cell_type": "markdown",
   "id": "76",
   "metadata": {},
   "source": [
    "That's fun. Now one on SPB that probably has a (superconducting) TES on it;"
   ]
  },
  {
   "cell_type": "code",
   "execution_count": null,
   "id": "77",
   "metadata": {},
   "outputs": [],
   "source": [
    "Image(filename = \"/data/smurf_data/20240426/1714162930/plots/1714165921_noise_timestream_b3_ch495.png\", width = 600, height = 300)"
   ]
  },
  {
   "cell_type": "markdown",
   "id": "78",
   "metadata": {},
   "source": [
    "I think it's working!\n",
    "\n",
    "Let's compute noise the same way it's done in sodetlib as a reference.\n",
    "\n",
    "**TODO**: Is the `sotodlib` noise plot useful here?"
   ]
  },
  {
   "cell_type": "markdown",
   "id": "79",
   "metadata": {},
   "source": [
    "---"
   ]
  }
 ],
 "metadata": {
  "kernelspec": {
   "display_name": "Python 3 (ipykernel)",
   "language": "python",
   "name": "python3"
  },
  "language_info": {
   "codemirror_mode": {
    "name": "ipython",
    "version": 3
   },
   "file_extension": ".py",
   "mimetype": "text/x-python",
   "name": "python",
   "nbconvert_exporter": "python",
   "pygments_lexer": "ipython3",
   "version": "3.8.10"
  }
 },
 "nbformat": 4,
 "nbformat_minor": 5
}
