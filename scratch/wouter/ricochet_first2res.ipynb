{
 "cells": [
  {
   "cell_type": "markdown",
   "metadata": {},
   "source": [
    "## PySMuRF Setup"
   ]
  },
  {
   "cell_type": "code",
   "execution_count": 1,
   "metadata": {},
   "outputs": [],
   "source": [
    "import pysmurf.client\n",
    "import matplotlib.pyplot as plt\n",
    "import numpy as np\n",
    "from scipy import signal\n",
    "import epics\n",
    "import os\n",
    "\n",
    "%matplotlib inline"
   ]
  },
  {
   "cell_type": "markdown",
   "metadata": {},
   "source": [
    "Next we'll define the EPICS server prefix and experiment configuration file"
   ]
  },
  {
   "cell_type": "code",
   "execution_count": 2,
   "metadata": {},
   "outputs": [],
   "source": [
    "epics_prefix = \"smurf_server_s2\"\n",
    "config_file  = \"/usr/local/src/pysmurf/cfg_files/mit/experiment_mit.cfg\"\n",
    "S = pysmurf.client.SmurfControl(epics_root=epics_prefix, cfg_file=config_file, setup=False, make_logfile=False)"
   ]
  },
  {
   "cell_type": "markdown",
   "metadata": {},
   "source": [
    "Now can talk to system using S object."
   ]
  },
  {
   "cell_type": "code",
   "execution_count": 3,
   "metadata": {},
   "outputs": [
    {
     "name": "stdout",
     "output_type": "stream",
     "text": [
      "[ 2021-11-06 20:49:58 ]  Turning off tones\n",
      "[ 2021-11-06 20:50:02 ]  Turning off flux ramp\n",
      "[ 2021-11-06 20:50:02 ]  Turning off all TES biases\n"
     ]
    }
   ],
   "source": [
    "S.all_off()"
   ]
  },
  {
   "cell_type": "markdown",
   "metadata": {},
   "source": [
    "Note the PSD frequency is plotted +/- 0MHz. Each digitizer has complex data at 614.4MHz corresponding to +/- 307.2MHz BW at baseband.  For band=3 this is 0MHz + 5750MHz = 4250MHz.\n"
   ]
  },
  {
   "cell_type": "markdown",
   "metadata": {},
   "source": [
    "### Transfer function of the system\n",
    "\n",
    "Next we can look at a transfer function estimate.  This will play a known random number sequence through the DAC and record the ADC response.  We'll use cross correlation to generate a transfer function estimate:"
   ]
  },
  {
   "cell_type": "code",
   "execution_count": 4,
   "metadata": {
    "scrolled": true
   },
   "outputs": [
    {
     "name": "stdout",
     "output_type": "stream",
     "text": [
      "[ 2021-11-06 20:50:04 ]  caput smurf_server_s2:AMCc:FpgaTopLevel:AppTop:DaqMuxV2[0]:DataBufferSize 4096\n",
      "[ 2021-11-06 20:50:04 ]  caput smurf_server_s2:AMCc:FpgaTopLevel:AppTop:AppCore:DebugSelect[0] 0\n",
      "[ 2021-11-06 20:50:04 ]  ADC0 max count: 19489\n",
      "[ 2021-11-06 20:50:04 ]  ADC0 min count: -19157\n",
      "[ 2021-11-06 20:50:04 ]  \u001b[92mADC0 not saturated\u001b[00m\n",
      "[ 2021-11-06 20:50:04 ]  caput smurf_server_s2:AMCc:FpgaTopLevel:AppTop:DaqMuxV2[0]:DataBufferSize 524288\n",
      "[ 2021-11-06 20:50:04 ]  caput smurf_server_s2:AMCc:FpgaTopLevel:AppTop:AppCore:DebugSelect[0] 0\n",
      "[ 2021-11-06 20:50:05 ]  caput smurf_server_s2:AMCc:FpgaTopLevel:AppTop:DaqMuxV2[0]:DataBufferSize 524288\n",
      "[ 2021-11-06 20:50:05 ]  caput smurf_server_s2:AMCc:FpgaTopLevel:AppTop:AppCore:DebugSelect[0] 0\n",
      "[ 2021-11-06 20:50:05 ]  UC (DAC) att: 0\n",
      "[ 2021-11-06 20:50:05 ]  DC (ADC) att: 0\n"
     ]
    },
    {
     "name": "stderr",
     "output_type": "stream",
     "text": [
      "/usr/local/lib/python3.6/dist-packages/scipy/signal/spectral.py:1812: UserWarning: Input data is complex, switching to return_onesided=False\n",
      "  warnings.warn('Input data is complex, switching to '\n"
     ]
    },
    {
     "name": "stdout",
     "output_type": "stream",
     "text": [
      "[ 2021-11-06 20:50:05 ]  caput smurf_server_s2:AMCc:FpgaTopLevel:AppTop:DaqMuxV2[0]:DataBufferSize 4096\n",
      "[ 2021-11-06 20:50:05 ]  caput smurf_server_s2:AMCc:FpgaTopLevel:AppTop:AppCore:DebugSelect[0] 0\n",
      "[ 2021-11-06 20:50:05 ]  ADC0 max count: 19410\n",
      "[ 2021-11-06 20:50:05 ]  ADC0 min count: -19114\n",
      "[ 2021-11-06 20:50:05 ]  \u001b[92mADC0 not saturated\u001b[00m\n",
      "[ 2021-11-06 20:50:05 ]  caput smurf_server_s2:AMCc:FpgaTopLevel:AppTop:DaqMuxV2[0]:DataBufferSize 524288\n",
      "[ 2021-11-06 20:50:05 ]  caput smurf_server_s2:AMCc:FpgaTopLevel:AppTop:AppCore:DebugSelect[0] 0\n",
      "[ 2021-11-06 20:50:06 ]  caput smurf_server_s2:AMCc:FpgaTopLevel:AppTop:DaqMuxV2[0]:DataBufferSize 524288\n",
      "[ 2021-11-06 20:50:06 ]  caput smurf_server_s2:AMCc:FpgaTopLevel:AppTop:AppCore:DebugSelect[0] 0\n",
      "[ 2021-11-06 20:50:06 ]  UC (DAC) att: 0\n",
      "[ 2021-11-06 20:50:06 ]  DC (ADC) att: 0\n",
      "[ 2021-11-06 20:50:06 ]  caput smurf_server_s2:AMCc:FpgaTopLevel:AppTop:DaqMuxV2[0]:DataBufferSize 4096\n",
      "[ 2021-11-06 20:50:06 ]  caput smurf_server_s2:AMCc:FpgaTopLevel:AppTop:AppCore:DebugSelect[0] 0\n",
      "[ 2021-11-06 20:50:06 ]  ADC0 max count: 18951\n",
      "[ 2021-11-06 20:50:06 ]  ADC0 min count: -18504\n",
      "[ 2021-11-06 20:50:06 ]  \u001b[92mADC0 not saturated\u001b[00m\n",
      "[ 2021-11-06 20:50:06 ]  caput smurf_server_s2:AMCc:FpgaTopLevel:AppTop:DaqMuxV2[0]:DataBufferSize 524288\n",
      "[ 2021-11-06 20:50:06 ]  caput smurf_server_s2:AMCc:FpgaTopLevel:AppTop:AppCore:DebugSelect[0] 0\n",
      "[ 2021-11-06 20:50:06 ]  caput smurf_server_s2:AMCc:FpgaTopLevel:AppTop:DaqMuxV2[0]:DataBufferSize 524288\n",
      "[ 2021-11-06 20:50:06 ]  caput smurf_server_s2:AMCc:FpgaTopLevel:AppTop:AppCore:DebugSelect[0] 0\n",
      "[ 2021-11-06 20:50:06 ]  UC (DAC) att: 0\n",
      "[ 2021-11-06 20:50:06 ]  DC (ADC) att: 0\n",
      "[ 2021-11-06 20:50:07 ]  caput smurf_server_s2:AMCc:FpgaTopLevel:AppTop:DaqMuxV2[0]:DataBufferSize 4096\n",
      "[ 2021-11-06 20:50:07 ]  caput smurf_server_s2:AMCc:FpgaTopLevel:AppTop:AppCore:DebugSelect[0] 0\n",
      "[ 2021-11-06 20:50:07 ]  ADC0 max count: 19759\n",
      "[ 2021-11-06 20:50:07 ]  ADC0 min count: -19834\n",
      "[ 2021-11-06 20:50:07 ]  \u001b[92mADC0 not saturated\u001b[00m\n",
      "[ 2021-11-06 20:50:07 ]  caput smurf_server_s2:AMCc:FpgaTopLevel:AppTop:DaqMuxV2[0]:DataBufferSize 524288\n",
      "[ 2021-11-06 20:50:07 ]  caput smurf_server_s2:AMCc:FpgaTopLevel:AppTop:AppCore:DebugSelect[0] 0\n",
      "[ 2021-11-06 20:50:07 ]  caput smurf_server_s2:AMCc:FpgaTopLevel:AppTop:DaqMuxV2[0]:DataBufferSize 524288\n",
      "[ 2021-11-06 20:50:07 ]  caput smurf_server_s2:AMCc:FpgaTopLevel:AppTop:AppCore:DebugSelect[0] 0\n",
      "[ 2021-11-06 20:50:07 ]  UC (DAC) att: 0\n",
      "[ 2021-11-06 20:50:07 ]  DC (ADC) att: 0\n",
      "[ 2021-11-06 20:50:08 ]  caput smurf_server_s2:AMCc:FpgaTopLevel:AppTop:DaqMuxV2[0]:DataBufferSize 4096\n",
      "[ 2021-11-06 20:50:08 ]  caput smurf_server_s2:AMCc:FpgaTopLevel:AppTop:AppCore:DebugSelect[0] 0\n",
      "[ 2021-11-06 20:50:08 ]  ADC0 max count: 19612\n",
      "[ 2021-11-06 20:50:08 ]  ADC0 min count: -18824\n",
      "[ 2021-11-06 20:50:08 ]  \u001b[92mADC0 not saturated\u001b[00m\n",
      "[ 2021-11-06 20:50:08 ]  caput smurf_server_s2:AMCc:FpgaTopLevel:AppTop:DaqMuxV2[0]:DataBufferSize 524288\n",
      "[ 2021-11-06 20:50:08 ]  caput smurf_server_s2:AMCc:FpgaTopLevel:AppTop:AppCore:DebugSelect[0] 0\n",
      "[ 2021-11-06 20:50:08 ]  caput smurf_server_s2:AMCc:FpgaTopLevel:AppTop:DaqMuxV2[0]:DataBufferSize 524288\n",
      "[ 2021-11-06 20:50:08 ]  caput smurf_server_s2:AMCc:FpgaTopLevel:AppTop:AppCore:DebugSelect[0] 0\n",
      "[ 2021-11-06 20:50:08 ]  UC (DAC) att: 0\n",
      "[ 2021-11-06 20:50:08 ]  DC (ADC) att: 0\n",
      "[ 2021-11-06 20:50:08 ]  caput smurf_server_s2:AMCc:FpgaTopLevel:AppTop:DaqMuxV2[0]:DataBufferSize 4096\n",
      "[ 2021-11-06 20:50:08 ]  caput smurf_server_s2:AMCc:FpgaTopLevel:AppTop:AppCore:DebugSelect[0] 0\n",
      "[ 2021-11-06 20:50:08 ]  ADC0 max count: 20094\n",
      "[ 2021-11-06 20:50:08 ]  ADC0 min count: -19033\n",
      "[ 2021-11-06 20:50:08 ]  \u001b[92mADC0 not saturated\u001b[00m\n",
      "[ 2021-11-06 20:50:08 ]  caput smurf_server_s2:AMCc:FpgaTopLevel:AppTop:DaqMuxV2[0]:DataBufferSize 524288\n",
      "[ 2021-11-06 20:50:08 ]  caput smurf_server_s2:AMCc:FpgaTopLevel:AppTop:AppCore:DebugSelect[0] 0\n",
      "[ 2021-11-06 20:50:09 ]  caput smurf_server_s2:AMCc:FpgaTopLevel:AppTop:DaqMuxV2[0]:DataBufferSize 524288\n",
      "[ 2021-11-06 20:50:09 ]  caput smurf_server_s2:AMCc:FpgaTopLevel:AppTop:AppCore:DebugSelect[0] 0\n",
      "[ 2021-11-06 20:50:09 ]  UC (DAC) att: 0\n",
      "[ 2021-11-06 20:50:09 ]  DC (ADC) att: 0\n",
      "[ 2021-11-06 20:50:09 ]  caput smurf_server_s2:AMCc:FpgaTopLevel:AppTop:DaqMuxV2[0]:DataBufferSize 4096\n",
      "[ 2021-11-06 20:50:09 ]  caput smurf_server_s2:AMCc:FpgaTopLevel:AppTop:AppCore:DebugSelect[0] 0\n",
      "[ 2021-11-06 20:50:09 ]  ADC0 max count: 19318\n",
      "[ 2021-11-06 20:50:09 ]  ADC0 min count: -18836\n",
      "[ 2021-11-06 20:50:09 ]  \u001b[92mADC0 not saturated\u001b[00m\n",
      "[ 2021-11-06 20:50:09 ]  caput smurf_server_s2:AMCc:FpgaTopLevel:AppTop:DaqMuxV2[0]:DataBufferSize 524288\n",
      "[ 2021-11-06 20:50:09 ]  caput smurf_server_s2:AMCc:FpgaTopLevel:AppTop:AppCore:DebugSelect[0] 0\n",
      "[ 2021-11-06 20:50:10 ]  caput smurf_server_s2:AMCc:FpgaTopLevel:AppTop:DaqMuxV2[0]:DataBufferSize 524288\n",
      "[ 2021-11-06 20:50:10 ]  caput smurf_server_s2:AMCc:FpgaTopLevel:AppTop:AppCore:DebugSelect[0] 0\n",
      "[ 2021-11-06 20:50:10 ]  UC (DAC) att: 0\n",
      "[ 2021-11-06 20:50:10 ]  DC (ADC) att: 0\n",
      "[ 2021-11-06 20:50:10 ]  caput smurf_server_s2:AMCc:FpgaTopLevel:AppTop:DaqMuxV2[0]:DataBufferSize 4096\n",
      "[ 2021-11-06 20:50:10 ]  caput smurf_server_s2:AMCc:FpgaTopLevel:AppTop:AppCore:DebugSelect[0] 0\n",
      "[ 2021-11-06 20:50:10 ]  ADC0 max count: 19173\n",
      "[ 2021-11-06 20:50:10 ]  ADC0 min count: -19187\n",
      "[ 2021-11-06 20:50:10 ]  \u001b[92mADC0 not saturated\u001b[00m\n",
      "[ 2021-11-06 20:50:10 ]  caput smurf_server_s2:AMCc:FpgaTopLevel:AppTop:DaqMuxV2[0]:DataBufferSize 524288\n",
      "[ 2021-11-06 20:50:10 ]  caput smurf_server_s2:AMCc:FpgaTopLevel:AppTop:AppCore:DebugSelect[0] 0\n",
      "[ 2021-11-06 20:50:10 ]  caput smurf_server_s2:AMCc:FpgaTopLevel:AppTop:DaqMuxV2[0]:DataBufferSize 524288\n",
      "[ 2021-11-06 20:50:10 ]  caput smurf_server_s2:AMCc:FpgaTopLevel:AppTop:AppCore:DebugSelect[0] 0\n",
      "[ 2021-11-06 20:50:10 ]  UC (DAC) att: 0\n",
      "[ 2021-11-06 20:50:10 ]  DC (ADC) att: 0\n",
      "[ 2021-11-06 20:50:11 ]  caput smurf_server_s2:AMCc:FpgaTopLevel:AppTop:DaqMuxV2[0]:DataBufferSize 4096\n",
      "[ 2021-11-06 20:50:11 ]  caput smurf_server_s2:AMCc:FpgaTopLevel:AppTop:AppCore:DebugSelect[0] 0\n",
      "[ 2021-11-06 20:50:11 ]  ADC0 max count: 18549\n",
      "[ 2021-11-06 20:50:11 ]  ADC0 min count: -19265\n",
      "[ 2021-11-06 20:50:11 ]  \u001b[92mADC0 not saturated\u001b[00m\n",
      "[ 2021-11-06 20:50:11 ]  caput smurf_server_s2:AMCc:FpgaTopLevel:AppTop:DaqMuxV2[0]:DataBufferSize 524288\n",
      "[ 2021-11-06 20:50:11 ]  caput smurf_server_s2:AMCc:FpgaTopLevel:AppTop:AppCore:DebugSelect[0] 0\n",
      "[ 2021-11-06 20:50:11 ]  caput smurf_server_s2:AMCc:FpgaTopLevel:AppTop:DaqMuxV2[0]:DataBufferSize 524288\n",
      "[ 2021-11-06 20:50:11 ]  caput smurf_server_s2:AMCc:FpgaTopLevel:AppTop:AppCore:DebugSelect[0] 0\n",
      "[ 2021-11-06 20:50:11 ]  UC (DAC) att: 0\n",
      "[ 2021-11-06 20:50:11 ]  DC (ADC) att: 0\n",
      "[ 2021-11-06 20:50:12 ]  caput smurf_server_s2:AMCc:FpgaTopLevel:AppTop:DaqMuxV2[0]:DataBufferSize 4096\n",
      "[ 2021-11-06 20:50:12 ]  caput smurf_server_s2:AMCc:FpgaTopLevel:AppTop:AppCore:DebugSelect[0] 0\n",
      "[ 2021-11-06 20:50:12 ]  ADC0 max count: 21294\n",
      "[ 2021-11-06 20:50:12 ]  ADC0 min count: -19968\n",
      "[ 2021-11-06 20:50:12 ]  \u001b[92mADC0 not saturated\u001b[00m\n",
      "[ 2021-11-06 20:50:12 ]  caput smurf_server_s2:AMCc:FpgaTopLevel:AppTop:DaqMuxV2[0]:DataBufferSize 524288\n",
      "[ 2021-11-06 20:50:12 ]  caput smurf_server_s2:AMCc:FpgaTopLevel:AppTop:AppCore:DebugSelect[0] 0\n",
      "[ 2021-11-06 20:50:12 ]  caput smurf_server_s2:AMCc:FpgaTopLevel:AppTop:DaqMuxV2[0]:DataBufferSize 524288\n",
      "[ 2021-11-06 20:50:12 ]  caput smurf_server_s2:AMCc:FpgaTopLevel:AppTop:AppCore:DebugSelect[0] 0\n",
      "[ 2021-11-06 20:50:12 ]  UC (DAC) att: 0\n",
      "[ 2021-11-06 20:50:12 ]  DC (ADC) att: 0\n"
     ]
    },
    {
     "data": {
      "image/png": "[encoded data removed]",
      "text/plain": [
       "<Figure size 396x216 with 1 Axes>"
      ]
     },
     "metadata": {
      "needs_background": "light"
     },
     "output_type": "display_data"
    }
   ],
   "source": [
    "S.set_att_uc(0,0) # Make sure upconvert attenuators which set the SMuRF output power are zero\n",
    "f,resp=S.full_band_resp(band=0, make_plot=True, show_plot=True, n_scan=10)"
   ]
  },
  {
   "cell_type": "markdown",
   "metadata": {},
   "source": [
    "The response is measured about 0MHz baseband which for band=0 is 4250 MHz RF.  We expect two resonators in band 0 ; one at 4.0495 GHz and one at 4.4275 GHz, or at -200.5 MHz and 177.5 MHz."
   ]
  },
  {
   "cell_type": "code",
   "execution_count": 5,
   "metadata": {},
   "outputs": [
    {
     "data": {
      "text/plain": [
       "(-20.0, 10.0)"
      ]
     },
     "execution_count": 5,
     "metadata": {},
     "output_type": "execute_result"
    },
    {
     "data": {
      "image/png": "[encoded data removed]",
      "text/plain": [
       "<Figure size 432x288 with 1 Axes>"
      ]
     },
     "metadata": {
      "needs_background": "light"
     },
     "output_type": "display_data"
    }
   ],
   "source": [
    "plt.plot(f,10.*np.log10(np.abs(resp)))\n",
    "plt.xlim(190.5e6,195.5e6)\n",
    "plt.ylim(-20,10)"
   ]
  },
  {
   "cell_type": "markdown",
   "metadata": {},
   "source": [
    "So that's what it looks like."
   ]
  },
  {
   "cell_type": "markdown",
   "metadata": {},
   "source": [
    "### Identifying resonator locations\n",
    "\n",
    "Each SMuRF band is processed by an oversampled x2 polyphase filter bank.  The filter bank breaks the +/-307.2MHz band into subbands.  Subband 0...127 correspond to -307.2MHz...307.2MHz.  Only subbands +/-250MHz are processed.  We can do a tone sweep to see the subband structure and identify resonator locations within each subband.  The plot shows the interleaved subbands in different colors."
   ]
  },
  {
   "cell_type": "code",
   "execution_count": 6,
   "metadata": {},
   "outputs": [
    {
     "name": "stdout",
     "output_type": "stream",
     "text": [
      "[ 2021-11-06 20:50:16 ]  Sweeping across frequencies 4000.0MHz to 4500.0MHz\n",
      "[ 2021-11-06 20:50:16 ]  Working on band 0\n",
      "[ 2021-11-06 20:50:54 ]  serial find freq complete ; etaScanInProgress = 0\n"
     ]
    },
    {
     "name": "stderr",
     "output_type": "stream",
     "text": [
      "/usr/local/src/pysmurf/python/pysmurf/client/tune/smurf_tune.py:896: RuntimeWarning: invalid value encountered in double_scalars\n",
      "  if 1-amp[idx]/med_amp[idx] > amp_cut:\n"
     ]
    },
    {
     "data": {
      "image/png": "[encoded data removed]",
      "text/plain": [
       "<Figure size 720x288 with 1 Axes>"
      ]
     },
     "metadata": {
      "needs_background": "light"
     },
     "output_type": "display_data"
    },
    {
     "data": {
      "text/plain": [
       "(array([[0., 0., 0., ..., 0., 0., 0.],\n",
       "        [0., 0., 0., ..., 0., 0., 0.],\n",
       "        [0., 0., 0., ..., 0., 0., 0.],\n",
       "        ...,\n",
       "        [0., 0., 0., ..., 0., 0., 0.],\n",
       "        [0., 0., 0., ..., 0., 0., 0.],\n",
       "        [0., 0., 0., ..., 0., 0., 0.]]),\n",
       " array([[0.+0.j, 0.+0.j, 0.+0.j, ..., 0.+0.j, 0.+0.j, 0.+0.j],\n",
       "        [0.+0.j, 0.+0.j, 0.+0.j, ..., 0.+0.j, 0.+0.j, 0.+0.j],\n",
       "        [0.+0.j, 0.+0.j, 0.+0.j, ..., 0.+0.j, 0.+0.j, 0.+0.j],\n",
       "        ...,\n",
       "        [0.+0.j, 0.+0.j, 0.+0.j, ..., 0.+0.j, 0.+0.j, 0.+0.j],\n",
       "        [0.+0.j, 0.+0.j, 0.+0.j, ..., 0.+0.j, 0.+0.j, 0.+0.j],\n",
       "        [0.+0.j, 0.+0.j, 0.+0.j, ..., 0.+0.j, 0.+0.j, 0.+0.j]]))"
      ]
     },
     "execution_count": 6,
     "metadata": {},
     "output_type": "execute_result"
    }
   ],
   "source": [
    "S.find_freq(band=0, tone_power=12, make_plot=True, show_plot=True)"
   ]
  },
  {
   "cell_type": "code",
   "execution_count": 7,
   "metadata": {},
   "outputs": [
    {
     "data": {
      "text/plain": [
       "'/data/smurf_data/20211106/1636231799/plots'"
      ]
     },
     "execution_count": 7,
     "metadata": {},
     "output_type": "execute_result"
    }
   ],
   "source": [
    "# Look for the latest *_find_freq.png image in this directory;\n",
    "S.plot_dir"
   ]
  },
  {
   "cell_type": "markdown",
   "metadata": {},
   "source": [
    "This function will also make a plot showing whether or not it found all resonator like features in the measured transmission.  Looks like we find them with the default SMuRF frequency sweeping algorithm:\n",
    "![band 0 resonators identified](1634337792_b0_find_freq.png)"
   ]
  },
  {
   "cell_type": "markdown",
   "metadata": {},
   "source": [
    "### Fine resolution resonator scans\n",
    "Next we run a fine resonator scan and set the nominal tone frequency, drive power and rotation.  Feedback operates on the RF demodulated Q and performs feedback to drive Q to 0."
   ]
  },
  {
   "cell_type": "code",
   "execution_count": 8,
   "metadata": {},
   "outputs": [
    {
     "name": "stdout",
     "output_type": "stream",
     "text": [
      "[ 2021-11-06 20:50:59 ]  freq 4002.0000 - 1 of 259\n",
      "[ 2021-11-06 20:50:59 ]  freq 4002.8000 - 2 of 259\n",
      "[ 2021-11-06 20:50:59 ]  freq 4007.4400 - 3 of 259\n",
      "[ 2021-11-06 20:50:59 ]  freq 4007.7200 - 4 of 259\n",
      "[ 2021-11-06 20:50:59 ]  freq 4013.0000 - 5 of 259\n",
      "[ 2021-11-06 20:50:59 ]  freq 4016.5600 - 6 of 259\n",
      "[ 2021-11-06 20:50:59 ]  freq 4020.5600 - 7 of 259\n",
      "[ 2021-11-06 20:50:59 ]  freq 4024.2000 - 8 of 259\n",
      "[ 2021-11-06 20:50:59 ]  freq 4027.4000 - 9 of 259\n",
      "[ 2021-11-06 20:50:59 ]  freq 4028.6000 - 10 of 259\n",
      "[ 2021-11-06 20:50:59 ]  freq 4030.4000 - 11 of 259\n",
      "[ 2021-11-06 20:50:59 ]  freq 4031.8000 - 12 of 259\n",
      "[ 2021-11-06 20:50:59 ]  freq 4032.3200 - 13 of 259\n",
      "[ 2021-11-06 20:50:59 ]  freq 4033.2800 - 14 of 259\n",
      "[ 2021-11-06 20:50:59 ]  freq 4033.7600 - 15 of 259\n",
      "[ 2021-11-06 20:50:59 ]  freq 4034.2000 - 16 of 259\n",
      "[ 2021-11-06 20:50:59 ]  freq 4035.2800 - 17 of 259\n",
      "[ 2021-11-06 20:50:59 ]  freq 4037.7200 - 18 of 259\n",
      "[ 2021-11-06 20:50:59 ]  freq 4040.4800 - 19 of 259\n",
      "[ 2021-11-06 20:50:59 ]  freq 4043.2800 - 20 of 259\n",
      "[ 2021-11-06 20:50:59 ]  freq 4043.7200 - 21 of 259\n",
      "[ 2021-11-06 20:50:59 ]  freq 4045.2000 - 22 of 259\n",
      "[ 2021-11-06 20:50:59 ]  freq 4046.4000 - 23 of 259\n",
      "[ 2021-11-06 20:50:59 ]  freq 4047.4000 - 24 of 259\n",
      "[ 2021-11-06 20:50:59 ]  freq 4047.7600 - 25 of 259\n",
      "[ 2021-11-06 20:50:59 ]  freq 4049.8000 - 26 of 259\n",
      "[ 2021-11-06 20:50:59 ]  freq 4050.9600 - 27 of 259\n",
      "[ 2021-11-06 20:50:59 ]  freq 4052.9600 - 28 of 259\n",
      "[ 2021-11-06 20:50:59 ]  freq 4054.6400 - 29 of 259\n",
      "[ 2021-11-06 20:50:59 ]  freq 4056.4000 - 30 of 259\n",
      "[ 2021-11-06 20:50:59 ]  freq 4057.5200 - 31 of 259\n",
      "[ 2021-11-06 20:50:59 ]  freq 4058.8000 - 32 of 259\n",
      "[ 2021-11-06 20:50:59 ]  freq 4060.8000 - 33 of 259\n",
      "[ 2021-11-06 20:50:59 ]  freq 4061.2000 - 34 of 259\n",
      "[ 2021-11-06 20:50:59 ]  freq 4065.6800 - 35 of 259\n",
      "[ 2021-11-06 20:50:59 ]  freq 4067.5600 - 36 of 259\n",
      "[ 2021-11-06 20:50:59 ]  freq 4071.2000 - 37 of 259\n",
      "[ 2021-11-06 20:50:59 ]  freq 4071.6000 - 38 of 259\n",
      "[ 2021-11-06 20:50:59 ]  freq 4075.2000 - 39 of 259\n",
      "[ 2021-11-06 20:50:59 ]  freq 4077.6800 - 40 of 259\n",
      "[ 2021-11-06 20:50:59 ]  freq 4079.1200 - 41 of 259\n",
      "[ 2021-11-06 20:50:59 ]  freq 4081.2000 - 42 of 259\n",
      "[ 2021-11-06 20:50:59 ]  freq 4081.5200 - 43 of 259\n",
      "[ 2021-11-06 20:50:59 ]  freq 4084.4000 - 44 of 259\n",
      "[ 2021-11-06 20:50:59 ]  freq 4085.2000 - 45 of 259\n",
      "[ 2021-11-06 20:50:59 ]  freq 4086.2000 - 46 of 259\n",
      "[ 2021-11-06 20:50:59 ]  freq 4086.7600 - 47 of 259\n",
      "[ 2021-11-06 20:50:59 ]  freq 4088.4000 - 48 of 259\n",
      "[ 2021-11-06 20:50:59 ]  freq 4090.0000 - 49 of 259\n",
      "[ 2021-11-06 20:50:59 ]  freq 4090.8000 - 50 of 259\n",
      "[ 2021-11-06 20:50:59 ]  freq 4091.8000 - 51 of 259\n",
      "[ 2021-11-06 20:50:59 ]  freq 4093.2000 - 52 of 259\n",
      "[ 2021-11-06 20:50:59 ]  freq 4094.4800 - 53 of 259\n",
      "[ 2021-11-06 20:50:59 ]  freq 4095.2800 - 54 of 259\n",
      "[ 2021-11-06 20:50:59 ]  freq 4098.0000 - 55 of 259\n",
      "[ 2021-11-06 20:50:59 ]  freq 4099.7600 - 56 of 259\n",
      "[ 2021-11-06 20:50:59 ]  freq 4101.8800 - 57 of 259\n",
      "[ 2021-11-06 20:50:59 ]  freq 4102.5200 - 58 of 259\n",
      "[ 2021-11-06 20:50:59 ]  freq 4102.6400 - 59 of 259\n",
      "[ 2021-11-06 20:50:59 ]  freq 4104.6000 - 60 of 259\n",
      "[ 2021-11-06 20:50:59 ]  freq 4105.6800 - 61 of 259\n",
      "[ 2021-11-06 20:50:59 ]  freq 4107.0000 - 62 of 259\n",
      "[ 2021-11-06 20:50:59 ]  freq 4108.4400 - 63 of 259\n",
      "[ 2021-11-06 20:50:59 ]  freq 4108.8800 - 64 of 259\n",
      "[ 2021-11-06 20:50:59 ]  freq 4109.8000 - 65 of 259\n",
      "[ 2021-11-06 20:50:59 ]  freq 4110.2800 - 66 of 259\n",
      "[ 2021-11-06 20:50:59 ]  freq 4110.7600 - 67 of 259\n",
      "[ 2021-11-06 20:50:59 ]  freq 4111.6000 - 68 of 259\n",
      "[ 2021-11-06 20:50:59 ]  freq 4112.4000 - 69 of 259\n",
      "[ 2021-11-06 20:50:59 ]  freq 4115.6000 - 70 of 259\n",
      "[ 2021-11-06 20:50:59 ]  freq 4116.0800 - 71 of 259\n",
      "[ 2021-11-06 20:50:59 ]  freq 4117.0800 - 72 of 259\n",
      "[ 2021-11-06 20:50:59 ]  freq 4117.4400 - 73 of 259\n",
      "[ 2021-11-06 20:50:59 ]  freq 4118.7200 - 74 of 259\n",
      "[ 2021-11-06 20:50:59 ]  freq 4119.7200 - 75 of 259\n",
      "[ 2021-11-06 20:50:59 ]  freq 4121.9600 - 76 of 259\n",
      "[ 2021-11-06 20:50:59 ]  freq 4122.7200 - 77 of 259\n",
      "[ 2021-11-06 20:50:59 ]  freq 4124.4000 - 78 of 259\n",
      "[ 2021-11-06 20:50:59 ]  freq 4125.4400 - 79 of 259\n",
      "[ 2021-11-06 20:50:59 ]  freq 4127.0400 - 80 of 259\n",
      "[ 2021-11-06 20:50:59 ]  freq 4127.8400 - 81 of 259\n",
      "[ 2021-11-06 20:50:59 ]  freq 4130.8000 - 82 of 259\n",
      "[ 2021-11-06 20:50:59 ]  freq 4131.6000 - 83 of 259\n",
      "[ 2021-11-06 20:50:59 ]  freq 4134.4000 - 84 of 259\n",
      "[ 2021-11-06 20:50:59 ]  freq 4135.2000 - 85 of 259\n",
      "[ 2021-11-06 20:50:59 ]  freq 4138.0000 - 86 of 259\n",
      "[ 2021-11-06 20:50:59 ]  freq 4139.8400 - 87 of 259\n",
      "[ 2021-11-06 20:50:59 ]  freq 4141.2000 - 88 of 259\n",
      "[ 2021-11-06 20:50:59 ]  freq 4144.8000 - 89 of 259\n",
      "[ 2021-11-06 20:50:59 ]  freq 4147.6000 - 90 of 259\n",
      "[ 2021-11-06 20:50:59 ]  freq 4151.6000 - 91 of 259\n",
      "[ 2021-11-06 20:50:59 ]  freq 4154.4000 - 92 of 259\n",
      "[ 2021-11-06 20:50:59 ]  freq 4155.8000 - 93 of 259\n",
      "[ 2021-11-06 20:50:59 ]  freq 4159.2000 - 94 of 259\n",
      "[ 2021-11-06 20:50:59 ]  freq 4163.7600 - 95 of 259\n",
      "[ 2021-11-06 20:50:59 ]  freq 4166.0000 - 96 of 259\n",
      "[ 2021-11-06 20:50:59 ]  freq 4168.8800 - 97 of 259\n",
      "[ 2021-11-06 20:50:59 ]  freq 4173.6800 - 98 of 259\n",
      "[ 2021-11-06 20:50:59 ]  freq 4179.2000 - 99 of 259\n",
      "[ 2021-11-06 20:50:59 ]  freq 4182.2000 - 100 of 259\n",
      "[ 2021-11-06 20:50:59 ]  freq 4185.2000 - 101 of 259\n",
      "[ 2021-11-06 20:50:59 ]  freq 4188.8000 - 102 of 259\n",
      "[ 2021-11-06 20:50:59 ]  freq 4193.5200 - 103 of 259\n",
      "[ 2021-11-06 20:50:59 ]  freq 4198.4000 - 104 of 259\n",
      "[ 2021-11-06 20:50:59 ]  freq 4200.6000 - 105 of 259\n",
      "[ 2021-11-06 20:50:59 ]  freq 4202.8000 - 106 of 259\n",
      "[ 2021-11-06 20:50:59 ]  freq 4208.4000 - 107 of 259\n",
      "[ 2021-11-06 20:50:59 ]  freq 4212.2000 - 108 of 259\n",
      "[ 2021-11-06 20:50:59 ]  freq 4213.0000 - 109 of 259\n",
      "[ 2021-11-06 20:50:59 ]  freq 4213.9600 - 110 of 259\n",
      "[ 2021-11-06 20:50:59 ]  freq 4214.7200 - 111 of 259\n",
      "[ 2021-11-06 20:50:59 ]  freq 4215.1200 - 112 of 259\n",
      "[ 2021-11-06 20:50:59 ]  freq 4215.7600 - 113 of 259\n",
      "[ 2021-11-06 20:50:59 ]  freq 4216.6400 - 114 of 259\n",
      "[ 2021-11-06 20:50:59 ]  freq 4217.2400 - 115 of 259\n",
      "[ 2021-11-06 20:50:59 ]  freq 4218.0800 - 116 of 259\n",
      "[ 2021-11-06 20:50:59 ]  freq 4221.2400 - 117 of 259\n",
      "[ 2021-11-06 20:50:59 ]  freq 4222.9600 - 118 of 259\n",
      "[ 2021-11-06 20:50:59 ]  freq 4224.0800 - 119 of 259\n",
      "[ 2021-11-06 20:50:59 ]  freq 4225.5200 - 120 of 259\n",
      "[ 2021-11-06 20:50:59 ]  freq 4227.2000 - 121 of 259\n",
      "[ 2021-11-06 20:50:59 ]  freq 4227.9200 - 122 of 259\n",
      "[ 2021-11-06 20:50:59 ]  freq 4228.5200 - 123 of 259\n",
      "[ 2021-11-06 20:50:59 ]  freq 4230.0400 - 124 of 259\n",
      "[ 2021-11-06 20:50:59 ]  freq 4230.6400 - 125 of 259\n",
      "[ 2021-11-06 20:50:59 ]  freq 4231.2000 - 126 of 259\n",
      "[ 2021-11-06 20:50:59 ]  freq 4231.8000 - 127 of 259\n",
      "[ 2021-11-06 20:50:59 ]  freq 4232.6800 - 128 of 259\n",
      "[ 2021-11-06 20:50:59 ]  freq 4234.5600 - 129 of 259\n",
      "[ 2021-11-06 20:50:59 ]  freq 4235.2000 - 130 of 259\n",
      "[ 2021-11-06 20:50:59 ]  freq 4236.4000 - 131 of 259\n",
      "[ 2021-11-06 20:50:59 ]  freq 4238.2400 - 132 of 259\n",
      "[ 2021-11-06 20:50:59 ]  freq 4238.6000 - 133 of 259\n",
      "[ 2021-11-06 20:50:59 ]  freq 4243.2000 - 134 of 259\n",
      "[ 2021-11-06 20:50:59 ]  freq 4243.6000 - 135 of 259\n",
      "[ 2021-11-06 20:50:59 ]  freq 4245.6800 - 136 of 259\n",
      "[ 2021-11-06 20:50:59 ]  freq 4248.5600 - 137 of 259\n",
      "[ 2021-11-06 20:50:59 ]  freq 4253.2000 - 138 of 259\n",
      "[ 2021-11-06 20:50:59 ]  freq 4254.0000 - 139 of 259\n",
      "[ 2021-11-06 20:50:59 ]  freq 4256.0000 - 140 of 259\n",
      "[ 2021-11-06 20:50:59 ]  freq 4258.1600 - 141 of 259\n",
      "[ 2021-11-06 20:50:59 ]  freq 4260.0800 - 142 of 259\n",
      "[ 2021-11-06 20:50:59 ]  freq 4262.6000 - 143 of 259\n",
      "[ 2021-11-06 20:50:59 ]  freq 4265.6400 - 144 of 259\n",
      "[ 2021-11-06 20:50:59 ]  freq 4267.2000 - 145 of 259\n",
      "[ 2021-11-06 20:50:59 ]  freq 4268.2400 - 146 of 259\n",
      "[ 2021-11-06 20:50:59 ]  freq 4270.8000 - 147 of 259\n",
      "[ 2021-11-06 20:50:59 ]  freq 4273.6000 - 148 of 259\n",
      "[ 2021-11-06 20:50:59 ]  freq 4274.9600 - 149 of 259\n",
      "[ 2021-11-06 20:50:59 ]  freq 4276.2800 - 150 of 259\n",
      "[ 2021-11-06 20:50:59 ]  freq 4277.3600 - 151 of 259\n",
      "[ 2021-11-06 20:50:59 ]  freq 4278.0000 - 152 of 259\n",
      "[ 2021-11-06 20:50:59 ]  freq 4280.4000 - 153 of 259\n",
      "[ 2021-11-06 20:50:59 ]  freq 4280.7200 - 154 of 259\n",
      "[ 2021-11-06 20:50:59 ]  freq 4282.4000 - 155 of 259\n",
      "[ 2021-11-06 20:50:59 ]  freq 4285.0400 - 156 of 259\n",
      "[ 2021-11-06 20:50:59 ]  freq 4287.2000 - 157 of 259\n",
      "[ 2021-11-06 20:50:59 ]  freq 4291.4000 - 158 of 259\n",
      "[ 2021-11-06 20:50:59 ]  freq 4292.8000 - 159 of 259\n",
      "[ 2021-11-06 20:50:59 ]  freq 4294.8000 - 160 of 259\n",
      "[ 2021-11-06 20:50:59 ]  freq 4295.6000 - 161 of 259\n",
      "[ 2021-11-06 20:50:59 ]  freq 4302.6400 - 162 of 259\n",
      "[ 2021-11-06 20:50:59 ]  freq 4305.2400 - 163 of 259\n",
      "[ 2021-11-06 20:50:59 ]  freq 4305.6800 - 164 of 259\n",
      "[ 2021-11-06 20:50:59 ]  freq 4307.5600 - 165 of 259\n",
      "[ 2021-11-06 20:50:59 ]  freq 4308.4800 - 166 of 259\n",
      "[ 2021-11-06 20:50:59 ]  freq 4309.7200 - 167 of 259\n",
      "[ 2021-11-06 20:50:59 ]  freq 4310.2800 - 168 of 259\n",
      "[ 2021-11-06 20:50:59 ]  freq 4311.3600 - 169 of 259\n",
      "[ 2021-11-06 20:50:59 ]  freq 4312.3200 - 170 of 259\n",
      "[ 2021-11-06 20:50:59 ]  freq 4314.0400 - 171 of 259\n",
      "[ 2021-11-06 20:50:59 ]  freq 4314.5200 - 172 of 259\n",
      "[ 2021-11-06 20:50:59 ]  freq 4315.2400 - 173 of 259\n",
      "[ 2021-11-06 20:50:59 ]  freq 4317.4400 - 174 of 259\n",
      "[ 2021-11-06 20:50:59 ]  freq 4319.3600 - 175 of 259\n",
      "[ 2021-11-06 20:50:59 ]  freq 4322.1600 - 176 of 259\n",
      "[ 2021-11-06 20:50:59 ]  freq 4323.6800 - 177 of 259\n",
      "[ 2021-11-06 20:50:59 ]  freq 4324.7600 - 178 of 259\n",
      "[ 2021-11-06 20:50:59 ]  freq 4327.2000 - 179 of 259\n",
      "[ 2021-11-06 20:50:59 ]  freq 4328.7200 - 180 of 259\n",
      "[ 2021-11-06 20:50:59 ]  freq 4330.2800 - 181 of 259\n",
      "[ 2021-11-06 20:50:59 ]  freq 4333.2000 - 182 of 259\n",
      "[ 2021-11-06 20:50:59 ]  freq 4335.8000 - 183 of 259\n",
      "[ 2021-11-06 20:50:59 ]  freq 4337.3200 - 184 of 259\n",
      "[ 2021-11-06 20:50:59 ]  freq 4342.8800 - 185 of 259\n",
      "[ 2021-11-06 20:50:59 ]  freq 4345.2000 - 186 of 259\n",
      "[ 2021-11-06 20:50:59 ]  freq 4347.6000 - 187 of 259\n",
      "[ 2021-11-06 20:50:59 ]  freq 4349.6400 - 188 of 259\n",
      "[ 2021-11-06 20:50:59 ]  freq 4349.9600 - 189 of 259\n",
      "[ 2021-11-06 20:50:59 ]  freq 4351.5200 - 190 of 259\n",
      "[ 2021-11-06 20:50:59 ]  freq 4352.4400 - 191 of 259\n",
      "[ 2021-11-06 20:50:59 ]  freq 4353.5200 - 192 of 259\n",
      "[ 2021-11-06 20:50:59 ]  freq 4355.2000 - 193 of 259\n",
      "[ 2021-11-06 20:50:59 ]  freq 4357.2000 - 194 of 259\n",
      "[ 2021-11-06 20:50:59 ]  freq 4357.8000 - 195 of 259\n",
      "[ 2021-11-06 20:50:59 ]  freq 4359.8000 - 196 of 259\n",
      "[ 2021-11-06 20:50:59 ]  freq 4361.2000 - 197 of 259\n",
      "[ 2021-11-06 20:50:59 ]  freq 4366.4000 - 198 of 259\n",
      "[ 2021-11-06 20:50:59 ]  freq 4368.6000 - 199 of 259\n",
      "[ 2021-11-06 20:50:59 ]  freq 4372.1600 - 200 of 259\n",
      "[ 2021-11-06 20:50:59 ]  freq 4372.8800 - 201 of 259\n",
      "[ 2021-11-06 20:50:59 ]  freq 4374.2000 - 202 of 259\n",
      "[ 2021-11-06 20:50:59 ]  freq 4375.2000 - 203 of 259\n",
      "[ 2021-11-06 20:50:59 ]  freq 4376.9600 - 204 of 259\n",
      "[ 2021-11-06 20:50:59 ]  freq 4377.4000 - 205 of 259\n",
      "[ 2021-11-06 20:50:59 ]  freq 4378.0400 - 206 of 259\n",
      "[ 2021-11-06 20:50:59 ]  freq 4379.2000 - 207 of 259\n",
      "[ 2021-11-06 20:50:59 ]  freq 4379.9600 - 208 of 259\n",
      "[ 2021-11-06 20:50:59 ]  freq 4381.2400 - 209 of 259\n",
      "[ 2021-11-06 20:50:59 ]  freq 4381.8000 - 210 of 259\n",
      "[ 2021-11-06 20:50:59 ]  freq 4383.3600 - 211 of 259\n",
      "[ 2021-11-06 20:50:59 ]  freq 4384.2800 - 212 of 259\n",
      "[ 2021-11-06 20:50:59 ]  freq 4385.4400 - 213 of 259\n",
      "[ 2021-11-06 20:50:59 ]  freq 4386.1200 - 214 of 259\n",
      "[ 2021-11-06 20:50:59 ]  freq 4386.6000 - 215 of 259\n",
      "[ 2021-11-06 20:50:59 ]  freq 4388.2000 - 216 of 259\n",
      "[ 2021-11-06 20:50:59 ]  freq 4389.4000 - 217 of 259\n",
      "[ 2021-11-06 20:50:59 ]  freq 4390.3200 - 218 of 259\n",
      "[ 2021-11-06 20:50:59 ]  freq 4391.6000 - 219 of 259\n",
      "[ 2021-11-06 20:50:59 ]  freq 4392.3200 - 220 of 259\n",
      "[ 2021-11-06 20:50:59 ]  freq 4395.6800 - 221 of 259\n",
      "[ 2021-11-06 20:50:59 ]  freq 4395.9600 - 222 of 259\n",
      "[ 2021-11-06 20:50:59 ]  freq 4396.3600 - 223 of 259\n",
      "[ 2021-11-06 20:50:59 ]  freq 4399.6400 - 224 of 259\n",
      "[ 2021-11-06 20:50:59 ]  freq 4400.0800 - 225 of 259\n",
      "[ 2021-11-06 20:50:59 ]  freq 4400.5600 - 226 of 259\n",
      "[ 2021-11-06 20:50:59 ]  freq 4401.0400 - 227 of 259\n",
      "[ 2021-11-06 20:50:59 ]  freq 4402.6400 - 228 of 259\n",
      "[ 2021-11-06 20:50:59 ]  freq 4403.2000 - 229 of 259\n",
      "[ 2021-11-06 20:50:59 ]  freq 4403.8000 - 230 of 259\n",
      "[ 2021-11-06 20:50:59 ]  freq 4407.6800 - 231 of 259\n",
      "[ 2021-11-06 20:50:59 ]  freq 4409.8400 - 232 of 259\n",
      "[ 2021-11-06 20:50:59 ]  freq 4410.8000 - 233 of 259\n",
      "[ 2021-11-06 20:50:59 ]  freq 4414.6400 - 234 of 259\n",
      "[ 2021-11-06 20:50:59 ]  freq 4417.4000 - 235 of 259\n",
      "[ 2021-11-06 20:50:59 ]  freq 4419.2000 - 236 of 259\n",
      "[ 2021-11-06 20:50:59 ]  freq 4421.6000 - 237 of 259\n",
      "[ 2021-11-06 20:50:59 ]  freq 4425.6000 - 238 of 259\n",
      "[ 2021-11-06 20:50:59 ]  freq 4427.5200 - 239 of 259\n",
      "[ 2021-11-06 20:50:59 ]  freq 4430.8000 - 240 of 259\n",
      "[ 2021-11-06 20:50:59 ]  freq 4431.4400 - 241 of 259\n",
      "[ 2021-11-06 20:50:59 ]  freq 4434.3200 - 242 of 259\n",
      "[ 2021-11-06 20:50:59 ]  freq 4442.4800 - 243 of 259\n",
      "[ 2021-11-06 20:50:59 ]  freq 4444.8800 - 244 of 259\n",
      "[ 2021-11-06 20:50:59 ]  freq 4447.6000 - 245 of 259\n",
      "[ 2021-11-06 20:50:59 ]  freq 4452.8000 - 246 of 259\n",
      "[ 2021-11-06 20:50:59 ]  freq 4453.4000 - 247 of 259\n",
      "[ 2021-11-06 20:50:59 ]  freq 4454.4800 - 248 of 259\n",
      "[ 2021-11-06 20:50:59 ]  freq 4457.0000 - 249 of 259\n",
      "[ 2021-11-06 20:50:59 ]  freq 4457.8400 - 250 of 259\n",
      "[ 2021-11-06 20:50:59 ]  freq 4460.4000 - 251 of 259\n",
      "[ 2021-11-06 20:50:59 ]  freq 4463.6000 - 252 of 259\n",
      "[ 2021-11-06 20:50:59 ]  freq 4471.9200 - 253 of 259\n",
      "[ 2021-11-06 20:50:59 ]  freq 4474.8000 - 254 of 259\n",
      "[ 2021-11-06 20:50:59 ]  freq 4476.8000 - 255 of 259\n",
      "[ 2021-11-06 20:50:59 ]  freq 4479.9200 - 256 of 259\n",
      "[ 2021-11-06 20:50:59 ]  freq 4484.0000 - 257 of 259\n",
      "[ 2021-11-06 20:50:59 ]  freq 4486.4000 - 258 of 259\n",
      "[ 2021-11-06 20:50:59 ]  freq 4488.4000 - 259 of 259\n"
     ]
    },
    {
     "name": "stdout",
     "output_type": "stream",
     "text": [
      "[ 2021-11-06 20:51:02 ]  Writing new channel assignment to /data/smurf_data/tune/1636231863_channel_assignment_b0.txt\n",
      "[ 2021-11-06 20:51:02 ]  Old master assignment file: /data/smurf_data/tune/1636231093_channel_assignment_b0.txt\n",
      "[ 2021-11-06 20:51:02 ]  New master assignment file: /data/smurf_data/tune/1636231863_channel_assignment_b0.txt\n",
      "[ 2021-11-06 20:52:05 ]  serial find freq complete ; etaScanInProgress = 0\n",
      "[ 2021-11-06 20:52:06 ]  Assigning channels\n",
      "[ 2021-11-06 20:52:09 ]  Writing new channel assignment to /data/smurf_data/tune/1636231929_channel_assignment_b0.txt\n",
      "[ 2021-11-06 20:52:09 ]  Old master assignment file: /data/smurf_data/tune/1636231863_channel_assignment_b0.txt\n",
      "[ 2021-11-06 20:52:09 ]  New master assignment file: /data/smurf_data/tune/1636231929_channel_assignment_b0.txt\n",
      "[ 2021-11-06 20:52:09 ]  Saving to : /data/smurf_data/tune/1636231929_tune.npy\n",
      "[ 2021-11-06 20:52:09 ]  Relocking...\n",
      "[ 2021-11-06 20:52:11 ]  Setting on 40 channels on band 0\n",
      "[ 2021-11-06 20:52:12 ]  Eta plot 1 of 259\n",
      "[ 2021-11-06 20:52:12 ]  Eta plot 2 of 259\n",
      "[ 2021-11-06 20:52:13 ]  Eta plot 3 of 259\n",
      "[ 2021-11-06 20:52:14 ]  Eta plot 4 of 259\n",
      "[ 2021-11-06 20:52:15 ]  Eta plot 5 of 259\n",
      "[ 2021-11-06 20:52:16 ]  Eta plot 6 of 259\n",
      "[ 2021-11-06 20:52:16 ]  Eta plot 7 of 259\n",
      "[ 2021-11-06 20:52:17 ]  Eta plot 8 of 259\n",
      "[ 2021-11-06 20:52:18 ]  Eta plot 9 of 259\n",
      "[ 2021-11-06 20:52:19 ]  Eta plot 10 of 259\n",
      "[ 2021-11-06 20:52:19 ]  Eta plot 11 of 259\n",
      "[ 2021-11-06 20:52:20 ]  Eta plot 12 of 259\n",
      "[ 2021-11-06 20:52:21 ]  Eta plot 13 of 259\n",
      "[ 2021-11-06 20:52:22 ]  Eta plot 14 of 259\n",
      "[ 2021-11-06 20:52:23 ]  Eta plot 15 of 259\n",
      "[ 2021-11-06 20:52:23 ]  Eta plot 16 of 259\n",
      "[ 2021-11-06 20:52:24 ]  Eta plot 17 of 259\n",
      "[ 2021-11-06 20:52:25 ]  Eta plot 18 of 259\n",
      "[ 2021-11-06 20:52:26 ]  Eta plot 19 of 259\n",
      "[ 2021-11-06 20:52:27 ]  Eta plot 20 of 259\n",
      "[ 2021-11-06 20:52:27 ]  Eta plot 21 of 259\n",
      "[ 2021-11-06 20:52:28 ]  Eta plot 22 of 259\n",
      "[ 2021-11-06 20:52:29 ]  Eta plot 23 of 259\n",
      "[ 2021-11-06 20:52:30 ]  Eta plot 24 of 259\n",
      "[ 2021-11-06 20:52:30 ]  Eta plot 25 of 259\n",
      "[ 2021-11-06 20:52:31 ]  Eta plot 26 of 259\n",
      "[ 2021-11-06 20:52:32 ]  Eta plot 27 of 259\n",
      "[ 2021-11-06 20:52:33 ]  Eta plot 28 of 259\n",
      "[ 2021-11-06 20:52:34 ]  Eta plot 29 of 259\n",
      "[ 2021-11-06 20:52:34 ]  Eta plot 30 of 259\n",
      "[ 2021-11-06 20:52:35 ]  Eta plot 31 of 259\n",
      "[ 2021-11-06 20:52:36 ]  Eta plot 32 of 259\n",
      "[ 2021-11-06 20:52:37 ]  Eta plot 33 of 259\n",
      "[ 2021-11-06 20:52:38 ]  Eta plot 34 of 259\n",
      "[ 2021-11-06 20:52:38 ]  Eta plot 35 of 259\n",
      "[ 2021-11-06 20:52:39 ]  Eta plot 36 of 259\n",
      "[ 2021-11-06 20:52:40 ]  Eta plot 37 of 259\n",
      "[ 2021-11-06 20:52:41 ]  Eta plot 38 of 259\n",
      "[ 2021-11-06 20:52:42 ]  Eta plot 39 of 259\n",
      "[ 2021-11-06 20:52:42 ]  Eta plot 40 of 259\n",
      "[ 2021-11-06 20:52:43 ]  Eta plot 41 of 259\n",
      "[ 2021-11-06 20:52:44 ]  Eta plot 42 of 259\n",
      "[ 2021-11-06 20:52:45 ]  Eta plot 43 of 259\n",
      "[ 2021-11-06 20:52:46 ]  Eta plot 44 of 259\n",
      "[ 2021-11-06 20:52:46 ]  Eta plot 45 of 259\n",
      "[ 2021-11-06 20:52:47 ]  Eta plot 46 of 259\n",
      "[ 2021-11-06 20:52:48 ]  Eta plot 47 of 259\n",
      "[ 2021-11-06 20:52:49 ]  Eta plot 48 of 259\n",
      "[ 2021-11-06 20:52:50 ]  Eta plot 49 of 259\n",
      "[ 2021-11-06 20:52:50 ]  Eta plot 50 of 259\n",
      "[ 2021-11-06 20:52:51 ]  Eta plot 51 of 259\n",
      "[ 2021-11-06 20:52:52 ]  Eta plot 52 of 259\n",
      "[ 2021-11-06 20:52:53 ]  Eta plot 53 of 259\n",
      "[ 2021-11-06 20:52:54 ]  Eta plot 54 of 259\n",
      "[ 2021-11-06 20:52:54 ]  Eta plot 55 of 259\n",
      "[ 2021-11-06 20:52:55 ]  Eta plot 56 of 259\n",
      "[ 2021-11-06 20:52:56 ]  Eta plot 57 of 259\n",
      "[ 2021-11-06 20:52:57 ]  Eta plot 58 of 259\n",
      "[ 2021-11-06 20:52:58 ]  Eta plot 59 of 259\n",
      "[ 2021-11-06 20:52:58 ]  Eta plot 60 of 259\n",
      "[ 2021-11-06 20:52:59 ]  Eta plot 61 of 259\n",
      "[ 2021-11-06 20:53:00 ]  Eta plot 62 of 259\n",
      "[ 2021-11-06 20:53:01 ]  Eta plot 63 of 259\n",
      "[ 2021-11-06 20:53:02 ]  Eta plot 64 of 259\n",
      "[ 2021-11-06 20:53:02 ]  Eta plot 65 of 259\n",
      "[ 2021-11-06 20:53:03 ]  Eta plot 66 of 259\n",
      "[ 2021-11-06 20:53:04 ]  Eta plot 67 of 259\n",
      "[ 2021-11-06 20:53:05 ]  Eta plot 68 of 259\n",
      "[ 2021-11-06 20:53:05 ]  Eta plot 69 of 259\n",
      "[ 2021-11-06 20:53:06 ]  Eta plot 70 of 259\n",
      "[ 2021-11-06 20:53:07 ]  Eta plot 71 of 259\n",
      "[ 2021-11-06 20:53:08 ]  Eta plot 72 of 259\n",
      "[ 2021-11-06 20:53:09 ]  Eta plot 73 of 259\n",
      "[ 2021-11-06 20:53:09 ]  Eta plot 74 of 259\n",
      "[ 2021-11-06 20:53:10 ]  Eta plot 75 of 259\n",
      "[ 2021-11-06 20:53:11 ]  Eta plot 76 of 259\n",
      "[ 2021-11-06 20:53:12 ]  Eta plot 77 of 259\n",
      "[ 2021-11-06 20:53:13 ]  Eta plot 78 of 259\n",
      "[ 2021-11-06 20:53:13 ]  Eta plot 79 of 259\n",
      "[ 2021-11-06 20:53:14 ]  Eta plot 80 of 259\n",
      "[ 2021-11-06 20:53:15 ]  Eta plot 81 of 259\n",
      "[ 2021-11-06 20:53:16 ]  Eta plot 82 of 259\n",
      "[ 2021-11-06 20:53:16 ]  Eta plot 83 of 259\n",
      "[ 2021-11-06 20:53:17 ]  Eta plot 84 of 259\n",
      "[ 2021-11-06 20:53:18 ]  Eta plot 85 of 259\n",
      "[ 2021-11-06 20:53:19 ]  Eta plot 86 of 259\n",
      "[ 2021-11-06 20:53:20 ]  Eta plot 87 of 259\n",
      "[ 2021-11-06 20:53:20 ]  Eta plot 88 of 259\n",
      "[ 2021-11-06 20:53:21 ]  Eta plot 89 of 259\n",
      "[ 2021-11-06 20:53:22 ]  Eta plot 90 of 259\n",
      "[ 2021-11-06 20:53:23 ]  Eta plot 91 of 259\n",
      "[ 2021-11-06 20:53:24 ]  Eta plot 92 of 259\n",
      "[ 2021-11-06 20:53:24 ]  Eta plot 93 of 259\n",
      "[ 2021-11-06 20:53:25 ]  Eta plot 94 of 259\n",
      "[ 2021-11-06 20:53:26 ]  Eta plot 95 of 259\n",
      "[ 2021-11-06 20:53:27 ]  Eta plot 96 of 259\n",
      "[ 2021-11-06 20:53:28 ]  Eta plot 97 of 259\n",
      "[ 2021-11-06 20:53:28 ]  Eta plot 98 of 259\n",
      "[ 2021-11-06 20:53:29 ]  Eta plot 99 of 259\n",
      "[ 2021-11-06 20:53:30 ]  Eta plot 100 of 259\n",
      "[ 2021-11-06 20:53:31 ]  Eta plot 101 of 259\n",
      "[ 2021-11-06 20:53:32 ]  Eta plot 102 of 259\n",
      "[ 2021-11-06 20:53:32 ]  Eta plot 103 of 259\n",
      "[ 2021-11-06 20:53:33 ]  Eta plot 104 of 259\n",
      "[ 2021-11-06 20:53:34 ]  Eta plot 105 of 259\n",
      "[ 2021-11-06 20:53:35 ]  Eta plot 106 of 259\n",
      "[ 2021-11-06 20:53:36 ]  Eta plot 107 of 259\n",
      "[ 2021-11-06 20:53:37 ]  Eta plot 108 of 259\n",
      "[ 2021-11-06 20:53:37 ]  Eta plot 109 of 259\n",
      "[ 2021-11-06 20:53:38 ]  Eta plot 110 of 259\n",
      "[ 2021-11-06 20:53:39 ]  Eta plot 111 of 259\n",
      "[ 2021-11-06 20:53:40 ]  Eta plot 112 of 259\n",
      "[ 2021-11-06 20:53:40 ]  Eta plot 113 of 259\n",
      "[ 2021-11-06 20:53:41 ]  Eta plot 114 of 259\n",
      "[ 2021-11-06 20:53:42 ]  Eta plot 115 of 259\n",
      "[ 2021-11-06 20:53:43 ]  Eta plot 116 of 259\n",
      "[ 2021-11-06 20:53:44 ]  Eta plot 117 of 259\n",
      "[ 2021-11-06 20:53:45 ]  Eta plot 118 of 259\n",
      "[ 2021-11-06 20:53:45 ]  Eta plot 119 of 259\n",
      "[ 2021-11-06 20:53:46 ]  Eta plot 120 of 259\n",
      "[ 2021-11-06 20:53:47 ]  Eta plot 121 of 259\n",
      "[ 2021-11-06 20:53:48 ]  Eta plot 122 of 259\n",
      "[ 2021-11-06 20:53:49 ]  Eta plot 123 of 259\n",
      "[ 2021-11-06 20:53:49 ]  Eta plot 124 of 259\n",
      "[ 2021-11-06 20:53:50 ]  Eta plot 125 of 259\n",
      "[ 2021-11-06 20:53:51 ]  Eta plot 126 of 259\n",
      "[ 2021-11-06 20:53:52 ]  Eta plot 127 of 259\n",
      "[ 2021-11-06 20:53:52 ]  Eta plot 128 of 259\n",
      "[ 2021-11-06 20:53:53 ]  Eta plot 129 of 259\n",
      "[ 2021-11-06 20:53:54 ]  Eta plot 130 of 259\n",
      "[ 2021-11-06 20:53:55 ]  Eta plot 131 of 259\n",
      "[ 2021-11-06 20:53:56 ]  Eta plot 132 of 259\n",
      "[ 2021-11-06 20:53:56 ]  Eta plot 133 of 259\n",
      "[ 2021-11-06 20:53:57 ]  Eta plot 134 of 259\n",
      "[ 2021-11-06 20:53:58 ]  Eta plot 135 of 259\n",
      "[ 2021-11-06 20:53:59 ]  Eta plot 136 of 259\n",
      "[ 2021-11-06 20:54:00 ]  Eta plot 137 of 259\n",
      "[ 2021-11-06 20:54:00 ]  Eta plot 138 of 259\n",
      "[ 2021-11-06 20:54:01 ]  Eta plot 139 of 259\n",
      "[ 2021-11-06 20:54:02 ]  Eta plot 140 of 259\n",
      "[ 2021-11-06 20:54:03 ]  Eta plot 141 of 259\n",
      "[ 2021-11-06 20:54:04 ]  Eta plot 142 of 259\n",
      "[ 2021-11-06 20:54:04 ]  Eta plot 143 of 259\n",
      "[ 2021-11-06 20:54:05 ]  Eta plot 144 of 259\n",
      "[ 2021-11-06 20:54:06 ]  Eta plot 145 of 259\n",
      "[ 2021-11-06 20:54:07 ]  Eta plot 146 of 259\n",
      "[ 2021-11-06 20:54:08 ]  Eta plot 147 of 259\n",
      "[ 2021-11-06 20:54:08 ]  Eta plot 148 of 259\n",
      "[ 2021-11-06 20:54:09 ]  Eta plot 149 of 259\n",
      "[ 2021-11-06 20:54:10 ]  Eta plot 150 of 259\n",
      "[ 2021-11-06 20:54:11 ]  Eta plot 151 of 259\n",
      "[ 2021-11-06 20:54:11 ]  Eta plot 152 of 259\n",
      "[ 2021-11-06 20:54:12 ]  Eta plot 153 of 259\n",
      "[ 2021-11-06 20:54:13 ]  Eta plot 154 of 259\n",
      "[ 2021-11-06 20:54:14 ]  Eta plot 155 of 259\n",
      "[ 2021-11-06 20:54:15 ]  Eta plot 156 of 259\n",
      "[ 2021-11-06 20:54:15 ]  Eta plot 157 of 259\n",
      "[ 2021-11-06 20:54:16 ]  Eta plot 158 of 259\n",
      "[ 2021-11-06 20:54:17 ]  Eta plot 159 of 259\n",
      "[ 2021-11-06 20:54:18 ]  Eta plot 160 of 259\n",
      "[ 2021-11-06 20:54:19 ]  Eta plot 161 of 259\n",
      "[ 2021-11-06 20:54:20 ]  Eta plot 162 of 259\n",
      "[ 2021-11-06 20:54:20 ]  Eta plot 163 of 259\n"
     ]
    },
    {
     "name": "stdout",
     "output_type": "stream",
     "text": [
      "[ 2021-11-06 20:54:21 ]  Eta plot 164 of 259\n",
      "[ 2021-11-06 20:54:22 ]  Eta plot 165 of 259\n",
      "[ 2021-11-06 20:54:23 ]  Eta plot 166 of 259\n",
      "[ 2021-11-06 20:54:23 ]  Eta plot 167 of 259\n",
      "[ 2021-11-06 20:54:24 ]  Eta plot 168 of 259\n",
      "[ 2021-11-06 20:54:25 ]  Eta plot 169 of 259\n",
      "[ 2021-11-06 20:54:26 ]  Eta plot 170 of 259\n",
      "[ 2021-11-06 20:54:27 ]  Eta plot 171 of 259\n",
      "[ 2021-11-06 20:54:27 ]  Eta plot 172 of 259\n",
      "[ 2021-11-06 20:54:28 ]  Eta plot 173 of 259\n",
      "[ 2021-11-06 20:54:29 ]  Eta plot 174 of 259\n",
      "[ 2021-11-06 20:54:30 ]  Eta plot 175 of 259\n",
      "[ 2021-11-06 20:54:30 ]  Eta plot 176 of 259\n",
      "[ 2021-11-06 20:54:31 ]  Eta plot 177 of 259\n",
      "[ 2021-11-06 20:54:32 ]  Eta plot 178 of 259\n",
      "[ 2021-11-06 20:54:33 ]  Eta plot 179 of 259\n",
      "[ 2021-11-06 20:54:34 ]  Eta plot 180 of 259\n",
      "[ 2021-11-06 20:54:34 ]  Eta plot 181 of 259\n",
      "[ 2021-11-06 20:54:35 ]  Eta plot 182 of 259\n",
      "[ 2021-11-06 20:54:36 ]  Eta plot 183 of 259\n",
      "[ 2021-11-06 20:54:37 ]  Eta plot 184 of 259\n",
      "[ 2021-11-06 20:54:38 ]  Eta plot 185 of 259\n",
      "[ 2021-11-06 20:54:39 ]  Eta plot 186 of 259\n",
      "[ 2021-11-06 20:54:39 ]  Eta plot 187 of 259\n",
      "[ 2021-11-06 20:54:40 ]  Eta plot 188 of 259\n",
      "[ 2021-11-06 20:54:41 ]  Eta plot 189 of 259\n",
      "[ 2021-11-06 20:54:42 ]  Eta plot 190 of 259\n",
      "[ 2021-11-06 20:54:42 ]  Eta plot 191 of 259\n",
      "[ 2021-11-06 20:54:43 ]  Eta plot 192 of 259\n",
      "[ 2021-11-06 20:54:44 ]  Eta plot 193 of 259\n",
      "[ 2021-11-06 20:54:45 ]  Eta plot 194 of 259\n",
      "[ 2021-11-06 20:54:46 ]  Eta plot 195 of 259\n",
      "[ 2021-11-06 20:54:46 ]  Eta plot 196 of 259\n",
      "[ 2021-11-06 20:54:47 ]  Eta plot 197 of 259\n",
      "[ 2021-11-06 20:54:48 ]  Eta plot 198 of 259\n",
      "[ 2021-11-06 20:54:49 ]  Eta plot 199 of 259\n",
      "[ 2021-11-06 20:54:50 ]  Eta plot 200 of 259\n",
      "[ 2021-11-06 20:54:50 ]  Eta plot 201 of 259\n",
      "[ 2021-11-06 20:54:51 ]  Eta plot 202 of 259\n",
      "[ 2021-11-06 20:54:52 ]  Eta plot 203 of 259\n",
      "[ 2021-11-06 20:54:53 ]  Eta plot 204 of 259\n",
      "[ 2021-11-06 20:54:54 ]  Eta plot 205 of 259\n",
      "[ 2021-11-06 20:54:54 ]  Eta plot 206 of 259\n",
      "[ 2021-11-06 20:54:55 ]  Eta plot 207 of 259\n",
      "[ 2021-11-06 20:54:56 ]  Eta plot 208 of 259\n",
      "[ 2021-11-06 20:54:57 ]  Eta plot 209 of 259\n",
      "[ 2021-11-06 20:54:57 ]  Eta plot 210 of 259\n",
      "[ 2021-11-06 20:54:58 ]  Eta plot 211 of 259\n",
      "[ 2021-11-06 20:54:59 ]  Eta plot 212 of 259\n",
      "[ 2021-11-06 20:55:00 ]  Eta plot 213 of 259\n",
      "[ 2021-11-06 20:55:01 ]  Eta plot 214 of 259\n",
      "[ 2021-11-06 20:55:01 ]  Eta plot 215 of 259\n",
      "[ 2021-11-06 20:55:02 ]  Eta plot 216 of 259\n",
      "[ 2021-11-06 20:55:03 ]  Eta plot 217 of 259\n",
      "[ 2021-11-06 20:55:04 ]  Eta plot 218 of 259\n",
      "[ 2021-11-06 20:55:05 ]  Eta plot 219 of 259\n",
      "[ 2021-11-06 20:55:05 ]  Eta plot 220 of 259\n",
      "[ 2021-11-06 20:55:06 ]  Eta plot 221 of 259\n",
      "[ 2021-11-06 20:55:07 ]  Eta plot 222 of 259\n",
      "[ 2021-11-06 20:55:08 ]  Eta plot 223 of 259\n",
      "[ 2021-11-06 20:55:08 ]  Eta plot 224 of 259\n",
      "[ 2021-11-06 20:55:09 ]  Eta plot 225 of 259\n",
      "[ 2021-11-06 20:55:10 ]  Eta plot 226 of 259\n",
      "[ 2021-11-06 20:55:11 ]  Eta plot 227 of 259\n",
      "[ 2021-11-06 20:55:12 ]  Eta plot 228 of 259\n",
      "[ 2021-11-06 20:55:13 ]  Eta plot 229 of 259\n",
      "[ 2021-11-06 20:55:13 ]  Eta plot 230 of 259\n",
      "[ 2021-11-06 20:55:14 ]  Eta plot 231 of 259\n",
      "[ 2021-11-06 20:55:15 ]  Eta plot 232 of 259\n",
      "[ 2021-11-06 20:55:16 ]  Eta plot 233 of 259\n",
      "[ 2021-11-06 20:55:17 ]  Eta plot 234 of 259\n",
      "[ 2021-11-06 20:55:17 ]  Eta plot 235 of 259\n",
      "[ 2021-11-06 20:55:18 ]  Eta plot 236 of 259\n",
      "[ 2021-11-06 20:55:19 ]  Eta plot 237 of 259\n",
      "[ 2021-11-06 20:55:20 ]  Eta plot 238 of 259\n",
      "[ 2021-11-06 20:55:21 ]  Eta plot 239 of 259\n",
      "[ 2021-11-06 20:55:21 ]  Eta plot 240 of 259\n",
      "[ 2021-11-06 20:55:22 ]  Eta plot 241 of 259\n",
      "[ 2021-11-06 20:55:23 ]  Eta plot 242 of 259\n",
      "[ 2021-11-06 20:55:24 ]  Eta plot 243 of 259\n",
      "[ 2021-11-06 20:55:25 ]  Eta plot 244 of 259\n",
      "[ 2021-11-06 20:55:25 ]  Eta plot 245 of 259\n",
      "[ 2021-11-06 20:55:26 ]  Eta plot 246 of 259\n",
      "[ 2021-11-06 20:55:27 ]  Eta plot 247 of 259\n",
      "[ 2021-11-06 20:55:28 ]  Eta plot 248 of 259\n",
      "[ 2021-11-06 20:55:28 ]  Eta plot 249 of 259\n",
      "[ 2021-11-06 20:55:29 ]  Eta plot 250 of 259\n",
      "[ 2021-11-06 20:55:30 ]  Eta plot 251 of 259\n",
      "[ 2021-11-06 20:55:31 ]  Eta plot 252 of 259\n",
      "[ 2021-11-06 20:55:32 ]  Eta plot 253 of 259\n",
      "[ 2021-11-06 20:55:32 ]  Eta plot 254 of 259\n",
      "[ 2021-11-06 20:55:33 ]  Eta plot 255 of 259\n",
      "[ 2021-11-06 20:55:34 ]  Eta plot 256 of 259\n",
      "[ 2021-11-06 20:55:35 ]  Eta plot 257 of 259\n",
      "[ 2021-11-06 20:55:36 ]  Eta plot 258 of 259\n",
      "[ 2021-11-06 20:55:36 ]  Eta plot 259 of 259\n",
      "These plots are saved at: /data/smurf_data/20211106/1636231799/plots\n"
     ]
    }
   ],
   "source": [
    "S.setup_notches(band=0, tone_power=12, sweep_width=1, delta_freq=0.1, df_sweep=0.01, new_master_assignment=True)\n",
    "# Plots will be saved in S.plot_dir\n",
    "S.plot_tune_summary(band=0, eta_scan=True)\n",
    "print(\"These plots are saved at: \" + S.plot_dir)\n",
    "# run a gradient descent to find resonator dip\n",
    "#S.run_serial_gradient_descent(0) \n",
    "# run eta scan to normalize resonator gain (delta Q -> delta frequency) and apply rotation such that Q is nominally 0\n",
    "#S.run_serial_eta_scan(0) "
   ]
  },
  {
   "cell_type": "markdown",
   "metadata": {},
   "source": [
    "Here's our eta scan for band 0, the complex response is multiplied by the complex value eta to apply the scaling/rotation for feedback.\n",
    "\n",
    "![res000](1634338258_eta_b0_res000.png)\n",
    "![res001](1634338258_eta_b0_res001.png)\n",
    "\n"
   ]
  },
  {
   "cell_type": "markdown",
   "metadata": {},
   "source": [
    "### Looking at on resonance noise\n",
    "Now we can examine resonator noise.  The eta scan sets up with feedback enabled so we'll turn it off and look at open loop frequency error (quadrature voltage).\n",
    "\n",
    "First we'll get of list of resonators that are on and tracking:"
   ]
  },
  {
   "cell_type": "code",
   "execution_count": 9,
   "metadata": {},
   "outputs": [
    {
     "data": {
      "text/plain": [
       "array([  3,   5,   7,  11,  13,  19,  21,  23,  25,  27,  35,  37,  39,\n",
       "        43,  45,  47,  51,  55,  59,  61,  67,  69,  71,  75,  77,  79,\n",
       "        83,  85,  87,  89,  91,  93, 103, 109, 111, 117, 119, 121, 123,\n",
       "       125])"
      ]
     },
     "execution_count": 9,
     "metadata": {},
     "output_type": "execute_result"
    }
   ],
   "source": [
    "S.which_on(band=0)"
   ]
  },
  {
   "cell_type": "code",
   "execution_count": 18,
   "metadata": {},
   "outputs": [
    {
     "name": "stdout",
     "output_type": "stream",
     "text": [
      "[ 2021-11-06 20:59:18 ]  caput smurf_server_s2:AMCc:FpgaTopLevel:AppTop:AppCore:SysgenCryo:Base[0]:readoutChannelSelect 53\n",
      "[ 2021-11-06 20:59:18 ]  Writing to file : /data/smurf_data/20211106/1636231799/outputs/1636232359.dat\n",
      "[ 2021-11-06 20:59:18 ]  caput smurf_server_s2:AMCc:FpgaTopLevel:AppTop:DaqMuxV2[0]:DataBufferSize 1048576\n",
      "[ 2021-11-06 20:59:18 ]  caput smurf_server_s2:AMCc:FpgaTopLevel:AppTop:AppCore:DebugSelect[0] 0\n",
      "[ 2021-11-06 20:59:18 ]  Data acquisition in progress...\n",
      "[ 2021-11-06 20:59:18 ]  caput smurf_server_s2:AMCc:FpgaTopLevel:AppTop:DaqMuxV2[0]:TriggerDaq 1\n",
      "[ 2021-11-06 20:59:21 ]  Done taking data\n",
      "[ 2021-11-06 20:59:21 ]  caput smurf_server_s2:AMCc:FpgaTopLevel:AppTop:AppCore:SysgenCryo:Base[0]:readoutChannelSelect 53\n",
      "[ 2021-11-06 20:59:21 ]  Writing to file : /data/smurf_data/20211106/1636231799/outputs/1636232361.dat\n",
      "[ 2021-11-06 20:59:21 ]  caput smurf_server_s2:AMCc:FpgaTopLevel:AppTop:DaqMuxV2[0]:DataBufferSize 1048576\n",
      "[ 2021-11-06 20:59:21 ]  caput smurf_server_s2:AMCc:FpgaTopLevel:AppTop:AppCore:DebugSelect[0] 0\n",
      "[ 2021-11-06 20:59:21 ]  Data acquisition in progress...\n",
      "[ 2021-11-06 20:59:21 ]  caput smurf_server_s2:AMCc:FpgaTopLevel:AppTop:DaqMuxV2[0]:TriggerDaq 1\n",
      "[ 2021-11-06 20:59:23 ]  Done taking data\n"
     ]
    }
   ],
   "source": [
    "band=0\n",
    "channel=53\n",
    "nsamp=2**20\n",
    "\n",
    "S.set_feedback_enable(band=band, val=0)\n",
    "S.set_feedback_enable_channel(band=band,channel=channel,val=0)\n",
    "\n",
    "# Quadrature noise\n",
    "fq, dfq, syncq = S.take_debug_data(band=band, channel=channel, nsamp=nsamp, IQstream=0, single_channel_readout=2)\n",
    "tq = np.arange(len(dfq))/(1.e6*S.get_channel_frequency_mhz(band))\n",
    "\n",
    "# Rotate into the other quadrature.\n",
    "qetaPhaseDegree=S.get_eta_phase_degree_channel(band=band,channel=channel)\n",
    "def etaPhaseModDegree(etaPhase):\n",
    "    return (etaPhase+180)%360-180\n",
    "# Rotating by 90 to get inphase \n",
    "S.set_eta_phase_degree_channel(band=band,channel=channel,val=etaPhaseModDegree(qetaPhaseDegree+90))\n",
    "\n",
    "# Quadrature noise\n",
    "fi, dfi, synci = S.take_debug_data(band=band, channel=channel, nsamp=nsamp, IQstream=0, single_channel_readout=2)\n",
    "ti = np.arange(len(dfi))/(1.e6*S.get_channel_frequency_mhz(band))"
   ]
  },
  {
   "cell_type": "code",
   "execution_count": 19,
   "metadata": {},
   "outputs": [
    {
     "name": "stdout",
     "output_type": "stream",
     "text": [
      "0.0\n"
     ]
    }
   ],
   "source": [
    "meaniq=np.mean(np.mean(dfi)**2 + np.mean(dfq)**2)\n",
    "print(meaniq)\n",
    "\n",
    "ffi,pxxi=signal.welch(dfi, nperseg=len(fi)/8., fs=1.0E6*S.get_channel_frequency_mhz(band))\n",
    "ffq,pxxq=signal.welch(dfq, nperseg=len(fq)/8., fs=1.0E6*S.get_channel_frequency_mhz(band))"
   ]
  },
  {
   "cell_type": "code",
   "execution_count": 20,
   "metadata": {},
   "outputs": [
    {
     "name": "stderr",
     "output_type": "stream",
     "text": [
      "/usr/local/lib/python3.6/dist-packages/ipykernel_launcher.py:1: RuntimeWarning: invalid value encountered in true_divide\n",
      "  \"\"\"Entry point for launching an IPython kernel.\n",
      "/usr/local/lib/python3.6/dist-packages/ipykernel_launcher.py:2: RuntimeWarning: invalid value encountered in true_divide\n",
      "  \n"
     ]
    },
    {
     "data": {
      "image/png": "[encoded data removed]",
      "text/plain": [
       "<Figure size 432x288 with 1 Axes>"
      ]
     },
     "metadata": {
      "needs_background": "light"
     },
     "output_type": "display_data"
    }
   ],
   "source": [
    "plt.semilogx(ffi,10.*np.log10(pxxi/meaniq))\n",
    "plt.semilogx(ffq,10.*np.log10(pxxq/meaniq))\n",
    "\n",
    "plt.xlabel('Frequency (Hz)')\n",
    "plt.ylabel('Dynamic range (dBc/Hz)')\n",
    "\n",
    "plt.show()"
   ]
  },
  {
   "cell_type": "markdown",
   "metadata": {},
   "source": [
    "Alternate method ; rfIQ mode."
   ]
  },
  {
   "cell_type": "code",
   "execution_count": 21,
   "metadata": {},
   "outputs": [
    {
     "name": "stdout",
     "output_type": "stream",
     "text": [
      "[ 2021-11-06 20:59:31 ]  caput smurf_server_s2:AMCc:FpgaTopLevel:AppTop:AppCore:SysgenCryo:Base[0]:readoutChannelSelect 53\n",
      "[ 2021-11-06 20:59:31 ]  Writing to file : /data/smurf_data/20211106/1636231799/outputs/1636232372.dat\n",
      "[ 2021-11-06 20:59:31 ]  caput smurf_server_s2:AMCc:FpgaTopLevel:AppTop:DaqMuxV2[0]:DataBufferSize 1048576\n",
      "[ 2021-11-06 20:59:31 ]  caput smurf_server_s2:AMCc:FpgaTopLevel:AppTop:AppCore:DebugSelect[0] 0\n",
      "[ 2021-11-06 20:59:31 ]  Data acquisition in progress...\n",
      "[ 2021-11-06 20:59:31 ]  caput smurf_server_s2:AMCc:FpgaTopLevel:AppTop:DaqMuxV2[0]:TriggerDaq 1\n",
      "[ 2021-11-06 20:59:33 ]  Done taking data\n"
     ]
    }
   ],
   "source": [
    "i2,q,sync = S.take_debug_data(band=band,channel=channel,\n",
    "                              rf_iq=True,nsamp=nsamp)"
   ]
  },
  {
   "cell_type": "markdown",
   "metadata": {},
   "source": [
    "This math might be wrong."
   ]
  },
  {
   "cell_type": "code",
   "execution_count": 22,
   "metadata": {},
   "outputs": [],
   "source": [
    "eta_phase = S.get_eta_phase_degree_channel(band, channel)\n",
    "eta_phase_rad = np.deg2rad(eta_phase)\n",
    "I = np.cos(eta_phase_rad) * i2 - np.sin(eta_phase_rad) * q\n",
    "Q = np.sin(eta_phase_rad) * i2 + np.cos(eta_phase_rad) * q\n",
    "\n",
    "ffi,pxxi = signal.welch(I,fs=1.e6*S.get_channel_frequency_mhz(band),nperseg=len(i2)/8)\n",
    "ffq,pxxq = signal.welch(Q,fs=1.e6*S.get_channel_frequency_mhz(band),nperseg=len(i2)/8)"
   ]
  },
  {
   "cell_type": "markdown",
   "metadata": {},
   "source": [
    "Now plot."
   ]
  },
  {
   "cell_type": "code",
   "execution_count": 23,
   "metadata": {},
   "outputs": [
    {
     "name": "stderr",
     "output_type": "stream",
     "text": [
      "/usr/local/lib/python3.6/dist-packages/ipykernel_launcher.py:2: RuntimeWarning: invalid value encountered in true_divide\n",
      "  \n",
      "/usr/local/lib/python3.6/dist-packages/ipykernel_launcher.py:3: RuntimeWarning: invalid value encountered in true_divide\n",
      "  This is separate from the ipykernel package so we can avoid doing imports until\n"
     ]
    },
    {
     "data": {
      "text/plain": [
       "[<matplotlib.lines.Line2D at 0x7f947400e518>]"
      ]
     },
     "execution_count": 23,
     "metadata": {},
     "output_type": "execute_result"
    },
    {
     "data": {
      "image/png": "[encoded data removed]",
      "text/plain": [
       "<Figure size 432x288 with 1 Axes>"
      ]
     },
     "metadata": {
      "needs_background": "light"
     },
     "output_type": "display_data"
    }
   ],
   "source": [
    "magfac = np.mean(q)**2 + np.mean(i2)**2\n",
    "pxxi_dbc = 10. * np.log10(pxxi / magfac)\n",
    "pxxq_dbc = 10. * np.log10(pxxq / magfac)\n",
    "\n",
    "plt.semilogx(pxxi_dbc)\n",
    "plt.semilogx(pxxq_dbc)"
   ]
  },
  {
   "cell_type": "code",
   "execution_count": 16,
   "metadata": {},
   "outputs": [
    {
     "data": {
      "text/plain": [
       "(1000.0, 10000.0)"
      ]
     },
     "execution_count": 16,
     "metadata": {},
     "output_type": "execute_result"
    },
    {
     "data": {
      "image/png": "[encoded data removed]",
      "text/plain": [
       "<Figure size 432x288 with 1 Axes>"
      ]
     },
     "metadata": {
      "needs_background": "light"
     },
     "output_type": "display_data"
    }
   ],
   "source": [
    "plt.semilogx(pxxi_dbc)\n",
    "plt.semilogx(pxxq_dbc)\n",
    "\n",
    "plt.xlim(1e3,1e4)"
   ]
  },
  {
   "cell_type": "code",
   "execution_count": null,
   "metadata": {},
   "outputs": [],
   "source": []
  },
  {
   "cell_type": "code",
   "execution_count": null,
   "metadata": {},
   "outputs": [],
   "source": []
  }
 ],
 "metadata": {
  "kernelspec": {
   "display_name": "Python 3",
   "language": "python",
   "name": "python3"
  },
  "language_info": {
   "codemirror_mode": {
    "name": "ipython",
    "version": 3
   },
   "file_extension": ".py",
   "mimetype": "text/x-python",
   "name": "python",
   "nbconvert_exporter": "python",
   "pygments_lexer": "ipython3",
   "version": "3.6.9"
  }
 },
 "nbformat": 4,
 "nbformat_minor": 4
}
