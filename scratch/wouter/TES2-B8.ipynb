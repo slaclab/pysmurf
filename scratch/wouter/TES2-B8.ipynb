{
 "cells": [
  {
   "cell_type": "markdown",
   "metadata": {},
   "source": [
    "## PySMuRF Setup"
   ]
  },
  {
   "cell_type": "code",
   "execution_count": 1,
   "metadata": {},
   "outputs": [],
   "source": [
    "import pysmurf.client\n",
    "import matplotlib.pyplot as plt\n",
    "import numpy as np\n",
    "from scipy import signal\n",
    "import epics\n",
    "import os\n",
    "import itertools\n",
    "import pickle\n",
    "from os.path import exists\n",
    "import signal\n",
    "\n",
    "%matplotlib inline"
   ]
  },
  {
   "cell_type": "markdown",
   "metadata": {},
   "source": [
    "Next we'll define the EPICS server prefix and experiment configuration file"
   ]
  },
  {
   "cell_type": "code",
   "execution_count": 2,
   "metadata": {},
   "outputs": [],
   "source": [
    "tone_power = 13\n",
    "epics_prefix = \"smurf_server_s2\"\n",
    "config_file  = \"/usr/local/src/pysmurf/cfg_files/mit/experiment_mit.cfg\"\n",
    "S = pysmurf.client.SmurfControl(epics_root=epics_prefix, cfg_file=config_file, setup=False, make_logfile=False)"
   ]
  },
  {
   "cell_type": "code",
   "execution_count": 3,
   "metadata": {},
   "outputs": [
    {
     "data": {
      "text/plain": [
       "(0, 168)"
      ]
     },
     "execution_count": 3,
     "metadata": {},
     "output_type": "execute_result"
    }
   ],
   "source": [
    "S.set_fixed_tone(4300, 13, write_log=False)"
   ]
  },
  {
   "cell_type": "markdown",
   "metadata": {},
   "source": [
    "Now can talk to system using S object."
   ]
  },
  {
   "cell_type": "code",
   "execution_count": 4,
   "metadata": {},
   "outputs": [
    {
     "name": "stdout",
     "output_type": "stream",
     "text": [
      "[ 2022-11-29 22:20:06 ]  Turning off tones\n",
      "[ 2022-11-29 22:20:14 ]  Turning off flux ramp\n",
      "[ 2022-11-29 22:20:14 ]  Turning off all TES biases\n"
     ]
    }
   ],
   "source": [
    "S.all_off()"
   ]
  },
  {
   "cell_type": "markdown",
   "metadata": {},
   "source": [
    "Note the PSD frequency is plotted +/- 0MHz. Each digitizer has complex data at 614.4MHz corresponding to +/- 307.2MHz BW at baseband.  For band=3 this is 0MHz + 5750MHz = 4250MHz.\n"
   ]
  },
  {
   "cell_type": "markdown",
   "metadata": {},
   "source": [
    "### Transfer function of the system\n",
    "\n",
    "Next we can look at a transfer function estimate.  This will play a known random number sequence through the DAC and record the ADC response.  We'll use cross correlation to generate a transfer function estimate:"
   ]
  },
  {
   "cell_type": "code",
   "execution_count": null,
   "metadata": {
    "scrolled": true
   },
   "outputs": [],
   "source": [
    "# For the UC attenuators, the range you can supply is between 0-31 (an integer) where each integer step adds +0.5dB to the attenuation\n",
    "S.set_att_uc(b=0,val=10) # Make sure upconvert attenuators which set the SMuRF output power are zero\n",
    "f,resp=S.full_band_resp(band=0, make_plot=True, show_plot=True, n_scan=10)"
   ]
  },
  {
   "cell_type": "markdown",
   "metadata": {},
   "source": [
    "#### The response is measured about 0MHz baseband which for band=0 is 4250 MHz RF.  We expect two resonators in band 0 ; one at 4.014 GHz and one at 4.388 GHz, or at  MHz and  MHz."
   ]
  },
  {
   "cell_type": "code",
   "execution_count": null,
   "metadata": {},
   "outputs": [],
   "source": [
    "f_res_arr = [4.013e9, 4.3872e9] # expected resonant frequencies\n",
    "q_exp_arr = [4000,10000] # expected coupled quality factors\n",
    "\n",
    "for f_res, q_exp in zip(f_res_arr, q_exp_arr):\n",
    "    df = f_res/q_exp*2\n",
    "    f_res_band = np.mod(f_res,500e6)-250e6\n",
    "    plt.xlim((f_res_band-df),(f_res_band+df))\n",
    "    plt.ylim(-15,5)\n",
    "    plt.plot(f,10.*np.log10(np.abs(resp)))\n",
    "    plt.show()"
   ]
  },
  {
   "cell_type": "markdown",
   "metadata": {},
   "source": [
    "### Identifying resonator locations\n",
    "\n",
    "Each SMuRF band is processed by an oversampled x2 polyphase filter bank.  The filter bank breaks the +/-307.2MHz band into subbands.  Subband 0...127 correspond to -307.2MHz...307.2MHz.  Only subbands +/-250MHz are processed.  We can do a tone sweep to see the subband structure and identify resonator locations within each subband.  The plot shows the interleaved subbands in different colors."
   ]
  },
  {
   "cell_type": "code",
   "execution_count": null,
   "metadata": {},
   "outputs": [],
   "source": [
    "S.find_freq(band=0, tone_power=tone_power, make_plot=True, show_plot=True)"
   ]
  },
  {
   "cell_type": "markdown",
   "metadata": {},
   "source": [
    "### Fine resolution resonator scans\n",
    "Next we run a fine resonator scan and set the nominal tone frequency, drive power and rotation.  Feedback operates on the RF demodulated Q and performs feedback to drive Q to 0."
   ]
  },
  {
   "cell_type": "code",
   "execution_count": null,
   "metadata": {},
   "outputs": [],
   "source": [
    "S.setup_notches(band=0, tone_power=tone_power, sweep_width=1, delta_freq=0.1, df_sweep=0.01, new_master_assignment=True)\n",
    "# Plots will be saved in S.plot_dir\n",
    "S.plot_tune_summary(band=0, eta_scan=True)\n",
    "print(\"These plots are saved at: \" + S.plot_dir)\n",
    "# run a gradient descent to find resonator dip\n",
    "S.run_serial_gradient_descent(0) \n",
    "# run eta scan to normalize resonator gain (delta Q -> delta frequency) and apply rotation such that Q is nominally 0\n",
    "S.run_serial_eta_scan(0) "
   ]
  },
  {
   "cell_type": "code",
   "execution_count": null,
   "metadata": {},
   "outputs": [],
   "source": [
    "S.plot_dir"
   ]
  },
  {
   "cell_type": "markdown",
   "metadata": {},
   "source": [
    "# Tracking on the resonators"
   ]
  },
  {
   "cell_type": "markdown",
   "metadata": {},
   "source": [
    "First let's check if we see the resonators respond to the flux ramp at all.  For that you can disable tracking and turn the flux ramp on ; you should see the resonator modulate in the error plot.  "
   ]
  },
  {
   "cell_type": "code",
   "execution_count": null,
   "metadata": {},
   "outputs": [],
   "source": [
    "S.flux_ramp_off()\n",
    "S.set_feedback_enable(0,1)"
   ]
  },
  {
   "cell_type": "code",
   "execution_count": null,
   "metadata": {},
   "outputs": [],
   "source": [
    "S.set_filter_disable(False)\n",
    "S.set_downsample_factor(20)"
   ]
  },
  {
   "cell_type": "code",
   "execution_count": null,
   "metadata": {
    "scrolled": true
   },
   "outputs": [],
   "source": [
    "S.which_on(0)"
   ]
  },
  {
   "cell_type": "code",
   "execution_count": null,
   "metadata": {
    "scrolled": true
   },
   "outputs": [],
   "source": [
    "S.tracking_setup(band=0,channel=S.which_on(0),reset_rate_khz=4, fraction_full_scale=0.8,make_plot=True,show_plot=True, lms_freq_hz=None, meas_flux_ramp_amp=True, n_phi0=3, feedback_start_frac=0.05, feedback_end_frac=0.95, lms_gain=1)"
   ]
  },
  {
   "cell_type": "markdown",
   "metadata": {},
   "source": [
    "# Let's try taking Noise"
   ]
  },
  {
   "cell_type": "markdown",
   "metadata": {},
   "source": [
    "The conversion from rad in phi0 to pA is done using this number;"
   ]
  },
  {
   "cell_type": "code",
   "execution_count": null,
   "metadata": {},
   "outputs": [],
   "source": [
    "S._pA_per_phi0"
   ]
  },
  {
   "cell_type": "markdown",
   "metadata": {},
   "source": [
    "Here's how you take 15 seconds of noise;"
   ]
  },
  {
   "cell_type": "code",
   "execution_count": null,
   "metadata": {
    "scrolled": true
   },
   "outputs": [],
   "source": [
    "#S.take_noise_psd(meas_time=30, show_plot=True)"
   ]
  },
  {
   "cell_type": "markdown",
   "metadata": {},
   "source": [
    "# Optimize over a couple of parameters."
   ]
  },
  {
   "cell_type": "code",
   "execution_count": null,
   "metadata": {},
   "outputs": [],
   "source": [
    "class TimeOutException(Exception):\n",
    "    def __init__(self, message):\n",
    "        super(TimeOutException, self).__init__(message)\n",
    "        \n",
    "def signal_handler(signum, frame):\n",
    "    raise TimeOutException(\"Timeout!\") \n",
    "    \n",
    "signal.signal(signal.SIGALRM, signal_handler)\n",
    "signal.alarm(200000)"
   ]
  },
  {
   "cell_type": "code",
   "execution_count": null,
   "metadata": {},
   "outputs": [],
   "source": [
    "if exists(S.output_dir+\"/noise_dict.pckl\"):\n",
    "    noise_dict = pickle.load( open( S.output_dir+\"/noise_dict.pckl\", \"rb\" ) )\n",
    "    print(\"Noise dictionary loaded from memory\")\n",
    "else:\n",
    "    noise_dict = {}"
   ]
  },
  {
   "cell_type": "code",
   "execution_count": null,
   "metadata": {
    "scrolled": true
   },
   "outputs": [],
   "source": [
    "param_list = []\n",
    "\n",
    "band = 0\n",
    "channel = 92\n",
    "tone_powers_arr = [11,12,13,14]\n",
    "att_arr = [0,2,4,6]\n",
    "phin_arr = [2,3,4]\n",
    "lms_gain_arr = [1,2,3,4]\n",
    "ramp_freq_arr = [3,4,6,10]\n",
    "\n",
    "combos = list(itertools.product(tone_powers_arr, att_arr,phin_arr,lms_gain_arr,ramp_freq_arr))\n",
    "\n",
    "for i,combo in enumerate(combos):\n",
    "    tone_power, att, phin, lms_gain,ramp_freq  = combo\n",
    "    print(i, tone_power, att, phin, lms_gain, ramp_freq)\n",
    "    \n",
    "    if combo in noise_dict:\n",
    "        print(\"Already performed\")\n",
    "        \n",
    "    else:\n",
    "        try:\n",
    "            S.set_att_uc(band,att)\n",
    "            S.setup_notches(band=band, \n",
    "                            tone_power=tone_power, \n",
    "                            sweep_width=1, \n",
    "                            delta_freq=0.1, \n",
    "                            df_sweep=0.002, \n",
    "                            new_master_assignment=True)\n",
    "            S.plot_tune_summary(band=0, eta_scan=True)\n",
    "            S.run_serial_gradient_descent(band)\n",
    "            S.run_serial_eta_scan(band)\n",
    "            S.set_feedback_enable(0,1)\n",
    "            S.set_filter_disable(True)\n",
    "            S.set_downsample_factor(1)\n",
    "            f, df, sync = S.tracking_setup(band=band, \n",
    "                             channel=channel, \n",
    "                             reset_rate_khz=ramp_freq, \n",
    "                             fraction_full_scale=0.85, \n",
    "                             lms_freq_hz=None, \n",
    "                             meas_flux_ramp_amp=True, \n",
    "                             n_phi0=phin,\n",
    "                             make_plot=True, \n",
    "                             lms_gain=lms_gain, \n",
    "                             feedback_start_frac=0.1, \n",
    "                             feedback_end_frac=1-0.1, \n",
    "                             lms_enable1=1, \n",
    "                             lms_enable2=1, \n",
    "                             lms_enable3=1)\n",
    "            \n",
    "            fileloc, params = S.take_noise_psd(channel=channel,\n",
    "                                               meas_time=60,\n",
    "                                               save_data=True,\n",
    "                                               show_plot=True,\n",
    "                                               make_channel_plot=True,\n",
    "                                               make_summary_plot=False,\n",
    "                                               return_noise_params=True,\n",
    "                                               write_log=False)\n",
    "            noise_dict[combo] = {}\n",
    "            noise_dict[combo]['tracking'] = [f, df, sync]\n",
    "            noise_dict[combo]['params'] = params\n",
    "            plt.show()\n",
    "            pickle.dump(noise_dict, open( S.output_dir+\"/noise_dict.pckl\", \"wb\" ) )\n",
    "        except ValueError as err:\n",
    "            print(\"Value error: {0}\".format(err))\n",
    "            S.all_off()\n",
    "            S.flux_ramp_off()\n",
    "            print(combo, \"Failed, skipping!\")\n",
    "            noise_dict[combo] = None\n",
    "        except TimeOutException as err: \n",
    "            print(\"Smurf died, restart manually, error: {0}\".format(err))\n",
    "            break\n",
    "        #except ChannelAccessGetFailure:\n",
    "            #print(\"Value error: {0}\".format(err))\n",
    "            #S.all_off()\n",
    "            #print(combo, \"Failed, skipping!\")\n",
    "            #noise_dict[combo] = None\n",
    "            "
   ]
  },
  {
   "cell_type": "code",
   "execution_count": null,
   "metadata": {},
   "outputs": [],
   "source": []
  },
  {
   "cell_type": "code",
   "execution_count": null,
   "metadata": {},
   "outputs": [],
   "source": []
  },
  {
   "cell_type": "code",
   "execution_count": null,
   "metadata": {},
   "outputs": [],
   "source": [
    "noise_dict"
   ]
  },
  {
   "cell_type": "code",
   "execution_count": null,
   "metadata": {},
   "outputs": [],
   "source": []
  },
  {
   "cell_type": "code",
   "execution_count": null,
   "metadata": {},
   "outputs": [],
   "source": [
    "pickle.dump(noise_dict, open( S.output_dir+\"/noise_dict.pckl\", \"wb\" ) )"
   ]
  },
  {
   "cell_type": "code",
   "execution_count": null,
   "metadata": {},
   "outputs": [],
   "source": [
    "pas_list = []\n",
    "for k,v in noise_dict.items():\n",
    "    if v!=None:\n",
    "        for i,res in enumerate(v['params'][0]):\n",
    "            if abs(res-4387)<2:\n",
    "                pas = v['params'][1][1][i]\n",
    "    pas_list.append(pas)"
   ]
  },
  {
   "cell_type": "code",
   "execution_count": null,
   "metadata": {},
   "outputs": [],
   "source": [
    "plt.hist(pas_list,bins=20)"
   ]
  },
  {
   "cell_type": "code",
   "execution_count": null,
   "metadata": {},
   "outputs": [],
   "source": [
    "noise_dict"
   ]
  },
  {
   "cell_type": "code",
   "execution_count": null,
   "metadata": {},
   "outputs": [],
   "source": []
  }
 ],
 "metadata": {
  "kernelspec": {
   "display_name": "Python 3",
   "language": "python",
   "name": "python3"
  },
  "language_info": {
   "codemirror_mode": {
    "name": "ipython",
    "version": 3
   },
   "file_extension": ".py",
   "mimetype": "text/x-python",
   "name": "python",
   "nbconvert_exporter": "python",
   "pygments_lexer": "ipython3",
   "version": "3.6.9"
  }
 },
 "nbformat": 4,
 "nbformat_minor": 4
}
