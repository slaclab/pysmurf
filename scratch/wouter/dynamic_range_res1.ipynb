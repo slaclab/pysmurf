{
 "cells": [
  {
   "cell_type": "markdown",
   "metadata": {},
   "source": [
    "Imports"
   ]
  },
  {
   "cell_type": "code",
   "execution_count": 1,
   "metadata": {},
   "outputs": [],
   "source": [
    "import pysmurf.client\n",
    "import matplotlib.pyplot as plt\n",
    "import numpy as np\n",
    "from scipy import signal\n",
    "import epics\n",
    "import os\n",
    "\n",
    "%matplotlib inline"
   ]
  },
  {
   "cell_type": "markdown",
   "metadata": {},
   "source": [
    "Instantiate pysmurf"
   ]
  },
  {
   "cell_type": "code",
   "execution_count": 2,
   "metadata": {},
   "outputs": [],
   "source": [
    "epics_prefix = \"smurf_server_s2\"\n",
    "config_file  = \"/usr/local/src/pysmurf/cfg_files/mit/experiment_mit.cfg\"\n",
    "S = pysmurf.client.SmurfControl(epics_root=epics_prefix, cfg_file=config_file, setup=False, make_logfile=False)"
   ]
  },
  {
   "cell_type": "code",
   "execution_count": 3,
   "metadata": {},
   "outputs": [
    {
     "name": "stdout",
     "output_type": "stream",
     "text": [
      "[ 2021-11-06 20:45:32 ]  Setting up...\n",
      "[ 2021-11-06 20:45:32 ]  Toggling DACs\n",
      "[ 2021-11-06 20:45:32 ]  caput smurf_server_s2:AMCc:FpgaTopLevel:AppTop:AppCore:MicrowaveMuxCore[0]:DBG:dacReset[0] 1\n",
      "[ 2021-11-06 20:45:32 ]  caput smurf_server_s2:AMCc:FpgaTopLevel:AppTop:AppCore:MicrowaveMuxCore[0]:DBG:dacReset[1] 1\n",
      "[ 2021-11-06 20:45:32 ]  caput smurf_server_s2:AMCc:FpgaTopLevel:AppTop:AppCore:MicrowaveMuxCore[0]:DBG:dacReset[0] 0\n",
      "[ 2021-11-06 20:45:32 ]  caput smurf_server_s2:AMCc:FpgaTopLevel:AppTop:AppCore:MicrowaveMuxCore[0]:DBG:dacReset[1] 0\n",
      "[ 2021-11-06 20:45:32 ]  caput smurf_server_s2:AMCc:ReadAll 1\n",
      "[ 2021-11-06 20:45:34 ]  Waiting 20.00 seconds after...\n",
      "[ 2021-11-06 20:45:54 ]  Done waiting.\n",
      "[ 2021-11-06 20:45:54 ]  caget smurf_server_s2:AMCc:SmurfApplication:SmurfVersion\n",
      "[ 2021-11-06 20:45:54 ]  4.1.0+2.gc4f1e29c.dirty\n",
      "[ 2021-11-06 20:45:54 ]  caput smurf_server_s2:AMCc:setDefaults 1\n",
      "[ 2021-11-06 20:46:29 ]  caget smurf_server_s2:AMCc:SmurfApplication:ConfiguringInProgress\n",
      "cannot connect to smurf_server_s2:AMCc:SmurfApplication:ConfiguringInProgress\n",
      "[ 2021-11-06 20:46:39 ]  None\n",
      "[ 2021-11-06 20:46:39 ]  caget smurf_server_s2:AMCc:SmurfApplication:ConfiguringInProgress\n"
     ]
    },
    {
     "name": "stderr",
     "output_type": "stream",
     "text": [
      "/usr/local/lib/python3.6/dist-packages/epics/ca.py:1507: UserWarning: ca.get('smurf_server_s2:AMCc:SmurfApplication:ConfiguringInProgress') timed out after 4.62 seconds.\n",
      "  warnings.warn(msg % (name(chid), timeout))\n"
     ]
    },
    {
     "name": "stdout",
     "output_type": "stream",
     "text": [
      "[ 2021-11-06 20:46:49 ]  None\n",
      "[ 2021-11-06 20:46:49 ]  caget smurf_server_s2:AMCc:SmurfApplication:ConfiguringInProgress\n",
      "[ 2021-11-06 20:46:49 ]  False\n",
      "[ 2021-11-06 20:46:49 ]  caget smurf_server_s2:AMCc:SmurfApplication:SystemConfigured\n",
      "[ 2021-11-06 20:46:49 ]  True\n",
      "[ 2021-11-06 20:46:49 ]  System configuration finished after 55 seconds. The final state was True.\n",
      "[ 2021-11-06 20:46:49 ]  caget smurf_server_s2:AMCc:SmurfApplication:SmurfVersion\n",
      "[ 2021-11-06 20:46:49 ]  4.1.0+2.gc4f1e29c.dirty\n",
      "[ 2021-11-06 20:46:49 ]  caget smurf_server_s2:AMCc:SmurfApplication:JesdStatus\n",
      "[ 2021-11-06 20:46:49 ]  Locked\n",
      "[ 2021-11-06 20:46:49 ]  caput smurf_server_s2:AMCc:FpgaTopLevel:AppTop:AppCore:SysgenCryo:Base[0]:iqSwapIn 0\n",
      "[ 2021-11-06 20:46:49 ]  caput smurf_server_s2:AMCc:FpgaTopLevel:AppTop:AppCore:SysgenCryo:Base[0]:iqSwapOut 0\n",
      "[ 2021-11-06 20:46:49 ]  caput smurf_server_s2:AMCc:FpgaTopLevel:AppTop:AppCore:SysgenCryo:Base[0]:refPhaseDelay 28\n",
      "[ 2021-11-06 20:46:49 ]  caput smurf_server_s2:AMCc:FpgaTopLevel:AppTop:AppCore:SysgenCryo:Base[0]:refPhaseDelayFine 16\n",
      "[ 2021-11-06 20:46:49 ]  caput smurf_server_s2:AMCc:FpgaTopLevel:AppTop:AppCore:SysgenCryo:Base[0]:lmsDelay 28\n",
      "[ 2021-11-06 20:46:50 ]  caput smurf_server_s2:AMCc:FpgaTopLevel:AppTop:AppCore:SysgenCryo:Base[0]:lmsGain 6\n",
      "[ 2021-11-06 20:46:50 ]  caput smurf_server_s2:AMCc:FpgaTopLevel:AppTop:AppCore:SysgenCryo:Base[0]:trigRstDly 15\n",
      "[ 2021-11-06 20:46:50 ]  caput smurf_server_s2:AMCc:FpgaTopLevel:AppTop:AppCore:SysgenCryo:Base[0]:feedbackEnable 1\n",
      "[ 2021-11-06 20:46:50 ]  caput smurf_server_s2:AMCc:FpgaTopLevel:AppTop:AppCore:SysgenCryo:Base[0]:feedbackGain 256\n",
      "[ 2021-11-06 20:46:50 ]  caput smurf_server_s2:AMCc:FpgaTopLevel:AppTop:AppCore:SysgenCryo:Base[0]:feedbackLimit 1536.0\n",
      "[ 2021-11-06 20:46:50 ]  caput smurf_server_s2:AMCc:FpgaTopLevel:AppTop:AppCore:SysgenCryo:Base[0]:feedbackPolarity 1\n",
      "[ 2021-11-06 20:46:50 ]  caput smurf_server_s2:AMCc:FpgaTopLevel:AppTop:AppTopJesd[0]:JesdTx:dataOutMux[2] UserData\n",
      "[ 2021-11-06 20:46:50 ]  caput smurf_server_s2:AMCc:FpgaTopLevel:AppTop:AppTopJesd[0]:JesdTx:dataOutMux[3] UserData\n",
      "[ 2021-11-06 20:46:50 ]  caput smurf_server_s2:AMCc:FpgaTopLevel:AppTop:AppCore:SysgenCryo:Base[0]:dspEnable 1\n",
      "[ 2021-11-06 20:46:50 ]  caput smurf_server_s2:AMCc:FpgaTopLevel:AppTop:AppCore:SysgenCryo:Base[0]:CryoChannels:gradientDescentGain 0.0001\n",
      "[ 2021-11-06 20:46:50 ]  caput smurf_server_s2:AMCc:FpgaTopLevel:AppTop:AppCore:SysgenCryo:Base[0]:CryoChannels:gradientDescentAverages 1\n",
      "[ 2021-11-06 20:46:50 ]  caput smurf_server_s2:AMCc:FpgaTopLevel:AppTop:AppCore:SysgenCryo:Base[0]:CryoChannels:gradientDescentConvergeHz 500.0\n",
      "[ 2021-11-06 20:46:50 ]  caput smurf_server_s2:AMCc:FpgaTopLevel:AppTop:AppCore:SysgenCryo:Base[0]:CryoChannels:gradientDescentStepHz 1000.0\n",
      "[ 2021-11-06 20:46:50 ]  caput smurf_server_s2:AMCc:FpgaTopLevel:AppTop:AppCore:SysgenCryo:Base[0]:CryoChannels:gradientDescentMomentum 1\n",
      "[ 2021-11-06 20:46:50 ]  caput smurf_server_s2:AMCc:FpgaTopLevel:AppTop:AppCore:SysgenCryo:Base[0]:CryoChannels:gradientDescentBeta 0.0\n",
      "[ 2021-11-06 20:46:50 ]  caput smurf_server_s2:AMCc:FpgaTopLevel:AppTop:AppCore:SysgenCryo:Base[0]:CryoChannels:etaScanAverages 1\n",
      "[ 2021-11-06 20:46:50 ]  caput smurf_server_s2:AMCc:FpgaTopLevel:AppTop:AppCore:SysgenCryo:Base[0]:CryoChannels:etaScanDelF 5000\n",
      "[ 2021-11-06 20:46:50 ]  caput smurf_server_s2:AMCc:FpgaTopLevel:AppTop:AppCore:SysgenCryo:Base[1]:iqSwapIn 0\n",
      "[ 2021-11-06 20:46:50 ]  caput smurf_server_s2:AMCc:FpgaTopLevel:AppTop:AppCore:SysgenCryo:Base[1]:iqSwapOut 0\n",
      "[ 2021-11-06 20:46:50 ]  caput smurf_server_s2:AMCc:FpgaTopLevel:AppTop:AppCore:SysgenCryo:Base[1]:refPhaseDelay 28\n",
      "[ 2021-11-06 20:46:50 ]  caput smurf_server_s2:AMCc:FpgaTopLevel:AppTop:AppCore:SysgenCryo:Base[1]:refPhaseDelayFine 19\n",
      "[ 2021-11-06 20:46:50 ]  caput smurf_server_s2:AMCc:FpgaTopLevel:AppTop:AppCore:SysgenCryo:Base[1]:lmsDelay 28\n",
      "[ 2021-11-06 20:46:50 ]  caput smurf_server_s2:AMCc:FpgaTopLevel:AppTop:AppCore:SysgenCryo:Base[1]:lmsGain 6\n",
      "[ 2021-11-06 20:46:50 ]  caput smurf_server_s2:AMCc:FpgaTopLevel:AppTop:AppCore:SysgenCryo:Base[1]:trigRstDly 15\n",
      "[ 2021-11-06 20:46:50 ]  caput smurf_server_s2:AMCc:FpgaTopLevel:AppTop:AppCore:SysgenCryo:Base[1]:feedbackEnable 1\n",
      "[ 2021-11-06 20:46:50 ]  caput smurf_server_s2:AMCc:FpgaTopLevel:AppTop:AppCore:SysgenCryo:Base[1]:feedbackGain 256\n",
      "[ 2021-11-06 20:46:50 ]  caput smurf_server_s2:AMCc:FpgaTopLevel:AppTop:AppCore:SysgenCryo:Base[1]:feedbackLimit 1536.0\n",
      "[ 2021-11-06 20:46:50 ]  caput smurf_server_s2:AMCc:FpgaTopLevel:AppTop:AppCore:SysgenCryo:Base[1]:feedbackPolarity 1\n",
      "[ 2021-11-06 20:46:50 ]  caput smurf_server_s2:AMCc:FpgaTopLevel:AppTop:AppTopJesd[0]:JesdTx:dataOutMux[0] UserData\n",
      "[ 2021-11-06 20:46:50 ]  caput smurf_server_s2:AMCc:FpgaTopLevel:AppTop:AppTopJesd[0]:JesdTx:dataOutMux[1] UserData\n",
      "[ 2021-11-06 20:46:50 ]  caput smurf_server_s2:AMCc:FpgaTopLevel:AppTop:AppCore:SysgenCryo:Base[1]:dspEnable 1\n",
      "[ 2021-11-06 20:46:50 ]  caput smurf_server_s2:AMCc:FpgaTopLevel:AppTop:AppCore:SysgenCryo:Base[1]:CryoChannels:gradientDescentGain 0.0001\n",
      "[ 2021-11-06 20:46:50 ]  caput smurf_server_s2:AMCc:FpgaTopLevel:AppTop:AppCore:SysgenCryo:Base[1]:CryoChannels:gradientDescentAverages 1\n",
      "[ 2021-11-06 20:46:51 ]  caput smurf_server_s2:AMCc:FpgaTopLevel:AppTop:AppCore:SysgenCryo:Base[1]:CryoChannels:gradientDescentConvergeHz 500.0\n",
      "[ 2021-11-06 20:46:51 ]  caput smurf_server_s2:AMCc:FpgaTopLevel:AppTop:AppCore:SysgenCryo:Base[1]:CryoChannels:gradientDescentStepHz 1000.0\n",
      "[ 2021-11-06 20:46:51 ]  caput smurf_server_s2:AMCc:FpgaTopLevel:AppTop:AppCore:SysgenCryo:Base[1]:CryoChannels:gradientDescentMomentum 1\n",
      "[ 2021-11-06 20:46:51 ]  caput smurf_server_s2:AMCc:FpgaTopLevel:AppTop:AppCore:SysgenCryo:Base[1]:CryoChannels:gradientDescentBeta 0.0\n",
      "[ 2021-11-06 20:46:51 ]  caput smurf_server_s2:AMCc:FpgaTopLevel:AppTop:AppCore:SysgenCryo:Base[1]:CryoChannels:etaScanAverages 1\n",
      "[ 2021-11-06 20:46:51 ]  caput smurf_server_s2:AMCc:FpgaTopLevel:AppTop:AppCore:SysgenCryo:Base[1]:CryoChannels:etaScanDelF 5000\n",
      "[ 2021-11-06 20:46:51 ]  caput smurf_server_s2:AMCc:FpgaTopLevel:AppTop:AppCore:SysgenCryo:Base[2]:iqSwapIn 0\n",
      "[ 2021-11-06 20:46:51 ]  caput smurf_server_s2:AMCc:FpgaTopLevel:AppTop:AppCore:SysgenCryo:Base[2]:iqSwapOut 0\n",
      "[ 2021-11-06 20:46:51 ]  caput smurf_server_s2:AMCc:FpgaTopLevel:AppTop:AppCore:SysgenCryo:Base[2]:refPhaseDelay 28\n",
      "[ 2021-11-06 20:46:51 ]  caput smurf_server_s2:AMCc:FpgaTopLevel:AppTop:AppCore:SysgenCryo:Base[2]:refPhaseDelayFine 11\n",
      "[ 2021-11-06 20:46:51 ]  caput smurf_server_s2:AMCc:FpgaTopLevel:AppTop:AppCore:SysgenCryo:Base[2]:lmsDelay 28\n",
      "[ 2021-11-06 20:46:51 ]  caput smurf_server_s2:AMCc:FpgaTopLevel:AppTop:AppCore:SysgenCryo:Base[2]:lmsGain 6\n",
      "[ 2021-11-06 20:46:51 ]  caput smurf_server_s2:AMCc:FpgaTopLevel:AppTop:AppCore:SysgenCryo:Base[2]:trigRstDly 15\n",
      "[ 2021-11-06 20:46:51 ]  caput smurf_server_s2:AMCc:FpgaTopLevel:AppTop:AppCore:SysgenCryo:Base[2]:feedbackEnable 1\n",
      "[ 2021-11-06 20:46:51 ]  caput smurf_server_s2:AMCc:FpgaTopLevel:AppTop:AppCore:SysgenCryo:Base[2]:feedbackGain 256\n",
      "[ 2021-11-06 20:46:51 ]  caput smurf_server_s2:AMCc:FpgaTopLevel:AppTop:AppCore:SysgenCryo:Base[2]:feedbackLimit 1536.0\n",
      "[ 2021-11-06 20:46:51 ]  caput smurf_server_s2:AMCc:FpgaTopLevel:AppTop:AppCore:SysgenCryo:Base[2]:feedbackPolarity 1\n",
      "[ 2021-11-06 20:46:51 ]  caput smurf_server_s2:AMCc:FpgaTopLevel:AppTop:AppTopJesd[0]:JesdTx:dataOutMux[6] UserData\n",
      "[ 2021-11-06 20:46:51 ]  caput smurf_server_s2:AMCc:FpgaTopLevel:AppTop:AppTopJesd[0]:JesdTx:dataOutMux[7] UserData\n",
      "[ 2021-11-06 20:46:51 ]  caput smurf_server_s2:AMCc:FpgaTopLevel:AppTop:AppCore:SysgenCryo:Base[2]:dspEnable 1\n",
      "[ 2021-11-06 20:46:51 ]  caput smurf_server_s2:AMCc:FpgaTopLevel:AppTop:AppCore:SysgenCryo:Base[2]:CryoChannels:gradientDescentGain 0.0001\n",
      "[ 2021-11-06 20:46:51 ]  caput smurf_server_s2:AMCc:FpgaTopLevel:AppTop:AppCore:SysgenCryo:Base[2]:CryoChannels:gradientDescentAverages 1\n",
      "[ 2021-11-06 20:46:51 ]  caput smurf_server_s2:AMCc:FpgaTopLevel:AppTop:AppCore:SysgenCryo:Base[2]:CryoChannels:gradientDescentConvergeHz 500.0\n",
      "[ 2021-11-06 20:46:51 ]  caput smurf_server_s2:AMCc:FpgaTopLevel:AppTop:AppCore:SysgenCryo:Base[2]:CryoChannels:gradientDescentStepHz 1000.0\n",
      "[ 2021-11-06 20:46:51 ]  caput smurf_server_s2:AMCc:FpgaTopLevel:AppTop:AppCore:SysgenCryo:Base[2]:CryoChannels:gradientDescentMomentum 1\n",
      "[ 2021-11-06 20:46:51 ]  caput smurf_server_s2:AMCc:FpgaTopLevel:AppTop:AppCore:SysgenCryo:Base[2]:CryoChannels:gradientDescentBeta 0.0\n",
      "[ 2021-11-06 20:46:51 ]  caput smurf_server_s2:AMCc:FpgaTopLevel:AppTop:AppCore:SysgenCryo:Base[2]:CryoChannels:etaScanAverages 1\n",
      "[ 2021-11-06 20:46:51 ]  caput smurf_server_s2:AMCc:FpgaTopLevel:AppTop:AppCore:SysgenCryo:Base[2]:CryoChannels:etaScanDelF 5000\n",
      "[ 2021-11-06 20:46:51 ]  caput smurf_server_s2:AMCc:FpgaTopLevel:AppTop:AppCore:SysgenCryo:Base[3]:iqSwapIn 0\n",
      "[ 2021-11-06 20:46:51 ]  caput smurf_server_s2:AMCc:FpgaTopLevel:AppTop:AppCore:SysgenCryo:Base[3]:iqSwapOut 0\n",
      "[ 2021-11-06 20:46:51 ]  caput smurf_server_s2:AMCc:FpgaTopLevel:AppTop:AppCore:SysgenCryo:Base[3]:refPhaseDelay 28\n"
     ]
    },
    {
     "name": "stdout",
     "output_type": "stream",
     "text": [
      "[ 2021-11-06 20:46:51 ]  caput smurf_server_s2:AMCc:FpgaTopLevel:AppTop:AppCore:SysgenCryo:Base[3]:refPhaseDelayFine 16\n",
      "[ 2021-11-06 20:46:51 ]  caput smurf_server_s2:AMCc:FpgaTopLevel:AppTop:AppCore:SysgenCryo:Base[3]:lmsDelay 28\n",
      "[ 2021-11-06 20:46:51 ]  caput smurf_server_s2:AMCc:FpgaTopLevel:AppTop:AppCore:SysgenCryo:Base[3]:lmsGain 6\n",
      "[ 2021-11-06 20:46:51 ]  caput smurf_server_s2:AMCc:FpgaTopLevel:AppTop:AppCore:SysgenCryo:Base[3]:trigRstDly 15\n",
      "[ 2021-11-06 20:46:52 ]  caput smurf_server_s2:AMCc:FpgaTopLevel:AppTop:AppCore:SysgenCryo:Base[3]:feedbackEnable 1\n",
      "[ 2021-11-06 20:46:52 ]  caput smurf_server_s2:AMCc:FpgaTopLevel:AppTop:AppCore:SysgenCryo:Base[3]:feedbackGain 256\n",
      "[ 2021-11-06 20:46:52 ]  caput smurf_server_s2:AMCc:FpgaTopLevel:AppTop:AppCore:SysgenCryo:Base[3]:feedbackLimit 1536.0\n",
      "[ 2021-11-06 20:46:52 ]  caput smurf_server_s2:AMCc:FpgaTopLevel:AppTop:AppCore:SysgenCryo:Base[3]:feedbackPolarity 1\n",
      "[ 2021-11-06 20:46:52 ]  caput smurf_server_s2:AMCc:FpgaTopLevel:AppTop:AppTopJesd[0]:JesdTx:dataOutMux[8] UserData\n",
      "[ 2021-11-06 20:46:52 ]  caput smurf_server_s2:AMCc:FpgaTopLevel:AppTop:AppTopJesd[0]:JesdTx:dataOutMux[9] UserData\n",
      "[ 2021-11-06 20:46:52 ]  caput smurf_server_s2:AMCc:FpgaTopLevel:AppTop:AppCore:SysgenCryo:Base[3]:dspEnable 1\n",
      "[ 2021-11-06 20:46:52 ]  caput smurf_server_s2:AMCc:FpgaTopLevel:AppTop:AppCore:SysgenCryo:Base[3]:CryoChannels:gradientDescentGain 0.0001\n",
      "[ 2021-11-06 20:46:52 ]  caput smurf_server_s2:AMCc:FpgaTopLevel:AppTop:AppCore:SysgenCryo:Base[3]:CryoChannels:gradientDescentAverages 1\n",
      "[ 2021-11-06 20:46:52 ]  caput smurf_server_s2:AMCc:FpgaTopLevel:AppTop:AppCore:SysgenCryo:Base[3]:CryoChannels:gradientDescentConvergeHz 500.0\n",
      "[ 2021-11-06 20:46:52 ]  caput smurf_server_s2:AMCc:FpgaTopLevel:AppTop:AppCore:SysgenCryo:Base[3]:CryoChannels:gradientDescentStepHz 1000.0\n",
      "[ 2021-11-06 20:46:52 ]  caput smurf_server_s2:AMCc:FpgaTopLevel:AppTop:AppCore:SysgenCryo:Base[3]:CryoChannels:gradientDescentMomentum 1\n",
      "[ 2021-11-06 20:46:52 ]  caput smurf_server_s2:AMCc:FpgaTopLevel:AppTop:AppCore:SysgenCryo:Base[3]:CryoChannels:gradientDescentBeta 0.0\n",
      "[ 2021-11-06 20:46:52 ]  caput smurf_server_s2:AMCc:FpgaTopLevel:AppTop:AppCore:SysgenCryo:Base[3]:CryoChannels:etaScanAverages 1\n",
      "[ 2021-11-06 20:46:52 ]  caput smurf_server_s2:AMCc:FpgaTopLevel:AppTop:AppCore:SysgenCryo:Base[3]:CryoChannels:etaScanDelF 5000\n",
      "[ 2021-11-06 20:46:52 ]  caput smurf_server_s2:AMCc:FpgaTopLevel:AppTop:AppCore:MicrowaveMuxCore[0]:ATT:UC[1] 0\n",
      "[ 2021-11-06 20:46:52 ]  caput smurf_server_s2:AMCc:FpgaTopLevel:AppTop:AppCore:MicrowaveMuxCore[0]:ATT:DC[1] 0\n",
      "[ 2021-11-06 20:46:52 ]  caput smurf_server_s2:AMCc:FpgaTopLevel:AppTop:AppCore:MicrowaveMuxCore[0]:ATT:UC[2] 0\n",
      "[ 2021-11-06 20:46:52 ]  caput smurf_server_s2:AMCc:FpgaTopLevel:AppTop:AppCore:MicrowaveMuxCore[0]:ATT:DC[2] 0\n",
      "[ 2021-11-06 20:46:52 ]  caput smurf_server_s2:AMCc:FpgaTopLevel:AppTop:AppCore:MicrowaveMuxCore[0]:ATT:UC[3] 0\n",
      "[ 2021-11-06 20:46:52 ]  caput smurf_server_s2:AMCc:FpgaTopLevel:AppTop:AppCore:MicrowaveMuxCore[0]:ATT:DC[3] 0\n",
      "[ 2021-11-06 20:46:52 ]  caput smurf_server_s2:AMCc:FpgaTopLevel:AppTop:AppCore:MicrowaveMuxCore[0]:ATT:UC[4] 0\n",
      "[ 2021-11-06 20:46:52 ]  caput smurf_server_s2:AMCc:FpgaTopLevel:AppTop:AppCore:MicrowaveMuxCore[0]:ATT:DC[4] 0\n",
      "[ 2021-11-06 20:46:52 ]  caput smurf_server_s2:AMCc:FpgaTopLevel:AppTop:DaqMuxV2[0]:TriggerHwArm 0\n",
      "[ 2021-11-06 20:46:52 ]  caput smurf_server_s2:AMCc:FpgaTopLevel:AppTop:DaqMuxV2[1]:TriggerHwArm 0\n",
      "[ 2021-11-06 20:46:52 ]  caput smurf_server_s2:AMCc:FpgaTopLevel:AmcCarrierCore:AmcCarrierTiming:EvrV2CoreTriggers:EvrV2TriggerReg[0]:Width 10\n",
      "[ 2021-11-06 20:46:52 ]  caput smurf_server_s2:AMCc:FpgaTopLevel:AmcCarrierCore:AmcCarrierTiming:EvrV2CoreTriggers:EvrV2TriggerReg[0]:EnableTrig 1\n",
      "[ 2021-11-06 20:46:52 ]  caput smurf_server_s2:AMCc:FpgaTopLevel:AmcCarrierCore:AmcCarrierTiming:EvrV2CoreTriggers:EvrV2ChannelReg[0]:EnableReg True\n",
      "[ 2021-11-06 20:46:52 ]  caput smurf_server_s2:AMCc:FpgaTopLevel:AmcCarrierCore:AmcCarrierTiming:EvrV2CoreTriggers:EvrV2ChannelReg[0]:DestSel 131072\n",
      "[ 2021-11-06 20:46:52 ]  caput smurf_server_s2:AMCc:FpgaTopLevel:AppTop:AppCore:RtmCryoDet:EnableRampTrigger 1\n",
      "[ 2021-11-06 20:46:52 ]  caput smurf_server_s2:AMCc:FpgaTopLevel:AppTop:AppCore:RtmCryoDet:SelectRamp 1\n",
      "[ 2021-11-06 20:46:52 ]  caput smurf_server_s2:AMCc:FpgaTopLevel:AppTop:AppCore:RtmCryoDet:RtmSpiSr:CfgRegEnaBit 0\n",
      "[ 2021-11-06 20:46:52 ]  caput smurf_server_s2:AMCc:FpgaTopLevel:AppTop:AppCore:RtmCryoDet:RtmSpiSr:CfgRegEnaBit 0\n",
      "[ 2021-11-06 20:46:52 ]  Percent full scale = 48.900%\n",
      "[ 2021-11-06 20:46:52 ]  caput smurf_server_s2:AMCc:FpgaTopLevel:AppTop:AppCore:RtmCryoDet:LowCycle 5\n",
      "[ 2021-11-06 20:46:52 ]  caput smurf_server_s2:AMCc:FpgaTopLevel:AppTop:AppCore:RtmCryoDet:HighCycle 5\n",
      "[ 2021-11-06 20:46:52 ]  caput smurf_server_s2:AMCc:FpgaTopLevel:AppTop:AppCore:RtmCryoDet:KRelay 3\n",
      "[ 2021-11-06 20:46:53 ]  caput smurf_server_s2:AMCc:FpgaTopLevel:AppTop:AppCore:RtmCryoDet:RampMaxCnt 76799.0\n",
      "[ 2021-11-06 20:46:53 ]  caput smurf_server_s2:AMCc:FpgaTopLevel:AppTop:AppCore:RtmCryoDet:PulseWidth 64\n",
      "[ 2021-11-06 20:46:53 ]  caput smurf_server_s2:AMCc:FpgaTopLevel:AppTop:AppCore:RtmCryoDet:DebounceWidth 255\n",
      "[ 2021-11-06 20:46:53 ]  caput smurf_server_s2:AMCc:FpgaTopLevel:AppTop:AppCore:RtmCryoDet:RtmSpiSr:RampSlope 0\n",
      "[ 2021-11-06 20:46:53 ]  caput smurf_server_s2:AMCc:FpgaTopLevel:AppTop:AppCore:RtmCryoDet:RtmSpiSr:ModeControl 0\n",
      "[ 2021-11-06 20:46:53 ]  caput smurf_server_s2:AMCc:FpgaTopLevel:AppTop:AppCore:RtmCryoDet:RtmSpiSr:FastSlowStepSize 328162.0\n",
      "[ 2021-11-06 20:46:53 ]  caput smurf_server_s2:AMCc:FpgaTopLevel:AppTop:AppCore:RtmCryoDet:RtmSpiSr:FastSlowRstValue 1097365248.0\n",
      "[ 2021-11-06 20:46:53 ]  caput smurf_server_s2:AMCc:FpgaTopLevel:AppTop:AppCore:RtmCryoDet:EnableRampTrigger 1\n",
      "[ 2021-11-06 20:46:53 ]  caput smurf_server_s2:AMCc:FpgaTopLevel:AppTop:AppCore:enableStreaming 1\n",
      "[ 2021-11-06 20:46:53 ]  caput smurf_server_s2:AMCc:FpgaTopLevel:AppTop:AppCore:RtmCryoDet:RtmSpiMax:HemtBiasDacCtrlRegCh[33] 2\n",
      "[ 2021-11-06 20:46:53 ]  Setting HEMT LNA Vg from config file to Vg=0.610\n",
      "[ 2021-11-06 20:46:53 ]  caput smurf_server_s2:AMCc:FpgaTopLevel:AppTop:AppCore:RtmCryoDet:RtmSpiMax:HemtBiasDacDataRegCh[33] 158063\n",
      "[ 2021-11-06 20:46:53 ]  caput smurf_server_s2:AMCc:FpgaTopLevel:AppTop:AppCore:RtmCryoDet:RtmSpiMax:TesBiasDacCtrlRegCh[32] 2\n",
      "[ 2021-11-06 20:46:53 ]  Setting 50K LNA Vg from config file to Vg=-0.740\n",
      "[ 2021-11-06 20:46:53 ]  caput smurf_server_s2:AMCc:FpgaTopLevel:AppTop:AppCore:RtmCryoDet:RtmSpiMax:TesBiasDacDataRegCh[32] -191749.5854063018\n",
      "[ 2021-11-06 20:46:54 ]  {'hemt_Vg': 0.6099967296000001, 'hemt_Id': -0.941, '50K_Vg': -0.7399977408, '50K_Id': -0.4963}\n",
      "[ 2021-11-06 20:46:54 ]  {'hemt_Vg': 0.6099967296000001, 'hemt_Id': -0.941, '50K_Vg': -0.7399977408, '50K_Id': -0.4963}\n",
      "[ 2021-11-06 20:46:54 ]  Cryocard temperature = -8.928571428571429\n",
      "[ 2021-11-06 20:46:54 ]  Configuring the system to take timing from ext_ref\n",
      "[ 2021-11-06 20:46:54 ]  Select external reference for bay 0\n",
      "[ 2021-11-06 20:46:59 ]  smurf_server_s2:AMCc:FpgaTopLevel:AppTop:AppCore:MicrowaveMuxCore[0]:SelExtRef sent\n",
      "[ 2021-11-06 20:46:59 ]  caput smurf_server_s2:AMCc:FpgaTopLevel:AppTop:AppCore:RtmCryoDet:RampStartMode 0\n",
      "[ 2021-11-06 20:46:59 ]  Done with setup.\n"
     ]
    },
    {
     "data": {
      "text/plain": [
       "True"
      ]
     },
     "execution_count": 3,
     "metadata": {},
     "output_type": "execute_result"
    }
   ],
   "source": [
    "S.setup()"
   ]
  },
  {
   "cell_type": "markdown",
   "metadata": {},
   "source": [
    "Set a fixed tone off resonance at 4.250 GHz."
   ]
  },
  {
   "cell_type": "code",
   "execution_count": 4,
   "metadata": {},
   "outputs": [
    {
     "name": "stdout",
     "output_type": "stream",
     "text": [
      "[ 2021-11-06 20:46:59 ]  Turning off tones\n",
      "[ 2021-11-06 20:47:03 ]  Turning off flux ramp\n",
      "[ 2021-11-06 20:47:03 ]  Turning off all TES biases\n"
     ]
    }
   ],
   "source": [
    "S.all_off()\n",
    "(band,channel)=S.set_fixed_tone(4250,12)"
   ]
  },
  {
   "cell_type": "markdown",
   "metadata": {},
   "source": [
    "Returns (band,channel).  Now calibrate eta;"
   ]
  },
  {
   "cell_type": "code",
   "execution_count": 5,
   "metadata": {},
   "outputs": [
    {
     "data": {
      "text/plain": [
       "0"
      ]
     },
     "execution_count": 5,
     "metadata": {},
     "output_type": "execute_result"
    }
   ],
   "source": [
    "band"
   ]
  },
  {
   "cell_type": "code",
   "execution_count": 6,
   "metadata": {},
   "outputs": [
    {
     "name": "stdout",
     "output_type": "stream",
     "text": [
      "b0ch0 eta_phase_deg=168.24789078323897\n"
     ]
    }
   ],
   "source": [
    "S.run_serial_eta_scan(0)\n",
    "print(f'b0ch0 eta_phase_deg={S.get_eta_phase_degree_channel(0,0)}')"
   ]
  },
  {
   "cell_type": "markdown",
   "metadata": {},
   "source": [
    "Serial eta scan enables feedback, so even though we instantiated this as a fixed tone, need to disable it's feedback again."
   ]
  },
  {
   "cell_type": "code",
   "execution_count": 7,
   "metadata": {},
   "outputs": [],
   "source": [
    "S.set_feedback_enable_channel(band,channel,0)"
   ]
  },
  {
   "cell_type": "markdown",
   "metadata": {},
   "source": [
    "Take I/Q noise."
   ]
  },
  {
   "cell_type": "code",
   "execution_count": 8,
   "metadata": {},
   "outputs": [
    {
     "name": "stdout",
     "output_type": "stream",
     "text": [
      "[ 2021-11-06 20:47:10 ]  caput smurf_server_s2:AMCc:FpgaTopLevel:AppTop:AppCore:SysgenCryo:Base[0]:readoutChannelSelect 0\n",
      "[ 2021-11-06 20:47:10 ]  Writing to file : /data/smurf_data/20211106/1636231532/outputs/1636231631.dat\n",
      "[ 2021-11-06 20:47:10 ]  caput smurf_server_s2:AMCc:FpgaTopLevel:AppTop:DaqMuxV2[0]:DataBufferSize 1048576\n",
      "[ 2021-11-06 20:47:10 ]  caput smurf_server_s2:AMCc:FpgaTopLevel:AppTop:AppCore:DebugSelect[0] 0\n",
      "[ 2021-11-06 20:47:10 ]  Data acquisition in progress...\n",
      "[ 2021-11-06 20:47:11 ]  caput smurf_server_s2:AMCc:FpgaTopLevel:AppTop:DaqMuxV2[0]:TriggerDaq 1\n",
      "[ 2021-11-06 20:47:12 ]  Done taking data\n",
      "[ 2021-11-06 20:47:12 ]  caput smurf_server_s2:AMCc:FpgaTopLevel:AppTop:AppCore:SysgenCryo:Base[0]:readoutChannelSelect 0\n",
      "[ 2021-11-06 20:47:12 ]  Writing to file : /data/smurf_data/20211106/1636231532/outputs/1636231633.dat\n",
      "[ 2021-11-06 20:47:12 ]  caput smurf_server_s2:AMCc:FpgaTopLevel:AppTop:DaqMuxV2[0]:DataBufferSize 1048576\n",
      "[ 2021-11-06 20:47:12 ]  caput smurf_server_s2:AMCc:FpgaTopLevel:AppTop:AppCore:DebugSelect[0] 0\n",
      "[ 2021-11-06 20:47:12 ]  Data acquisition in progress...\n",
      "[ 2021-11-06 20:47:12 ]  caput smurf_server_s2:AMCc:FpgaTopLevel:AppTop:DaqMuxV2[0]:TriggerDaq 1\n",
      "[ 2021-11-06 20:47:15 ]  Done taking data\n"
     ]
    }
   ],
   "source": [
    "nsamp=2**20\n",
    "\n",
    "# Quadrature noise\n",
    "fq, dfq, syncq = S.take_debug_data(band=band, channel=channel, nsamp=nsamp, IQstream=0, single_channel_readout=2)\n",
    "tq = np.arange(len(dfq))/(1.e6*S.get_channel_frequency_mhz(band))\n",
    "\n",
    "# Rotate into the other quadrature.\n",
    "qetaPhaseDegree=S.get_eta_phase_degree_channel(band=band,channel=channel)\n",
    "def etaPhaseModDegree(etaPhase):\n",
    "    return (etaPhase+180)%360-180\n",
    "# Rotating by 90 to get inphase \n",
    "S.set_eta_phase_degree_channel(band=band,channel=channel,val=etaPhaseModDegree(qetaPhaseDegree+90))\n",
    "\n",
    "# Quadrature noise\n",
    "fi, dfi, synci = S.take_debug_data(band=band, channel=channel, nsamp=nsamp, IQstream=0, single_channel_readout=2)\n",
    "ti = np.arange(len(dfi))/(1.e6*S.get_channel_frequency_mhz(band))"
   ]
  },
  {
   "cell_type": "markdown",
   "metadata": {},
   "source": [
    "Compute power spectral densities relative to carrier."
   ]
  },
  {
   "cell_type": "code",
   "execution_count": 9,
   "metadata": {
    "scrolled": false
   },
   "outputs": [
    {
     "name": "stdout",
     "output_type": "stream",
     "text": [
      "0.1789947983172499\n"
     ]
    }
   ],
   "source": [
    "meaniq=np.mean(np.mean(dfi)**2 + np.mean(dfq)**2)\n",
    "print(meaniq)\n",
    "\n",
    "ffi,pxxi=signal.welch(dfi, nperseg=len(fi)/8., fs=1.0E6*S.get_channel_frequency_mhz(band))\n",
    "ffq,pxxq=signal.welch(dfq, nperseg=len(fq)/8., fs=1.0E6*S.get_channel_frequency_mhz(band))"
   ]
  },
  {
   "cell_type": "markdown",
   "metadata": {},
   "source": [
    "Plot power spectral densities in dBc/Hz"
   ]
  },
  {
   "cell_type": "code",
   "execution_count": 10,
   "metadata": {},
   "outputs": [
    {
     "data": {
      "image/png": "[encoded data removed]",
      "text/plain": [
       "<Figure size 432x288 with 1 Axes>"
      ]
     },
     "metadata": {
      "needs_background": "light"
     },
     "output_type": "display_data"
    }
   ],
   "source": [
    "plt.semilogx(ffi,10.*np.log10(pxxi/meaniq))\n",
    "plt.semilogx(ffq,10.*np.log10(pxxq/meaniq))\n",
    "\n",
    "plt.xlabel('Frequency (Hz)')\n",
    "plt.ylabel('Dynamic range (dBc/Hz)')\n",
    "\n",
    "plt.show()"
   ]
  },
  {
   "cell_type": "markdown",
   "metadata": {},
   "source": [
    "Alternate method ; rfIQ mode."
   ]
  },
  {
   "cell_type": "code",
   "execution_count": 11,
   "metadata": {
    "scrolled": true
   },
   "outputs": [
    {
     "name": "stdout",
     "output_type": "stream",
     "text": [
      "[ 2021-11-06 20:47:16 ]  caput smurf_server_s2:AMCc:FpgaTopLevel:AppTop:AppCore:SysgenCryo:Base[0]:readoutChannelSelect 0\n",
      "[ 2021-11-06 20:47:16 ]  Writing to file : /data/smurf_data/20211106/1636231532/outputs/1636231636.dat\n",
      "[ 2021-11-06 20:47:16 ]  caput smurf_server_s2:AMCc:FpgaTopLevel:AppTop:DaqMuxV2[0]:DataBufferSize 1048576\n",
      "[ 2021-11-06 20:47:16 ]  caput smurf_server_s2:AMCc:FpgaTopLevel:AppTop:AppCore:DebugSelect[0] 0\n",
      "[ 2021-11-06 20:47:16 ]  Data acquisition in progress...\n",
      "[ 2021-11-06 20:47:16 ]  caput smurf_server_s2:AMCc:FpgaTopLevel:AppTop:DaqMuxV2[0]:TriggerDaq 1\n",
      "[ 2021-11-06 20:47:18 ]  Done taking data\n"
     ]
    }
   ],
   "source": [
    "i2,q,sync = S.take_debug_data(band=band,channel=channel,\n",
    "                              rf_iq=True,nsamp=nsamp)"
   ]
  },
  {
   "cell_type": "markdown",
   "metadata": {},
   "source": [
    "Not sure about the rotation.  Need to check."
   ]
  },
  {
   "cell_type": "code",
   "execution_count": 12,
   "metadata": {},
   "outputs": [],
   "source": [
    "eta_phase = S.get_eta_phase_degree_channel(band, channel)\n",
    "eta_phase_rad = np.deg2rad(eta_phase)\n",
    "I = np.cos(eta_phase_rad) * i2 - np.sin(eta_phase_rad) * q\n",
    "Q = np.sin(eta_phase_rad) * i2 + np.cos(eta_phase_rad) * q\n",
    "\n",
    "ffi,pxxi = signal.welch(I,fs=1.e6*S.get_channel_frequency_mhz(band),nperseg=len(i2)/8)\n",
    "ffq,pxxq = signal.welch(Q,fs=1.e6*S.get_channel_frequency_mhz(band),nperseg=len(i2)/8)"
   ]
  },
  {
   "cell_type": "code",
   "execution_count": 13,
   "metadata": {},
   "outputs": [
    {
     "data": {
      "text/plain": [
       "(1000.0, 10000.0)"
      ]
     },
     "execution_count": 13,
     "metadata": {},
     "output_type": "execute_result"
    },
    {
     "data": {
      "image/png": "[encoded data removed]",
      "text/plain": [
       "<Figure size 432x288 with 1 Axes>"
      ]
     },
     "metadata": {
      "needs_background": "light"
     },
     "output_type": "display_data"
    }
   ],
   "source": [
    "magfac = np.mean(q)**2 + np.mean(i2)**2\n",
    "pxxi_dbc = 10. * np.log10(pxxi / magfac)\n",
    "pxxq_dbc = 10. * np.log10(pxxq / magfac)\n",
    "\n",
    "plt.semilogx(pxxi_dbc)\n",
    "plt.semilogx(pxxq_dbc)\n",
    "\n",
    "plt.xlim(1e3,1e4)\n",
    "#lt.ylim(-100,-85)"
   ]
  },
  {
   "cell_type": "code",
   "execution_count": null,
   "metadata": {},
   "outputs": [],
   "source": []
  },
  {
   "cell_type": "code",
   "execution_count": null,
   "metadata": {},
   "outputs": [],
   "source": []
  }
 ],
 "metadata": {
  "kernelspec": {
   "display_name": "Python 3",
   "language": "python",
   "name": "python3"
  },
  "language_info": {
   "codemirror_mode": {
    "name": "ipython",
    "version": 3
   },
   "file_extension": ".py",
   "mimetype": "text/x-python",
   "name": "python",
   "nbconvert_exporter": "python",
   "pygments_lexer": "ipython3",
   "version": "3.6.9"
  },
  "toc-showmarkdowntxt": false
 },
 "nbformat": 4,
 "nbformat_minor": 5
}
