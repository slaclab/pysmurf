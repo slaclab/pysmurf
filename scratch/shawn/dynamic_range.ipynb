{
 "cells": [
  {
   "cell_type": "markdown",
   "id": "a2255982",
   "metadata": {},
   "source": [
    "Imports"
   ]
  },
  {
   "cell_type": "code",
   "execution_count": 1,
   "id": "6480f7c5",
   "metadata": {},
   "outputs": [],
   "source": [
    "import pysmurf.client\n",
    "import matplotlib.pyplot as plt\n",
    "import numpy as np\n",
    "from scipy import signal\n",
    "import epics\n",
    "import os\n",
    "\n",
    "%matplotlib inline"
   ]
  },
  {
   "cell_type": "markdown",
   "id": "67f1d6ef",
   "metadata": {},
   "source": [
    "Instantiate pysmurf"
   ]
  },
  {
   "cell_type": "code",
   "execution_count": 5,
   "id": "9872a6a0",
   "metadata": {},
   "outputs": [],
   "source": [
    "epics_prefix = \"smurf_server_s2\"\n",
    "config_file = \"/usr/local/src/pysmurf/cfg_files/b33/experiment_b33_lbOnlyBay0_newamps.cfg\"\n",
    "S = pysmurf.client.SmurfControl(epics_root=epics_prefix, cfg_file=config_file, setup=False, make_logfile=False)"
   ]
  },
  {
   "cell_type": "markdown",
   "id": "763f6c2d",
   "metadata": {},
   "source": [
    "Set a fixed tone off resonance at 4.250 GHz."
   ]
  },
  {
   "cell_type": "code",
   "execution_count": 86,
   "id": "cb152449",
   "metadata": {},
   "outputs": [
    {
     "name": "stdout",
     "output_type": "stream",
     "text": [
      "[ 2021-10-16 07:28:39 ]  Turning off tones\n",
      "[ 2021-10-16 07:28:48 ]  Turning off flux ramp\n",
      "[ 2021-10-16 07:28:48 ]  Turning off all TES biases\n"
     ]
    }
   ],
   "source": [
    "S.all_off()\n",
    "(band,channel)=S.set_fixed_tone(4250,12)"
   ]
  },
  {
   "cell_type": "markdown",
   "id": "d7c8cb9b",
   "metadata": {},
   "source": [
    "Returns (band,channel).  Now calibrate eta;"
   ]
  },
  {
   "cell_type": "code",
   "execution_count": 87,
   "id": "956c6b41",
   "metadata": {},
   "outputs": [
    {
     "name": "stdout",
     "output_type": "stream",
     "text": [
      "b0ch0 eta_phase_deg=-161.84929438494115\n"
     ]
    }
   ],
   "source": [
    "S.run_serial_eta_scan(0)\n",
    "print(f'b0ch0 eta_phase_deg={S.get_eta_phase_degree_channel(0,0)}')"
   ]
  },
  {
   "cell_type": "markdown",
   "id": "77f04825",
   "metadata": {},
   "source": [
    "Serial eta scan enables feedback, so even though we instantiated this as a fixed tone, need to disable it's feedback again."
   ]
  },
  {
   "cell_type": "code",
   "execution_count": 88,
   "id": "2baf52a2",
   "metadata": {},
   "outputs": [],
   "source": [
    "S.set_feedback_enable_channel(band,channel,0)"
   ]
  },
  {
   "cell_type": "markdown",
   "id": "fddd797e",
   "metadata": {},
   "source": [
    "Take I/Q noise."
   ]
  },
  {
   "cell_type": "code",
   "execution_count": 89,
   "id": "46b20df2",
   "metadata": {},
   "outputs": [
    {
     "name": "stdout",
     "output_type": "stream",
     "text": [
      "[ 2021-10-16 07:29:05 ]  caput smurf_server_s2:AMCc:FpgaTopLevel:AppTop:AppCore:SysgenCryo:Base[0]:readoutChannelSelect 0\n",
      "[ 2021-10-16 07:29:05 ]  Writing to file : /data/smurf_data/20211016/1634366849/outputs/1634369346.dat\n",
      "[ 2021-10-16 07:29:05 ]  caput smurf_server_s2:AMCc:FpgaTopLevel:AppTop:DaqMuxV2[0]:DataBufferSize 1048576\n",
      "[ 2021-10-16 07:29:05 ]  caput smurf_server_s2:AMCc:FpgaTopLevel:AppTop:AppCore:DebugSelect[0] 0\n",
      "[ 2021-10-16 07:29:05 ]  Data acquisition in progress...\n",
      "[ 2021-10-16 07:29:05 ]  caput smurf_server_s2:AMCc:FpgaTopLevel:AppTop:DaqMuxV2[0]:TriggerDaq 1\n",
      "[ 2021-10-16 07:29:08 ]  Done taking data\n",
      "[ 2021-10-16 07:29:08 ]  caput smurf_server_s2:AMCc:FpgaTopLevel:AppTop:AppCore:SysgenCryo:Base[0]:readoutChannelSelect 0\n",
      "[ 2021-10-16 07:29:08 ]  Writing to file : /data/smurf_data/20211016/1634366849/outputs/1634369349.dat\n",
      "[ 2021-10-16 07:29:08 ]  caput smurf_server_s2:AMCc:FpgaTopLevel:AppTop:DaqMuxV2[0]:DataBufferSize 1048576\n",
      "[ 2021-10-16 07:29:08 ]  caput smurf_server_s2:AMCc:FpgaTopLevel:AppTop:AppCore:DebugSelect[0] 0\n",
      "[ 2021-10-16 07:29:08 ]  Data acquisition in progress...\n",
      "[ 2021-10-16 07:29:08 ]  caput smurf_server_s2:AMCc:FpgaTopLevel:AppTop:DaqMuxV2[0]:TriggerDaq 1\n",
      "[ 2021-10-16 07:29:10 ]  Done taking data\n"
     ]
    }
   ],
   "source": [
    "nsamp=2**20\n",
    "\n",
    "# Quadrature noise\n",
    "fq, dfq, syncq = S.take_debug_data(band=band, channel=channel, nsamp=nsamp, IQstream=0, single_channel_readout=2)\n",
    "tq = np.arange(len(dfq))/(1.e6*S.get_channel_frequency_mhz(band))\n",
    "\n",
    "# Rotate into the other quadrature.\n",
    "qetaPhaseDegree=S.get_eta_phase_degree_channel(band=band,channel=channel)\n",
    "def etaPhaseModDegree(etaPhase):\n",
    "    return (etaPhase+180)%360-180\n",
    "# Rotating by 90 to get inphase \n",
    "S.set_eta_phase_degree_channel(band=band,channel=channel,val=etaPhaseModDegree(qetaPhaseDegree+90))\n",
    "\n",
    "# Quadrature noise\n",
    "fi, dfi, synci = S.take_debug_data(band=band, channel=channel, nsamp=nsamp, IQstream=0, single_channel_readout=2)\n",
    "ti = np.arange(len(dfi))/(1.e6*S.get_channel_frequency_mhz(band))"
   ]
  },
  {
   "cell_type": "markdown",
   "id": "5707be0b",
   "metadata": {},
   "source": [
    "Compute power spectral densities relative to carrier."
   ]
  },
  {
   "cell_type": "code",
   "execution_count": 90,
   "id": "d80a7647",
   "metadata": {
    "scrolled": false
   },
   "outputs": [
    {
     "name": "stdout",
     "output_type": "stream",
     "text": [
      "0.0006125158779244109\n"
     ]
    }
   ],
   "source": [
    "meaniq=np.mean(np.mean(dfi)**2 + np.mean(dfq)**2)\n",
    "print(meaniq)\n",
    "\n",
    "ffi,pxxi=signal.welch(dfi, nperseg=len(fi)/8., fs=1.0E6*S.get_channel_frequency_mhz(band))\n",
    "ffq,pxxq=signal.welch(dfq, nperseg=len(fq)/8., fs=1.0E6*S.get_channel_frequency_mhz(band))"
   ]
  },
  {
   "cell_type": "markdown",
   "id": "a34ea510",
   "metadata": {},
   "source": [
    "Plot power spectral densities in dBc/Hz"
   ]
  },
  {
   "cell_type": "code",
   "execution_count": 91,
   "id": "45980f19",
   "metadata": {},
   "outputs": [
    {
     "data": {
      "image/png": "[encoded data removed]",
      "text/plain": [
       "<Figure size 432x288 with 1 Axes>"
      ]
     },
     "metadata": {
      "needs_background": "light"
     },
     "output_type": "display_data"
    }
   ],
   "source": [
    "plt.semilogx(ffi,10.*np.log10(pxxi/meaniq))\n",
    "plt.semilogx(ffq,10.*np.log10(pxxq/meaniq))\n",
    "\n",
    "plt.show()"
   ]
  },
  {
   "cell_type": "markdown",
   "id": "8bd64b57",
   "metadata": {},
   "source": [
    "Alternate method ; rfIQ mode."
   ]
  },
  {
   "cell_type": "code",
   "execution_count": 92,
   "id": "54ef7c34",
   "metadata": {
    "scrolled": true
   },
   "outputs": [
    {
     "name": "stdout",
     "output_type": "stream",
     "text": [
      "[ 2021-10-16 07:29:49 ]  caput smurf_server_s2:AMCc:FpgaTopLevel:AppTop:AppCore:SysgenCryo:Base[0]:readoutChannelSelect 0\n",
      "[ 2021-10-16 07:29:49 ]  Writing to file : /data/smurf_data/20211016/1634366849/outputs/1634369390.dat\n",
      "[ 2021-10-16 07:29:50 ]  caput smurf_server_s2:AMCc:FpgaTopLevel:AppTop:DaqMuxV2[0]:DataBufferSize 1048576\n",
      "[ 2021-10-16 07:29:50 ]  caput smurf_server_s2:AMCc:FpgaTopLevel:AppTop:AppCore:DebugSelect[0] 0\n",
      "[ 2021-10-16 07:29:50 ]  Data acquisition in progress...\n",
      "[ 2021-10-16 07:29:50 ]  caput smurf_server_s2:AMCc:FpgaTopLevel:AppTop:DaqMuxV2[0]:TriggerDaq 1\n",
      "[ 2021-10-16 07:29:52 ]  Done taking data\n"
     ]
    }
   ],
   "source": [
    "i2,q,sync = S.take_debug_data(band=band,channel=channel,\n",
    "                              rf_iq=True,nsamp=nsamp)"
   ]
  },
  {
   "cell_type": "markdown",
   "id": "7a92520f",
   "metadata": {},
   "source": [
    "Not sure about the rotation.  Need to check."
   ]
  },
  {
   "cell_type": "code",
   "execution_count": 93,
   "id": "663a3068",
   "metadata": {},
   "outputs": [],
   "source": [
    "eta_phase = S.get_eta_phase_degree_channel(band, channel)\n",
    "eta_phase_rad = np.deg2rad(eta_phase)\n",
    "I = np.cos(eta_phase_rad) * i2 - np.sin(eta_phase_rad) * q\n",
    "Q = np.sin(eta_phase_rad) * i2 + np.cos(eta_phase_rad) * q\n",
    "\n",
    "ffi,pxxi = signal.welch(I,fs=1.e6*S.get_channel_frequency_mhz(band),nperseg=len(i2)/8)\n",
    "ffq,pxxq = signal.welch(Q,fs=1.e6*S.get_channel_frequency_mhz(band),nperseg=len(i2)/8)"
   ]
  },
  {
   "cell_type": "code",
   "execution_count": 94,
   "id": "ea6fff47",
   "metadata": {},
   "outputs": [
    {
     "data": {
      "text/plain": [
       "[<matplotlib.lines.Line2D at 0x7efc48717630>]"
      ]
     },
     "execution_count": 94,
     "metadata": {},
     "output_type": "execute_result"
    },
    {
     "data": {
      "image/png": "[encoded data removed]",
      "text/plain": [
       "<Figure size 432x288 with 1 Axes>"
      ]
     },
     "metadata": {
      "needs_background": "light"
     },
     "output_type": "display_data"
    }
   ],
   "source": [
    "magfac = np.mean(q)**2 + np.mean(i2)**2\n",
    "pxxi_dbc = 10. * np.log10(pxxi / magfac)\n",
    "pxxq_dbc = 10. * np.log10(pxxq / magfac)\n",
    "\n",
    "plt.semilogx(pxxi_dbc)\n",
    "plt.semilogx(pxxq_dbc)"
   ]
  }
 ],
 "metadata": {
  "kernelspec": {
   "display_name": "Python 3",
   "language": "python",
   "name": "python3"
  },
  "language_info": {
   "codemirror_mode": {
    "name": "ipython",
    "version": 3
   },
   "file_extension": ".py",
   "mimetype": "text/x-python",
   "name": "python",
   "nbconvert_exporter": "python",
   "pygments_lexer": "ipython3",
   "version": "3.6.9"
  },
  "toc-showmarkdowntxt": false
 },
 "nbformat": 4,
 "nbformat_minor": 5
}
