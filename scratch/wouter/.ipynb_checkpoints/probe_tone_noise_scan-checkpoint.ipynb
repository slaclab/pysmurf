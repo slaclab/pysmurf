{
 "cells": [
  {
   "cell_type": "markdown",
   "id": "690faf31",
   "metadata": {},
   "source": [
    "Imports"
   ]
  },
  {
   "cell_type": "code",
   "execution_count": 1,
   "id": "3a0dd250",
   "metadata": {},
   "outputs": [],
   "source": [
    "import pysmurf.client\n",
    "import matplotlib.pyplot as plt\n",
    "import numpy as np\n",
    "from scipy import signal\n",
    "import epics\n",
    "import os\n",
    "\n",
    "%matplotlib inline"
   ]
  },
  {
   "cell_type": "markdown",
   "id": "95e156a2",
   "metadata": {},
   "source": [
    "Instantiate pysmurf"
   ]
  },
  {
   "cell_type": "code",
   "execution_count": 2,
   "id": "e62a22c4",
   "metadata": {},
   "outputs": [],
   "source": [
    "epics_prefix = \"smurf_server_s2\"\n",
    "config_file  = \"/usr/local/src/pysmurf/cfg_files/mit/experiment_mit.cfg\"\n",
    "S = pysmurf.client.SmurfControl(epics_root=epics_prefix, \n",
    "                                cfg_file=config_file, \n",
    "                                setup=False, \n",
    "                                make_logfile=False)"
   ]
  },
  {
   "cell_type": "code",
   "execution_count": 3,
   "id": "50e3d1c0",
   "metadata": {},
   "outputs": [
    {
     "name": "stdout",
     "output_type": "stream",
     "text": [
      "[ 2022-04-26 21:07:09 ]  Setting up...\n",
      "[ 2022-04-26 21:07:09 ]  Toggling DACs\n",
      "[ 2022-04-26 21:07:09 ]  caput smurf_server_s2:AMCc:FpgaTopLevel:AppTop:AppCore:MicrowaveMuxCore[0]:DBG:dacReset[0] 1\n",
      "[ 2022-04-26 21:07:09 ]  caput smurf_server_s2:AMCc:FpgaTopLevel:AppTop:AppCore:MicrowaveMuxCore[0]:DBG:dacReset[1] 1\n",
      "[ 2022-04-26 21:07:09 ]  caput smurf_server_s2:AMCc:FpgaTopLevel:AppTop:AppCore:MicrowaveMuxCore[0]:DBG:dacReset[0] 0\n",
      "[ 2022-04-26 21:07:09 ]  caput smurf_server_s2:AMCc:FpgaTopLevel:AppTop:AppCore:MicrowaveMuxCore[0]:DBG:dacReset[1] 0\n",
      "[ 2022-04-26 21:07:09 ]  caput smurf_server_s2:AMCc:ReadAll 1\n",
      "[ 2022-04-26 21:07:14 ]  Waiting 20.00 seconds after...\n",
      "[ 2022-04-26 21:07:34 ]  Done waiting.\n",
      "[ 2022-04-26 21:07:34 ]  caget smurf_server_s2:AMCc:SmurfApplication:SmurfVersion\n",
      "[ 2022-04-26 21:07:34 ]  5.0.2\n",
      "[ 2022-04-26 21:07:34 ]  caput smurf_server_s2:AMCc:setDefaults 1\n",
      "[ 2022-04-26 21:08:08 ]  caget smurf_server_s2:AMCc:SmurfApplication:ConfiguringInProgress\n",
      "[ 2022-04-26 21:08:08 ]  False\n",
      "[ 2022-04-26 21:08:08 ]  caget smurf_server_s2:AMCc:SmurfApplication:SystemConfigured\n",
      "[ 2022-04-26 21:08:09 ]  True\n",
      "[ 2022-04-26 21:08:09 ]  System configuration finished after 34 seconds. The final state was True.\n",
      "[ 2022-04-26 21:08:09 ]  caget smurf_server_s2:AMCc:SmurfApplication:SmurfVersion\n",
      "[ 2022-04-26 21:08:09 ]  5.0.2\n",
      "[ 2022-04-26 21:08:09 ]  caget smurf_server_s2:AMCc:SmurfApplication:JesdStatus\n",
      "[ 2022-04-26 21:08:09 ]  Locked\n",
      "[ 2022-04-26 21:08:09 ]  caput smurf_server_s2:AMCc:FpgaTopLevel:AppTop:AppCore:SysgenCryo:Base[0]:iqSwapIn 0\n",
      "[ 2022-04-26 21:08:09 ]  caput smurf_server_s2:AMCc:FpgaTopLevel:AppTop:AppCore:SysgenCryo:Base[0]:iqSwapOut 0\n",
      "[ 2022-04-26 21:08:09 ]  caput smurf_server_s2:AMCc:FpgaTopLevel:AppTop:AppCore:SysgenCryo:Base[0]:refPhaseDelay 6\n",
      "[ 2022-04-26 21:08:09 ]  caput smurf_server_s2:AMCc:FpgaTopLevel:AppTop:AppCore:SysgenCryo:Base[0]:refPhaseDelayFine 16\n",
      "[ 2022-04-26 21:08:09 ]  caput smurf_server_s2:AMCc:FpgaTopLevel:AppTop:AppCore:SysgenCryo:Base[0]:lmsDelay 24\n",
      "[ 2022-04-26 21:08:09 ]  caput smurf_server_s2:AMCc:FpgaTopLevel:AppTop:AppCore:SysgenCryo:Base[0]:lmsGain 0\n",
      "[ 2022-04-26 21:08:10 ]  caput smurf_server_s2:AMCc:FpgaTopLevel:AppTop:AppCore:SysgenCryo:Base[0]:trigRstDly 15\n",
      "[ 2022-04-26 21:08:10 ]  caput smurf_server_s2:AMCc:FpgaTopLevel:AppTop:AppCore:SysgenCryo:Base[0]:feedbackEnable 1\n",
      "[ 2022-04-26 21:08:10 ]  caput smurf_server_s2:AMCc:FpgaTopLevel:AppTop:AppCore:SysgenCryo:Base[0]:feedbackGain 2048\n",
      "[ 2022-04-26 21:08:10 ]  caput smurf_server_s2:AMCc:FpgaTopLevel:AppTop:AppCore:SysgenCryo:Base[0]:feedbackLimit 6144.0\n",
      "[ 2022-04-26 21:08:10 ]  caput smurf_server_s2:AMCc:FpgaTopLevel:AppTop:AppCore:SysgenCryo:Base[0]:feedbackPolarity 1\n",
      "[ 2022-04-26 21:08:10 ]  caput smurf_server_s2:AMCc:FpgaTopLevel:AppTop:AppTopJesd[0]:JesdTx:dataOutMux[2] UserData\n",
      "[ 2022-04-26 21:08:10 ]  caput smurf_server_s2:AMCc:FpgaTopLevel:AppTop:AppTopJesd[0]:JesdTx:dataOutMux[3] UserData\n",
      "[ 2022-04-26 21:08:10 ]  caput smurf_server_s2:AMCc:FpgaTopLevel:AppTop:AppCore:SysgenCryo:Base[0]:dspEnable 1\n",
      "[ 2022-04-26 21:08:10 ]  caput smurf_server_s2:AMCc:FpgaTopLevel:AppTop:AppCore:SysgenCryo:Base[0]:CryoChannels:gradientDescentGain 0.0001\n",
      "[ 2022-04-26 21:08:11 ]  caput smurf_server_s2:AMCc:FpgaTopLevel:AppTop:AppCore:SysgenCryo:Base[0]:CryoChannels:gradientDescentAverages 1\n",
      "[ 2022-04-26 21:08:11 ]  caput smurf_server_s2:AMCc:FpgaTopLevel:AppTop:AppCore:SysgenCryo:Base[0]:CryoChannels:gradientDescentConvergeHz 500.0\n",
      "[ 2022-04-26 21:08:11 ]  caput smurf_server_s2:AMCc:FpgaTopLevel:AppTop:AppCore:SysgenCryo:Base[0]:CryoChannels:gradientDescentStepHz 1000.0\n",
      "[ 2022-04-26 21:08:11 ]  caput smurf_server_s2:AMCc:FpgaTopLevel:AppTop:AppCore:SysgenCryo:Base[0]:CryoChannels:gradientDescentMomentum 1\n",
      "[ 2022-04-26 21:08:11 ]  caput smurf_server_s2:AMCc:FpgaTopLevel:AppTop:AppCore:SysgenCryo:Base[0]:CryoChannels:gradientDescentBeta 0.0\n",
      "[ 2022-04-26 21:08:11 ]  caput smurf_server_s2:AMCc:FpgaTopLevel:AppTop:AppCore:SysgenCryo:Base[0]:CryoChannels:etaScanAverages 1\n",
      "[ 2022-04-26 21:08:11 ]  caput smurf_server_s2:AMCc:FpgaTopLevel:AppTop:AppCore:SysgenCryo:Base[0]:CryoChannels:etaScanDelF 5000\n",
      "[ 2022-04-26 21:08:11 ]  caput smurf_server_s2:AMCc:FpgaTopLevel:AppTop:AppCore:SysgenCryo:Base[1]:iqSwapIn 0\n",
      "[ 2022-04-26 21:08:11 ]  caput smurf_server_s2:AMCc:FpgaTopLevel:AppTop:AppCore:SysgenCryo:Base[1]:iqSwapOut 0\n",
      "[ 2022-04-26 21:08:11 ]  caput smurf_server_s2:AMCc:FpgaTopLevel:AppTop:AppCore:SysgenCryo:Base[1]:refPhaseDelay 6\n",
      "[ 2022-04-26 21:08:11 ]  caput smurf_server_s2:AMCc:FpgaTopLevel:AppTop:AppCore:SysgenCryo:Base[1]:refPhaseDelayFine 19\n",
      "[ 2022-04-26 21:08:11 ]  caput smurf_server_s2:AMCc:FpgaTopLevel:AppTop:AppCore:SysgenCryo:Base[1]:lmsDelay 24\n",
      "[ 2022-04-26 21:08:11 ]  caput smurf_server_s2:AMCc:FpgaTopLevel:AppTop:AppCore:SysgenCryo:Base[1]:lmsGain 0\n",
      "[ 2022-04-26 21:08:11 ]  caput smurf_server_s2:AMCc:FpgaTopLevel:AppTop:AppCore:SysgenCryo:Base[1]:trigRstDly 15\n",
      "[ 2022-04-26 21:08:11 ]  caput smurf_server_s2:AMCc:FpgaTopLevel:AppTop:AppCore:SysgenCryo:Base[1]:feedbackEnable 1\n",
      "[ 2022-04-26 21:08:11 ]  caput smurf_server_s2:AMCc:FpgaTopLevel:AppTop:AppCore:SysgenCryo:Base[1]:feedbackGain 2048\n",
      "[ 2022-04-26 21:08:11 ]  caput smurf_server_s2:AMCc:FpgaTopLevel:AppTop:AppCore:SysgenCryo:Base[1]:feedbackLimit 6144.0\n",
      "[ 2022-04-26 21:08:11 ]  caput smurf_server_s2:AMCc:FpgaTopLevel:AppTop:AppCore:SysgenCryo:Base[1]:feedbackPolarity 1\n",
      "[ 2022-04-26 21:08:11 ]  caput smurf_server_s2:AMCc:FpgaTopLevel:AppTop:AppTopJesd[0]:JesdTx:dataOutMux[0] UserData\n",
      "[ 2022-04-26 21:08:11 ]  caput smurf_server_s2:AMCc:FpgaTopLevel:AppTop:AppTopJesd[0]:JesdTx:dataOutMux[1] UserData\n",
      "[ 2022-04-26 21:08:12 ]  caput smurf_server_s2:AMCc:FpgaTopLevel:AppTop:AppCore:SysgenCryo:Base[1]:dspEnable 1\n",
      "[ 2022-04-26 21:08:12 ]  caput smurf_server_s2:AMCc:FpgaTopLevel:AppTop:AppCore:SysgenCryo:Base[1]:CryoChannels:gradientDescentGain 0.0001\n",
      "[ 2022-04-26 21:08:12 ]  caput smurf_server_s2:AMCc:FpgaTopLevel:AppTop:AppCore:SysgenCryo:Base[1]:CryoChannels:gradientDescentAverages 1\n",
      "[ 2022-04-26 21:08:12 ]  caput smurf_server_s2:AMCc:FpgaTopLevel:AppTop:AppCore:SysgenCryo:Base[1]:CryoChannels:gradientDescentConvergeHz 500.0\n",
      "[ 2022-04-26 21:08:12 ]  caput smurf_server_s2:AMCc:FpgaTopLevel:AppTop:AppCore:SysgenCryo:Base[1]:CryoChannels:gradientDescentStepHz 1000.0\n",
      "[ 2022-04-26 21:08:12 ]  caput smurf_server_s2:AMCc:FpgaTopLevel:AppTop:AppCore:SysgenCryo:Base[1]:CryoChannels:gradientDescentMomentum 1\n",
      "[ 2022-04-26 21:08:12 ]  caput smurf_server_s2:AMCc:FpgaTopLevel:AppTop:AppCore:SysgenCryo:Base[1]:CryoChannels:gradientDescentBeta 0.0\n",
      "[ 2022-04-26 21:08:12 ]  caput smurf_server_s2:AMCc:FpgaTopLevel:AppTop:AppCore:SysgenCryo:Base[1]:CryoChannels:etaScanAverages 1\n",
      "[ 2022-04-26 21:08:12 ]  caput smurf_server_s2:AMCc:FpgaTopLevel:AppTop:AppCore:SysgenCryo:Base[1]:CryoChannels:etaScanDelF 5000\n",
      "[ 2022-04-26 21:08:12 ]  caput smurf_server_s2:AMCc:FpgaTopLevel:AppTop:AppCore:SysgenCryo:Base[2]:iqSwapIn 0\n",
      "[ 2022-04-26 21:08:12 ]  caput smurf_server_s2:AMCc:FpgaTopLevel:AppTop:AppCore:SysgenCryo:Base[2]:iqSwapOut 0\n",
      "[ 2022-04-26 21:08:12 ]  caput smurf_server_s2:AMCc:FpgaTopLevel:AppTop:AppCore:SysgenCryo:Base[2]:refPhaseDelay 6\n",
      "[ 2022-04-26 21:08:12 ]  caput smurf_server_s2:AMCc:FpgaTopLevel:AppTop:AppCore:SysgenCryo:Base[2]:refPhaseDelayFine 11\n",
      "[ 2022-04-26 21:08:12 ]  caput smurf_server_s2:AMCc:FpgaTopLevel:AppTop:AppCore:SysgenCryo:Base[2]:lmsDelay 24\n",
      "[ 2022-04-26 21:08:12 ]  caput smurf_server_s2:AMCc:FpgaTopLevel:AppTop:AppCore:SysgenCryo:Base[2]:lmsGain 0\n",
      "[ 2022-04-26 21:08:12 ]  caput smurf_server_s2:AMCc:FpgaTopLevel:AppTop:AppCore:SysgenCryo:Base[2]:trigRstDly 15\n",
      "[ 2022-04-26 21:08:12 ]  caput smurf_server_s2:AMCc:FpgaTopLevel:AppTop:AppCore:SysgenCryo:Base[2]:feedbackEnable 1\n",
      "[ 2022-04-26 21:08:12 ]  caput smurf_server_s2:AMCc:FpgaTopLevel:AppTop:AppCore:SysgenCryo:Base[2]:feedbackGain 2048\n",
      "[ 2022-04-26 21:08:12 ]  caput smurf_server_s2:AMCc:FpgaTopLevel:AppTop:AppCore:SysgenCryo:Base[2]:feedbackLimit 6144.0\n",
      "[ 2022-04-26 21:08:12 ]  caput smurf_server_s2:AMCc:FpgaTopLevel:AppTop:AppCore:SysgenCryo:Base[2]:feedbackPolarity 1\n",
      "[ 2022-04-26 21:08:12 ]  caput smurf_server_s2:AMCc:FpgaTopLevel:AppTop:AppTopJesd[0]:JesdTx:dataOutMux[6] UserData\n"
     ]
    },
    {
     "name": "stdout",
     "output_type": "stream",
     "text": [
      "[ 2022-04-26 21:08:12 ]  caput smurf_server_s2:AMCc:FpgaTopLevel:AppTop:AppTopJesd[0]:JesdTx:dataOutMux[7] UserData\n",
      "[ 2022-04-26 21:08:12 ]  caput smurf_server_s2:AMCc:FpgaTopLevel:AppTop:AppCore:SysgenCryo:Base[2]:dspEnable 1\n",
      "[ 2022-04-26 21:08:12 ]  caput smurf_server_s2:AMCc:FpgaTopLevel:AppTop:AppCore:SysgenCryo:Base[2]:CryoChannels:gradientDescentGain 0.0001\n",
      "[ 2022-04-26 21:08:12 ]  caput smurf_server_s2:AMCc:FpgaTopLevel:AppTop:AppCore:SysgenCryo:Base[2]:CryoChannels:gradientDescentAverages 1\n",
      "[ 2022-04-26 21:08:12 ]  caput smurf_server_s2:AMCc:FpgaTopLevel:AppTop:AppCore:SysgenCryo:Base[2]:CryoChannels:gradientDescentConvergeHz 500.0\n",
      "[ 2022-04-26 21:08:12 ]  caput smurf_server_s2:AMCc:FpgaTopLevel:AppTop:AppCore:SysgenCryo:Base[2]:CryoChannels:gradientDescentStepHz 1000.0\n",
      "[ 2022-04-26 21:08:12 ]  caput smurf_server_s2:AMCc:FpgaTopLevel:AppTop:AppCore:SysgenCryo:Base[2]:CryoChannels:gradientDescentMomentum 1\n",
      "[ 2022-04-26 21:08:12 ]  caput smurf_server_s2:AMCc:FpgaTopLevel:AppTop:AppCore:SysgenCryo:Base[2]:CryoChannels:gradientDescentBeta 0.0\n",
      "[ 2022-04-26 21:08:12 ]  caput smurf_server_s2:AMCc:FpgaTopLevel:AppTop:AppCore:SysgenCryo:Base[2]:CryoChannels:etaScanAverages 1\n",
      "[ 2022-04-26 21:08:12 ]  caput smurf_server_s2:AMCc:FpgaTopLevel:AppTop:AppCore:SysgenCryo:Base[2]:CryoChannels:etaScanDelF 5000\n",
      "[ 2022-04-26 21:08:12 ]  caput smurf_server_s2:AMCc:FpgaTopLevel:AppTop:AppCore:SysgenCryo:Base[3]:iqSwapIn 0\n",
      "[ 2022-04-26 21:08:12 ]  caput smurf_server_s2:AMCc:FpgaTopLevel:AppTop:AppCore:SysgenCryo:Base[3]:iqSwapOut 0\n",
      "[ 2022-04-26 21:08:12 ]  caput smurf_server_s2:AMCc:FpgaTopLevel:AppTop:AppCore:SysgenCryo:Base[3]:refPhaseDelay 6\n",
      "[ 2022-04-26 21:08:12 ]  caput smurf_server_s2:AMCc:FpgaTopLevel:AppTop:AppCore:SysgenCryo:Base[3]:refPhaseDelayFine 16\n",
      "[ 2022-04-26 21:08:13 ]  caput smurf_server_s2:AMCc:FpgaTopLevel:AppTop:AppCore:SysgenCryo:Base[3]:lmsDelay 24\n",
      "[ 2022-04-26 21:08:13 ]  caput smurf_server_s2:AMCc:FpgaTopLevel:AppTop:AppCore:SysgenCryo:Base[3]:lmsGain 0\n",
      "[ 2022-04-26 21:08:13 ]  caput smurf_server_s2:AMCc:FpgaTopLevel:AppTop:AppCore:SysgenCryo:Base[3]:trigRstDly 15\n",
      "[ 2022-04-26 21:08:13 ]  caput smurf_server_s2:AMCc:FpgaTopLevel:AppTop:AppCore:SysgenCryo:Base[3]:feedbackEnable 1\n",
      "[ 2022-04-26 21:08:13 ]  caput smurf_server_s2:AMCc:FpgaTopLevel:AppTop:AppCore:SysgenCryo:Base[3]:feedbackGain 2048\n",
      "[ 2022-04-26 21:08:13 ]  caput smurf_server_s2:AMCc:FpgaTopLevel:AppTop:AppCore:SysgenCryo:Base[3]:feedbackLimit 6144.0\n",
      "[ 2022-04-26 21:08:13 ]  caput smurf_server_s2:AMCc:FpgaTopLevel:AppTop:AppCore:SysgenCryo:Base[3]:feedbackPolarity 1\n",
      "[ 2022-04-26 21:08:13 ]  caput smurf_server_s2:AMCc:FpgaTopLevel:AppTop:AppTopJesd[0]:JesdTx:dataOutMux[8] UserData\n",
      "[ 2022-04-26 21:08:13 ]  caput smurf_server_s2:AMCc:FpgaTopLevel:AppTop:AppTopJesd[0]:JesdTx:dataOutMux[9] UserData\n",
      "[ 2022-04-26 21:08:13 ]  caput smurf_server_s2:AMCc:FpgaTopLevel:AppTop:AppCore:SysgenCryo:Base[3]:dspEnable 1\n",
      "[ 2022-04-26 21:08:13 ]  caput smurf_server_s2:AMCc:FpgaTopLevel:AppTop:AppCore:SysgenCryo:Base[3]:CryoChannels:gradientDescentGain 0.0001\n",
      "[ 2022-04-26 21:08:13 ]  caput smurf_server_s2:AMCc:FpgaTopLevel:AppTop:AppCore:SysgenCryo:Base[3]:CryoChannels:gradientDescentAverages 1\n",
      "[ 2022-04-26 21:08:13 ]  caput smurf_server_s2:AMCc:FpgaTopLevel:AppTop:AppCore:SysgenCryo:Base[3]:CryoChannels:gradientDescentConvergeHz 500.0\n",
      "[ 2022-04-26 21:08:13 ]  caput smurf_server_s2:AMCc:FpgaTopLevel:AppTop:AppCore:SysgenCryo:Base[3]:CryoChannels:gradientDescentStepHz 1000.0\n",
      "[ 2022-04-26 21:08:13 ]  caput smurf_server_s2:AMCc:FpgaTopLevel:AppTop:AppCore:SysgenCryo:Base[3]:CryoChannels:gradientDescentMomentum 1\n",
      "[ 2022-04-26 21:08:13 ]  caput smurf_server_s2:AMCc:FpgaTopLevel:AppTop:AppCore:SysgenCryo:Base[3]:CryoChannels:gradientDescentBeta 0.0\n",
      "[ 2022-04-26 21:08:13 ]  caput smurf_server_s2:AMCc:FpgaTopLevel:AppTop:AppCore:SysgenCryo:Base[3]:CryoChannels:etaScanAverages 1\n",
      "[ 2022-04-26 21:08:13 ]  caput smurf_server_s2:AMCc:FpgaTopLevel:AppTop:AppCore:SysgenCryo:Base[3]:CryoChannels:etaScanDelF 5000\n",
      "[ 2022-04-26 21:08:13 ]  caput smurf_server_s2:AMCc:FpgaTopLevel:AppTop:AppCore:MicrowaveMuxCore[0]:ATT:UC[1] 0\n",
      "[ 2022-04-26 21:08:13 ]  caput smurf_server_s2:AMCc:FpgaTopLevel:AppTop:AppCore:MicrowaveMuxCore[0]:ATT:DC[1] 0\n",
      "[ 2022-04-26 21:08:13 ]  caput smurf_server_s2:AMCc:FpgaTopLevel:AppTop:AppCore:MicrowaveMuxCore[0]:ATT:UC[2] 0\n",
      "[ 2022-04-26 21:08:13 ]  caput smurf_server_s2:AMCc:FpgaTopLevel:AppTop:AppCore:MicrowaveMuxCore[0]:ATT:DC[2] 0\n",
      "[ 2022-04-26 21:08:13 ]  caput smurf_server_s2:AMCc:FpgaTopLevel:AppTop:AppCore:MicrowaveMuxCore[0]:ATT:UC[3] 0\n",
      "[ 2022-04-26 21:08:13 ]  caput smurf_server_s2:AMCc:FpgaTopLevel:AppTop:AppCore:MicrowaveMuxCore[0]:ATT:DC[3] 0\n",
      "[ 2022-04-26 21:08:13 ]  caput smurf_server_s2:AMCc:FpgaTopLevel:AppTop:AppCore:MicrowaveMuxCore[0]:ATT:UC[4] 0\n",
      "[ 2022-04-26 21:08:13 ]  caput smurf_server_s2:AMCc:FpgaTopLevel:AppTop:AppCore:MicrowaveMuxCore[0]:ATT:DC[4] 0\n",
      "[ 2022-04-26 21:08:13 ]  caput smurf_server_s2:AMCc:FpgaTopLevel:AppTop:DaqMuxV2[0]:TriggerHwArm 0\n",
      "[ 2022-04-26 21:08:13 ]  caput smurf_server_s2:AMCc:FpgaTopLevel:AppTop:DaqMuxV2[1]:TriggerHwArm 0\n",
      "[ 2022-04-26 21:08:13 ]  caput smurf_server_s2:AMCc:FpgaTopLevel:AmcCarrierCore:AmcCarrierTiming:EvrV2CoreTriggers:EvrV2TriggerReg[0]:Width 10\n",
      "[ 2022-04-26 21:08:13 ]  caput smurf_server_s2:AMCc:FpgaTopLevel:AmcCarrierCore:AmcCarrierTiming:EvrV2CoreTriggers:EvrV2TriggerReg[0]:EnableTrig 1\n",
      "[ 2022-04-26 21:08:13 ]  caput smurf_server_s2:AMCc:FpgaTopLevel:AmcCarrierCore:AmcCarrierTiming:EvrV2CoreTriggers:EvrV2ChannelReg[0]:EnableReg True\n",
      "[ 2022-04-26 21:08:13 ]  caput smurf_server_s2:AMCc:FpgaTopLevel:AmcCarrierCore:AmcCarrierTiming:EvrV2CoreTriggers:EvrV2ChannelReg[0]:DestSel 131072\n",
      "[ 2022-04-26 21:08:13 ]  caput smurf_server_s2:AMCc:FpgaTopLevel:AppTop:AppCore:RtmCryoDet:EnableRampTrigger 1\n",
      "[ 2022-04-26 21:08:13 ]  caput smurf_server_s2:AMCc:FpgaTopLevel:AppTop:AppCore:RtmCryoDet:SelectRamp 1\n",
      "[ 2022-04-26 21:08:13 ]  caput smurf_server_s2:AMCc:FpgaTopLevel:AppTop:AppCore:RtmCryoDet:CpldReset 0\n",
      "[ 2022-04-26 21:08:14 ]  caput smurf_server_s2:AMCc:FpgaTopLevel:AppTop:AppCore:RtmCryoDet:resetRtm 1\n",
      "[ 2022-04-26 21:08:14 ]  Turning off tones\n",
      "[ 2022-04-26 21:08:23 ]  Turning off flux ramp\n",
      "[ 2022-04-26 21:08:23 ]  Turning off all TES biases\n",
      "[ 2022-04-26 21:08:25 ]  caput smurf_server_s2:AMCc:FpgaTopLevel:AppTop:AppCore:RtmCryoDet:RtmSpiSr:CfgRegEnaBit 0\n",
      "[ 2022-04-26 21:08:25 ]  caput smurf_server_s2:AMCc:FpgaTopLevel:AppTop:AppCore:RtmCryoDet:RtmSpiSr:CfgRegEnaBit 0\n",
      "[ 2022-04-26 21:08:25 ]  Percent full scale = 48.900%\n",
      "[ 2022-04-26 21:08:25 ]  caput smurf_server_s2:AMCc:FpgaTopLevel:AppTop:AppCore:RtmCryoDet:LowCycle 5\n",
      "[ 2022-04-26 21:08:25 ]  caput smurf_server_s2:AMCc:FpgaTopLevel:AppTop:AppCore:RtmCryoDet:HighCycle 5\n",
      "[ 2022-04-26 21:08:25 ]  caput smurf_server_s2:AMCc:FpgaTopLevel:AppTop:AppCore:RtmCryoDet:KRelay 3\n",
      "[ 2022-04-26 21:08:25 ]  caput smurf_server_s2:AMCc:FpgaTopLevel:AppTop:AppCore:RtmCryoDet:RampMaxCnt 76799.0\n",
      "[ 2022-04-26 21:08:25 ]  caput smurf_server_s2:AMCc:FpgaTopLevel:AppTop:AppCore:RtmCryoDet:PulseWidth 64\n",
      "[ 2022-04-26 21:08:25 ]  caput smurf_server_s2:AMCc:FpgaTopLevel:AppTop:AppCore:RtmCryoDet:DebounceWidth 255\n",
      "[ 2022-04-26 21:08:25 ]  caput smurf_server_s2:AMCc:FpgaTopLevel:AppTop:AppCore:RtmCryoDet:RtmSpiSr:RampSlope 0\n",
      "[ 2022-04-26 21:08:25 ]  caput smurf_server_s2:AMCc:FpgaTopLevel:AppTop:AppCore:RtmCryoDet:RtmSpiSr:ModeControl 0\n",
      "[ 2022-04-26 21:08:25 ]  caput smurf_server_s2:AMCc:FpgaTopLevel:AppTop:AppCore:RtmCryoDet:RtmSpiSr:FastSlowStepSize 328162.0\n",
      "[ 2022-04-26 21:08:25 ]  caput smurf_server_s2:AMCc:FpgaTopLevel:AppTop:AppCore:RtmCryoDet:RtmSpiSr:FastSlowRstValue 1097365248.0\n",
      "[ 2022-04-26 21:08:25 ]  caput smurf_server_s2:AMCc:FpgaTopLevel:AppTop:AppCore:RtmCryoDet:EnableRampTrigger 1\n",
      "[ 2022-04-26 21:08:25 ]  caput smurf_server_s2:AMCc:FpgaTopLevel:AppTop:AppCore:enableStreaming 1\n",
      "[ 2022-04-26 21:08:26 ]  caput smurf_server_s2:AMCc:FpgaTopLevel:AppTop:AppCore:RtmCryoDet:RtmSpiMax:HemtBiasDacCtrlRegCh[33] 2\n",
      "[ 2022-04-26 21:08:26 ]  Setting HEMT LNA Vg from config file to Vg=0.610\n",
      "[ 2022-04-26 21:08:26 ]  caput smurf_server_s2:AMCc:FpgaTopLevel:AppTop:AppCore:RtmCryoDet:RtmSpiMax:HemtBiasDacDataRegCh[33] 158063\n"
     ]
    },
    {
     "name": "stdout",
     "output_type": "stream",
     "text": [
      "[ 2022-04-26 21:08:26 ]  caput smurf_server_s2:AMCc:FpgaTopLevel:AppTop:AppCore:RtmCryoDet:RtmSpiMax:TesBiasDacCtrlRegCh[32] 2\n",
      "[ 2022-04-26 21:08:26 ]  Setting 50K LNA Vg from config file to Vg=-0.740\n",
      "[ 2022-04-26 21:08:26 ]  caput smurf_server_s2:AMCc:FpgaTopLevel:AppTop:AppCore:RtmCryoDet:RtmSpiMax:TesBiasDacDataRegCh[32] -191749.5854063018\n",
      "[ 2022-04-26 21:08:27 ]  {'hemt_Vg': 0.6099967296000001, 'hemt_Id': -0.941, '50K_Vg': -0.7399977408, '50K_Id': -0.4963}\n",
      "[ 2022-04-26 21:08:27 ]  {'hemt_Vg': 0.6099967296000001, 'hemt_Id': -0.941, '50K_Vg': -0.7399977408, '50K_Id': -0.4963}\n",
      "[ 2022-04-26 21:08:27 ]  Cryocard temperature = -8.928571428571429\n",
      "[ 2022-04-26 21:08:27 ]  Configuring the system to take timing from ext_ref\n",
      "[ 2022-04-26 21:08:27 ]  Select external reference for bay 0\n",
      "[ 2022-04-26 21:08:32 ]  smurf_server_s2:AMCc:FpgaTopLevel:AppTop:AppCore:MicrowaveMuxCore[0]:SelExtRef sent\n",
      "[ 2022-04-26 21:08:32 ]  caput smurf_server_s2:AMCc:FpgaTopLevel:AppTop:AppCore:RtmCryoDet:RampStartMode 0\n",
      "[ 2022-04-26 21:08:32 ]  Done with setup.\n"
     ]
    },
    {
     "data": {
      "text/plain": [
       "True"
      ]
     },
     "execution_count": 3,
     "metadata": {},
     "output_type": "execute_result"
    }
   ],
   "source": [
    "S.setup()"
   ]
  },
  {
   "cell_type": "code",
   "execution_count": 4,
   "id": "32ab9a19",
   "metadata": {},
   "outputs": [
    {
     "name": "stdout",
     "output_type": "stream",
     "text": [
      "[ 2022-04-26 21:08:32 ]  Turning off tones\n",
      "[ 2022-04-26 21:08:39 ]  Turning off flux ramp\n",
      "[ 2022-04-26 21:08:39 ]  Turning off all TES biases\n"
     ]
    }
   ],
   "source": [
    "S.all_off()"
   ]
  },
  {
   "cell_type": "markdown",
   "id": "2e57aece",
   "metadata": {},
   "source": [
    "Serial eta scan enables feedback, so even though we instantiated this as a fixed tone, need to disable it's feedback again."
   ]
  },
  {
   "cell_type": "code",
   "execution_count": 5,
   "id": "dd65789b",
   "metadata": {},
   "outputs": [],
   "source": [
    "#S.set_feedback_enable_channel(band,channel,0)"
   ]
  },
  {
   "cell_type": "markdown",
   "id": "31931411",
   "metadata": {},
   "source": [
    "### Resonator sensitivity based on Shawn's example"
   ]
  },
  {
   "cell_type": "code",
   "execution_count": 6,
   "id": "f95ea5c3",
   "metadata": {},
   "outputs": [],
   "source": [
    "band = 2\n",
    "S.set_att_uc(band,0)"
   ]
  },
  {
   "cell_type": "code",
   "execution_count": null,
   "id": "c2c3283e",
   "metadata": {},
   "outputs": [
    {
     "name": "stdout",
     "output_type": "stream",
     "text": [
      "[ 2022-04-26 21:08:41 ]  Sweeping across frequencies 5000.0MHz to 5500.0MHz\n",
      "[ 2022-04-26 21:08:41 ]  Working on band 2\n"
     ]
    }
   ],
   "source": [
    "S.find_freq(band=band, tone_power=14, make_plot=True, show_plot=True)"
   ]
  },
  {
   "cell_type": "code",
   "execution_count": null,
   "id": "064b2467",
   "metadata": {},
   "outputs": [],
   "source": [
    "S.setup_notches(band=band, tone_power=14, sweep_width=1, df_sweep=0.02, new_master_assignment=True)"
   ]
  },
  {
   "cell_type": "code",
   "execution_count": null,
   "id": "0d9db87d",
   "metadata": {},
   "outputs": [],
   "source": [
    "S.plot_tune_summary(band=band, eta_scan=True)"
   ]
  },
  {
   "cell_type": "code",
   "execution_count": null,
   "id": "d86ea51b",
   "metadata": {},
   "outputs": [],
   "source": [
    "S.run_serial_gradient_descent(band)"
   ]
  },
  {
   "cell_type": "code",
   "execution_count": null,
   "id": "bb7a3717",
   "metadata": {},
   "outputs": [],
   "source": [
    "# run eta scan to normalize resonator gain (delta Q -> delta frequency) and apply rotation such that Q is nominally 0\n",
    "S.run_serial_eta_scan(band)"
   ]
  },
  {
   "cell_type": "code",
   "execution_count": null,
   "id": "02859588",
   "metadata": {},
   "outputs": [],
   "source": [
    "channel = S.which_on(band=band)[0]\n",
    "channel"
   ]
  },
  {
   "cell_type": "code",
   "execution_count": null,
   "id": "6d5cab69",
   "metadata": {},
   "outputs": [],
   "source": [
    "eta_phase_deg = S.get_eta_phase_degree_channel(band,channel)\n",
    "print('b{}ch{} eta_phase_deg={:.2f}'.format(band,channel,eta_phase_deg))"
   ]
  },
  {
   "cell_type": "code",
   "execution_count": null,
   "id": "af23687b",
   "metadata": {},
   "outputs": [],
   "source": [
    "S.set_feedback_limit_khz(band,800)"
   ]
  },
  {
   "cell_type": "code",
   "execution_count": null,
   "id": "f219f79d",
   "metadata": {},
   "outputs": [],
   "source": [
    "file_loc = S.tracking_setup(band=band, \n",
    "                            channel=channel, \n",
    "                            reset_rate_khz=4, \n",
    "                            fraction_full_scale=0.65, \n",
    "                            lms_freq_hz=16e3, \n",
    "                            meas_flux_ramp_amp=False, \n",
    "                            make_plot=True, lms_gain=0, \n",
    "                            feedback_start_frac=0.125, \n",
    "                            feedback_end_frac=1-0.125, \n",
    "                            lms_enable1=1, \n",
    "                            lms_enable2=1, \n",
    "                            lms_enable3=1)"
   ]
  },
  {
   "cell_type": "code",
   "execution_count": null,
   "id": "47445584",
   "metadata": {},
   "outputs": [],
   "source": [
    "fileloc, params = S.take_noise_psd(meas_time=60,\n",
    "                                   return_noise_params=True,\n",
    "                                   channel=channel)"
   ]
  },
  {
   "cell_type": "code",
   "execution_count": null,
   "id": "77e212aa",
   "metadata": {},
   "outputs": [],
   "source": [
    "psd_data = S.read_stream_data(fileloc)\n",
    "print(len(psd_data))\n",
    "for dat_i in psd_data:\n",
    "    print(dat_i.dtype, dat_i.shape)\n",
    "    #plt.plot(dat_i)\n",
    "    #plt.show()\n",
    "params[1][1][0]"
   ]
  },
  {
   "cell_type": "code",
   "execution_count": null,
   "id": "db7c2819",
   "metadata": {},
   "outputs": [],
   "source": [
    "# Noise floor dependence on tone power using attenuation\n",
    "# range 0 to 31, steps of 0.5dB, 31 corresponding to 15.5dB \n",
    "param_list = []\n",
    "\n",
    "for atten in np.arange(30,-2,-2):\n",
    "    print(atten)\n",
    "    S.set_att_uc(band,atten)\n",
    "    S.run_serial_gradient_descent(band)\n",
    "    S.run_serial_eta_scan(band)\n",
    "    #S.tracking_setup(band=band, \n",
    "    #                 channel=channel, \n",
    "    #                 reset_rate_khz=4, \n",
    "    #                 fraction_full_scale=0.65, \n",
    "    #                 lms_freq_hz=16e3, \n",
    "    #                 meas_flux_ramp_amp=False, \n",
    "    #                 make_plot=True, lms_gain=0, \n",
    "    #                 feedback_start_frac=0.125, \n",
    "    #                 feedback_end_frac=1-0.125, \n",
    "    #                 lms_enable1=1, \n",
    "    #                 lms_enable2=1, \n",
    "    #                 lms_enable3=1)\n",
    "    fileloc, params = S.take_noise_psd(channel=channel,\n",
    "                                       meas_time=60,\n",
    "                                       save_data=True,\n",
    "                                       show_plot=True,\n",
    "                                       make_channel_plot=True,\n",
    "                                       make_summary_plot=False,\n",
    "                                       return_noise_params=True,\n",
    "                                       write_log=False)\n",
    "    param_list.append(params)"
   ]
  },
  {
   "cell_type": "code",
   "execution_count": null,
   "id": "fda3fa8d",
   "metadata": {},
   "outputs": [],
   "source": [
    "for param in param_list:\n",
    "    print(param[1][1][0])"
   ]
  },
  {
   "cell_type": "code",
   "execution_count": null,
   "id": "01bc63cb",
   "metadata": {},
   "outputs": [],
   "source": []
  }
 ],
 "metadata": {
  "kernelspec": {
   "display_name": "Python 3",
   "language": "python",
   "name": "python3"
  },
  "language_info": {
   "codemirror_mode": {
    "name": "ipython",
    "version": 3
   },
   "file_extension": ".py",
   "mimetype": "text/x-python",
   "name": "python",
   "nbconvert_exporter": "python",
   "pygments_lexer": "ipython3",
   "version": "3.6.9"
  },
  "toc-showmarkdowntxt": false
 },
 "nbformat": 4,
 "nbformat_minor": 5
}
