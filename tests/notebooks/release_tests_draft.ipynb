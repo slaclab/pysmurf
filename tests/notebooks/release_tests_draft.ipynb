{
 "cells": [
  {
   "cell_type": "markdown",
   "id": "0",
   "metadata": {},
   "source": [
    "# SMuRF basic checks"
   ]
  },
  {
   "cell_type": "markdown",
   "id": "1",
   "metadata": {},
   "source": [
    "## Changes\n",
    "[Describe new version changes and why they were implemented]"
   ]
  },
  {
   "cell_type": "markdown",
   "id": "2",
   "metadata": {},
   "source": [
    "## Start server\n",
    "Navigate to the release directory and start the server with the `run.py` script."
   ]
  },
  {
   "cell_type": "markdown",
   "id": "3",
   "metadata": {},
   "source": [
    "## Setup system\n",
    "\n",
    "### Imports"
   ]
  },
  {
   "cell_type": "code",
   "execution_count": null,
   "id": "4",
   "metadata": {},
   "outputs": [],
   "source": [
    "import matplotlib\n",
    "matplotlib.use('Agg')\n",
    "%matplotlib inline\n",
    "import matplotlib.pyplot as plt\n",
    "import ipywidgets as widgets\n",
    "import os\n",
    "import numpy as np\n",
    "\n",
    "import pysmurf.client"
   ]
  },
  {
   "cell_type": "markdown",
   "id": "5",
   "metadata": {},
   "source": [
    "### Get a SmurfControl instance"
   ]
  },
  {
   "cell_type": "code",
   "execution_count": null,
   "id": "6",
   "metadata": {},
   "outputs": [],
   "source": [
    "slot = 4\n",
    "epics_prefix = f\"smurf_server_s{slot}\"\n",
    "config_file = os.path.abspath(\"/usr/local/src/pysmurf/cfg_files/rflab/experiment_rflab_2xLB_backplane.cfg\")\n",
    "shelf_man = \"shm-smrf-sp01\""
   ]
  },
  {
   "cell_type": "code",
   "execution_count": null,
   "id": "7",
   "metadata": {},
   "outputs": [],
   "source": [
    "S = pysmurf.client.SmurfControl(\n",
    "    epics_root=epics_prefix,\n",
    "    cfg_file=config_file,\n",
    "    setup=False,\n",
    "    make_logfile=False,\n",
    "    shelf_manager=shelf_man\n",
    ")"
   ]
  },
  {
   "cell_type": "markdown",
   "id": "8",
   "metadata": {},
   "source": [
    "What versions of everything are we running?"
   ]
  },
  {
   "cell_type": "code",
   "execution_count": null,
   "id": "9",
   "metadata": {},
   "outputs": [],
   "source": [
    "pysmurf.__version__"
   ]
  },
  {
   "cell_type": "code",
   "execution_count": null,
   "id": "10",
   "metadata": {},
   "outputs": [],
   "source": [
    "S._caget(f'{epics_prefix}:AMCc:RogueVersion', as_string=True)"
   ]
  },
  {
   "cell_type": "code",
   "execution_count": null,
   "id": "11",
   "metadata": {},
   "outputs": [],
   "source": [
    "S._caget(f'{epics_prefix}:AMCc:SmurfApplication:SmurfVersion', as_string=True)"
   ]
  },
  {
   "cell_type": "code",
   "execution_count": null,
   "id": "12",
   "metadata": {},
   "outputs": [],
   "source": [
    "S._caget(f'{epics_prefix}:AMCc:SmurfApplication:StartupArguments', as_string=True)"
   ]
  },
  {
   "cell_type": "code",
   "execution_count": null,
   "id": "13",
   "metadata": {},
   "outputs": [],
   "source": [
    "S.get_fpga_git_hash_short()"
   ]
  },
  {
   "cell_type": "markdown",
   "id": "14",
   "metadata": {},
   "source": [
    "### Run setup\n",
    "Check that the output contains no errors and the function returns `True`"
   ]
  },
  {
   "cell_type": "code",
   "execution_count": null,
   "id": "15",
   "metadata": {},
   "outputs": [],
   "source": [
    "assert S.setup()"
   ]
  },
  {
   "cell_type": "markdown",
   "id": "16",
   "metadata": {},
   "source": [
    "### Check JESD is locked\n",
    "(JESD204 is a standard interface for communication links to the FPGA.)"
   ]
  },
  {
   "cell_type": "code",
   "execution_count": null,
   "id": "17",
   "metadata": {},
   "outputs": [],
   "source": [
    "for i in range(2):\n",
    "    print(f\"JESD in bay {i}:\", S.check_jesd(i))"
   ]
  },
  {
   "cell_type": "markdown",
   "id": "18",
   "metadata": {},
   "source": [
    "## Loopback tests\n",
    "For these tests, no cold resonators are required, and the system should be configured in loopback."
   ]
  },
  {
   "cell_type": "code",
   "execution_count": null,
   "id": "19",
   "metadata": {},
   "outputs": [],
   "source": [
    "# convenience function for displaying the output of a given function in tabs per band\n",
    "def do_tabs(func, *args, bands=S.bands, **kwargs):\n",
    "    # create a tab for each band\n",
    "    tab_outputs = [widgets.Output() for b in bands]\n",
    "    for i, band in enumerate(bands):\n",
    "        with tab_outputs[i]:\n",
    "            func(band, *args, **kwargs)\n",
    "\n",
    "    # display as tabs\n",
    "    tab = widgets.Tab(children=tab_outputs)\n",
    "    for i, band in enumerate(bands):\n",
    "        tab.set_title(i, f\"Band {band}\")\n",
    "    display(tab)"
   ]
  },
  {
   "cell_type": "markdown",
   "id": "20",
   "metadata": {},
   "source": [
    "### Estimate phase delay\n",
    "[describe what this is doing and how to interpret results]\n",
    "\n",
    "**What is this doing when there are no resonators connected?** It's calling `full_band_resp`, which itself calls `find_freq` to measure the band response. Then it fits for a linear trend in the phase. I'm not sure I understand how this works with/without resonators in the system..."
   ]
  },
  {
   "cell_type": "code",
   "execution_count": null,
   "id": "21",
   "metadata": {},
   "outputs": [],
   "source": [
    "do_tabs(S.estimate_phase_delay)"
   ]
  },
  {
   "cell_type": "markdown",
   "id": "22",
   "metadata": {},
   "source": [
    "### Full band response\n",
    "[describe what this is doing and what to look for]"
   ]
  },
  {
   "cell_type": "code",
   "execution_count": null,
   "id": "23",
   "metadata": {},
   "outputs": [],
   "source": [
    "do_tabs(S.full_band_resp, make_plot=True, show_plot=True, bands=S.bands[:2])"
   ]
  },
  {
   "cell_type": "code",
   "execution_count": null,
   "id": "24",
   "metadata": {},
   "outputs": [],
   "source": [
    "freq_dsp, resp_dsp = S.find_freq(0, make_plot=True, show_plot=True)"
   ]
  },
  {
   "cell_type": "code",
   "execution_count": null,
   "id": "25",
   "metadata": {},
   "outputs": [],
   "source": [
    "freq_dsp[0]"
   ]
  },
  {
   "cell_type": "markdown",
   "id": "26",
   "metadata": {},
   "source": [
    "# TODO:\n",
    "- currently tests transceivers and low-level DSP\n",
    "- not analog low-freq low-noise stuff (not in loopback)\n",
    "- data streaming: track on the cable delay or fixed tones:\n",
    "    - stream for some amount time in loopback\n",
    "    - may be more of a hardware test - out of scope\n",
    "- make a list of existing tests and what they do"
   ]
  },
  {
   "cell_type": "markdown",
   "id": "27",
   "metadata": {},
   "source": [
    "### Resonator tests\n",
    "\n",
    "**TODO:** Need to adapt these once there is a cold system to test with\n",
    "\n",
    "Enable drains and check drain currents"
   ]
  },
  {
   "cell_type": "code",
   "execution_count": null,
   "id": "28",
   "metadata": {},
   "outputs": [],
   "source": [
    "S.C.write_ps_en(11)\n",
    "S.get_amplifier_biases()"
   ]
  },
  {
   "cell_type": "code",
   "execution_count": null,
   "id": "29",
   "metadata": {},
   "outputs": [],
   "source": [
    "#adjust gate until hemt_Id is 4mA.  50K is B&Z amp that doesn't have a gate.\n",
    "S.set_hemt_gate_voltage(0.265)"
   ]
  },
  {
   "cell_type": "code",
   "execution_count": null,
   "id": "30",
   "metadata": {},
   "outputs": [],
   "source": [
    "S.get_amplifier_biases()"
   ]
  },
  {
   "cell_type": "markdown",
   "id": "31",
   "metadata": {},
   "source": [
    "Gate voltage corresponding to 4mA is similar to what it usually is."
   ]
  },
  {
   "cell_type": "code",
   "execution_count": null,
   "id": "32",
   "metadata": {},
   "outputs": [],
   "source": [
    "S.hemt_bit_to_V"
   ]
  },
  {
   "cell_type": "markdown",
   "id": "33",
   "metadata": {},
   "source": [
    "Set and get UC and DC attenuators.  Matching UC=12, DC=12 to keep ADC from saturating during `find_freqs`."
   ]
  },
  {
   "cell_type": "code",
   "execution_count": null,
   "id": "34",
   "metadata": {},
   "outputs": [],
   "source": [
    "band=0\n",
    "\n",
    "S.set_att_uc(band,24) # took out 6 dB attenuator to run with phase shifter, but that's no longer inline so adding 6dB UC att\n",
    "S.set_att_dc(band,12)\n",
    "\n",
    "S.get_att_uc(band,write_log=True)\n",
    "S.get_att_dc(band,write_log=True)"
   ]
  },
  {
   "cell_type": "markdown",
   "id": "35",
   "metadata": {},
   "source": [
    "**I guess this is also not doing anything useful without resonators??**"
   ]
  },
  {
   "cell_type": "markdown",
   "id": "36",
   "metadata": {},
   "source": [
    "Take a full band response."
   ]
  },
  {
   "cell_type": "code",
   "execution_count": null,
   "id": "37",
   "metadata": {},
   "outputs": [],
   "source": [
    "S.bands"
   ]
  },
  {
   "cell_type": "code",
   "execution_count": null,
   "id": "38",
   "metadata": {},
   "outputs": [],
   "source": [
    "band = 3\n",
    "S.full_band_resp(band,make_plot=True,show_plot=True)"
   ]
  },
  {
   "cell_type": "code",
   "execution_count": null,
   "id": "39",
   "metadata": {},
   "outputs": [],
   "source": [
    "freqs, resps = S.find_freq(band, tone_power=12,grad_cut=0.01, amp_cut=0.1,make_plot=True,show_plot=True)"
   ]
  },
  {
   "cell_type": "markdown",
   "id": "40",
   "metadata": {},
   "source": [
    "Looks like...exactly the same as when I ran this on 12/2/22!"
   ]
  },
  {
   "cell_type": "code",
   "execution_count": null,
   "id": "41",
   "metadata": {},
   "outputs": [],
   "source": [
    "freqs, resps = S.find_freq(band, start_freq=10, stop_freq=150, tone_power=12,grad_cut=0.01, amp_cut=0.1,make_plot=True,show_plot=True)"
   ]
  },
  {
   "cell_type": "markdown",
   "id": "42",
   "metadata": {},
   "source": [
    "Still need to figure out why (0,0) is showing up in this plot?"
   ]
  },
  {
   "cell_type": "code",
   "execution_count": null,
   "id": "43",
   "metadata": {},
   "outputs": [],
   "source": [
    "# Tune\n",
    "S.setup_notches(band,new_master_assignment=True)\n",
    "\n",
    "# Drop DC for optimal S/N, and to match settings used with jackhammer.\n",
    "S.set_att_dc(band,2)\n",
    "\n",
    "# Refine tuning\n",
    "S.run_serial_gradient_descent(band)\n",
    "\n",
    "# Add fixed tone to monitor RF phase\n",
    "S.set_fixed_tone(4250,12)\n",
    "\n",
    "# Refine eta calibrations\n",
    "S.run_serial_eta_scan(band)\n",
    "S.plot_tune_summary(band,eta_scan=True,show_plot=True)"
   ]
  },
  {
   "cell_type": "markdown",
   "id": "44",
   "metadata": {},
   "source": [
    "The crash here is a known \"feature\" of pysmurf v7.2.0."
   ]
  },
  {
   "cell_type": "markdown",
   "id": "45",
   "metadata": {},
   "source": [
    "Turn off bad channels.  480 is collided.  We'll just turn off that one for now, but need to fix this bug so we can see others."
   ]
  },
  {
   "cell_type": "code",
   "execution_count": null,
   "id": "46",
   "metadata": {},
   "outputs": [],
   "source": [
    "for chan in [480]:\n",
    "    S.channel_off(band,chan)"
   ]
  },
  {
   "cell_type": "markdown",
   "id": "47",
   "metadata": {},
   "source": [
    "Turn off feedback for fixed tone and make sure it's center frequency is zero."
   ]
  },
  {
   "cell_type": "code",
   "execution_count": null,
   "id": "48",
   "metadata": {},
   "outputs": [],
   "source": [
    "S.set_feedback_enable_channel(0,0,0)\n",
    "print(S.get_center_frequency_mhz_channel(0,0))"
   ]
  },
  {
   "cell_type": "markdown",
   "id": "49",
   "metadata": {},
   "source": [
    "Set AC flux ramp mode"
   ]
  },
  {
   "cell_type": "code",
   "execution_count": null,
   "id": "50",
   "metadata": {},
   "outputs": [],
   "source": [
    "S.set_cryo_card_relay_bit(16,0)\n",
    "bin(S.get_cryo_card_relays())"
   ]
  },
  {
   "cell_type": "markdown",
   "id": "51",
   "metadata": {},
   "source": [
    "After running `setup_notches`, we're tracking on all 65 resonances - let's make sure neither the ADC or DAC are saturated;"
   ]
  },
  {
   "cell_type": "code",
   "execution_count": null,
   "id": "52",
   "metadata": {},
   "outputs": [],
   "source": [
    "S.check_dac_saturation(0)\n",
    "S.check_adc_saturation(0)"
   ]
  },
  {
   "cell_type": "markdown",
   "id": "53",
   "metadata": {},
   "source": [
    "Not clipping either the RF DAC or ADC.  Tracking setup"
   ]
  },
  {
   "cell_type": "code",
   "execution_count": null,
   "id": "54",
   "metadata": {},
   "outputs": [],
   "source": [
    " S.tracking_setup(band, channel = S.which_on(band), reset_rate_khz=4, make_plot=True, save_plot=True, show_plot=True, \n",
    "                  lms_freq_hz=None, n_phi0=5, meas_flux_ramp_amp=True, fraction_full_scale=0.2,feedback_gain=2048,lms_gain=0,\n",
    "                  return_data=False, feedback_start_frac=0.02, feedback_end_frac=0.98,nsamp = 2**18)"
   ]
  },
  {
   "cell_type": "markdown",
   "id": "55",
   "metadata": {},
   "source": [
    "All tracking curves look good.  Histogram of flux ramp amplitude looks nearly identical to on 12/22.  Similar percent full scale for 5 phi0 ; here it's"
   ]
  },
  {
   "cell_type": "code",
   "execution_count": null,
   "id": "56",
   "metadata": {},
   "outputs": [],
   "source": [
    "S.get_fraction_full_scale()"
   ]
  },
  {
   "cell_type": "markdown",
   "id": "57",
   "metadata": {},
   "source": [
    "And on 12/22 it was 22.940%."
   ]
  },
  {
   "cell_type": "markdown",
   "id": "58",
   "metadata": {},
   "source": [
    "Take noise data - first a short 5 min acq."
   ]
  },
  {
   "cell_type": "code",
   "execution_count": null,
   "id": "59",
   "metadata": {},
   "outputs": [],
   "source": [
    "S.take_noise_psd(300,show_plot=True)"
   ]
  },
  {
   "cell_type": "markdown",
   "id": "60",
   "metadata": {},
   "source": [
    "Those epics stalls are a little concerning, although it's possible other people are doing stuff on the SMuRF server right now.  I'm not crazy about the compression in some of the flux ramp frames, that wasn't as noticible on 12/2/22."
   ]
  },
  {
   "cell_type": "code",
   "execution_count": null,
   "id": "61",
   "metadata": {},
   "outputs": [],
   "source": [
    "#Import library\n",
    "from IPython.display import Image\n",
    "# Load image from local storage\n",
    "plt.ion()\n",
    "\n",
    "Image(filename = \"/data/smurf_data/20230215/1676482954/plots/1676484915_noise_timestream_b0_ch340.png\", width = 600, height = 300)"
   ]
  },
  {
   "cell_type": "markdown",
   "id": "62",
   "metadata": {},
   "source": [
    "Also compute noise the same way it's done in sodetlib."
   ]
  },
  {
   "cell_type": "code",
   "execution_count": null,
   "id": "63",
   "metadata": {},
   "outputs": [],
   "source": [
    "t,d,m=S.read_stream_data('/data/smurf_data/20230215/1676482954/outputs/1676484915.dat')"
   ]
  },
  {
   "cell_type": "code",
   "execution_count": null,
   "id": "64",
   "metadata": {},
   "outputs": [],
   "source": [
    "def get_wls_sodetlib(t,d, nperseg=2**16, fmin=10., fmax=20., pA_per_phi0=9e6):\n",
    "    \"\"\"\n",
    "    Gets white-noise levels for each channel from the axis manager returned\n",
    "    by smurf_ops.load_session.\n",
    "    Args\n",
    "    ----\n",
    "    t : np.array\n",
    "        times returned by S.read_stream_data function\n",
    "    d : np.array\n",
    "        tod returned by S.read_stream_data function\n",
    "    nperseg : int\n",
    "        nperseg to be passed to welch\n",
    "    fmin : float\n",
    "        Min frequency to use for white noise mask\n",
    "    fmax : float\n",
    "        Max freq to use for white noise mask\n",
    "    pA_per_phi0 : float\n",
    "        S.pA_per_phi0 unit conversion. This will eventually make its way\n",
    "        into the axis manager, but for now I'm just hardcoding this here\n",
    "        as a keyword argument until we get there.\n",
    "    Returns\n",
    "    --------\n",
    "    wls : array of floats\n",
    "        Array of the white-noise level for each channel, indexed by readout-\n",
    "        channel number\n",
    "    band_medians : array of floats\n",
    "        Array of the median white noise level for each band.\n",
    "    \"\"\"\n",
    "    fsamp = 1./np.median(np.diff(t*1.e-9))\n",
    "    fs, pxx = signal.welch(d * pA_per_phi0 / (2*np.pi),\n",
    "                           fs=fsamp, nperseg=nperseg)\n",
    "    pxx = np.sqrt(pxx)\n",
    "    fmask = (fmin < fs) & (fs < fmax)\n",
    "    wls = np.median(pxx[:, fmask], axis=1)\n",
    "    return wls"
   ]
  },
  {
   "cell_type": "code",
   "execution_count": null,
   "id": "65",
   "metadata": {},
   "outputs": [],
   "source": [
    "np.median(get_wls_sodetlib(t,d,fmin=0.1,fmax=1.))"
   ]
  },
  {
   "cell_type": "code",
   "execution_count": null,
   "id": "66",
   "metadata": {},
   "outputs": [],
   "source": [
    "print(np.median(get_wls_sodetlib(t,d)))"
   ]
  },
  {
   "cell_type": "code",
   "execution_count": null,
   "id": "67",
   "metadata": {},
   "outputs": [],
   "source": [
    "band=0\n",
    "bm={}\n",
    "bm[band]=np.median(get_wls_sodetlib(t,d))\n",
    "wls=get_wls_sodetlib(t,d)\n",
    "plt.figure()\n",
    "plt.hist(wls[wls < 200], bins = 20,alpha = 0.5,label = 'Noise per Channel')\n",
    "print(bm[band])\n",
    "plt.axvline(bm[band],ls = ':',color = 'C1',lw = 3,label = \n",
    "                f'Band Median:\\n{np.round(bm[band],2)}'+' pA/$\\sqrt{Hz}$')\n",
    "plt.xlabel('NEI [pA/$\\sqrt{Hz}$]',fontsize = 16)\n",
    "plt.ylabel('Counts',fontsize = 16)\n",
    "plt.legend(fontsize = 16)\n",
    "fig = plt.gcf()\n",
    "fig.patch.set_facecolor('white')\n",
    "plt.show()"
   ]
  },
  {
   "cell_type": "code",
   "execution_count": null,
   "id": "68",
   "metadata": {},
   "outputs": [],
   "source": [
    "#Import library\n",
    "from IPython.display import Image\n",
    "# Load image from local storage\n",
    "plt.ion()\n",
    "\n",
    "Image(filename = \"/data/smurf_data/20230215/1676482954/plots/1676484915_noise_timestream_b0_ch340.png\", width = 600, height = 300)"
   ]
  },
  {
   "cell_type": "code",
   "execution_count": null,
   "id": "69",
   "metadata": {},
   "outputs": [],
   "source": [
    "#Import library\n",
    "from IPython.display import Image\n",
    "# Load image from local storage\n",
    "plt.ion()\n",
    "\n",
    "Image(filename = \"/data/smurf_data/20230215/1676482954/plots/1676484915_noise_timestream_b0_ch000.png\", width = 600, height = 300)"
   ]
  }
 ],
 "metadata": {
  "kernelspec": {
   "display_name": "Python 3 (ipykernel)",
   "language": "python",
   "name": "python3"
  },
  "language_info": {
   "codemirror_mode": {
    "name": "ipython",
    "version": 3
   },
   "file_extension": ".py",
   "mimetype": "text/x-python",
   "name": "python",
   "nbconvert_exporter": "python",
   "pygments_lexer": "ipython3",
   "version": "3.10.12"
  }
 },
 "nbformat": 4,
 "nbformat_minor": 5
}
