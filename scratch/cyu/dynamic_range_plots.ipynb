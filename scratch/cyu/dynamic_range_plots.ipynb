{
 "cells": [
  {
   "cell_type": "markdown",
   "id": "75949274",
   "metadata": {},
   "source": [
    "# Imports"
   ]
  },
  {
   "cell_type": "markdown",
   "id": "49e29343",
   "metadata": {},
   "source": [
    "Started up by running `shawnhammer` in a terminal. Running on slot 4, /home/cryo/docker/pysmurf/dev/v5.0.2, rogue version /home/cryo/docker/smurf/stable/slotN/v5.0.2, and experiment cfg cfg_files/b33/experiment_b33_lbhb.cfg. pysmurf branch b33_setup&issue658.  `shawnhammer` already runs `setup()`, so no need to run here."
   ]
  },
  {
   "cell_type": "code",
   "execution_count": 1,
   "id": "223055de",
   "metadata": {},
   "outputs": [],
   "source": [
    "import matplotlib\n",
    "matplotlib.use('Agg')\n",
    "%matplotlib inline\n",
    "import matplotlib.pyplot as plt\n",
    "import yaml\n",
    "import time\n",
    "import pickle as pkl\n",
    "import os\n",
    "import numpy as np\n",
    "from matplotlib import cm\n",
    "from scipy.signal import welch,periodogram\n",
    "import pandas as pd\n",
    "import glob\n",
    "from scipy.optimize import curve_fit\n",
    "\n",
    "import pysmurf.client\n",
    "import matplotlib.pylab as plt\n",
    "import numpy as np\n",
    "import sys\n",
    "import os\n",
    "epics_prefix=\"smurf_server_s4\"\n",
    "config_file=os.path.abspath(\"/usr/local/src/pysmurf/cfg_files/b33/experiment_b33_lbhb.cfg\")\n",
    "S = pysmurf.client.SmurfControl(epics_root=epics_prefix,cfg_file=config_file,setup=False,make_logfile=False,shelf_manager=\"shm-smrf-sp01\")"
   ]
  },
  {
   "cell_type": "code",
   "execution_count": 11,
   "id": "39026199",
   "metadata": {},
   "outputs": [],
   "source": [
    "from scipy import signal"
   ]
  },
  {
   "cell_type": "markdown",
   "id": "65c99d1a",
   "metadata": {},
   "source": [
    "## Try single tone first"
   ]
  },
  {
   "cell_type": "code",
   "execution_count": 25,
   "id": "2d712750",
   "metadata": {},
   "outputs": [
    {
     "name": "stdout",
     "output_type": "stream",
     "text": [
      "[ 2022-02-15 00:38:13 ]  Setting up...\n",
      "[ 2022-02-15 00:38:13 ]  Toggling DACs\n",
      "[ 2022-02-15 00:38:13 ]  caput smurf_server_s4:AMCc:FpgaTopLevel:AppTop:AppCore:MicrowaveMuxCore[0]:DBG:dacReset[0] 1\n",
      "[ 2022-02-15 00:38:13 ]  caput smurf_server_s4:AMCc:FpgaTopLevel:AppTop:AppCore:MicrowaveMuxCore[0]:DBG:dacReset[1] 1\n",
      "[ 2022-02-15 00:38:13 ]  caput smurf_server_s4:AMCc:FpgaTopLevel:AppTop:AppCore:MicrowaveMuxCore[1]:DBG:dacReset[0] 1\n",
      "[ 2022-02-15 00:38:13 ]  caput smurf_server_s4:AMCc:FpgaTopLevel:AppTop:AppCore:MicrowaveMuxCore[1]:DBG:dacReset[1] 1\n",
      "[ 2022-02-15 00:38:13 ]  caput smurf_server_s4:AMCc:FpgaTopLevel:AppTop:AppCore:MicrowaveMuxCore[0]:DBG:dacReset[0] 0\n",
      "[ 2022-02-15 00:38:13 ]  caput smurf_server_s4:AMCc:FpgaTopLevel:AppTop:AppCore:MicrowaveMuxCore[0]:DBG:dacReset[1] 0\n",
      "[ 2022-02-15 00:38:13 ]  caput smurf_server_s4:AMCc:FpgaTopLevel:AppTop:AppCore:MicrowaveMuxCore[1]:DBG:dacReset[0] 0\n",
      "[ 2022-02-15 00:38:13 ]  caput smurf_server_s4:AMCc:FpgaTopLevel:AppTop:AppCore:MicrowaveMuxCore[1]:DBG:dacReset[1] 0\n",
      "[ 2022-02-15 00:38:13 ]  caput smurf_server_s4:AMCc:ReadAll 1\n",
      "[ 2022-02-15 00:38:19 ]  Waiting 20.00 seconds after...\n",
      "[ 2022-02-15 00:38:39 ]  Done waiting.\n",
      "[ 2022-02-15 00:38:39 ]  caget smurf_server_s4:AMCc:SmurfApplication:SmurfVersion\n",
      "[ 2022-02-15 00:38:39 ]  5.0.2\n",
      "[ 2022-02-15 00:38:39 ]  caput smurf_server_s4:AMCc:setDefaults 1\n",
      "[ 2022-02-15 00:39:14 ]  caget smurf_server_s4:AMCc:SmurfApplication:ConfiguringInProgress\n",
      "cannot connect to smurf_server_s4:AMCc:SmurfApplication:ConfiguringInProgress\n",
      "[ 2022-02-15 00:39:24 ]  caget smurf_server_s4:AMCc:SmurfApplication:ConfiguringInProgress\n",
      "cannot connect to smurf_server_s4:AMCc:SmurfApplication:ConfiguringInProgress\n",
      "[ 2022-02-15 00:39:34 ]  caget smurf_server_s4:AMCc:SmurfApplication:ConfiguringInProgress\n"
     ]
    },
    {
     "name": "stderr",
     "output_type": "stream",
     "text": [
      "/usr/local/lib/python3.6/dist-packages/epics/ca.py:1507: UserWarning: ca.get('smurf_server_s4:AMCc:SmurfApplication:ConfiguringInProgress') timed out after 0.96 seconds.\n",
      "  warnings.warn(msg % (name(chid), timeout))\n"
     ]
    },
    {
     "name": "stdout",
     "output_type": "stream",
     "text": [
      "[ 2022-02-15 00:39:44 ]  caget smurf_server_s4:AMCc:SmurfApplication:ConfiguringInProgress\n",
      "[ 2022-02-15 00:39:54 ]  caget smurf_server_s4:AMCc:SmurfApplication:ConfiguringInProgress\n",
      "[ 2022-02-15 00:40:04 ]  caget smurf_server_s4:AMCc:SmurfApplication:ConfiguringInProgress\n",
      "[ 2022-02-15 00:40:14 ]  caget smurf_server_s4:AMCc:SmurfApplication:ConfiguringInProgress\n",
      "[ 2022-02-15 00:40:22 ]  False\n",
      "[ 2022-02-15 00:40:22 ]  caget smurf_server_s4:AMCc:SmurfApplication:SystemConfigured\n",
      "[ 2022-02-15 00:40:22 ]  True\n",
      "[ 2022-02-15 00:40:22 ]  System configuration finished after 102 seconds. The final state was True.\n",
      "[ 2022-02-15 00:40:22 ]  caget smurf_server_s4:AMCc:SmurfApplication:SmurfVersion\n",
      "[ 2022-02-15 00:40:22 ]  5.0.2\n",
      "[ 2022-02-15 00:40:22 ]  caget smurf_server_s4:AMCc:SmurfApplication:JesdStatus\n",
      "[ 2022-02-15 00:40:22 ]  Locked\n",
      "[ 2022-02-15 00:40:22 ]  caput smurf_server_s4:AMCc:FpgaTopLevel:AppTop:AppCore:SysgenCryo:Base[0]:iqSwapIn 0\n",
      "[ 2022-02-15 00:40:22 ]  caput smurf_server_s4:AMCc:FpgaTopLevel:AppTop:AppCore:SysgenCryo:Base[0]:iqSwapOut 0\n",
      "[ 2022-02-15 00:40:22 ]  caput smurf_server_s4:AMCc:FpgaTopLevel:AppTop:AppCore:SysgenCryo:Base[0]:refPhaseDelay 6\n",
      "[ 2022-02-15 00:40:22 ]  caput smurf_server_s4:AMCc:FpgaTopLevel:AppTop:AppCore:SysgenCryo:Base[0]:refPhaseDelayFine 0\n",
      "[ 2022-02-15 00:40:22 ]  caput smurf_server_s4:AMCc:FpgaTopLevel:AppTop:AppCore:SysgenCryo:Base[0]:lmsDelay 24\n",
      "[ 2022-02-15 00:40:22 ]  caput smurf_server_s4:AMCc:FpgaTopLevel:AppTop:AppCore:SysgenCryo:Base[0]:lmsGain 7\n",
      "[ 2022-02-15 00:40:22 ]  caput smurf_server_s4:AMCc:FpgaTopLevel:AppTop:AppCore:SysgenCryo:Base[0]:trigRstDly 15\n",
      "[ 2022-02-15 00:40:22 ]  caput smurf_server_s4:AMCc:FpgaTopLevel:AppTop:AppCore:SysgenCryo:Base[0]:feedbackEnable 1\n",
      "[ 2022-02-15 00:40:22 ]  caput smurf_server_s4:AMCc:FpgaTopLevel:AppTop:AppCore:SysgenCryo:Base[0]:feedbackGain 256\n",
      "[ 2022-02-15 00:40:22 ]  caput smurf_server_s4:AMCc:FpgaTopLevel:AppTop:AppCore:SysgenCryo:Base[0]:feedbackLimit 6144.0\n",
      "[ 2022-02-15 00:40:22 ]  caput smurf_server_s4:AMCc:FpgaTopLevel:AppTop:AppCore:SysgenCryo:Base[0]:feedbackPolarity 1\n",
      "[ 2022-02-15 00:40:22 ]  caput smurf_server_s4:AMCc:FpgaTopLevel:AppTop:AppTopJesd[0]:JesdTx:dataOutMux[2] UserData\n",
      "[ 2022-02-15 00:40:22 ]  caput smurf_server_s4:AMCc:FpgaTopLevel:AppTop:AppTopJesd[0]:JesdTx:dataOutMux[3] UserData\n",
      "[ 2022-02-15 00:40:22 ]  caput smurf_server_s4:AMCc:FpgaTopLevel:AppTop:AppCore:SysgenCryo:Base[0]:dspEnable 1\n",
      "[ 2022-02-15 00:40:22 ]  caput smurf_server_s4:AMCc:FpgaTopLevel:AppTop:AppCore:SysgenCryo:Base[0]:CryoChannels:gradientDescentGain 0.0001\n",
      "[ 2022-02-15 00:40:22 ]  caput smurf_server_s4:AMCc:FpgaTopLevel:AppTop:AppCore:SysgenCryo:Base[0]:CryoChannels:gradientDescentAverages 1\n",
      "[ 2022-02-15 00:40:22 ]  caput smurf_server_s4:AMCc:FpgaTopLevel:AppTop:AppCore:SysgenCryo:Base[0]:CryoChannels:gradientDescentConvergeHz 500.0\n",
      "[ 2022-02-15 00:40:22 ]  caput smurf_server_s4:AMCc:FpgaTopLevel:AppTop:AppCore:SysgenCryo:Base[0]:CryoChannels:gradientDescentStepHz 1000.0\n",
      "[ 2022-02-15 00:40:22 ]  caput smurf_server_s4:AMCc:FpgaTopLevel:AppTop:AppCore:SysgenCryo:Base[0]:CryoChannels:gradientDescentMomentum 1\n",
      "[ 2022-02-15 00:40:22 ]  caput smurf_server_s4:AMCc:FpgaTopLevel:AppTop:AppCore:SysgenCryo:Base[0]:CryoChannels:gradientDescentBeta 0.0\n",
      "[ 2022-02-15 00:40:22 ]  caput smurf_server_s4:AMCc:FpgaTopLevel:AppTop:AppCore:SysgenCryo:Base[0]:CryoChannels:etaScanAverages 1\n",
      "[ 2022-02-15 00:40:22 ]  caput smurf_server_s4:AMCc:FpgaTopLevel:AppTop:AppCore:SysgenCryo:Base[0]:CryoChannels:etaScanDelF 5000\n",
      "[ 2022-02-15 00:40:22 ]  caput smurf_server_s4:AMCc:FpgaTopLevel:AppTop:AppCore:SysgenCryo:Base[1]:iqSwapIn 0\n",
      "[ 2022-02-15 00:40:22 ]  caput smurf_server_s4:AMCc:FpgaTopLevel:AppTop:AppCore:SysgenCryo:Base[1]:iqSwapOut 0\n",
      "[ 2022-02-15 00:40:22 ]  caput smurf_server_s4:AMCc:FpgaTopLevel:AppTop:AppCore:SysgenCryo:Base[1]:refPhaseDelay 6\n",
      "[ 2022-02-15 00:40:22 ]  caput smurf_server_s4:AMCc:FpgaTopLevel:AppTop:AppCore:SysgenCryo:Base[1]:refPhaseDelayFine 0\n",
      "[ 2022-02-15 00:40:22 ]  caput smurf_server_s4:AMCc:FpgaTopLevel:AppTop:AppCore:SysgenCryo:Base[1]:lmsDelay 24\n",
      "[ 2022-02-15 00:40:22 ]  caput smurf_server_s4:AMCc:FpgaTopLevel:AppTop:AppCore:SysgenCryo:Base[1]:lmsGain 7\n",
      "[ 2022-02-15 00:40:22 ]  caput smurf_server_s4:AMCc:FpgaTopLevel:AppTop:AppCore:SysgenCryo:Base[1]:trigRstDly 15\n",
      "[ 2022-02-15 00:40:22 ]  caput smurf_server_s4:AMCc:FpgaTopLevel:AppTop:AppCore:SysgenCryo:Base[1]:feedbackEnable 1\n",
      "[ 2022-02-15 00:40:22 ]  caput smurf_server_s4:AMCc:FpgaTopLevel:AppTop:AppCore:SysgenCryo:Base[1]:feedbackGain 256\n",
      "[ 2022-02-15 00:40:22 ]  caput smurf_server_s4:AMCc:FpgaTopLevel:AppTop:AppCore:SysgenCryo:Base[1]:feedbackLimit 6144.0\n",
      "[ 2022-02-15 00:40:22 ]  caput smurf_server_s4:AMCc:FpgaTopLevel:AppTop:AppCore:SysgenCryo:Base[1]:feedbackPolarity 1\n",
      "[ 2022-02-15 00:40:22 ]  caput smurf_server_s4:AMCc:FpgaTopLevel:AppTop:AppTopJesd[0]:JesdTx:dataOutMux[0] UserData\n",
      "[ 2022-02-15 00:40:22 ]  caput smurf_server_s4:AMCc:FpgaTopLevel:AppTop:AppTopJesd[0]:JesdTx:dataOutMux[1] UserData\n",
      "[ 2022-02-15 00:40:22 ]  caput smurf_server_s4:AMCc:FpgaTopLevel:AppTop:AppCore:SysgenCryo:Base[1]:dspEnable 1\n",
      "[ 2022-02-15 00:40:22 ]  caput smurf_server_s4:AMCc:FpgaTopLevel:AppTop:AppCore:SysgenCryo:Base[1]:CryoChannels:gradientDescentGain 0.0001\n",
      "[ 2022-02-15 00:40:22 ]  caput smurf_server_s4:AMCc:FpgaTopLevel:AppTop:AppCore:SysgenCryo:Base[1]:CryoChannels:gradientDescentAverages 1\n",
      "[ 2022-02-15 00:40:22 ]  caput smurf_server_s4:AMCc:FpgaTopLevel:AppTop:AppCore:SysgenCryo:Base[1]:CryoChannels:gradientDescentConvergeHz 500.0\n",
      "[ 2022-02-15 00:40:22 ]  caput smurf_server_s4:AMCc:FpgaTopLevel:AppTop:AppCore:SysgenCryo:Base[1]:CryoChannels:gradientDescentStepHz 1000.0\n",
      "[ 2022-02-15 00:40:22 ]  caput smurf_server_s4:AMCc:FpgaTopLevel:AppTop:AppCore:SysgenCryo:Base[1]:CryoChannels:gradientDescentMomentum 1\n",
      "[ 2022-02-15 00:40:22 ]  caput smurf_server_s4:AMCc:FpgaTopLevel:AppTop:AppCore:SysgenCryo:Base[1]:CryoChannels:gradientDescentBeta 0.0\n",
      "[ 2022-02-15 00:40:22 ]  caput smurf_server_s4:AMCc:FpgaTopLevel:AppTop:AppCore:SysgenCryo:Base[1]:CryoChannels:etaScanAverages 1\n",
      "[ 2022-02-15 00:40:22 ]  caput smurf_server_s4:AMCc:FpgaTopLevel:AppTop:AppCore:SysgenCryo:Base[1]:CryoChannels:etaScanDelF 5000\n",
      "[ 2022-02-15 00:40:22 ]  caput smurf_server_s4:AMCc:FpgaTopLevel:AppTop:AppCore:SysgenCryo:Base[2]:iqSwapIn 0\n",
      "[ 2022-02-15 00:40:22 ]  caput smurf_server_s4:AMCc:FpgaTopLevel:AppTop:AppCore:SysgenCryo:Base[2]:iqSwapOut 0\n",
      "[ 2022-02-15 00:40:22 ]  caput smurf_server_s4:AMCc:FpgaTopLevel:AppTop:AppCore:SysgenCryo:Base[2]:refPhaseDelay 6\n",
      "[ 2022-02-15 00:40:22 ]  caput smurf_server_s4:AMCc:FpgaTopLevel:AppTop:AppCore:SysgenCryo:Base[2]:refPhaseDelayFine 0\n",
      "[ 2022-02-15 00:40:22 ]  caput smurf_server_s4:AMCc:FpgaTopLevel:AppTop:AppCore:SysgenCryo:Base[2]:lmsDelay 24\n",
      "[ 2022-02-15 00:40:22 ]  caput smurf_server_s4:AMCc:FpgaTopLevel:AppTop:AppCore:SysgenCryo:Base[2]:lmsGain 7\n",
      "[ 2022-02-15 00:40:22 ]  caput smurf_server_s4:AMCc:FpgaTopLevel:AppTop:AppCore:SysgenCryo:Base[2]:trigRstDly 15\n",
      "[ 2022-02-15 00:40:22 ]  caput smurf_server_s4:AMCc:FpgaTopLevel:AppTop:AppCore:SysgenCryo:Base[2]:feedbackEnable 1\n",
      "[ 2022-02-15 00:40:22 ]  caput smurf_server_s4:AMCc:FpgaTopLevel:AppTop:AppCore:SysgenCryo:Base[2]:feedbackGain 256\n",
      "[ 2022-02-15 00:40:22 ]  caput smurf_server_s4:AMCc:FpgaTopLevel:AppTop:AppCore:SysgenCryo:Base[2]:feedbackLimit 6144.0\n",
      "[ 2022-02-15 00:40:22 ]  caput smurf_server_s4:AMCc:FpgaTopLevel:AppTop:AppCore:SysgenCryo:Base[2]:feedbackPolarity 1\n",
      "[ 2022-02-15 00:40:22 ]  caput smurf_server_s4:AMCc:FpgaTopLevel:AppTop:AppTopJesd[0]:JesdTx:dataOutMux[6] UserData\n",
      "[ 2022-02-15 00:40:22 ]  caput smurf_server_s4:AMCc:FpgaTopLevel:AppTop:AppTopJesd[0]:JesdTx:dataOutMux[7] UserData\n",
      "[ 2022-02-15 00:40:22 ]  caput smurf_server_s4:AMCc:FpgaTopLevel:AppTop:AppCore:SysgenCryo:Base[2]:dspEnable 1\n",
      "[ 2022-02-15 00:40:22 ]  caput smurf_server_s4:AMCc:FpgaTopLevel:AppTop:AppCore:SysgenCryo:Base[2]:CryoChannels:gradientDescentGain 0.0001\n",
      "[ 2022-02-15 00:40:22 ]  caput smurf_server_s4:AMCc:FpgaTopLevel:AppTop:AppCore:SysgenCryo:Base[2]:CryoChannels:gradientDescentAverages 1\n",
      "[ 2022-02-15 00:40:22 ]  caput smurf_server_s4:AMCc:FpgaTopLevel:AppTop:AppCore:SysgenCryo:Base[2]:CryoChannels:gradientDescentConvergeHz 500.0\n",
      "[ 2022-02-15 00:40:22 ]  caput smurf_server_s4:AMCc:FpgaTopLevel:AppTop:AppCore:SysgenCryo:Base[2]:CryoChannels:gradientDescentStepHz 1000.0\n",
      "[ 2022-02-15 00:40:22 ]  caput smurf_server_s4:AMCc:FpgaTopLevel:AppTop:AppCore:SysgenCryo:Base[2]:CryoChannels:gradientDescentMomentum 1\n",
      "[ 2022-02-15 00:40:22 ]  caput smurf_server_s4:AMCc:FpgaTopLevel:AppTop:AppCore:SysgenCryo:Base[2]:CryoChannels:gradientDescentBeta 0.0\n",
      "[ 2022-02-15 00:40:22 ]  caput smurf_server_s4:AMCc:FpgaTopLevel:AppTop:AppCore:SysgenCryo:Base[2]:CryoChannels:etaScanAverages 1\n",
      "[ 2022-02-15 00:40:22 ]  caput smurf_server_s4:AMCc:FpgaTopLevel:AppTop:AppCore:SysgenCryo:Base[2]:CryoChannels:etaScanDelF 5000\n",
      "[ 2022-02-15 00:40:22 ]  caput smurf_server_s4:AMCc:FpgaTopLevel:AppTop:AppCore:SysgenCryo:Base[3]:iqSwapIn 0\n",
      "[ 2022-02-15 00:40:22 ]  caput smurf_server_s4:AMCc:FpgaTopLevel:AppTop:AppCore:SysgenCryo:Base[3]:iqSwapOut 0\n",
      "[ 2022-02-15 00:40:22 ]  caput smurf_server_s4:AMCc:FpgaTopLevel:AppTop:AppCore:SysgenCryo:Base[3]:refPhaseDelay 6\n",
      "[ 2022-02-15 00:40:22 ]  caput smurf_server_s4:AMCc:FpgaTopLevel:AppTop:AppCore:SysgenCryo:Base[3]:refPhaseDelayFine 0\n",
      "[ 2022-02-15 00:40:22 ]  caput smurf_server_s4:AMCc:FpgaTopLevel:AppTop:AppCore:SysgenCryo:Base[3]:lmsDelay 24\n",
      "[ 2022-02-15 00:40:22 ]  caput smurf_server_s4:AMCc:FpgaTopLevel:AppTop:AppCore:SysgenCryo:Base[3]:lmsGain 7\n",
      "[ 2022-02-15 00:40:22 ]  caput smurf_server_s4:AMCc:FpgaTopLevel:AppTop:AppCore:SysgenCryo:Base[3]:trigRstDly 15\n",
      "[ 2022-02-15 00:40:22 ]  caput smurf_server_s4:AMCc:FpgaTopLevel:AppTop:AppCore:SysgenCryo:Base[3]:feedbackEnable 1\n",
      "[ 2022-02-15 00:40:22 ]  caput smurf_server_s4:AMCc:FpgaTopLevel:AppTop:AppCore:SysgenCryo:Base[3]:feedbackGain 256\n",
      "[ 2022-02-15 00:40:22 ]  caput smurf_server_s4:AMCc:FpgaTopLevel:AppTop:AppCore:SysgenCryo:Base[3]:feedbackLimit 6144.0\n",
      "[ 2022-02-15 00:40:22 ]  caput smurf_server_s4:AMCc:FpgaTopLevel:AppTop:AppCore:SysgenCryo:Base[3]:feedbackPolarity 1\n",
      "[ 2022-02-15 00:40:22 ]  caput smurf_server_s4:AMCc:FpgaTopLevel:AppTop:AppTopJesd[0]:JesdTx:dataOutMux[8] UserData\n",
      "[ 2022-02-15 00:40:22 ]  caput smurf_server_s4:AMCc:FpgaTopLevel:AppTop:AppTopJesd[0]:JesdTx:dataOutMux[9] UserData\n",
      "[ 2022-02-15 00:40:22 ]  caput smurf_server_s4:AMCc:FpgaTopLevel:AppTop:AppCore:SysgenCryo:Base[3]:dspEnable 1\n",
      "[ 2022-02-15 00:40:22 ]  caput smurf_server_s4:AMCc:FpgaTopLevel:AppTop:AppCore:SysgenCryo:Base[3]:CryoChannels:gradientDescentGain 0.0001\n",
      "[ 2022-02-15 00:40:22 ]  caput smurf_server_s4:AMCc:FpgaTopLevel:AppTop:AppCore:SysgenCryo:Base[3]:CryoChannels:gradientDescentAverages 1\n",
      "[ 2022-02-15 00:40:22 ]  caput smurf_server_s4:AMCc:FpgaTopLevel:AppTop:AppCore:SysgenCryo:Base[3]:CryoChannels:gradientDescentConvergeHz 500.0\n",
      "[ 2022-02-15 00:40:22 ]  caput smurf_server_s4:AMCc:FpgaTopLevel:AppTop:AppCore:SysgenCryo:Base[3]:CryoChannels:gradientDescentStepHz 1000.0\n",
      "[ 2022-02-15 00:40:22 ]  caput smurf_server_s4:AMCc:FpgaTopLevel:AppTop:AppCore:SysgenCryo:Base[3]:CryoChannels:gradientDescentMomentum 1\n",
      "[ 2022-02-15 00:40:22 ]  caput smurf_server_s4:AMCc:FpgaTopLevel:AppTop:AppCore:SysgenCryo:Base[3]:CryoChannels:gradientDescentBeta 0.0\n",
      "[ 2022-02-15 00:40:22 ]  caput smurf_server_s4:AMCc:FpgaTopLevel:AppTop:AppCore:SysgenCryo:Base[3]:CryoChannels:etaScanAverages 1\n",
      "[ 2022-02-15 00:40:22 ]  caput smurf_server_s4:AMCc:FpgaTopLevel:AppTop:AppCore:SysgenCryo:Base[3]:CryoChannels:etaScanDelF 5000\n",
      "[ 2022-02-15 00:40:22 ]  caput smurf_server_s4:AMCc:FpgaTopLevel:AppTop:AppCore:SysgenCryo:Base[4]:iqSwapIn 0\n",
      "[ 2022-02-15 00:40:22 ]  caput smurf_server_s4:AMCc:FpgaTopLevel:AppTop:AppCore:SysgenCryo:Base[4]:iqSwapOut 0\n",
      "[ 2022-02-15 00:40:22 ]  caput smurf_server_s4:AMCc:FpgaTopLevel:AppTop:AppCore:SysgenCryo:Base[4]:refPhaseDelay 6\n",
      "[ 2022-02-15 00:40:22 ]  caput smurf_server_s4:AMCc:FpgaTopLevel:AppTop:AppCore:SysgenCryo:Base[4]:refPhaseDelayFine 0\n",
      "[ 2022-02-15 00:40:22 ]  caput smurf_server_s4:AMCc:FpgaTopLevel:AppTop:AppCore:SysgenCryo:Base[4]:lmsDelay 24\n",
      "[ 2022-02-15 00:40:22 ]  caput smurf_server_s4:AMCc:FpgaTopLevel:AppTop:AppCore:SysgenCryo:Base[4]:lmsGain 7\n",
      "[ 2022-02-15 00:40:22 ]  caput smurf_server_s4:AMCc:FpgaTopLevel:AppTop:AppCore:SysgenCryo:Base[4]:trigRstDly 15\n",
      "[ 2022-02-15 00:40:22 ]  caput smurf_server_s4:AMCc:FpgaTopLevel:AppTop:AppCore:SysgenCryo:Base[4]:feedbackEnable 1\n",
      "[ 2022-02-15 00:40:22 ]  caput smurf_server_s4:AMCc:FpgaTopLevel:AppTop:AppCore:SysgenCryo:Base[4]:feedbackGain 256\n",
      "[ 2022-02-15 00:40:22 ]  caput smurf_server_s4:AMCc:FpgaTopLevel:AppTop:AppCore:SysgenCryo:Base[4]:feedbackLimit 6144.0\n",
      "[ 2022-02-15 00:40:22 ]  caput smurf_server_s4:AMCc:FpgaTopLevel:AppTop:AppCore:SysgenCryo:Base[4]:feedbackPolarity 1\n",
      "[ 2022-02-15 00:40:22 ]  caput smurf_server_s4:AMCc:FpgaTopLevel:AppTop:AppTopJesd[1]:JesdTx:dataOutMux[2] UserData\n",
      "[ 2022-02-15 00:40:22 ]  caput smurf_server_s4:AMCc:FpgaTopLevel:AppTop:AppTopJesd[1]:JesdTx:dataOutMux[3] UserData\n",
      "[ 2022-02-15 00:40:22 ]  caput smurf_server_s4:AMCc:FpgaTopLevel:AppTop:AppCore:SysgenCryo:Base[4]:dspEnable 1\n",
      "[ 2022-02-15 00:40:22 ]  caput smurf_server_s4:AMCc:FpgaTopLevel:AppTop:AppCore:SysgenCryo:Base[4]:CryoChannels:gradientDescentGain 0.0001\n",
      "[ 2022-02-15 00:40:22 ]  caput smurf_server_s4:AMCc:FpgaTopLevel:AppTop:AppCore:SysgenCryo:Base[4]:CryoChannels:gradientDescentAverages 1\n",
      "[ 2022-02-15 00:40:22 ]  caput smurf_server_s4:AMCc:FpgaTopLevel:AppTop:AppCore:SysgenCryo:Base[4]:CryoChannels:gradientDescentConvergeHz 500.0\n",
      "[ 2022-02-15 00:40:22 ]  caput smurf_server_s4:AMCc:FpgaTopLevel:AppTop:AppCore:SysgenCryo:Base[4]:CryoChannels:gradientDescentStepHz 1000.0\n",
      "[ 2022-02-15 00:40:22 ]  caput smurf_server_s4:AMCc:FpgaTopLevel:AppTop:AppCore:SysgenCryo:Base[4]:CryoChannels:gradientDescentMomentum 1\n",
      "[ 2022-02-15 00:40:22 ]  caput smurf_server_s4:AMCc:FpgaTopLevel:AppTop:AppCore:SysgenCryo:Base[4]:CryoChannels:gradientDescentBeta 0.0\n",
      "[ 2022-02-15 00:40:22 ]  caput smurf_server_s4:AMCc:FpgaTopLevel:AppTop:AppCore:SysgenCryo:Base[4]:CryoChannels:etaScanAverages 1\n",
      "[ 2022-02-15 00:40:22 ]  caput smurf_server_s4:AMCc:FpgaTopLevel:AppTop:AppCore:SysgenCryo:Base[4]:CryoChannels:etaScanDelF 5000\n",
      "[ 2022-02-15 00:40:22 ]  caput smurf_server_s4:AMCc:FpgaTopLevel:AppTop:AppCore:SysgenCryo:Base[5]:iqSwapIn 0\n",
      "[ 2022-02-15 00:40:22 ]  caput smurf_server_s4:AMCc:FpgaTopLevel:AppTop:AppCore:SysgenCryo:Base[5]:iqSwapOut 0\n",
      "[ 2022-02-15 00:40:22 ]  caput smurf_server_s4:AMCc:FpgaTopLevel:AppTop:AppCore:SysgenCryo:Base[5]:refPhaseDelay 6\n",
      "[ 2022-02-15 00:40:22 ]  caput smurf_server_s4:AMCc:FpgaTopLevel:AppTop:AppCore:SysgenCryo:Base[5]:refPhaseDelayFine 0\n",
      "[ 2022-02-15 00:40:22 ]  caput smurf_server_s4:AMCc:FpgaTopLevel:AppTop:AppCore:SysgenCryo:Base[5]:lmsDelay 24\n",
      "[ 2022-02-15 00:40:22 ]  caput smurf_server_s4:AMCc:FpgaTopLevel:AppTop:AppCore:SysgenCryo:Base[5]:lmsGain 7\n",
      "[ 2022-02-15 00:40:22 ]  caput smurf_server_s4:AMCc:FpgaTopLevel:AppTop:AppCore:SysgenCryo:Base[5]:trigRstDly 15\n",
      "[ 2022-02-15 00:40:22 ]  caput smurf_server_s4:AMCc:FpgaTopLevel:AppTop:AppCore:SysgenCryo:Base[5]:feedbackEnable 1\n",
      "[ 2022-02-15 00:40:22 ]  caput smurf_server_s4:AMCc:FpgaTopLevel:AppTop:AppCore:SysgenCryo:Base[5]:feedbackGain 256\n",
      "[ 2022-02-15 00:40:22 ]  caput smurf_server_s4:AMCc:FpgaTopLevel:AppTop:AppCore:SysgenCryo:Base[5]:feedbackLimit 6144.0\n",
      "[ 2022-02-15 00:40:22 ]  caput smurf_server_s4:AMCc:FpgaTopLevel:AppTop:AppCore:SysgenCryo:Base[5]:feedbackPolarity 1\n",
      "[ 2022-02-15 00:40:22 ]  caput smurf_server_s4:AMCc:FpgaTopLevel:AppTop:AppTopJesd[1]:JesdTx:dataOutMux[0] UserData\n",
      "[ 2022-02-15 00:40:22 ]  caput smurf_server_s4:AMCc:FpgaTopLevel:AppTop:AppTopJesd[1]:JesdTx:dataOutMux[1] UserData\n",
      "[ 2022-02-15 00:40:22 ]  caput smurf_server_s4:AMCc:FpgaTopLevel:AppTop:AppCore:SysgenCryo:Base[5]:dspEnable 1\n",
      "[ 2022-02-15 00:40:22 ]  caput smurf_server_s4:AMCc:FpgaTopLevel:AppTop:AppCore:SysgenCryo:Base[5]:CryoChannels:gradientDescentGain 0.0001\n",
      "[ 2022-02-15 00:40:22 ]  caput smurf_server_s4:AMCc:FpgaTopLevel:AppTop:AppCore:SysgenCryo:Base[5]:CryoChannels:gradientDescentAverages 1\n",
      "[ 2022-02-15 00:40:22 ]  caput smurf_server_s4:AMCc:FpgaTopLevel:AppTop:AppCore:SysgenCryo:Base[5]:CryoChannels:gradientDescentConvergeHz 500.0\n",
      "[ 2022-02-15 00:40:22 ]  caput smurf_server_s4:AMCc:FpgaTopLevel:AppTop:AppCore:SysgenCryo:Base[5]:CryoChannels:gradientDescentStepHz 1000.0\n",
      "[ 2022-02-15 00:40:22 ]  caput smurf_server_s4:AMCc:FpgaTopLevel:AppTop:AppCore:SysgenCryo:Base[5]:CryoChannels:gradientDescentMomentum 1\n",
      "[ 2022-02-15 00:40:22 ]  caput smurf_server_s4:AMCc:FpgaTopLevel:AppTop:AppCore:SysgenCryo:Base[5]:CryoChannels:gradientDescentBeta 0.0\n",
      "[ 2022-02-15 00:40:22 ]  caput smurf_server_s4:AMCc:FpgaTopLevel:AppTop:AppCore:SysgenCryo:Base[5]:CryoChannels:etaScanAverages 1\n",
      "[ 2022-02-15 00:40:22 ]  caput smurf_server_s4:AMCc:FpgaTopLevel:AppTop:AppCore:SysgenCryo:Base[5]:CryoChannels:etaScanDelF 5000\n",
      "[ 2022-02-15 00:40:22 ]  caput smurf_server_s4:AMCc:FpgaTopLevel:AppTop:AppCore:SysgenCryo:Base[6]:iqSwapIn 0\n",
      "[ 2022-02-15 00:40:22 ]  caput smurf_server_s4:AMCc:FpgaTopLevel:AppTop:AppCore:SysgenCryo:Base[6]:iqSwapOut 0\n",
      "[ 2022-02-15 00:40:22 ]  caput smurf_server_s4:AMCc:FpgaTopLevel:AppTop:AppCore:SysgenCryo:Base[6]:refPhaseDelay 6\n",
      "[ 2022-02-15 00:40:22 ]  caput smurf_server_s4:AMCc:FpgaTopLevel:AppTop:AppCore:SysgenCryo:Base[6]:refPhaseDelayFine 0\n",
      "[ 2022-02-15 00:40:22 ]  caput smurf_server_s4:AMCc:FpgaTopLevel:AppTop:AppCore:SysgenCryo:Base[6]:lmsDelay 24\n",
      "[ 2022-02-15 00:40:22 ]  caput smurf_server_s4:AMCc:FpgaTopLevel:AppTop:AppCore:SysgenCryo:Base[6]:lmsGain 7\n",
      "[ 2022-02-15 00:40:22 ]  caput smurf_server_s4:AMCc:FpgaTopLevel:AppTop:AppCore:SysgenCryo:Base[6]:trigRstDly 15\n",
      "[ 2022-02-15 00:40:22 ]  caput smurf_server_s4:AMCc:FpgaTopLevel:AppTop:AppCore:SysgenCryo:Base[6]:feedbackEnable 1\n",
      "[ 2022-02-15 00:40:22 ]  caput smurf_server_s4:AMCc:FpgaTopLevel:AppTop:AppCore:SysgenCryo:Base[6]:feedbackGain 256\n",
      "[ 2022-02-15 00:40:22 ]  caput smurf_server_s4:AMCc:FpgaTopLevel:AppTop:AppCore:SysgenCryo:Base[6]:feedbackLimit 6144.0\n",
      "[ 2022-02-15 00:40:22 ]  caput smurf_server_s4:AMCc:FpgaTopLevel:AppTop:AppCore:SysgenCryo:Base[6]:feedbackPolarity 1\n",
      "[ 2022-02-15 00:40:22 ]  caput smurf_server_s4:AMCc:FpgaTopLevel:AppTop:AppTopJesd[1]:JesdTx:dataOutMux[6] UserData\n",
      "[ 2022-02-15 00:40:22 ]  caput smurf_server_s4:AMCc:FpgaTopLevel:AppTop:AppTopJesd[1]:JesdTx:dataOutMux[7] UserData\n",
      "[ 2022-02-15 00:40:22 ]  caput smurf_server_s4:AMCc:FpgaTopLevel:AppTop:AppCore:SysgenCryo:Base[6]:dspEnable 1\n",
      "[ 2022-02-15 00:40:22 ]  caput smurf_server_s4:AMCc:FpgaTopLevel:AppTop:AppCore:SysgenCryo:Base[6]:CryoChannels:gradientDescentGain 0.0001\n",
      "[ 2022-02-15 00:40:22 ]  caput smurf_server_s4:AMCc:FpgaTopLevel:AppTop:AppCore:SysgenCryo:Base[6]:CryoChannels:gradientDescentAverages 1\n",
      "[ 2022-02-15 00:40:22 ]  caput smurf_server_s4:AMCc:FpgaTopLevel:AppTop:AppCore:SysgenCryo:Base[6]:CryoChannels:gradientDescentConvergeHz 500.0\n",
      "[ 2022-02-15 00:40:22 ]  caput smurf_server_s4:AMCc:FpgaTopLevel:AppTop:AppCore:SysgenCryo:Base[6]:CryoChannels:gradientDescentStepHz 1000.0\n",
      "[ 2022-02-15 00:40:22 ]  caput smurf_server_s4:AMCc:FpgaTopLevel:AppTop:AppCore:SysgenCryo:Base[6]:CryoChannels:gradientDescentMomentum 1\n"
     ]
    },
    {
     "name": "stdout",
     "output_type": "stream",
     "text": [
      "[ 2022-02-15 00:40:22 ]  caput smurf_server_s4:AMCc:FpgaTopLevel:AppTop:AppCore:SysgenCryo:Base[6]:CryoChannels:gradientDescentBeta 0.0\n",
      "[ 2022-02-15 00:40:22 ]  caput smurf_server_s4:AMCc:FpgaTopLevel:AppTop:AppCore:SysgenCryo:Base[6]:CryoChannels:etaScanAverages 1\n",
      "[ 2022-02-15 00:40:22 ]  caput smurf_server_s4:AMCc:FpgaTopLevel:AppTop:AppCore:SysgenCryo:Base[6]:CryoChannels:etaScanDelF 5000\n",
      "[ 2022-02-15 00:40:22 ]  caput smurf_server_s4:AMCc:FpgaTopLevel:AppTop:AppCore:SysgenCryo:Base[7]:iqSwapIn 0\n",
      "[ 2022-02-15 00:40:22 ]  caput smurf_server_s4:AMCc:FpgaTopLevel:AppTop:AppCore:SysgenCryo:Base[7]:iqSwapOut 0\n",
      "[ 2022-02-15 00:40:22 ]  caput smurf_server_s4:AMCc:FpgaTopLevel:AppTop:AppCore:SysgenCryo:Base[7]:refPhaseDelay 6\n",
      "[ 2022-02-15 00:40:22 ]  caput smurf_server_s4:AMCc:FpgaTopLevel:AppTop:AppCore:SysgenCryo:Base[7]:refPhaseDelayFine 0\n",
      "[ 2022-02-15 00:40:22 ]  caput smurf_server_s4:AMCc:FpgaTopLevel:AppTop:AppCore:SysgenCryo:Base[7]:lmsDelay 24\n",
      "[ 2022-02-15 00:40:22 ]  caput smurf_server_s4:AMCc:FpgaTopLevel:AppTop:AppCore:SysgenCryo:Base[7]:lmsGain 7\n",
      "[ 2022-02-15 00:40:22 ]  caput smurf_server_s4:AMCc:FpgaTopLevel:AppTop:AppCore:SysgenCryo:Base[7]:trigRstDly 15\n",
      "[ 2022-02-15 00:40:22 ]  caput smurf_server_s4:AMCc:FpgaTopLevel:AppTop:AppCore:SysgenCryo:Base[7]:feedbackEnable 1\n",
      "[ 2022-02-15 00:40:22 ]  caput smurf_server_s4:AMCc:FpgaTopLevel:AppTop:AppCore:SysgenCryo:Base[7]:feedbackGain 256\n",
      "[ 2022-02-15 00:40:22 ]  caput smurf_server_s4:AMCc:FpgaTopLevel:AppTop:AppCore:SysgenCryo:Base[7]:feedbackLimit 6144.0\n",
      "[ 2022-02-15 00:40:22 ]  caput smurf_server_s4:AMCc:FpgaTopLevel:AppTop:AppCore:SysgenCryo:Base[7]:feedbackPolarity 1\n",
      "[ 2022-02-15 00:40:22 ]  caput smurf_server_s4:AMCc:FpgaTopLevel:AppTop:AppTopJesd[1]:JesdTx:dataOutMux[8] UserData\n",
      "[ 2022-02-15 00:40:22 ]  caput smurf_server_s4:AMCc:FpgaTopLevel:AppTop:AppTopJesd[1]:JesdTx:dataOutMux[9] UserData\n",
      "[ 2022-02-15 00:40:22 ]  caput smurf_server_s4:AMCc:FpgaTopLevel:AppTop:AppCore:SysgenCryo:Base[7]:dspEnable 1\n",
      "[ 2022-02-15 00:40:22 ]  caput smurf_server_s4:AMCc:FpgaTopLevel:AppTop:AppCore:SysgenCryo:Base[7]:CryoChannels:gradientDescentGain 0.0001\n",
      "[ 2022-02-15 00:40:22 ]  caput smurf_server_s4:AMCc:FpgaTopLevel:AppTop:AppCore:SysgenCryo:Base[7]:CryoChannels:gradientDescentAverages 1\n",
      "[ 2022-02-15 00:40:22 ]  caput smurf_server_s4:AMCc:FpgaTopLevel:AppTop:AppCore:SysgenCryo:Base[7]:CryoChannels:gradientDescentConvergeHz 500.0\n",
      "[ 2022-02-15 00:40:22 ]  caput smurf_server_s4:AMCc:FpgaTopLevel:AppTop:AppCore:SysgenCryo:Base[7]:CryoChannels:gradientDescentStepHz 1000.0\n",
      "[ 2022-02-15 00:40:22 ]  caput smurf_server_s4:AMCc:FpgaTopLevel:AppTop:AppCore:SysgenCryo:Base[7]:CryoChannels:gradientDescentMomentum 1\n",
      "[ 2022-02-15 00:40:22 ]  caput smurf_server_s4:AMCc:FpgaTopLevel:AppTop:AppCore:SysgenCryo:Base[7]:CryoChannels:gradientDescentBeta 0.0\n",
      "[ 2022-02-15 00:40:22 ]  caput smurf_server_s4:AMCc:FpgaTopLevel:AppTop:AppCore:SysgenCryo:Base[7]:CryoChannels:etaScanAverages 1\n",
      "[ 2022-02-15 00:40:22 ]  caput smurf_server_s4:AMCc:FpgaTopLevel:AppTop:AppCore:SysgenCryo:Base[7]:CryoChannels:etaScanDelF 5000\n",
      "[ 2022-02-15 00:40:22 ]  caput smurf_server_s4:AMCc:FpgaTopLevel:AppTop:AppCore:MicrowaveMuxCore[0]:ATT:UC[1] 0\n",
      "[ 2022-02-15 00:40:22 ]  caput smurf_server_s4:AMCc:FpgaTopLevel:AppTop:AppCore:MicrowaveMuxCore[0]:ATT:DC[1] 0\n",
      "[ 2022-02-15 00:40:22 ]  caput smurf_server_s4:AMCc:FpgaTopLevel:AppTop:AppCore:MicrowaveMuxCore[0]:ATT:UC[2] 0\n",
      "[ 2022-02-15 00:40:22 ]  caput smurf_server_s4:AMCc:FpgaTopLevel:AppTop:AppCore:MicrowaveMuxCore[0]:ATT:DC[2] 0\n",
      "[ 2022-02-15 00:40:22 ]  caput smurf_server_s4:AMCc:FpgaTopLevel:AppTop:AppCore:MicrowaveMuxCore[0]:ATT:UC[3] 0\n",
      "[ 2022-02-15 00:40:22 ]  caput smurf_server_s4:AMCc:FpgaTopLevel:AppTop:AppCore:MicrowaveMuxCore[0]:ATT:DC[3] 0\n",
      "[ 2022-02-15 00:40:22 ]  caput smurf_server_s4:AMCc:FpgaTopLevel:AppTop:AppCore:MicrowaveMuxCore[0]:ATT:UC[4] 0\n",
      "[ 2022-02-15 00:40:22 ]  caput smurf_server_s4:AMCc:FpgaTopLevel:AppTop:AppCore:MicrowaveMuxCore[0]:ATT:DC[4] 0\n",
      "[ 2022-02-15 00:40:22 ]  caput smurf_server_s4:AMCc:FpgaTopLevel:AppTop:AppCore:MicrowaveMuxCore[1]:ATT:UC[1] 0\n",
      "[ 2022-02-15 00:40:22 ]  caput smurf_server_s4:AMCc:FpgaTopLevel:AppTop:AppCore:MicrowaveMuxCore[1]:ATT:DC[1] 0\n",
      "[ 2022-02-15 00:40:22 ]  caput smurf_server_s4:AMCc:FpgaTopLevel:AppTop:AppCore:MicrowaveMuxCore[1]:ATT:UC[2] 0\n",
      "[ 2022-02-15 00:40:22 ]  caput smurf_server_s4:AMCc:FpgaTopLevel:AppTop:AppCore:MicrowaveMuxCore[1]:ATT:DC[2] 0\n",
      "[ 2022-02-15 00:40:22 ]  caput smurf_server_s4:AMCc:FpgaTopLevel:AppTop:AppCore:MicrowaveMuxCore[1]:ATT:UC[3] 0\n",
      "[ 2022-02-15 00:40:22 ]  caput smurf_server_s4:AMCc:FpgaTopLevel:AppTop:AppCore:MicrowaveMuxCore[1]:ATT:DC[3] 0\n",
      "[ 2022-02-15 00:40:22 ]  caput smurf_server_s4:AMCc:FpgaTopLevel:AppTop:AppCore:MicrowaveMuxCore[1]:ATT:UC[4] 0\n",
      "[ 2022-02-15 00:40:22 ]  caput smurf_server_s4:AMCc:FpgaTopLevel:AppTop:AppCore:MicrowaveMuxCore[1]:ATT:DC[4] 0\n",
      "[ 2022-02-15 00:40:22 ]  caput smurf_server_s4:AMCc:FpgaTopLevel:AppTop:DaqMuxV2[0]:TriggerHwArm 0\n",
      "[ 2022-02-15 00:40:22 ]  caput smurf_server_s4:AMCc:FpgaTopLevel:AppTop:DaqMuxV2[1]:TriggerHwArm 0\n",
      "[ 2022-02-15 00:40:22 ]  caput smurf_server_s4:AMCc:FpgaTopLevel:AmcCarrierCore:AmcCarrierTiming:EvrV2CoreTriggers:EvrV2TriggerReg[0]:Width 10\n",
      "[ 2022-02-15 00:40:22 ]  caput smurf_server_s4:AMCc:FpgaTopLevel:AmcCarrierCore:AmcCarrierTiming:EvrV2CoreTriggers:EvrV2TriggerReg[0]:EnableTrig 1\n",
      "[ 2022-02-15 00:40:22 ]  caput smurf_server_s4:AMCc:FpgaTopLevel:AmcCarrierCore:AmcCarrierTiming:EvrV2CoreTriggers:EvrV2ChannelReg[0]:EnableReg True\n",
      "[ 2022-02-15 00:40:22 ]  caput smurf_server_s4:AMCc:FpgaTopLevel:AmcCarrierCore:AmcCarrierTiming:EvrV2CoreTriggers:EvrV2ChannelReg[0]:DestSel 131072\n",
      "[ 2022-02-15 00:40:22 ]  caput smurf_server_s4:AMCc:FpgaTopLevel:AppTop:AppCore:RtmCryoDet:EnableRampTrigger 1\n",
      "[ 2022-02-15 00:40:22 ]  caput smurf_server_s4:AMCc:FpgaTopLevel:AppTop:AppCore:RtmCryoDet:SelectRamp 1\n",
      "[ 2022-02-15 00:40:22 ]  caput smurf_server_s4:AMCc:FpgaTopLevel:AppTop:AppCore:RtmCryoDet:CpldReset 0\n",
      "[ 2022-02-15 00:40:22 ]  caput smurf_server_s4:AMCc:FpgaTopLevel:AppTop:AppCore:RtmCryoDet:resetRtm 1\n",
      "[ 2022-02-15 00:40:23 ]  Turning off tones\n",
      "[ 2022-02-15 00:40:45 ]  Turning off flux ramp\n",
      "[ 2022-02-15 00:40:46 ]  Turning off all TES biases\n",
      "[ 2022-02-15 00:40:47 ]  caput smurf_server_s4:AMCc:FpgaTopLevel:AppTop:AppCore:RtmCryoDet:RtmSpiSr:CfgRegEnaBit 0\n",
      "[ 2022-02-15 00:40:47 ]  caput smurf_server_s4:AMCc:FpgaTopLevel:AppTop:AppCore:RtmCryoDet:RtmSpiSr:CfgRegEnaBit 0\n",
      "[ 2022-02-15 00:40:47 ]  Percent full scale = 49.500%\n",
      "[ 2022-02-15 00:40:47 ]  caput smurf_server_s4:AMCc:FpgaTopLevel:AppTop:AppCore:RtmCryoDet:LowCycle 5\n",
      "[ 2022-02-15 00:40:47 ]  caput smurf_server_s4:AMCc:FpgaTopLevel:AppTop:AppCore:RtmCryoDet:HighCycle 5\n",
      "[ 2022-02-15 00:40:47 ]  caput smurf_server_s4:AMCc:FpgaTopLevel:AppTop:AppCore:RtmCryoDet:KRelay 3\n",
      "[ 2022-02-15 00:40:47 ]  caput smurf_server_s4:AMCc:FpgaTopLevel:AppTop:AppCore:RtmCryoDet:RampMaxCnt 76799.0\n",
      "[ 2022-02-15 00:40:47 ]  caput smurf_server_s4:AMCc:FpgaTopLevel:AppTop:AppCore:RtmCryoDet:PulseWidth 64\n",
      "[ 2022-02-15 00:40:47 ]  caput smurf_server_s4:AMCc:FpgaTopLevel:AppTop:AppCore:RtmCryoDet:DebounceWidth 255\n",
      "[ 2022-02-15 00:40:47 ]  caput smurf_server_s4:AMCc:FpgaTopLevel:AppTop:AppCore:RtmCryoDet:RtmSpiSr:RampSlope 0\n",
      "[ 2022-02-15 00:40:47 ]  caput smurf_server_s4:AMCc:FpgaTopLevel:AppTop:AppCore:RtmCryoDet:RtmSpiSr:ModeControl 0\n",
      "[ 2022-02-15 00:40:47 ]  caput smurf_server_s4:AMCc:FpgaTopLevel:AppTop:AppCore:RtmCryoDet:RtmSpiSr:FastSlowStepSize 332189.0\n",
      "[ 2022-02-15 00:40:47 ]  caput smurf_server_s4:AMCc:FpgaTopLevel:AppTop:AppCore:RtmCryoDet:RtmSpiSr:FastSlowRstValue 1084478848.0\n",
      "[ 2022-02-15 00:40:47 ]  caput smurf_server_s4:AMCc:FpgaTopLevel:AppTop:AppCore:RtmCryoDet:EnableRampTrigger 1\n",
      "[ 2022-02-15 00:40:47 ]  caput smurf_server_s4:AMCc:FpgaTopLevel:AppTop:AppCore:enableStreaming 1\n",
      "[ 2022-02-15 00:40:47 ]  caput smurf_server_s4:AMCc:FpgaTopLevel:AppTop:AppCore:RtmCryoDet:RtmSpiMax:HemtBiasDacCtrlRegCh[33] 2\n",
      "[ 2022-02-15 00:40:47 ]  Setting HEMT LNA Vg from config file to Vg=0.490\n",
      "[ 2022-02-15 00:40:47 ]  caput smurf_server_s4:AMCc:FpgaTopLevel:AppTop:AppCore:RtmCryoDet:RtmSpiMax:HemtBiasDacDataRegCh[33] 255208\n",
      "[ 2022-02-15 00:40:47 ]  caput smurf_server_s4:AMCc:FpgaTopLevel:AppTop:AppCore:RtmCryoDet:RtmSpiMax:TesBiasDacCtrlRegCh[32] 2\n",
      "[ 2022-02-15 00:40:47 ]  Setting 50K LNA Vg from config file to Vg=-0.750\n",
      "[ 2022-02-15 00:40:47 ]  caput smurf_server_s4:AMCc:FpgaTopLevel:AppTop:AppCore:RtmCryoDet:RtmSpiMax:TesBiasDacDataRegCh[32] -193298.96907216494\n"
     ]
    },
    {
     "name": "stdout",
     "output_type": "stream",
     "text": [
      "[ 2022-02-15 00:40:48 ]  {'hemt_Vg': 0.48999935999999994, 'hemt_Id': 0.03866812499999997, '50K_Vg': -0.74999624, '50K_Id': 0.0}\n",
      "[ 2022-02-15 00:40:48 ]  {'hemt_Vg': 0.48999935999999994, 'hemt_Id': 0.032222812499999975, '50K_Vg': -0.74999624, '50K_Id': 0.0}\n",
      "[ 2022-02-15 00:40:48 ]  Cryocard temperature = 24.10365513392857\n",
      "[ 2022-02-15 00:40:48 ]  Configuring the system to take timing from ext_ref\n",
      "[ 2022-02-15 00:40:48 ]  Select external reference for bay 0\n",
      "[ 2022-02-15 00:40:53 ]  smurf_server_s4:AMCc:FpgaTopLevel:AppTop:AppCore:MicrowaveMuxCore[0]:SelExtRef sent\n",
      "[ 2022-02-15 00:40:53 ]  Select external reference for bay 1\n",
      "[ 2022-02-15 00:40:58 ]  smurf_server_s4:AMCc:FpgaTopLevel:AppTop:AppCore:MicrowaveMuxCore[1]:SelExtRef sent\n",
      "[ 2022-02-15 00:40:58 ]  caput smurf_server_s4:AMCc:FpgaTopLevel:AppTop:AppCore:RtmCryoDet:RampStartMode 0\n",
      "[ 2022-02-15 00:40:58 ]  Done with setup.\n"
     ]
    },
    {
     "data": {
      "text/plain": [
       "True"
      ]
     },
     "execution_count": 25,
     "metadata": {},
     "output_type": "execute_result"
    }
   ],
   "source": [
    "S.setup()"
   ]
  },
  {
   "cell_type": "code",
   "execution_count": 26,
   "id": "e0c31ad5",
   "metadata": {},
   "outputs": [
    {
     "data": {
      "text/plain": [
       "(0, 0)"
      ]
     },
     "execution_count": 26,
     "metadata": {},
     "output_type": "execute_result"
    }
   ],
   "source": [
    "S.set_fixed_tone(4249.75,13)"
   ]
  },
  {
   "cell_type": "markdown",
   "id": "07273b43",
   "metadata": {},
   "source": [
    "well that looks kind of awful on the SA. what does it look like on the ADC?"
   ]
  },
  {
   "cell_type": "code",
   "execution_count": 27,
   "id": "6dc499cb",
   "metadata": {},
   "outputs": [
    {
     "name": "stdout",
     "output_type": "stream",
     "text": [
      "[ 2022-02-15 00:41:10 ]  caput smurf_server_s4:AMCc:FpgaTopLevel:AppTop:DaqMuxV2[0]:DataBufferSize 524288\n",
      "[ 2022-02-15 00:41:10 ]  caput smurf_server_s4:AMCc:FpgaTopLevel:AppTop:AppCore:DebugSelect[0] 0\n",
      "[ 2022-02-15 00:41:11 ]  ADC plot saved to /data/smurf_data/20220214/1644882863/plots/1644885670_adc0.png\n",
      "[ 2022-02-15 00:41:11 ]  Saving raw adc data to /data/smurf_data/20220214/1644882863/outputs/1644885670_adc0\n"
     ]
    },
    {
     "data": {
      "image/png": "[encoded data removed]",
      "text/plain": [
       "<Figure size 648x648 with 2 Axes>"
      ]
     },
     "metadata": {
      "needs_background": "light"
     },
     "output_type": "display_data"
    }
   ],
   "source": [
    "dat = S.read_adc_data(0,make_plot=True,save_data=True)"
   ]
  },
  {
   "cell_type": "code",
   "execution_count": 6,
   "id": "a283d8fe",
   "metadata": {},
   "outputs": [
    {
     "data": {
      "text/plain": [
       "array([-141. +40.j, -290. +87.j,  -92. +56.j, ...,   -7.+775.j,\n",
       "         14.+898.j,  172.+759.j])"
      ]
     },
     "execution_count": 6,
     "metadata": {},
     "output_type": "execute_result"
    }
   ],
   "source": [
    "# what's in this thing?\n",
    "dat"
   ]
  },
  {
   "cell_type": "code",
   "execution_count": 18,
   "id": "66ae9fe7",
   "metadata": {},
   "outputs": [
    {
     "data": {
      "text/plain": [
       "(-5.0, 5.0)"
      ]
     },
     "execution_count": 18,
     "metadata": {},
     "output_type": "execute_result"
    },
    {
     "data": {
      "image/png": "[encoded data removed]",
      "text/plain": [
       "<Figure size 432x288 with 1 Axes>"
      ]
     },
     "metadata": {
      "needs_background": "light"
     },
     "output_type": "display_data"
    }
   ],
   "source": [
    "f, pxx = signal.welch(dat, fs=S.get_digitizer_frequency_mhz() * 1e6,nperseg=2**17, return_onesided=False, detrend=False)\n",
    "plt.plot(f*1e-6, 10*np.log10(pxx))\n",
    "plt.xlim([-5,5])"
   ]
  },
  {
   "cell_type": "code",
   "execution_count": 28,
   "id": "5a514179",
   "metadata": {},
   "outputs": [],
   "source": [
    "for band in np.arange(8):\n",
    "    S.band_off(band)"
   ]
  },
  {
   "cell_type": "code",
   "execution_count": 29,
   "id": "11ea4b56",
   "metadata": {},
   "outputs": [
    {
     "data": {
      "text/plain": [
       "(0, 387)"
      ]
     },
     "execution_count": 29,
     "metadata": {},
     "output_type": "execute_result"
    }
   ],
   "source": [
    "S.set_fixed_tone(4100,13)"
   ]
  },
  {
   "cell_type": "code",
   "execution_count": 30,
   "id": "6b75d75f",
   "metadata": {},
   "outputs": [
    {
     "name": "stdout",
     "output_type": "stream",
     "text": [
      "[ 2022-02-15 00:42:03 ]  caput smurf_server_s4:AMCc:FpgaTopLevel:AppTop:DaqMuxV2[0]:DataBufferSize 524288\n",
      "[ 2022-02-15 00:42:03 ]  caput smurf_server_s4:AMCc:FpgaTopLevel:AppTop:AppCore:DebugSelect[0] 0\n",
      "[ 2022-02-15 00:42:04 ]  Saving raw adc data to /data/smurf_data/20220214/1644882863/outputs/1644885723_adc0\n"
     ]
    }
   ],
   "source": [
    "dat = S.read_adc_data(0,make_plot=False)\n",
    "f, pxx = signal.welch(dat, fs=S.get_digitizer_frequency_mhz() * 1e6,nperseg=2**17, return_onesided=False, detrend=False)"
   ]
  },
  {
   "cell_type": "code",
   "execution_count": 32,
   "id": "ab3dc436",
   "metadata": {},
   "outputs": [
    {
     "data": {
      "text/plain": [
       "(-175.0, -125.0)"
      ]
     },
     "execution_count": 32,
     "metadata": {},
     "output_type": "execute_result"
    },
    {
     "data": {
      "image/png": "[encoded data removed]",
      "text/plain": [
       "<Figure size 432x288 with 1 Axes>"
      ]
     },
     "metadata": {
      "needs_background": "light"
     },
     "output_type": "display_data"
    }
   ],
   "source": [
    "plt.plot(f*1e-6, 10*np.log10(pxx))\n",
    "plt.xlim([-175,-125])"
   ]
  },
  {
   "cell_type": "code",
   "execution_count": 51,
   "id": "21bfe424",
   "metadata": {},
   "outputs": [
    {
     "name": "stdout",
     "output_type": "stream",
     "text": [
      "[ 2022-02-15 01:01:51 ]  caput smurf_server_s4:AMCc:FpgaTopLevel:AppTop:DaqMuxV2[0]:DataBufferSize 16777216\n",
      "[ 2022-02-15 01:01:51 ]  caput smurf_server_s4:AMCc:FpgaTopLevel:AppTop:AppCore:DebugSelect[0] 0\n",
      "[ 2022-02-15 01:01:52 ]  Saving raw adc data to /data/smurf_data/20220214/1644882863/outputs/1644886912_adc0\n"
     ]
    }
   ],
   "source": [
    "#Looks like I need a bit more data and a bit more averaging??\n",
    "S.set_att_uc(0,0)\n",
    "S.set_att_dc(0,0)\n",
    "dat = S.read_adc_data(0,data_length=2**24,make_plot=False)\n"
   ]
  },
  {
   "cell_type": "code",
   "execution_count": 62,
   "id": "6b4184a5",
   "metadata": {},
   "outputs": [
    {
     "name": "stderr",
     "output_type": "stream",
     "text": [
      "/usr/local/lib/python3.6/dist-packages/scipy/signal/spectral.py:1963: UserWarning: nperseg = 16777216 is greater than input length  = 524288, using nperseg = 524288\n",
      "  .format(nperseg, input_length))\n"
     ]
    },
    {
     "data": {
      "text/plain": [
       "Text(0, 0.5, 'dB')"
      ]
     },
     "execution_count": 62,
     "metadata": {},
     "output_type": "execute_result"
    },
    {
     "data": {
      "image/png": "[encoded data removed]",
      "text/plain": [
       "<Figure size 432x288 with 1 Axes>"
      ]
     },
     "metadata": {
      "needs_background": "light"
     },
     "output_type": "display_data"
    }
   ],
   "source": [
    "f, pxx = signal.welch(dat, fs=S.get_digitizer_frequency_mhz() * 1e6,nperseg=2**24, return_onesided=False, detrend=False)\n",
    "plt.plot(f*1e-6, 10*np.log10(pxx))\n",
    "plt.xlim([-155,-145])\n",
    "plt.ylim([-60,25])\n",
    "plt.xlabel('frequency from band center [MHz]')\n",
    "plt.ylabel('dB')"
   ]
  },
  {
   "cell_type": "markdown",
   "id": "7fa6e102",
   "metadata": {},
   "source": [
    "not totally sure what exactly we want out of this plot but the data are saved and clearly achieve 100dB separation, so I'll leave that for now"
   ]
  },
  {
   "cell_type": "code",
   "execution_count": null,
   "id": "d424fc6a",
   "metadata": {},
   "outputs": [],
   "source": []
  },
  {
   "cell_type": "markdown",
   "id": "bc15c9f6",
   "metadata": {},
   "source": [
    "### Stuff copied over from Shawn's notebook"
   ]
  },
  {
   "cell_type": "markdown",
   "id": "d83be5b3",
   "metadata": {},
   "source": [
    "Try to fill bands.  Running fill_band.py in my scratch with these settings:\n",
    "\n",
    "```\n",
    "amplitude=12\n",
    "freq_std_khz=100\n",
    "freq_std_mhz=freq_std_khz/1000.\n",
    "one_subband_at_a_time=False\n",
    "wait_btw_subbands_sec=0.1\n",
    "\n",
    "restrict_nper_band=None\n",
    "restrict_nper_band=250\n",
    "```\n",
    "\n",
    "That should give 250 tones in each band I run it on.\n"
   ]
  },
  {
   "cell_type": "code",
   "execution_count": 8,
   "id": "cc8a794e",
   "metadata": {},
   "outputs": [
    {
     "name": "stdout",
     "output_type": "stream",
     "text": [
      "filling bands 0\n",
      "-> Restricting nchan to 250.\n",
      "filling bands 1\n",
      "-> Restricting nchan to 250.\n",
      "filling bands 2\n",
      "-> Restricting nchan to 250.\n",
      "filling bands 3\n",
      "-> Restricting nchan to 250.\n",
      "filling bands 4\n",
      "-> Restricting nchan to 250.\n",
      "filling bands 5\n",
      "-> Restricting nchan to 250.\n",
      "filling bands 6\n",
      "-> Restricting nchan to 250.\n",
      "filling bands 7\n",
      "-> Restricting nchan to 250.\n"
     ]
    }
   ],
   "source": [
    "for band in range(8):\n",
    "    sys.argv[1]=band\n",
    "    exec(open('/usr/local/src/pysmurf/scratch/shawn/fill_band.py').read())"
   ]
  },
  {
   "cell_type": "markdown",
   "id": "daf2eebf",
   "metadata": {},
   "source": [
    "Here's what that looks like on signal analyzer picked off using a 16 dB coupler (and maybe 4ft cables from SMuRF to in/out of directional coupler, and from directional coupler coupled port to signal analyzer:"
   ]
  },
  {
   "cell_type": "code",
   "execution_count": 12,
   "id": "97f7aa4c",
   "metadata": {},
   "outputs": [
    {
     "name": "stdout",
     "output_type": "stream",
     "text": [
      "S.get_synthesis_scale(0)=1\n",
      "S.get_att_uc(0)=0\n",
      "S.get_att_dc(0)=0\n",
      "--------\n",
      "S.get_synthesis_scale(1)=1\n",
      "S.get_att_uc(1)=0\n",
      "S.get_att_dc(1)=0\n",
      "--------\n",
      "S.get_synthesis_scale(2)=1\n",
      "S.get_att_uc(2)=0\n",
      "S.get_att_dc(2)=0\n",
      "--------\n",
      "S.get_synthesis_scale(3)=1\n",
      "S.get_att_uc(3)=0\n",
      "S.get_att_dc(3)=0\n",
      "--------\n",
      "S.get_synthesis_scale(4)=1\n",
      "S.get_att_uc(4)=0\n",
      "S.get_att_dc(4)=0\n",
      "--------\n",
      "S.get_synthesis_scale(5)=1\n",
      "S.get_att_uc(5)=0\n",
      "S.get_att_dc(5)=0\n",
      "--------\n",
      "S.get_synthesis_scale(6)=1\n",
      "S.get_att_uc(6)=0\n",
      "S.get_att_dc(6)=0\n",
      "--------\n",
      "S.get_synthesis_scale(7)=1\n",
      "S.get_att_uc(7)=0\n",
      "S.get_att_dc(7)=0\n",
      "--------\n"
     ]
    }
   ],
   "source": [
    "for band in range(8):\n",
    "    print(f'S.get_synthesis_scale({band})={S.get_synthesis_scale(band)}')\n",
    "    print(f'S.get_att_uc({band})={S.get_att_uc(band)}')\n",
    "    print(f'S.get_att_dc({band})={S.get_att_dc(band)}')\n",
    "    print('--------')"
   ]
  },
  {
   "cell_type": "markdown",
   "id": "a68f9603",
   "metadata": {},
   "source": [
    "Ok so with no attenuation and synthesis scale = 1, I see the following power levels in the signal analyzer near these frequencies;\n",
    "\n",
    "4.25 GHz : -49 dBm\n",
    "\n",
    "4.75 GHz : -51 dBm\n",
    "\n",
    "5.25 GHz : -55 dBm\n",
    "\n",
    "5.75 GHz : -56 dBm\n",
    "\n",
    "6.25 GHz : -36 dBm\n",
    "\n",
    "6.75 GHz : -39 dBm\n",
    "\n",
    "7.25 GHz : -44 dBm\n",
    "\n",
    "7.75 GHz : -49 dBm\n",
    "\n",
    "and the HB noise floor looks kind of weird and wavy.  Let's kick the HB synthesisScale down to 0x2 and see if that helps match."
   ]
  },
  {
   "cell_type": "code",
   "execution_count": 15,
   "id": "c89a5c70",
   "metadata": {},
   "outputs": [],
   "source": [
    "for band in range(4,8):\n",
    "    S.set_synthesis_scale(band,0)"
   ]
  },
  {
   "cell_type": "markdown",
   "id": "3513fc87",
   "metadata": {},
   "source": [
    "Dialing down the synthesis scale makes the waviness go away.  Now for HB we have ; \n",
    "\n",
    "6.25 GHz : -42 dBm\n",
    "\n",
    "6.75 GHz : -45 dBm\n",
    "\n",
    "7.25 GHz : -50 dBm\n",
    "\n",
    "7.75 GHz : -55 dBm"
   ]
  },
  {
   "cell_type": "markdown",
   "id": "5abe105a",
   "metadata": {},
   "source": [
    "Ok so let's try and get the power levels a little better by adjusting attenuators and tone powers.  HB bands 4 and 5 are still like 6dB higher than others.  Let's drop their amplitudes down by 3x."
   ]
  },
  {
   "cell_type": "code",
   "execution_count": 21,
   "id": "dd6ed8e9",
   "metadata": {},
   "outputs": [],
   "source": [
    "for band in [4,5]:\n",
    "    new_asa = np.zeros_like(S.get_amplitude_scale_array(band))\n",
    "    new_asa[np.where(S.get_amplitude_scale_array(band)==12)]=10\n",
    "    S.set_amplitude_scale_array(band,new_asa)"
   ]
  },
  {
   "cell_type": "markdown",
   "id": "33b5b9e3",
   "metadata": {},
   "source": [
    "That helped a lot with the weird structure I was seeing.  Presumably we were hitting the mixers with too much power?"
   ]
  },
  {
   "cell_type": "code",
   "execution_count": 38,
   "id": "b47a0a6f",
   "metadata": {},
   "outputs": [],
   "source": [
    "S.set_att_uc(0,7)\n",
    "S.set_att_uc(1,4)\n",
    "S.set_att_uc(2,0)\n",
    "S.set_att_uc(3,0)\n",
    "\n",
    "S.set_att_uc(4,10)\n",
    "S.set_att_uc(5,8)\n",
    "S.set_att_uc(6,6)"
   ]
  }
 ],
 "metadata": {
  "kernelspec": {
   "display_name": "Python 3",
   "language": "python",
   "name": "python3"
  },
  "language_info": {
   "codemirror_mode": {
    "name": "ipython",
    "version": 3
   },
   "file_extension": ".py",
   "mimetype": "text/x-python",
   "name": "python",
   "nbconvert_exporter": "python",
   "pygments_lexer": "ipython3",
   "version": "3.6.9"
  }
 },
 "nbformat": 4,
 "nbformat_minor": 5
}
