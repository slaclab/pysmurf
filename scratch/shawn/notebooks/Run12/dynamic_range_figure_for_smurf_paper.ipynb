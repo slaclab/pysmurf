{
 "cells": [
  {
   "cell_type": "markdown",
   "id": "75949274",
   "metadata": {},
   "source": [
    "# Imports"
   ]
  },
  {
   "cell_type": "markdown",
   "id": "49e29343",
   "metadata": {},
   "source": [
    "Started up by running `shawnhammer` in a terminal. Running on slot 4, /home/cryo/docker/pysmurf/dev/v5.0.2, rogue version /home/cryo/docker/smurf/stable/slotN/v5.0.2, and experiment cfg cfg_files/b33/experiment_b33_lbhb.cfg. pysmurf branch b33_setup&issue658.  `shawnhammer` already runs `setup()`, so no need to run here."
   ]
  },
  {
   "cell_type": "code",
   "execution_count": 1,
   "id": "223055de",
   "metadata": {},
   "outputs": [],
   "source": [
    "import matplotlib\n",
    "matplotlib.use('Agg')\n",
    "%matplotlib inline\n",
    "import matplotlib.pyplot as plt\n",
    "import yaml\n",
    "import time\n",
    "import pickle as pkl\n",
    "import os\n",
    "import numpy as np\n",
    "from matplotlib import cm\n",
    "from scipy.signal import welch,periodogram\n",
    "import pandas as pd\n",
    "import glob\n",
    "from scipy.optimize import curve_fit\n",
    "\n",
    "import pysmurf.client\n",
    "import matplotlib.pylab as plt\n",
    "import numpy as np\n",
    "import sys\n",
    "import os\n",
    "epics_prefix=\"smurf_server_s4\"\n",
    "config_file=os.path.abspath(\"/usr/local/src/pysmurf/cfg_files/b33/experiment_b33_lbhb.cfg\")\n",
    "S = pysmurf.client.SmurfControl(epics_root=epics_prefix,cfg_file=config_file,setup=False,make_logfile=False,shelf_manager=\"shm-smrf-sp01\")"
   ]
  },
  {
   "cell_type": "markdown",
   "id": "d0056927",
   "metadata": {},
   "source": [
    "Try to fill bands.  Running fill_band.py in my scratch with these settings:\n",
    "\n",
    "```\n",
    "amplitude=12\n",
    "freq_std_khz=100\n",
    "freq_std_mhz=freq_std_khz/1000.\n",
    "one_subband_at_a_time=False\n",
    "wait_btw_subbands_sec=0.1\n",
    "\n",
    "restrict_nper_band=None\n",
    "restrict_nper_band=250\n",
    "```\n",
    "\n",
    "That should give 250 tones in each band I run it on.\n"
   ]
  },
  {
   "cell_type": "code",
   "execution_count": 8,
   "id": "43169128",
   "metadata": {},
   "outputs": [
    {
     "name": "stdout",
     "output_type": "stream",
     "text": [
      "filling bands 0\n",
      "-> Restricting nchan to 250.\n",
      "filling bands 1\n",
      "-> Restricting nchan to 250.\n",
      "filling bands 2\n",
      "-> Restricting nchan to 250.\n",
      "filling bands 3\n",
      "-> Restricting nchan to 250.\n",
      "filling bands 4\n",
      "-> Restricting nchan to 250.\n",
      "filling bands 5\n",
      "-> Restricting nchan to 250.\n",
      "filling bands 6\n",
      "-> Restricting nchan to 250.\n",
      "filling bands 7\n",
      "-> Restricting nchan to 250.\n"
     ]
    }
   ],
   "source": [
    "for band in range(8):\n",
    "    sys.argv[1]=band\n",
    "    exec(open('/usr/local/src/pysmurf/scratch/shawn/fill_band.py').read())"
   ]
  },
  {
   "cell_type": "markdown",
   "id": "8b93186a",
   "metadata": {},
   "source": [
    "Here's what that looks like on signal analyzer picked off using a 16 dB coupler (and maybe 4ft cables from SMuRF to in/out of directional coupler, and from directional coupler coupled port to signal analyzer:"
   ]
  },
  {
   "cell_type": "code",
   "execution_count": 12,
   "id": "c7c0dc84",
   "metadata": {},
   "outputs": [
    {
     "name": "stdout",
     "output_type": "stream",
     "text": [
      "S.get_synthesis_scale(0)=1\n",
      "S.get_att_uc(0)=0\n",
      "S.get_att_dc(0)=0\n",
      "--------\n",
      "S.get_synthesis_scale(1)=1\n",
      "S.get_att_uc(1)=0\n",
      "S.get_att_dc(1)=0\n",
      "--------\n",
      "S.get_synthesis_scale(2)=1\n",
      "S.get_att_uc(2)=0\n",
      "S.get_att_dc(2)=0\n",
      "--------\n",
      "S.get_synthesis_scale(3)=1\n",
      "S.get_att_uc(3)=0\n",
      "S.get_att_dc(3)=0\n",
      "--------\n",
      "S.get_synthesis_scale(4)=1\n",
      "S.get_att_uc(4)=0\n",
      "S.get_att_dc(4)=0\n",
      "--------\n",
      "S.get_synthesis_scale(5)=1\n",
      "S.get_att_uc(5)=0\n",
      "S.get_att_dc(5)=0\n",
      "--------\n",
      "S.get_synthesis_scale(6)=1\n",
      "S.get_att_uc(6)=0\n",
      "S.get_att_dc(6)=0\n",
      "--------\n",
      "S.get_synthesis_scale(7)=1\n",
      "S.get_att_uc(7)=0\n",
      "S.get_att_dc(7)=0\n",
      "--------\n"
     ]
    }
   ],
   "source": [
    "for band in range(8):\n",
    "    print(f'S.get_synthesis_scale({band})={S.get_synthesis_scale(band)}')\n",
    "    print(f'S.get_att_uc({band})={S.get_att_uc(band)}')\n",
    "    print(f'S.get_att_dc({band})={S.get_att_dc(band)}')\n",
    "    print('--------')"
   ]
  },
  {
   "cell_type": "markdown",
   "id": "9ff879ae",
   "metadata": {},
   "source": [
    "Ok so with no attenuation and synthesis scale = 1, I see the following power levels in the signal analyzer near these frequencies;\n",
    "\n",
    "4.25 GHz : -49 dBm\n",
    "\n",
    "4.75 GHz : -51 dBm\n",
    "\n",
    "5.25 GHz : -55 dBm\n",
    "\n",
    "5.75 GHz : -56 dBm\n",
    "\n",
    "6.25 GHz : -36 dBm\n",
    "\n",
    "6.75 GHz : -39 dBm\n",
    "\n",
    "7.25 GHz : -44 dBm\n",
    "\n",
    "7.75 GHz : -49 dBm\n",
    "\n",
    "and the HB noise floor looks kind of weird and wavy.  Let's kick the HB synthesisScale down to 0x2 and see if that helps match."
   ]
  },
  {
   "cell_type": "code",
   "execution_count": 15,
   "id": "a90841e7",
   "metadata": {},
   "outputs": [],
   "source": [
    "for band in range(4,8):\n",
    "    S.set_synthesis_scale(band,0)"
   ]
  },
  {
   "cell_type": "markdown",
   "id": "57e7b3f8",
   "metadata": {},
   "source": [
    "Dialing down the synthesis scale makes the waviness go away.  Now for HB we have ; \n",
    "\n",
    "6.25 GHz : -42 dBm\n",
    "\n",
    "6.75 GHz : -45 dBm\n",
    "\n",
    "7.25 GHz : -50 dBm\n",
    "\n",
    "7.75 GHz : -55 dBm"
   ]
  },
  {
   "cell_type": "markdown",
   "id": "9113b4c5",
   "metadata": {},
   "source": [
    "Ok so let's try and get the power levels a little better by adjusting attenuators and tone powers.  HB bands 4 and 5 are still like 6dB higher than others.  Let's drop their amplitudes down by 3x."
   ]
  },
  {
   "cell_type": "code",
   "execution_count": 21,
   "id": "7de32e97",
   "metadata": {},
   "outputs": [],
   "source": [
    "for band in [4,5]:\n",
    "    new_asa = np.zeros_like(S.get_amplitude_scale_array(band))\n",
    "    new_asa[np.where(S.get_amplitude_scale_array(band)==12)]=10\n",
    "    S.set_amplitude_scale_array(band,new_asa)"
   ]
  },
  {
   "cell_type": "markdown",
   "id": "aa36fc21",
   "metadata": {},
   "source": [
    "That helped a lot with the weird structure I was seeing.  Presumably we were hitting the mixers with too much power?"
   ]
  },
  {
   "cell_type": "code",
   "execution_count": 38,
   "id": "65003d75",
   "metadata": {},
   "outputs": [],
   "source": [
    "S.set_att_uc(0,7)\n",
    "S.set_att_uc(1,4)\n",
    "S.set_att_uc(2,0)\n",
    "S.set_att_uc(3,0)\n",
    "\n",
    "S.set_att_uc(4,10)\n",
    "S.set_att_uc(5,8)\n",
    "S.set_att_uc(6,6)"
   ]
  },
  {
   "cell_type": "code",
   "execution_count": 39,
   "id": "fb9b028a",
   "metadata": {},
   "outputs": [
    {
     "name": "stdout",
     "output_type": "stream",
     "text": [
      "[ 2022-02-14 09:38:26 ]  Turning off tones\n",
      "[ 2022-02-14 09:38:53 ]  Turning off flux ramp\n",
      "[ 2022-02-14 09:38:53 ]  Turning off all TES biases\n"
     ]
    }
   ],
   "source": [
    "S.all_off()"
   ]
  },
  {
   "cell_type": "markdown",
   "id": "4559e671",
   "metadata": {},
   "source": [
    "## 2/14/22 Trying with SMuRF HB output connected directly to SA input"
   ]
  },
  {
   "cell_type": "markdown",
   "id": "f1d9b80e",
   "metadata": {},
   "source": [
    "The system has been up for a while (~few days).  Is JESD still locked?"
   ]
  },
  {
   "cell_type": "code",
   "execution_count": 2,
   "id": "9929c593",
   "metadata": {},
   "outputs": [
    {
     "name": "stdout",
     "output_type": "stream",
     "text": [
      "[ 2022-02-15 06:29:18 ]  JESD Tx Okay\n",
      "[ 2022-02-15 06:29:18 ]  JESD Rx Okay\n",
      "[ 2022-02-15 06:29:19 ]  JESD health check finished after 1 seconds. The final status was Locked.\n"
     ]
    },
    {
     "data": {
      "text/plain": [
       "(True, True, 'Locked')"
      ]
     },
     "execution_count": 2,
     "metadata": {},
     "output_type": "execute_result"
    }
   ],
   "source": [
    "S.check_jesd(0)"
   ]
  },
  {
   "cell_type": "markdown",
   "id": "9d5982f9",
   "metadata": {},
   "source": [
    "Yes.  Cyndia attached output of HB AMC directly into SA input.  Can we see RF noise in tone sidebands in this configuration?"
   ]
  },
  {
   "cell_type": "code",
   "execution_count": 43,
   "id": "87f98448",
   "metadata": {},
   "outputs": [
    {
     "name": "stdout",
     "output_type": "stream",
     "text": [
      "[ 2022-02-15 05:45:23 ]  Turning off tones\n",
      "[ 2022-02-15 05:45:46 ]  Turning off flux ramp\n",
      "[ 2022-02-15 05:45:46 ]  Turning off all TES biases\n"
     ]
    },
    {
     "data": {
      "text/plain": [
       "(0, 0)"
      ]
     },
     "execution_count": 43,
     "metadata": {},
     "output_type": "execute_result"
    }
   ],
   "source": [
    "S.all_off()\n",
    "S.set_fixed_tone(4250,12)"
   ]
  },
  {
   "cell_type": "markdown",
   "id": "074765a0",
   "metadata": {},
   "source": [
    "Yes, can see the noise in the tone sidebands."
   ]
  },
  {
   "cell_type": "markdown",
   "id": "6691dc64",
   "metadata": {},
   "source": [
    "Ok so first let's remake the wideband plot, but let's level it.  First let's gather some info.  I see some spurs with all tones off.  I see them at; \n",
    "\n",
    "4.00133 GHz : -39.39 dBm\n",
    "\n",
    "4.249124 GHz : -34.45 dBm\n",
    "\n",
    "4.49745 GHz : -57.08 dBm\n",
    "\n",
    "4.91535 GHz : -44.69 dBm\n",
    "\n",
    "5.50125 GHz : -30.95 dBm\n",
    "\n",
    "5.99895 GHz : -23.06 dBm\n",
    "\n",
    "6.14385 GHz : -39.18 dBm\n",
    "\n",
    "6.49875 GHz : -26.54 dBm\n",
    "\n",
    "6.14385 GHz : -39.43 dBm\n",
    "\n",
    "6.49875 GHz : -26.59 dBm\n",
    "\n",
    "6.75810 GHz : -50.12 dBm\n",
    "\n",
    "7.37288 GHz : -52.88 dBm\n",
    "\n",
    "7.49888 GHz : -51.75 dBm\n",
    "\n",
    "7.99868 GHz : -30.36 dBm\n",
    "\n",
    "some of those are LOs, others I'm not so sure."
   ]
  },
  {
   "cell_type": "markdown",
   "id": "b8958a2b",
   "metadata": {},
   "source": [
    "What's the current settings?"
   ]
  },
  {
   "cell_type": "code",
   "execution_count": 3,
   "id": "77ccc119",
   "metadata": {},
   "outputs": [
    {
     "name": "stdout",
     "output_type": "stream",
     "text": [
      "S.get_synthesis_scale(0)=1\n",
      "S.get_att_uc(0)=0\n",
      "S.get_att_dc(0)=0\n",
      "--------\n",
      "S.get_synthesis_scale(1)=1\n",
      "S.get_att_uc(1)=0\n",
      "S.get_att_dc(1)=0\n",
      "--------\n",
      "S.get_synthesis_scale(2)=1\n",
      "S.get_att_uc(2)=0\n",
      "S.get_att_dc(2)=0\n",
      "--------\n",
      "S.get_synthesis_scale(3)=1\n",
      "S.get_att_uc(3)=0\n",
      "S.get_att_dc(3)=0\n",
      "--------\n",
      "S.get_synthesis_scale(4)=1\n",
      "S.get_att_uc(4)=0\n",
      "S.get_att_dc(4)=0\n",
      "--------\n",
      "S.get_synthesis_scale(5)=1\n",
      "S.get_att_uc(5)=0\n",
      "S.get_att_dc(5)=0\n",
      "--------\n",
      "S.get_synthesis_scale(6)=1\n",
      "S.get_att_uc(6)=0\n",
      "S.get_att_dc(6)=0\n",
      "--------\n",
      "S.get_synthesis_scale(7)=1\n",
      "S.get_att_uc(7)=0\n",
      "S.get_att_dc(7)=0\n",
      "--------\n"
     ]
    }
   ],
   "source": [
    "for band in range(8):\n",
    "    print(f'S.get_synthesis_scale({band})={S.get_synthesis_scale(band)}')\n",
    "    print(f'S.get_att_uc({band})={S.get_att_uc(band)}')\n",
    "    print(f'S.get_att_dc({band})={S.get_att_dc(band)}')\n",
    "    print('--------')"
   ]
  },
  {
   "cell_type": "markdown",
   "id": "2ed35d3b",
   "metadata": {},
   "source": [
    "Ok, set HB bands 4-8 to synthesisScale=0x0;"
   ]
  },
  {
   "cell_type": "code",
   "execution_count": 4,
   "id": "e6ef495f",
   "metadata": {},
   "outputs": [],
   "source": [
    "for band in range(4,8):\n",
    "    S.set_synthesis_scale(band,0)"
   ]
  },
  {
   "cell_type": "markdown",
   "id": "e3ff2100",
   "metadata": {},
   "source": [
    "Fill the bands, restricting to 250 tones per 500 MHz band:"
   ]
  },
  {
   "cell_type": "code",
   "execution_count": 5,
   "id": "5adfd3a7",
   "metadata": {},
   "outputs": [
    {
     "name": "stdout",
     "output_type": "stream",
     "text": [
      "filling bands 0\n",
      "-> Restricting nchan to 250.\n",
      "filling bands 1\n",
      "-> Restricting nchan to 250.\n",
      "filling bands 2\n",
      "-> Restricting nchan to 250.\n",
      "filling bands 3\n",
      "-> Restricting nchan to 250.\n",
      "filling bands 4\n",
      "-> Restricting nchan to 250.\n",
      "filling bands 5\n",
      "-> Restricting nchan to 250.\n",
      "filling bands 6\n",
      "-> Restricting nchan to 250.\n",
      "filling bands 7\n",
      "-> Restricting nchan to 250.\n"
     ]
    }
   ],
   "source": [
    "for band in range(8):\n",
    "    sys.argv[1]=band\n",
    "    exec(open('/usr/local/src/pysmurf/scratch/shawn/fill_band.py').read())"
   ]
  },
  {
   "cell_type": "markdown",
   "id": "961b4e43",
   "metadata": {},
   "source": [
    "Lower amplitude of tones in bands 4 and 5 because those bands look a little overdriven"
   ]
  },
  {
   "cell_type": "code",
   "execution_count": 6,
   "id": "234135fa",
   "metadata": {},
   "outputs": [],
   "source": [
    "for band in [4,5]:\n",
    "    new_asa = np.zeros_like(S.get_amplitude_scale_array(band))\n",
    "    new_asa[np.where(S.get_amplitude_scale_array(band)==12)]=10\n",
    "    S.set_amplitude_scale_array(band,new_asa)"
   ]
  },
  {
   "cell_type": "markdown",
   "id": "1a3ced29",
   "metadata": {},
   "source": [
    "Signal analyzer settings are span 4.2GHz, center frequency 6 GHz, Res BW 10kHz. "
   ]
  },
  {
   "cell_type": "code",
   "execution_count": 7,
   "id": "e3eb34d8",
   "metadata": {},
   "outputs": [
    {
     "name": "stdout",
     "output_type": "stream",
     "text": [
      "S.get_synthesis_scale(0)=1\n",
      "S.get_att_uc(0)=0\n",
      "S.get_att_dc(0)=0\n",
      "--------\n",
      "S.get_synthesis_scale(1)=1\n",
      "S.get_att_uc(1)=0\n",
      "S.get_att_dc(1)=0\n",
      "--------\n",
      "S.get_synthesis_scale(2)=1\n",
      "S.get_att_uc(2)=0\n",
      "S.get_att_dc(2)=0\n",
      "--------\n",
      "S.get_synthesis_scale(3)=1\n",
      "S.get_att_uc(3)=0\n",
      "S.get_att_dc(3)=0\n",
      "--------\n",
      "S.get_synthesis_scale(4)=0\n",
      "S.get_att_uc(4)=0\n",
      "S.get_att_dc(4)=0\n",
      "--------\n",
      "S.get_synthesis_scale(5)=0\n",
      "S.get_att_uc(5)=0\n",
      "S.get_att_dc(5)=0\n",
      "--------\n",
      "S.get_synthesis_scale(6)=0\n",
      "S.get_att_uc(6)=0\n",
      "S.get_att_dc(6)=0\n",
      "--------\n",
      "S.get_synthesis_scale(7)=0\n",
      "S.get_att_uc(7)=0\n",
      "S.get_att_dc(7)=0\n",
      "--------\n"
     ]
    }
   ],
   "source": [
    "for band in range(8):\n",
    "    print(f'S.get_synthesis_scale({band})={S.get_synthesis_scale(band)}')\n",
    "    print(f'S.get_att_uc({band})={S.get_att_uc(band)}')\n",
    "    print(f'S.get_att_dc({band})={S.get_att_dc(band)}')\n",
    "    print('--------')"
   ]
  },
  {
   "cell_type": "markdown",
   "id": "aa588a29",
   "metadata": {},
   "source": [
    "Level 500 MHz bands using UC att"
   ]
  },
  {
   "cell_type": "code",
   "execution_count": 8,
   "id": "d48d0d3d",
   "metadata": {},
   "outputs": [],
   "source": [
    "S.set_att_uc(0,11)\n",
    "S.set_att_uc(1,5)\n",
    "S.set_att_uc(2,2)\n",
    "S.set_att_uc(3,2)\n",
    "\n",
    "S.set_att_uc(4,12)\n",
    "S.set_att_uc(5,8)\n",
    "S.set_att_uc(6,10)\n",
    "S.set_att_uc(7,0)"
   ]
  },
  {
   "cell_type": "markdown",
   "id": "83cecc25",
   "metadata": {},
   "source": [
    "There's two channels in band 0 right on top of each other.  Turn one of them off."
   ]
  },
  {
   "cell_type": "code",
   "execution_count": 11,
   "id": "21352ebd",
   "metadata": {},
   "outputs": [
    {
     "data": {
      "text/plain": [
       "array([  3,   7,  11,  12,  13,  19,  22,  23,  28,  29,  31,  32,  34,\n",
       "        35,  39,  40,  45,  47,  48,  50,  51,  52,  53,  55,  57,  58,\n",
       "        60,  61,  66,  67,  68,  70,  71,  74,  75,  76,  77,  79,  82,\n",
       "        84,  85,  87,  88,  89,  92,  95,  96,  98,  99, 100, 101, 103,\n",
       "       104, 106, 107, 109, 111, 112, 114, 115, 116, 117, 122, 124, 125,\n",
       "       127, 128, 132, 133, 134, 136, 141, 143, 144, 148, 149, 151, 152,\n",
       "       153, 154, 156, 157, 159, 160, 165, 172, 173, 176, 178, 180, 181,\n",
       "       183, 184, 185, 188, 189, 196, 200, 204, 205, 208, 210, 212, 213,\n",
       "       215, 216, 224, 227, 228, 230, 232, 236, 237, 239, 240, 242, 243,\n",
       "       244, 248, 249, 250, 251, 252, 253, 255, 258, 260, 261, 262, 266,\n",
       "       267, 271, 274, 275, 276, 277, 279, 280, 282, 284, 287, 290, 293,\n",
       "       294, 296, 306, 307, 309, 311, 312, 314, 315, 316, 322, 323, 325,\n",
       "       326, 327, 330, 331, 332, 333, 338, 340, 341, 345, 347, 348, 352,\n",
       "       354, 355, 356, 358, 359, 362, 363, 365, 367, 370, 371, 372, 375,\n",
       "       377, 378, 379, 380, 381, 384, 387, 388, 390, 391, 395, 399, 402,\n",
       "       403, 404, 407, 409, 410, 411, 413, 418, 420, 421, 422, 423, 427,\n",
       "       429, 431, 432, 434, 435, 437, 439, 441, 443, 444, 447, 448, 453,\n",
       "       456, 460, 463, 464, 466, 467, 468, 471, 472, 474, 476, 477, 479,\n",
       "       480, 483, 484, 486, 487, 488, 491, 492, 493, 495, 498, 505, 506,\n",
       "       507, 509, 511])"
      ]
     },
     "execution_count": 11,
     "metadata": {},
     "output_type": "execute_result"
    }
   ],
   "source": [
    "S.which_on(0)"
   ]
  },
  {
   "cell_type": "code",
   "execution_count": 15,
   "id": "6551a681",
   "metadata": {},
   "outputs": [
    {
     "name": "stdout",
     "output_type": "stream",
     "text": [
      "ch511 : 4248.946057796478\n"
     ]
    }
   ],
   "source": [
    "for chan in S.which_on(0):\n",
    "    freq=S.channel_to_freq(0,chan)\n",
    "    if freq>4248 and freq<4250:\n",
    "        print(f'ch{chan} : {S.channel_to_freq(0,chan)}')"
   ]
  },
  {
   "cell_type": "code",
   "execution_count": 16,
   "id": "56c7d09c",
   "metadata": {},
   "outputs": [],
   "source": [
    "S.set_amplitude_scale_channel(0,511,0)"
   ]
  },
  {
   "cell_type": "code",
   "execution_count": 17,
   "id": "d6cceb88",
   "metadata": {},
   "outputs": [
    {
     "data": {
      "text/plain": [
       "11"
      ]
     },
     "execution_count": 17,
     "metadata": {},
     "output_type": "execute_result"
    }
   ],
   "source": [
    "S.get_att_uc(0)"
   ]
  },
  {
   "cell_type": "code",
   "execution_count": 36,
   "id": "f873d37b",
   "metadata": {},
   "outputs": [
    {
     "data": {
      "text/plain": [
       "(1, 0)"
      ]
     },
     "execution_count": 36,
     "metadata": {},
     "output_type": "execute_result"
    }
   ],
   "source": [
    "S.set_fixed_tone(4750,12)"
   ]
  },
  {
   "cell_type": "code",
   "execution_count": 37,
   "id": "b375e67c",
   "metadata": {},
   "outputs": [],
   "source": [
    "S.set_att_uc(1,0)"
   ]
  },
  {
   "cell_type": "code",
   "execution_count": 31,
   "id": "76fd0808",
   "metadata": {},
   "outputs": [
    {
     "name": "stdout",
     "output_type": "stream",
     "text": [
      "[ 2022-02-15 07:52:45 ]  Turning off tones\n",
      "[ 2022-02-15 07:53:08 ]  Turning off flux ramp\n",
      "[ 2022-02-15 07:53:08 ]  Turning off all TES biases\n"
     ]
    }
   ],
   "source": [
    "S.all_off()"
   ]
  },
  {
   "cell_type": "code",
   "execution_count": 35,
   "id": "6ff0d296",
   "metadata": {},
   "outputs": [
    {
     "name": "stdout",
     "output_type": "stream",
     "text": [
      "[ 2022-02-15 07:56:21 ]  JESD Tx Okay\n",
      "[ 2022-02-15 07:56:21 ]  JESD Rx Okay\n",
      "[ 2022-02-15 07:56:23 ]  JESD health check finished after 1 seconds. The final status was Locked.\n"
     ]
    },
    {
     "data": {
      "text/plain": [
       "(True, True, 'Locked')"
      ]
     },
     "execution_count": 35,
     "metadata": {},
     "output_type": "execute_result"
    }
   ],
   "source": [
    "S.check_jesd(0)"
   ]
  },
  {
   "cell_type": "code",
   "execution_count": 51,
   "id": "66133b16",
   "metadata": {},
   "outputs": [
    {
     "name": "stdout",
     "output_type": "stream",
     "text": [
      "[ 2022-02-15 08:15:13 ]  Turning off tones\n",
      "[ 2022-02-15 08:15:32 ]  Turning off flux ramp\n",
      "[ 2022-02-15 08:15:32 ]  Turning off all TES biases\n"
     ]
    }
   ],
   "source": [
    "S.all_off()"
   ]
  },
  {
   "cell_type": "code",
   "execution_count": 52,
   "id": "357e2d5a",
   "metadata": {},
   "outputs": [
    {
     "data": {
      "text/plain": [
       "(0, 324)"
      ]
     },
     "execution_count": 52,
     "metadata": {},
     "output_type": "execute_result"
    }
   ],
   "source": [
    "S.set_fixed_tone(4333,13)"
   ]
  },
  {
   "cell_type": "code",
   "execution_count": 46,
   "id": "920b276c",
   "metadata": {},
   "outputs": [
    {
     "data": {
      "text/plain": [
       "array([], dtype=int64)"
      ]
     },
     "execution_count": 46,
     "metadata": {},
     "output_type": "execute_result"
    }
   ],
   "source": [
    "S.which_on(0)"
   ]
  }
 ],
 "metadata": {
  "kernelspec": {
   "display_name": "Python 3",
   "language": "python",
   "name": "python3"
  },
  "language_info": {
   "codemirror_mode": {
    "name": "ipython",
    "version": 3
   },
   "file_extension": ".py",
   "mimetype": "text/x-python",
   "name": "python",
   "nbconvert_exporter": "python",
   "pygments_lexer": "ipython3",
   "version": "3.6.9"
  }
 },
 "nbformat": 4,
 "nbformat_minor": 5
}
