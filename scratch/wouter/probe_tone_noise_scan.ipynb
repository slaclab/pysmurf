{
 "cells": [
  {
   "cell_type": "markdown",
   "id": "690faf31",
   "metadata": {},
   "source": [
    "Imports"
   ]
  },
  {
   "cell_type": "code",
   "execution_count": 1,
   "id": "3a0dd250",
   "metadata": {},
   "outputs": [],
   "source": [
    "import pysmurf.client\n",
    "import matplotlib.pyplot as plt\n",
    "import numpy as np\n",
    "from scipy import signal\n",
    "import epics\n",
    "import os\n",
    "\n",
    "%matplotlib inline"
   ]
  },
  {
   "cell_type": "markdown",
   "id": "95e156a2",
   "metadata": {},
   "source": [
    "Instantiate pysmurf"
   ]
  },
  {
   "cell_type": "code",
   "execution_count": 2,
   "id": "e62a22c4",
   "metadata": {},
   "outputs": [],
   "source": [
    "epics_prefix = \"smurf_server_s2\"\n",
    "config_file  = \"/usr/local/src/pysmurf/cfg_files/mit/experiment_mit.cfg\"\n",
    "S = pysmurf.client.SmurfControl(epics_root=epics_prefix, \n",
    "                                cfg_file=config_file, \n",
    "                                setup=False, \n",
    "                                make_logfile=False)"
   ]
  },
  {
   "cell_type": "code",
   "execution_count": 3,
   "id": "50e3d1c0",
   "metadata": {},
   "outputs": [
    {
     "name": "stdout",
     "output_type": "stream",
     "text": [
      "[ 2022-04-26 21:07:09 ]  Setting up...\n",
      "[ 2022-04-26 21:07:09 ]  Toggling DACs\n",
      "[ 2022-04-26 21:07:09 ]  caput smurf_server_s2:AMCc:FpgaTopLevel:AppTop:AppCore:MicrowaveMuxCore[0]:DBG:dacReset[0] 1\n",
      "[ 2022-04-26 21:07:09 ]  caput smurf_server_s2:AMCc:FpgaTopLevel:AppTop:AppCore:MicrowaveMuxCore[0]:DBG:dacReset[1] 1\n",
      "[ 2022-04-26 21:07:09 ]  caput smurf_server_s2:AMCc:FpgaTopLevel:AppTop:AppCore:MicrowaveMuxCore[0]:DBG:dacReset[0] 0\n",
      "[ 2022-04-26 21:07:09 ]  caput smurf_server_s2:AMCc:FpgaTopLevel:AppTop:AppCore:MicrowaveMuxCore[0]:DBG:dacReset[1] 0\n",
      "[ 2022-04-26 21:07:09 ]  caput smurf_server_s2:AMCc:ReadAll 1\n",
      "[ 2022-04-26 21:07:14 ]  Waiting 20.00 seconds after...\n",
      "[ 2022-04-26 21:07:34 ]  Done waiting.\n",
      "[ 2022-04-26 21:07:34 ]  caget smurf_server_s2:AMCc:SmurfApplication:SmurfVersion\n",
      "[ 2022-04-26 21:07:34 ]  5.0.2\n",
      "[ 2022-04-26 21:07:34 ]  caput smurf_server_s2:AMCc:setDefaults 1\n",
      "[ 2022-04-26 21:08:08 ]  caget smurf_server_s2:AMCc:SmurfApplication:ConfiguringInProgress\n",
      "[ 2022-04-26 21:08:08 ]  False\n",
      "[ 2022-04-26 21:08:08 ]  caget smurf_server_s2:AMCc:SmurfApplication:SystemConfigured\n",
      "[ 2022-04-26 21:08:09 ]  True\n",
      "[ 2022-04-26 21:08:09 ]  System configuration finished after 34 seconds. The final state was True.\n",
      "[ 2022-04-26 21:08:09 ]  caget smurf_server_s2:AMCc:SmurfApplication:SmurfVersion\n",
      "[ 2022-04-26 21:08:09 ]  5.0.2\n",
      "[ 2022-04-26 21:08:09 ]  caget smurf_server_s2:AMCc:SmurfApplication:JesdStatus\n",
      "[ 2022-04-26 21:08:09 ]  Locked\n",
      "[ 2022-04-26 21:08:09 ]  caput smurf_server_s2:AMCc:FpgaTopLevel:AppTop:AppCore:SysgenCryo:Base[0]:iqSwapIn 0\n",
      "[ 2022-04-26 21:08:09 ]  caput smurf_server_s2:AMCc:FpgaTopLevel:AppTop:AppCore:SysgenCryo:Base[0]:iqSwapOut 0\n",
      "[ 2022-04-26 21:08:09 ]  caput smurf_server_s2:AMCc:FpgaTopLevel:AppTop:AppCore:SysgenCryo:Base[0]:refPhaseDelay 6\n",
      "[ 2022-04-26 21:08:09 ]  caput smurf_server_s2:AMCc:FpgaTopLevel:AppTop:AppCore:SysgenCryo:Base[0]:refPhaseDelayFine 16\n",
      "[ 2022-04-26 21:08:09 ]  caput smurf_server_s2:AMCc:FpgaTopLevel:AppTop:AppCore:SysgenCryo:Base[0]:lmsDelay 24\n",
      "[ 2022-04-26 21:08:09 ]  caput smurf_server_s2:AMCc:FpgaTopLevel:AppTop:AppCore:SysgenCryo:Base[0]:lmsGain 0\n",
      "[ 2022-04-26 21:08:10 ]  caput smurf_server_s2:AMCc:FpgaTopLevel:AppTop:AppCore:SysgenCryo:Base[0]:trigRstDly 15\n",
      "[ 2022-04-26 21:08:10 ]  caput smurf_server_s2:AMCc:FpgaTopLevel:AppTop:AppCore:SysgenCryo:Base[0]:feedbackEnable 1\n",
      "[ 2022-04-26 21:08:10 ]  caput smurf_server_s2:AMCc:FpgaTopLevel:AppTop:AppCore:SysgenCryo:Base[0]:feedbackGain 2048\n",
      "[ 2022-04-26 21:08:10 ]  caput smurf_server_s2:AMCc:FpgaTopLevel:AppTop:AppCore:SysgenCryo:Base[0]:feedbackLimit 6144.0\n",
      "[ 2022-04-26 21:08:10 ]  caput smurf_server_s2:AMCc:FpgaTopLevel:AppTop:AppCore:SysgenCryo:Base[0]:feedbackPolarity 1\n",
      "[ 2022-04-26 21:08:10 ]  caput smurf_server_s2:AMCc:FpgaTopLevel:AppTop:AppTopJesd[0]:JesdTx:dataOutMux[2] UserData\n",
      "[ 2022-04-26 21:08:10 ]  caput smurf_server_s2:AMCc:FpgaTopLevel:AppTop:AppTopJesd[0]:JesdTx:dataOutMux[3] UserData\n",
      "[ 2022-04-26 21:08:10 ]  caput smurf_server_s2:AMCc:FpgaTopLevel:AppTop:AppCore:SysgenCryo:Base[0]:dspEnable 1\n",
      "[ 2022-04-26 21:08:10 ]  caput smurf_server_s2:AMCc:FpgaTopLevel:AppTop:AppCore:SysgenCryo:Base[0]:CryoChannels:gradientDescentGain 0.0001\n",
      "[ 2022-04-26 21:08:11 ]  caput smurf_server_s2:AMCc:FpgaTopLevel:AppTop:AppCore:SysgenCryo:Base[0]:CryoChannels:gradientDescentAverages 1\n",
      "[ 2022-04-26 21:08:11 ]  caput smurf_server_s2:AMCc:FpgaTopLevel:AppTop:AppCore:SysgenCryo:Base[0]:CryoChannels:gradientDescentConvergeHz 500.0\n",
      "[ 2022-04-26 21:08:11 ]  caput smurf_server_s2:AMCc:FpgaTopLevel:AppTop:AppCore:SysgenCryo:Base[0]:CryoChannels:gradientDescentStepHz 1000.0\n",
      "[ 2022-04-26 21:08:11 ]  caput smurf_server_s2:AMCc:FpgaTopLevel:AppTop:AppCore:SysgenCryo:Base[0]:CryoChannels:gradientDescentMomentum 1\n",
      "[ 2022-04-26 21:08:11 ]  caput smurf_server_s2:AMCc:FpgaTopLevel:AppTop:AppCore:SysgenCryo:Base[0]:CryoChannels:gradientDescentBeta 0.0\n",
      "[ 2022-04-26 21:08:11 ]  caput smurf_server_s2:AMCc:FpgaTopLevel:AppTop:AppCore:SysgenCryo:Base[0]:CryoChannels:etaScanAverages 1\n",
      "[ 2022-04-26 21:08:11 ]  caput smurf_server_s2:AMCc:FpgaTopLevel:AppTop:AppCore:SysgenCryo:Base[0]:CryoChannels:etaScanDelF 5000\n",
      "[ 2022-04-26 21:08:11 ]  caput smurf_server_s2:AMCc:FpgaTopLevel:AppTop:AppCore:SysgenCryo:Base[1]:iqSwapIn 0\n",
      "[ 2022-04-26 21:08:11 ]  caput smurf_server_s2:AMCc:FpgaTopLevel:AppTop:AppCore:SysgenCryo:Base[1]:iqSwapOut 0\n",
      "[ 2022-04-26 21:08:11 ]  caput smurf_server_s2:AMCc:FpgaTopLevel:AppTop:AppCore:SysgenCryo:Base[1]:refPhaseDelay 6\n",
      "[ 2022-04-26 21:08:11 ]  caput smurf_server_s2:AMCc:FpgaTopLevel:AppTop:AppCore:SysgenCryo:Base[1]:refPhaseDelayFine 19\n",
      "[ 2022-04-26 21:08:11 ]  caput smurf_server_s2:AMCc:FpgaTopLevel:AppTop:AppCore:SysgenCryo:Base[1]:lmsDelay 24\n",
      "[ 2022-04-26 21:08:11 ]  caput smurf_server_s2:AMCc:FpgaTopLevel:AppTop:AppCore:SysgenCryo:Base[1]:lmsGain 0\n",
      "[ 2022-04-26 21:08:11 ]  caput smurf_server_s2:AMCc:FpgaTopLevel:AppTop:AppCore:SysgenCryo:Base[1]:trigRstDly 15\n",
      "[ 2022-04-26 21:08:11 ]  caput smurf_server_s2:AMCc:FpgaTopLevel:AppTop:AppCore:SysgenCryo:Base[1]:feedbackEnable 1\n",
      "[ 2022-04-26 21:08:11 ]  caput smurf_server_s2:AMCc:FpgaTopLevel:AppTop:AppCore:SysgenCryo:Base[1]:feedbackGain 2048\n",
      "[ 2022-04-26 21:08:11 ]  caput smurf_server_s2:AMCc:FpgaTopLevel:AppTop:AppCore:SysgenCryo:Base[1]:feedbackLimit 6144.0\n",
      "[ 2022-04-26 21:08:11 ]  caput smurf_server_s2:AMCc:FpgaTopLevel:AppTop:AppCore:SysgenCryo:Base[1]:feedbackPolarity 1\n",
      "[ 2022-04-26 21:08:11 ]  caput smurf_server_s2:AMCc:FpgaTopLevel:AppTop:AppTopJesd[0]:JesdTx:dataOutMux[0] UserData\n",
      "[ 2022-04-26 21:08:11 ]  caput smurf_server_s2:AMCc:FpgaTopLevel:AppTop:AppTopJesd[0]:JesdTx:dataOutMux[1] UserData\n",
      "[ 2022-04-26 21:08:12 ]  caput smurf_server_s2:AMCc:FpgaTopLevel:AppTop:AppCore:SysgenCryo:Base[1]:dspEnable 1\n",
      "[ 2022-04-26 21:08:12 ]  caput smurf_server_s2:AMCc:FpgaTopLevel:AppTop:AppCore:SysgenCryo:Base[1]:CryoChannels:gradientDescentGain 0.0001\n",
      "[ 2022-04-26 21:08:12 ]  caput smurf_server_s2:AMCc:FpgaTopLevel:AppTop:AppCore:SysgenCryo:Base[1]:CryoChannels:gradientDescentAverages 1\n",
      "[ 2022-04-26 21:08:12 ]  caput smurf_server_s2:AMCc:FpgaTopLevel:AppTop:AppCore:SysgenCryo:Base[1]:CryoChannels:gradientDescentConvergeHz 500.0\n",
      "[ 2022-04-26 21:08:12 ]  caput smurf_server_s2:AMCc:FpgaTopLevel:AppTop:AppCore:SysgenCryo:Base[1]:CryoChannels:gradientDescentStepHz 1000.0\n",
      "[ 2022-04-26 21:08:12 ]  caput smurf_server_s2:AMCc:FpgaTopLevel:AppTop:AppCore:SysgenCryo:Base[1]:CryoChannels:gradientDescentMomentum 1\n",
      "[ 2022-04-26 21:08:12 ]  caput smurf_server_s2:AMCc:FpgaTopLevel:AppTop:AppCore:SysgenCryo:Base[1]:CryoChannels:gradientDescentBeta 0.0\n",
      "[ 2022-04-26 21:08:12 ]  caput smurf_server_s2:AMCc:FpgaTopLevel:AppTop:AppCore:SysgenCryo:Base[1]:CryoChannels:etaScanAverages 1\n",
      "[ 2022-04-26 21:08:12 ]  caput smurf_server_s2:AMCc:FpgaTopLevel:AppTop:AppCore:SysgenCryo:Base[1]:CryoChannels:etaScanDelF 5000\n",
      "[ 2022-04-26 21:08:12 ]  caput smurf_server_s2:AMCc:FpgaTopLevel:AppTop:AppCore:SysgenCryo:Base[2]:iqSwapIn 0\n",
      "[ 2022-04-26 21:08:12 ]  caput smurf_server_s2:AMCc:FpgaTopLevel:AppTop:AppCore:SysgenCryo:Base[2]:iqSwapOut 0\n",
      "[ 2022-04-26 21:08:12 ]  caput smurf_server_s2:AMCc:FpgaTopLevel:AppTop:AppCore:SysgenCryo:Base[2]:refPhaseDelay 6\n",
      "[ 2022-04-26 21:08:12 ]  caput smurf_server_s2:AMCc:FpgaTopLevel:AppTop:AppCore:SysgenCryo:Base[2]:refPhaseDelayFine 11\n",
      "[ 2022-04-26 21:08:12 ]  caput smurf_server_s2:AMCc:FpgaTopLevel:AppTop:AppCore:SysgenCryo:Base[2]:lmsDelay 24\n",
      "[ 2022-04-26 21:08:12 ]  caput smurf_server_s2:AMCc:FpgaTopLevel:AppTop:AppCore:SysgenCryo:Base[2]:lmsGain 0\n",
      "[ 2022-04-26 21:08:12 ]  caput smurf_server_s2:AMCc:FpgaTopLevel:AppTop:AppCore:SysgenCryo:Base[2]:trigRstDly 15\n",
      "[ 2022-04-26 21:08:12 ]  caput smurf_server_s2:AMCc:FpgaTopLevel:AppTop:AppCore:SysgenCryo:Base[2]:feedbackEnable 1\n",
      "[ 2022-04-26 21:08:12 ]  caput smurf_server_s2:AMCc:FpgaTopLevel:AppTop:AppCore:SysgenCryo:Base[2]:feedbackGain 2048\n",
      "[ 2022-04-26 21:08:12 ]  caput smurf_server_s2:AMCc:FpgaTopLevel:AppTop:AppCore:SysgenCryo:Base[2]:feedbackLimit 6144.0\n",
      "[ 2022-04-26 21:08:12 ]  caput smurf_server_s2:AMCc:FpgaTopLevel:AppTop:AppCore:SysgenCryo:Base[2]:feedbackPolarity 1\n",
      "[ 2022-04-26 21:08:12 ]  caput smurf_server_s2:AMCc:FpgaTopLevel:AppTop:AppTopJesd[0]:JesdTx:dataOutMux[6] UserData\n"
     ]
    },
    {
     "name": "stdout",
     "output_type": "stream",
     "text": [
      "[ 2022-04-26 21:08:12 ]  caput smurf_server_s2:AMCc:FpgaTopLevel:AppTop:AppTopJesd[0]:JesdTx:dataOutMux[7] UserData\n",
      "[ 2022-04-26 21:08:12 ]  caput smurf_server_s2:AMCc:FpgaTopLevel:AppTop:AppCore:SysgenCryo:Base[2]:dspEnable 1\n",
      "[ 2022-04-26 21:08:12 ]  caput smurf_server_s2:AMCc:FpgaTopLevel:AppTop:AppCore:SysgenCryo:Base[2]:CryoChannels:gradientDescentGain 0.0001\n",
      "[ 2022-04-26 21:08:12 ]  caput smurf_server_s2:AMCc:FpgaTopLevel:AppTop:AppCore:SysgenCryo:Base[2]:CryoChannels:gradientDescentAverages 1\n",
      "[ 2022-04-26 21:08:12 ]  caput smurf_server_s2:AMCc:FpgaTopLevel:AppTop:AppCore:SysgenCryo:Base[2]:CryoChannels:gradientDescentConvergeHz 500.0\n",
      "[ 2022-04-26 21:08:12 ]  caput smurf_server_s2:AMCc:FpgaTopLevel:AppTop:AppCore:SysgenCryo:Base[2]:CryoChannels:gradientDescentStepHz 1000.0\n",
      "[ 2022-04-26 21:08:12 ]  caput smurf_server_s2:AMCc:FpgaTopLevel:AppTop:AppCore:SysgenCryo:Base[2]:CryoChannels:gradientDescentMomentum 1\n",
      "[ 2022-04-26 21:08:12 ]  caput smurf_server_s2:AMCc:FpgaTopLevel:AppTop:AppCore:SysgenCryo:Base[2]:CryoChannels:gradientDescentBeta 0.0\n",
      "[ 2022-04-26 21:08:12 ]  caput smurf_server_s2:AMCc:FpgaTopLevel:AppTop:AppCore:SysgenCryo:Base[2]:CryoChannels:etaScanAverages 1\n",
      "[ 2022-04-26 21:08:12 ]  caput smurf_server_s2:AMCc:FpgaTopLevel:AppTop:AppCore:SysgenCryo:Base[2]:CryoChannels:etaScanDelF 5000\n",
      "[ 2022-04-26 21:08:12 ]  caput smurf_server_s2:AMCc:FpgaTopLevel:AppTop:AppCore:SysgenCryo:Base[3]:iqSwapIn 0\n",
      "[ 2022-04-26 21:08:12 ]  caput smurf_server_s2:AMCc:FpgaTopLevel:AppTop:AppCore:SysgenCryo:Base[3]:iqSwapOut 0\n",
      "[ 2022-04-26 21:08:12 ]  caput smurf_server_s2:AMCc:FpgaTopLevel:AppTop:AppCore:SysgenCryo:Base[3]:refPhaseDelay 6\n",
      "[ 2022-04-26 21:08:12 ]  caput smurf_server_s2:AMCc:FpgaTopLevel:AppTop:AppCore:SysgenCryo:Base[3]:refPhaseDelayFine 16\n",
      "[ 2022-04-26 21:08:13 ]  caput smurf_server_s2:AMCc:FpgaTopLevel:AppTop:AppCore:SysgenCryo:Base[3]:lmsDelay 24\n",
      "[ 2022-04-26 21:08:13 ]  caput smurf_server_s2:AMCc:FpgaTopLevel:AppTop:AppCore:SysgenCryo:Base[3]:lmsGain 0\n",
      "[ 2022-04-26 21:08:13 ]  caput smurf_server_s2:AMCc:FpgaTopLevel:AppTop:AppCore:SysgenCryo:Base[3]:trigRstDly 15\n",
      "[ 2022-04-26 21:08:13 ]  caput smurf_server_s2:AMCc:FpgaTopLevel:AppTop:AppCore:SysgenCryo:Base[3]:feedbackEnable 1\n",
      "[ 2022-04-26 21:08:13 ]  caput smurf_server_s2:AMCc:FpgaTopLevel:AppTop:AppCore:SysgenCryo:Base[3]:feedbackGain 2048\n",
      "[ 2022-04-26 21:08:13 ]  caput smurf_server_s2:AMCc:FpgaTopLevel:AppTop:AppCore:SysgenCryo:Base[3]:feedbackLimit 6144.0\n",
      "[ 2022-04-26 21:08:13 ]  caput smurf_server_s2:AMCc:FpgaTopLevel:AppTop:AppCore:SysgenCryo:Base[3]:feedbackPolarity 1\n",
      "[ 2022-04-26 21:08:13 ]  caput smurf_server_s2:AMCc:FpgaTopLevel:AppTop:AppTopJesd[0]:JesdTx:dataOutMux[8] UserData\n",
      "[ 2022-04-26 21:08:13 ]  caput smurf_server_s2:AMCc:FpgaTopLevel:AppTop:AppTopJesd[0]:JesdTx:dataOutMux[9] UserData\n",
      "[ 2022-04-26 21:08:13 ]  caput smurf_server_s2:AMCc:FpgaTopLevel:AppTop:AppCore:SysgenCryo:Base[3]:dspEnable 1\n",
      "[ 2022-04-26 21:08:13 ]  caput smurf_server_s2:AMCc:FpgaTopLevel:AppTop:AppCore:SysgenCryo:Base[3]:CryoChannels:gradientDescentGain 0.0001\n",
      "[ 2022-04-26 21:08:13 ]  caput smurf_server_s2:AMCc:FpgaTopLevel:AppTop:AppCore:SysgenCryo:Base[3]:CryoChannels:gradientDescentAverages 1\n",
      "[ 2022-04-26 21:08:13 ]  caput smurf_server_s2:AMCc:FpgaTopLevel:AppTop:AppCore:SysgenCryo:Base[3]:CryoChannels:gradientDescentConvergeHz 500.0\n",
      "[ 2022-04-26 21:08:13 ]  caput smurf_server_s2:AMCc:FpgaTopLevel:AppTop:AppCore:SysgenCryo:Base[3]:CryoChannels:gradientDescentStepHz 1000.0\n",
      "[ 2022-04-26 21:08:13 ]  caput smurf_server_s2:AMCc:FpgaTopLevel:AppTop:AppCore:SysgenCryo:Base[3]:CryoChannels:gradientDescentMomentum 1\n",
      "[ 2022-04-26 21:08:13 ]  caput smurf_server_s2:AMCc:FpgaTopLevel:AppTop:AppCore:SysgenCryo:Base[3]:CryoChannels:gradientDescentBeta 0.0\n",
      "[ 2022-04-26 21:08:13 ]  caput smurf_server_s2:AMCc:FpgaTopLevel:AppTop:AppCore:SysgenCryo:Base[3]:CryoChannels:etaScanAverages 1\n",
      "[ 2022-04-26 21:08:13 ]  caput smurf_server_s2:AMCc:FpgaTopLevel:AppTop:AppCore:SysgenCryo:Base[3]:CryoChannels:etaScanDelF 5000\n",
      "[ 2022-04-26 21:08:13 ]  caput smurf_server_s2:AMCc:FpgaTopLevel:AppTop:AppCore:MicrowaveMuxCore[0]:ATT:UC[1] 0\n",
      "[ 2022-04-26 21:08:13 ]  caput smurf_server_s2:AMCc:FpgaTopLevel:AppTop:AppCore:MicrowaveMuxCore[0]:ATT:DC[1] 0\n",
      "[ 2022-04-26 21:08:13 ]  caput smurf_server_s2:AMCc:FpgaTopLevel:AppTop:AppCore:MicrowaveMuxCore[0]:ATT:UC[2] 0\n",
      "[ 2022-04-26 21:08:13 ]  caput smurf_server_s2:AMCc:FpgaTopLevel:AppTop:AppCore:MicrowaveMuxCore[0]:ATT:DC[2] 0\n",
      "[ 2022-04-26 21:08:13 ]  caput smurf_server_s2:AMCc:FpgaTopLevel:AppTop:AppCore:MicrowaveMuxCore[0]:ATT:UC[3] 0\n",
      "[ 2022-04-26 21:08:13 ]  caput smurf_server_s2:AMCc:FpgaTopLevel:AppTop:AppCore:MicrowaveMuxCore[0]:ATT:DC[3] 0\n",
      "[ 2022-04-26 21:08:13 ]  caput smurf_server_s2:AMCc:FpgaTopLevel:AppTop:AppCore:MicrowaveMuxCore[0]:ATT:UC[4] 0\n",
      "[ 2022-04-26 21:08:13 ]  caput smurf_server_s2:AMCc:FpgaTopLevel:AppTop:AppCore:MicrowaveMuxCore[0]:ATT:DC[4] 0\n",
      "[ 2022-04-26 21:08:13 ]  caput smurf_server_s2:AMCc:FpgaTopLevel:AppTop:DaqMuxV2[0]:TriggerHwArm 0\n",
      "[ 2022-04-26 21:08:13 ]  caput smurf_server_s2:AMCc:FpgaTopLevel:AppTop:DaqMuxV2[1]:TriggerHwArm 0\n",
      "[ 2022-04-26 21:08:13 ]  caput smurf_server_s2:AMCc:FpgaTopLevel:AmcCarrierCore:AmcCarrierTiming:EvrV2CoreTriggers:EvrV2TriggerReg[0]:Width 10\n",
      "[ 2022-04-26 21:08:13 ]  caput smurf_server_s2:AMCc:FpgaTopLevel:AmcCarrierCore:AmcCarrierTiming:EvrV2CoreTriggers:EvrV2TriggerReg[0]:EnableTrig 1\n",
      "[ 2022-04-26 21:08:13 ]  caput smurf_server_s2:AMCc:FpgaTopLevel:AmcCarrierCore:AmcCarrierTiming:EvrV2CoreTriggers:EvrV2ChannelReg[0]:EnableReg True\n",
      "[ 2022-04-26 21:08:13 ]  caput smurf_server_s2:AMCc:FpgaTopLevel:AmcCarrierCore:AmcCarrierTiming:EvrV2CoreTriggers:EvrV2ChannelReg[0]:DestSel 131072\n",
      "[ 2022-04-26 21:08:13 ]  caput smurf_server_s2:AMCc:FpgaTopLevel:AppTop:AppCore:RtmCryoDet:EnableRampTrigger 1\n",
      "[ 2022-04-26 21:08:13 ]  caput smurf_server_s2:AMCc:FpgaTopLevel:AppTop:AppCore:RtmCryoDet:SelectRamp 1\n",
      "[ 2022-04-26 21:08:13 ]  caput smurf_server_s2:AMCc:FpgaTopLevel:AppTop:AppCore:RtmCryoDet:CpldReset 0\n",
      "[ 2022-04-26 21:08:14 ]  caput smurf_server_s2:AMCc:FpgaTopLevel:AppTop:AppCore:RtmCryoDet:resetRtm 1\n",
      "[ 2022-04-26 21:08:14 ]  Turning off tones\n",
      "[ 2022-04-26 21:08:23 ]  Turning off flux ramp\n",
      "[ 2022-04-26 21:08:23 ]  Turning off all TES biases\n",
      "[ 2022-04-26 21:08:25 ]  caput smurf_server_s2:AMCc:FpgaTopLevel:AppTop:AppCore:RtmCryoDet:RtmSpiSr:CfgRegEnaBit 0\n",
      "[ 2022-04-26 21:08:25 ]  caput smurf_server_s2:AMCc:FpgaTopLevel:AppTop:AppCore:RtmCryoDet:RtmSpiSr:CfgRegEnaBit 0\n",
      "[ 2022-04-26 21:08:25 ]  Percent full scale = 48.900%\n",
      "[ 2022-04-26 21:08:25 ]  caput smurf_server_s2:AMCc:FpgaTopLevel:AppTop:AppCore:RtmCryoDet:LowCycle 5\n",
      "[ 2022-04-26 21:08:25 ]  caput smurf_server_s2:AMCc:FpgaTopLevel:AppTop:AppCore:RtmCryoDet:HighCycle 5\n",
      "[ 2022-04-26 21:08:25 ]  caput smurf_server_s2:AMCc:FpgaTopLevel:AppTop:AppCore:RtmCryoDet:KRelay 3\n",
      "[ 2022-04-26 21:08:25 ]  caput smurf_server_s2:AMCc:FpgaTopLevel:AppTop:AppCore:RtmCryoDet:RampMaxCnt 76799.0\n",
      "[ 2022-04-26 21:08:25 ]  caput smurf_server_s2:AMCc:FpgaTopLevel:AppTop:AppCore:RtmCryoDet:PulseWidth 64\n",
      "[ 2022-04-26 21:08:25 ]  caput smurf_server_s2:AMCc:FpgaTopLevel:AppTop:AppCore:RtmCryoDet:DebounceWidth 255\n",
      "[ 2022-04-26 21:08:25 ]  caput smurf_server_s2:AMCc:FpgaTopLevel:AppTop:AppCore:RtmCryoDet:RtmSpiSr:RampSlope 0\n",
      "[ 2022-04-26 21:08:25 ]  caput smurf_server_s2:AMCc:FpgaTopLevel:AppTop:AppCore:RtmCryoDet:RtmSpiSr:ModeControl 0\n",
      "[ 2022-04-26 21:08:25 ]  caput smurf_server_s2:AMCc:FpgaTopLevel:AppTop:AppCore:RtmCryoDet:RtmSpiSr:FastSlowStepSize 328162.0\n",
      "[ 2022-04-26 21:08:25 ]  caput smurf_server_s2:AMCc:FpgaTopLevel:AppTop:AppCore:RtmCryoDet:RtmSpiSr:FastSlowRstValue 1097365248.0\n",
      "[ 2022-04-26 21:08:25 ]  caput smurf_server_s2:AMCc:FpgaTopLevel:AppTop:AppCore:RtmCryoDet:EnableRampTrigger 1\n",
      "[ 2022-04-26 21:08:25 ]  caput smurf_server_s2:AMCc:FpgaTopLevel:AppTop:AppCore:enableStreaming 1\n",
      "[ 2022-04-26 21:08:26 ]  caput smurf_server_s2:AMCc:FpgaTopLevel:AppTop:AppCore:RtmCryoDet:RtmSpiMax:HemtBiasDacCtrlRegCh[33] 2\n",
      "[ 2022-04-26 21:08:26 ]  Setting HEMT LNA Vg from config file to Vg=0.610\n",
      "[ 2022-04-26 21:08:26 ]  caput smurf_server_s2:AMCc:FpgaTopLevel:AppTop:AppCore:RtmCryoDet:RtmSpiMax:HemtBiasDacDataRegCh[33] 158063\n"
     ]
    },
    {
     "name": "stdout",
     "output_type": "stream",
     "text": [
      "[ 2022-04-26 21:08:26 ]  caput smurf_server_s2:AMCc:FpgaTopLevel:AppTop:AppCore:RtmCryoDet:RtmSpiMax:TesBiasDacCtrlRegCh[32] 2\n",
      "[ 2022-04-26 21:08:26 ]  Setting 50K LNA Vg from config file to Vg=-0.740\n",
      "[ 2022-04-26 21:08:26 ]  caput smurf_server_s2:AMCc:FpgaTopLevel:AppTop:AppCore:RtmCryoDet:RtmSpiMax:TesBiasDacDataRegCh[32] -191749.5854063018\n",
      "[ 2022-04-26 21:08:27 ]  {'hemt_Vg': 0.6099967296000001, 'hemt_Id': -0.941, '50K_Vg': -0.7399977408, '50K_Id': -0.4963}\n",
      "[ 2022-04-26 21:08:27 ]  {'hemt_Vg': 0.6099967296000001, 'hemt_Id': -0.941, '50K_Vg': -0.7399977408, '50K_Id': -0.4963}\n",
      "[ 2022-04-26 21:08:27 ]  Cryocard temperature = -8.928571428571429\n",
      "[ 2022-04-26 21:08:27 ]  Configuring the system to take timing from ext_ref\n",
      "[ 2022-04-26 21:08:27 ]  Select external reference for bay 0\n",
      "[ 2022-04-26 21:08:32 ]  smurf_server_s2:AMCc:FpgaTopLevel:AppTop:AppCore:MicrowaveMuxCore[0]:SelExtRef sent\n",
      "[ 2022-04-26 21:08:32 ]  caput smurf_server_s2:AMCc:FpgaTopLevel:AppTop:AppCore:RtmCryoDet:RampStartMode 0\n",
      "[ 2022-04-26 21:08:32 ]  Done with setup.\n"
     ]
    },
    {
     "data": {
      "text/plain": [
       "True"
      ]
     },
     "execution_count": 3,
     "metadata": {},
     "output_type": "execute_result"
    }
   ],
   "source": [
    "S.setup()"
   ]
  },
  {
   "cell_type": "code",
   "execution_count": 4,
   "id": "32ab9a19",
   "metadata": {},
   "outputs": [
    {
     "name": "stdout",
     "output_type": "stream",
     "text": [
      "[ 2022-04-26 21:08:32 ]  Turning off tones\n",
      "[ 2022-04-26 21:08:39 ]  Turning off flux ramp\n",
      "[ 2022-04-26 21:08:39 ]  Turning off all TES biases\n"
     ]
    }
   ],
   "source": [
    "S.all_off()"
   ]
  },
  {
   "cell_type": "markdown",
   "id": "2e57aece",
   "metadata": {},
   "source": [
    "Serial eta scan enables feedback, so even though we instantiated this as a fixed tone, need to disable it's feedback again."
   ]
  },
  {
   "cell_type": "code",
   "execution_count": 5,
   "id": "dd65789b",
   "metadata": {},
   "outputs": [],
   "source": [
    "#S.set_feedback_enable_channel(band,channel,0)"
   ]
  },
  {
   "cell_type": "markdown",
   "id": "31931411",
   "metadata": {},
   "source": [
    "### Resonator sensitivity based on Shawn's example"
   ]
  },
  {
   "cell_type": "code",
   "execution_count": 6,
   "id": "f95ea5c3",
   "metadata": {},
   "outputs": [],
   "source": [
    "band = 2\n",
    "S.set_att_uc(band,0)"
   ]
  },
  {
   "cell_type": "code",
   "execution_count": 7,
   "id": "c2c3283e",
   "metadata": {},
   "outputs": [
    {
     "name": "stdout",
     "output_type": "stream",
     "text": [
      "[ 2022-04-26 21:08:41 ]  Sweeping across frequencies 5000.0MHz to 5500.0MHz\n",
      "[ 2022-04-26 21:08:41 ]  Working on band 2\n",
      "[ 2022-04-26 21:09:29 ]  serial find freq complete ; etaScanInProgress = 0\n"
     ]
    },
    {
     "data": {
      "image/png": "[encoded data removed]",
      "text/plain": [
       "<Figure size 720x288 with 1 Axes>"
      ]
     },
     "metadata": {
      "needs_background": "light"
     },
     "output_type": "display_data"
    },
    {
     "data": {
      "text/plain": [
       "(array([[0., 0., 0., ..., 0., 0., 0.],\n",
       "        [0., 0., 0., ..., 0., 0., 0.],\n",
       "        [0., 0., 0., ..., 0., 0., 0.],\n",
       "        ...,\n",
       "        [0., 0., 0., ..., 0., 0., 0.],\n",
       "        [0., 0., 0., ..., 0., 0., 0.],\n",
       "        [0., 0., 0., ..., 0., 0., 0.]]),\n",
       " array([[0.+0.j, 0.+0.j, 0.+0.j, ..., 0.+0.j, 0.+0.j, 0.+0.j],\n",
       "        [0.+0.j, 0.+0.j, 0.+0.j, ..., 0.+0.j, 0.+0.j, 0.+0.j],\n",
       "        [0.+0.j, 0.+0.j, 0.+0.j, ..., 0.+0.j, 0.+0.j, 0.+0.j],\n",
       "        ...,\n",
       "        [0.+0.j, 0.+0.j, 0.+0.j, ..., 0.+0.j, 0.+0.j, 0.+0.j],\n",
       "        [0.+0.j, 0.+0.j, 0.+0.j, ..., 0.+0.j, 0.+0.j, 0.+0.j],\n",
       "        [0.+0.j, 0.+0.j, 0.+0.j, ..., 0.+0.j, 0.+0.j, 0.+0.j]]))"
      ]
     },
     "execution_count": 7,
     "metadata": {},
     "output_type": "execute_result"
    }
   ],
   "source": [
    "S.find_freq(band=band, tone_power=14, make_plot=True, show_plot=True)"
   ]
  },
  {
   "cell_type": "code",
   "execution_count": 8,
   "id": "064b2467",
   "metadata": {},
   "outputs": [
    {
     "name": "stdout",
     "output_type": "stream",
     "text": [
      "[ 2022-04-26 21:10:21 ]  freq 5499.0000 - 1 of 1\n",
      "[ 2022-04-26 21:10:21 ]  Writing new channel assignment to /data/smurf_data/tune/1651007421_channel_assignment_b2.txt\n",
      "[ 2022-04-26 21:10:21 ]  Old master assignment file: /data/smurf_data/tune/1639862787_channel_assignment_b2.txt\n",
      "[ 2022-04-26 21:10:21 ]  New master assignment file: /data/smurf_data/tune/1651007421_channel_assignment_b2.txt\n",
      "[ 2022-04-26 21:10:25 ]  serial find freq complete ; etaScanInProgress = 0\n",
      "[ 2022-04-26 21:10:25 ]  Assigning channels\n",
      "[ 2022-04-26 21:10:25 ]  Writing new channel assignment to /data/smurf_data/tune/1651007425_channel_assignment_b2.txt\n",
      "[ 2022-04-26 21:10:25 ]  Old master assignment file: /data/smurf_data/tune/1651007421_channel_assignment_b2.txt\n",
      "[ 2022-04-26 21:10:25 ]  New master assignment file: /data/smurf_data/tune/1651007425_channel_assignment_b2.txt\n",
      "[ 2022-04-26 21:10:25 ]  Saving to : /data/smurf_data/tune/1651007425_tune.npy\n",
      "[ 2022-04-26 21:10:25 ]  Relocking...\n",
      "[ 2022-04-26 21:10:32 ]  Setting on 1 channels on band 2\n"
     ]
    }
   ],
   "source": [
    "S.setup_notches(band=band, tone_power=14, sweep_width=1, df_sweep=0.02, new_master_assignment=True)"
   ]
  },
  {
   "cell_type": "code",
   "execution_count": 9,
   "id": "0d9db87d",
   "metadata": {},
   "outputs": [
    {
     "name": "stdout",
     "output_type": "stream",
     "text": [
      "[ 2022-04-26 21:10:32 ]  Eta plot 1 of 1\n"
     ]
    }
   ],
   "source": [
    "S.plot_tune_summary(band=band, eta_scan=True)"
   ]
  },
  {
   "cell_type": "code",
   "execution_count": 10,
   "id": "d86ea51b",
   "metadata": {},
   "outputs": [],
   "source": [
    "S.run_serial_gradient_descent(band)"
   ]
  },
  {
   "cell_type": "code",
   "execution_count": 11,
   "id": "bb7a3717",
   "metadata": {},
   "outputs": [],
   "source": [
    "# run eta scan to normalize resonator gain (delta Q -> delta frequency) and apply rotation such that Q is nominally 0\n",
    "S.run_serial_eta_scan(band)"
   ]
  },
  {
   "cell_type": "code",
   "execution_count": 12,
   "id": "02859588",
   "metadata": {},
   "outputs": [
    {
     "data": {
      "text/plain": [
       "22"
      ]
     },
     "execution_count": 12,
     "metadata": {},
     "output_type": "execute_result"
    }
   ],
   "source": [
    "channel = S.which_on(band=band)[0]\n",
    "channel"
   ]
  },
  {
   "cell_type": "code",
   "execution_count": 13,
   "id": "6d5cab69",
   "metadata": {},
   "outputs": [
    {
     "name": "stdout",
     "output_type": "stream",
     "text": [
      "b2ch22 eta_phase_deg=0.00\n"
     ]
    }
   ],
   "source": [
    "eta_phase_deg = S.get_eta_phase_degree_channel(band,channel)\n",
    "print('b{}ch{} eta_phase_deg={:.2f}'.format(band,channel,eta_phase_deg))"
   ]
  },
  {
   "cell_type": "code",
   "execution_count": 14,
   "id": "af23687b",
   "metadata": {},
   "outputs": [],
   "source": [
    "S.set_feedback_limit_khz(band,800)"
   ]
  },
  {
   "cell_type": "code",
   "execution_count": 15,
   "id": "f219f79d",
   "metadata": {},
   "outputs": [
    {
     "name": "stdout",
     "output_type": "stream",
     "text": [
      "[ 2022-04-26 21:11:04 ]  Using LMS gain is now an advanced feature.\n",
      "[ 2022-04-26 21:11:04 ]  Unless you are an expert, you probably want feedback_gain.\n",
      "[ 2022-04-26 21:11:04 ]  See tracking_setup docstring.\n",
      "[ 2022-04-26 21:11:04 ]  Percent full scale = 65.000%\n",
      "[ 2022-04-26 21:11:05 ]  caput smurf_server_s2:AMCc:FpgaTopLevel:AppTop:AppCore:SysgenCryo:Base[2]:singleChannelReadout 0\n",
      "[ 2022-04-26 21:11:05 ]  caput smurf_server_s2:AMCc:FpgaTopLevel:AppTop:AppCore:SysgenCryo:Base[2]:singleChannelReadoutOpt2 0\n",
      "[ 2022-04-26 21:11:05 ]  Writing to file : /data/smurf_data/20220426/1651007224/outputs/1651007465.dat\n",
      "[ 2022-04-26 21:11:05 ]  caput smurf_server_s2:AMCc:FpgaTopLevel:AppTop:DaqMuxV2[0]:DataBufferSize 524288\n",
      "[ 2022-04-26 21:11:05 ]  caput smurf_server_s2:AMCc:FpgaTopLevel:AppTop:AppCore:DebugSelect[0] 2\n",
      "[ 2022-04-26 21:11:05 ]  Data acquisition in progress...\n",
      "[ 2022-04-26 21:11:05 ]  caput smurf_server_s2:AMCc:FpgaTopLevel:AppTop:DaqMuxV2[0]:TriggerDaq 1\n",
      "[ 2022-04-26 21:11:06 ]  Done taking data\n",
      "[ 2022-04-26 21:11:07 ]  Number of channels on : 1\n",
      "[ 2022-04-26 21:11:07 ]  Number of channels on with flux ramp response : 0\n"
     ]
    },
    {
     "ename": "ValueError",
     "evalue": "zero-size array to reduction operation maximum which has no identity",
     "output_type": "error",
     "traceback": [
      "\u001b[0;31m---------------------------------------------------------------------------\u001b[0m",
      "\u001b[0;31mValueError\u001b[0m                                Traceback (most recent call last)",
      "\u001b[0;32m<ipython-input-15-13d627141ba5>\u001b[0m in \u001b[0;36m<module>\u001b[0;34m\u001b[0m\n\u001b[1;32m     10\u001b[0m                             \u001b[0mlms_enable1\u001b[0m\u001b[0;34m=\u001b[0m\u001b[0;36m1\u001b[0m\u001b[0;34m,\u001b[0m\u001b[0;34m\u001b[0m\u001b[0;34m\u001b[0m\u001b[0m\n\u001b[1;32m     11\u001b[0m                             \u001b[0mlms_enable2\u001b[0m\u001b[0;34m=\u001b[0m\u001b[0;36m1\u001b[0m\u001b[0;34m,\u001b[0m\u001b[0;34m\u001b[0m\u001b[0;34m\u001b[0m\u001b[0m\n\u001b[0;32m---> 12\u001b[0;31m                             lms_enable3=1)\n\u001b[0m",
      "\u001b[0;32m/usr/local/src/pysmurf/python/pysmurf/client/util/pub.py\u001b[0m in \u001b[0;36mwrapper\u001b[0;34m(S, pub_action, *args, **kwargs)\u001b[0m\n\u001b[1;32m     48\u001b[0m                     \u001b[0mS\u001b[0m\u001b[0;34m.\u001b[0m\u001b[0mpub\u001b[0m\u001b[0;34m.\u001b[0m\u001b[0m_action_ts\u001b[0m \u001b[0;34m=\u001b[0m \u001b[0mS\u001b[0m\u001b[0;34m.\u001b[0m\u001b[0mget_timestamp\u001b[0m\u001b[0;34m(\u001b[0m\u001b[0;34m)\u001b[0m\u001b[0;34m\u001b[0m\u001b[0;34m\u001b[0m\u001b[0m\n\u001b[1;32m     49\u001b[0m \u001b[0;34m\u001b[0m\u001b[0m\n\u001b[0;32m---> 50\u001b[0;31m                 \u001b[0mrv\u001b[0m \u001b[0;34m=\u001b[0m \u001b[0mfunc\u001b[0m\u001b[0;34m(\u001b[0m\u001b[0mS\u001b[0m\u001b[0;34m,\u001b[0m \u001b[0;34m*\u001b[0m\u001b[0margs\u001b[0m\u001b[0;34m,\u001b[0m \u001b[0;34m**\u001b[0m\u001b[0mkwargs\u001b[0m\u001b[0;34m)\u001b[0m\u001b[0;34m\u001b[0m\u001b[0;34m\u001b[0m\u001b[0m\n\u001b[0m\u001b[1;32m     51\u001b[0m \u001b[0;34m\u001b[0m\u001b[0m\n\u001b[1;32m     52\u001b[0m             \u001b[0;32mfinally\u001b[0m\u001b[0;34m:\u001b[0m\u001b[0;34m\u001b[0m\u001b[0;34m\u001b[0m\u001b[0m\n",
      "\u001b[0;32m/usr/local/src/pysmurf/python/pysmurf/client/tune/smurf_tune.py\u001b[0m in \u001b[0;36mtracking_setup\u001b[0;34m(self, band, channel, reset_rate_khz, write_log, make_plot, save_plot, show_plot, nsamp, lms_freq_hz, meas_lms_freq, meas_flux_ramp_amp, n_phi0, flux_ramp, fraction_full_scale, lms_enable1, lms_enable2, lms_enable3, feedback_gain, lms_gain, return_data, new_epics_root, feedback_start_frac, feedback_end_frac, setup_flux_ramp, plotname_append)\u001b[0m\n\u001b[1;32m   2684\u001b[0m             \u001b[0max\u001b[0m\u001b[0;34m[\u001b[0m\u001b[0;36m2\u001b[0m\u001b[0;34m]\u001b[0m\u001b[0;34m.\u001b[0m\u001b[0mset_xlabel\u001b[0m\u001b[0;34m(\u001b[0m\u001b[0;34m'FR Amp (kHz)'\u001b[0m\u001b[0;34m)\u001b[0m\u001b[0;34m\u001b[0m\u001b[0;34m\u001b[0m\u001b[0m\n\u001b[1;32m   2685\u001b[0m             \u001b[0max\u001b[0m\u001b[0;34m[\u001b[0m\u001b[0;36m2\u001b[0m\u001b[0;34m]\u001b[0m\u001b[0;34m.\u001b[0m\u001b[0mset_ylabel\u001b[0m\u001b[0;34m(\u001b[0m\u001b[0;34m'RF demod error (kHz)'\u001b[0m\u001b[0;34m)\u001b[0m\u001b[0;34m\u001b[0m\u001b[0;34m\u001b[0m\u001b[0m\n\u001b[0;32m-> 2686\u001b[0;31m             \u001b[0mx\u001b[0m \u001b[0;34m=\u001b[0m \u001b[0mnp\u001b[0m\u001b[0;34m.\u001b[0m\u001b[0marray\u001b[0m\u001b[0;34m(\u001b[0m\u001b[0;34m[\u001b[0m\u001b[0;36m0\u001b[0m\u001b[0;34m,\u001b[0m \u001b[0mnp\u001b[0m\u001b[0;34m.\u001b[0m\u001b[0mmax\u001b[0m\u001b[0;34m(\u001b[0m\u001b[0mf_span\u001b[0m\u001b[0;34m[\u001b[0m\u001b[0mchannels_on\u001b[0m\u001b[0;34m]\u001b[0m\u001b[0;34m)\u001b[0m\u001b[0;34m*\u001b[0m\u001b[0;36m1.0E3\u001b[0m\u001b[0;34m]\u001b[0m\u001b[0;34m)\u001b[0m\u001b[0;34m\u001b[0m\u001b[0;34m\u001b[0m\u001b[0m\n\u001b[0m\u001b[1;32m   2687\u001b[0m \u001b[0;34m\u001b[0m\u001b[0m\n\u001b[1;32m   2688\u001b[0m             \u001b[0;31m# useful line to guide the eye\u001b[0m\u001b[0;34m\u001b[0m\u001b[0;34m\u001b[0m\u001b[0;34m\u001b[0m\u001b[0m\n",
      "\u001b[0;32m<__array_function__ internals>\u001b[0m in \u001b[0;36mamax\u001b[0;34m(*args, **kwargs)\u001b[0m\n",
      "\u001b[0;32m/usr/local/lib/python3.6/dist-packages/numpy/core/fromnumeric.py\u001b[0m in \u001b[0;36mamax\u001b[0;34m(a, axis, out, keepdims, initial, where)\u001b[0m\n\u001b[1;32m   2666\u001b[0m     \"\"\"\n\u001b[1;32m   2667\u001b[0m     return _wrapreduction(a, np.maximum, 'max', axis, None, out,\n\u001b[0;32m-> 2668\u001b[0;31m                           keepdims=keepdims, initial=initial, where=where)\n\u001b[0m\u001b[1;32m   2669\u001b[0m \u001b[0;34m\u001b[0m\u001b[0m\n\u001b[1;32m   2670\u001b[0m \u001b[0;34m\u001b[0m\u001b[0m\n",
      "\u001b[0;32m/usr/local/lib/python3.6/dist-packages/numpy/core/fromnumeric.py\u001b[0m in \u001b[0;36m_wrapreduction\u001b[0;34m(obj, ufunc, method, axis, dtype, out, **kwargs)\u001b[0m\n\u001b[1;32m     88\u001b[0m                 \u001b[0;32mreturn\u001b[0m \u001b[0mreduction\u001b[0m\u001b[0;34m(\u001b[0m\u001b[0maxis\u001b[0m\u001b[0;34m=\u001b[0m\u001b[0maxis\u001b[0m\u001b[0;34m,\u001b[0m \u001b[0mout\u001b[0m\u001b[0;34m=\u001b[0m\u001b[0mout\u001b[0m\u001b[0;34m,\u001b[0m \u001b[0;34m**\u001b[0m\u001b[0mpasskwargs\u001b[0m\u001b[0;34m)\u001b[0m\u001b[0;34m\u001b[0m\u001b[0;34m\u001b[0m\u001b[0m\n\u001b[1;32m     89\u001b[0m \u001b[0;34m\u001b[0m\u001b[0m\n\u001b[0;32m---> 90\u001b[0;31m     \u001b[0;32mreturn\u001b[0m \u001b[0mufunc\u001b[0m\u001b[0;34m.\u001b[0m\u001b[0mreduce\u001b[0m\u001b[0;34m(\u001b[0m\u001b[0mobj\u001b[0m\u001b[0;34m,\u001b[0m \u001b[0maxis\u001b[0m\u001b[0;34m,\u001b[0m \u001b[0mdtype\u001b[0m\u001b[0;34m,\u001b[0m \u001b[0mout\u001b[0m\u001b[0;34m,\u001b[0m \u001b[0;34m**\u001b[0m\u001b[0mpasskwargs\u001b[0m\u001b[0;34m)\u001b[0m\u001b[0;34m\u001b[0m\u001b[0;34m\u001b[0m\u001b[0m\n\u001b[0m\u001b[1;32m     91\u001b[0m \u001b[0;34m\u001b[0m\u001b[0m\n\u001b[1;32m     92\u001b[0m \u001b[0;34m\u001b[0m\u001b[0m\n",
      "\u001b[0;31mValueError\u001b[0m: zero-size array to reduction operation maximum which has no identity"
     ]
    },
    {
     "data": {
      "image/png": "[encoded data removed]",
      "text/plain": [
       "<Figure size 864x360 with 3 Axes>"
      ]
     },
     "metadata": {
      "needs_background": "light"
     },
     "output_type": "display_data"
    }
   ],
   "source": [
    "file_loc = S.tracking_setup(band=band, \n",
    "                            channel=channel, \n",
    "                            reset_rate_khz=4, \n",
    "                            fraction_full_scale=0.65, \n",
    "                            lms_freq_hz=16e3, \n",
    "                            meas_flux_ramp_amp=False, \n",
    "                            make_plot=True, lms_gain=0, \n",
    "                            feedback_start_frac=0.125, \n",
    "                            feedback_end_frac=1-0.125, \n",
    "                            lms_enable1=1, \n",
    "                            lms_enable2=1, \n",
    "                            lms_enable3=1)"
   ]
  },
  {
   "cell_type": "code",
   "execution_count": 16,
   "id": "47445584",
   "metadata": {},
   "outputs": [
    {
     "name": "stdout",
     "output_type": "stream",
     "text": [
      "[ 2022-04-26 21:11:15 ]  Starting to take data.\n",
      "[ 2022-04-26 21:11:15 ]  Input downsample factor is None. Using value already in pyrogue: 20\n",
      "[ 2022-04-26 21:11:15 ]  FLUX RAMP IS DC COUPLED.\n",
      "[ 2022-04-26 21:11:15 ]  caput smurf_server_s2:AMCc:SmurfProcessor:Unwrapper:reset 1\n",
      "[ 2022-04-26 21:11:15 ]  caput smurf_server_s2:AMCc:SmurfProcessor:Filter:reset 1\n",
      "[ 2022-04-26 21:11:15 ]  Writing to file : /data/smurf_data/20220426/1651007224/outputs/1651007476.dat\n",
      "[ 2022-04-26 21:11:17 ]  /data/smurf_data/20220426/1651007224/outputs/1651007476_mask.txt\n",
      "[ 2022-04-26 21:11:17 ]  Writing frequency mask.\n",
      "[ 2022-04-26 21:11:18 ]  caput smurf_server_s2:AMCc:SmurfProcessor:FileWriter:Open 1\n",
      "[ 2022-04-26 21:12:18 ]  caput smurf_server_s2:AMCc:SmurfProcessor:FileWriter:Close 1\n",
      "[ 2022-04-26 21:12:18 ]  caput smurf_server_s2:AMCc:FpgaTopLevel:AppTop:AppCore:enableStreaming 0\n",
      "[ 2022-04-26 21:12:18 ]  Waiting 0.15 seconds after...\n",
      "[ 2022-04-26 21:12:18 ]  Done waiting.\n",
      "[ 2022-04-26 21:12:18 ]  Done taking data.\n",
      "[ 2022-04-26 21:12:18 ]  Reading /data/smurf_data/20220426/1651007224/outputs/1651007476.dat\n",
      "Processing data records from /data/smurf_data/20220426/1651007224/outputs/1651007476.dat\n",
      "[ 2022-04-26 21:12:18 ]  2048 elements loaded\n",
      "[ 2022-04-26 21:12:18 ]  4096 elements loaded\n",
      "[ 2022-04-26 21:12:19 ]  6144 elements loaded\n",
      "[ 2022-04-26 21:12:19 ]  8192 elements loaded\n",
      "[ 2022-04-26 21:12:19 ]  10240 elements loaded\n",
      "Processed 12013 data records from /data/smurf_data/20220426/1651007224/outputs/1651007476.dat\n",
      "Processed a total of 12013 data records\n",
      "[ 2022-04-26 21:12:19 ]  Plotting [2], [22]\n",
      "[ 2022-04-26 21:12:19 ]  1. b2ch022: white-noise level = 0.00 pA/rtHz, n = 13.69, f_knee = 0.01 Hz\n",
      "[ 2022-04-26 21:12:19 ]  0.0\n"
     ]
    },
    {
     "name": "stderr",
     "output_type": "stream",
     "text": [
      "/usr/local/src/pysmurf/python/pysmurf/client/debug/smurf_noise.py:206: UserWarning: Data has no positive values, and therefore cannot be log-scaled.\n",
      "  ylim = ax[1].get_ylim()\n"
     ]
    }
   ],
   "source": [
    "fileloc, params = S.take_noise_psd(meas_time=60,\n",
    "                                   return_noise_params=True,\n",
    "                                   channel=channel)"
   ]
  },
  {
   "cell_type": "code",
   "execution_count": 17,
   "id": "77e212aa",
   "metadata": {},
   "outputs": [
    {
     "name": "stdout",
     "output_type": "stream",
     "text": [
      "[ 2022-04-26 21:15:59 ]  Reading /data/smurf_data/20220426/1651007224/outputs/1651007476.dat\n",
      "Processing data records from /data/smurf_data/20220426/1651007224/outputs/1651007476.dat\n",
      "[ 2022-04-26 21:15:59 ]  2048 elements loaded\n",
      "[ 2022-04-26 21:15:59 ]  4096 elements loaded\n",
      "[ 2022-04-26 21:15:59 ]  6144 elements loaded\n",
      "[ 2022-04-26 21:15:59 ]  8192 elements loaded\n",
      "[ 2022-04-26 21:16:00 ]  10240 elements loaded\n",
      "Processed 12013 data records from /data/smurf_data/20220426/1651007224/outputs/1651007476.dat\n",
      "Processed a total of 12013 data records\n",
      "3\n",
      "int64 (12013,)\n",
      "float64 (1, 12013)\n",
      "int64 (3, 512)\n"
     ]
    },
    {
     "data": {
      "text/plain": [
       "0.0"
      ]
     },
     "execution_count": 17,
     "metadata": {},
     "output_type": "execute_result"
    }
   ],
   "source": [
    "psd_data = S.read_stream_data(fileloc)\n",
    "print(len(psd_data))\n",
    "for dat_i in psd_data:\n",
    "    print(dat_i.dtype, dat_i.shape)\n",
    "    #plt.plot(dat_i)\n",
    "    #plt.show()\n",
    "params[1][1][0]"
   ]
  },
  {
   "cell_type": "code",
   "execution_count": 19,
   "id": "db7c2819",
   "metadata": {},
   "outputs": [
    {
     "name": "stdout",
     "output_type": "stream",
     "text": [
      "30\n",
      "[ 2022-04-26 21:17:01 ]  /data/smurf_data/20220426/1651007224/outputs/1651007820_mask.txt\n",
      "[ 2022-04-26 21:17:03 ]  Reading /data/smurf_data/20220426/1651007224/outputs/1651007820.dat\n",
      "Processing data records from /data/smurf_data/20220426/1651007224/outputs/1651007820.dat\n",
      "Processed 398 data records from /data/smurf_data/20220426/1651007224/outputs/1651007820.dat\n",
      "Processed a total of 398 data records\n"
     ]
    },
    {
     "name": "stderr",
     "output_type": "stream",
     "text": [
      "/usr/local/lib/python3.6/dist-packages/scipy/signal/spectral.py:1963: UserWarning: nperseg = 4096 is greater than input length  = 398, using nperseg = 398\n",
      "  .format(nperseg, input_length))\n",
      "/usr/local/src/pysmurf/python/pysmurf/client/debug/smurf_noise.py:206: UserWarning: Data has no positive values, and therefore cannot be log-scaled.\n",
      "  ylim = ax[1].get_ylim()\n"
     ]
    },
    {
     "name": "stdout",
     "output_type": "stream",
     "text": [
      "28\n",
      "[ 2022-04-26 21:17:16 ]  /data/smurf_data/20220426/1651007224/outputs/1651007835_mask.txt\n",
      "[ 2022-04-26 21:17:18 ]  Reading /data/smurf_data/20220426/1651007224/outputs/1651007835.dat\n",
      "Processing data records from /data/smurf_data/20220426/1651007224/outputs/1651007835.dat\n",
      "Processed 400 data records from /data/smurf_data/20220426/1651007224/outputs/1651007835.dat\n",
      "Processed a total of 400 data records\n"
     ]
    },
    {
     "name": "stderr",
     "output_type": "stream",
     "text": [
      "/usr/local/lib/python3.6/dist-packages/scipy/signal/spectral.py:1963: UserWarning: nperseg = 4096 is greater than input length  = 400, using nperseg = 400\n",
      "  .format(nperseg, input_length))\n",
      "/usr/local/src/pysmurf/python/pysmurf/client/debug/smurf_noise.py:206: UserWarning: Data has no positive values, and therefore cannot be log-scaled.\n",
      "  ylim = ax[1].get_ylim()\n"
     ]
    },
    {
     "name": "stdout",
     "output_type": "stream",
     "text": [
      "26\n",
      "[ 2022-04-26 21:17:31 ]  /data/smurf_data/20220426/1651007224/outputs/1651007850_mask.txt\n",
      "[ 2022-04-26 21:17:33 ]  Reading /data/smurf_data/20220426/1651007224/outputs/1651007850.dat\n",
      "Processing data records from /data/smurf_data/20220426/1651007224/outputs/1651007850.dat\n",
      "Processed 399 data records from /data/smurf_data/20220426/1651007224/outputs/1651007850.dat\n",
      "Processed a total of 399 data records\n"
     ]
    },
    {
     "name": "stderr",
     "output_type": "stream",
     "text": [
      "/usr/local/lib/python3.6/dist-packages/scipy/signal/spectral.py:1963: UserWarning: nperseg = 4096 is greater than input length  = 399, using nperseg = 399\n",
      "  .format(nperseg, input_length))\n",
      "/usr/local/src/pysmurf/python/pysmurf/client/debug/smurf_noise.py:206: UserWarning: Data has no positive values, and therefore cannot be log-scaled.\n",
      "  ylim = ax[1].get_ylim()\n"
     ]
    },
    {
     "name": "stdout",
     "output_type": "stream",
     "text": [
      "24\n",
      "[ 2022-04-26 21:17:46 ]  /data/smurf_data/20220426/1651007224/outputs/1651007865_mask.txt\n",
      "[ 2022-04-26 21:17:48 ]  Reading /data/smurf_data/20220426/1651007224/outputs/1651007865.dat\n",
      "Processing data records from /data/smurf_data/20220426/1651007224/outputs/1651007865.dat\n",
      "Processed 404 data records from /data/smurf_data/20220426/1651007224/outputs/1651007865.dat\n",
      "Processed a total of 404 data records\n"
     ]
    },
    {
     "name": "stderr",
     "output_type": "stream",
     "text": [
      "/usr/local/lib/python3.6/dist-packages/scipy/signal/spectral.py:1963: UserWarning: nperseg = 4096 is greater than input length  = 404, using nperseg = 404\n",
      "  .format(nperseg, input_length))\n",
      "/usr/local/src/pysmurf/python/pysmurf/client/debug/smurf_noise.py:206: UserWarning: Data has no positive values, and therefore cannot be log-scaled.\n",
      "  ylim = ax[1].get_ylim()\n"
     ]
    },
    {
     "name": "stdout",
     "output_type": "stream",
     "text": [
      "22\n",
      "[ 2022-04-26 21:18:01 ]  /data/smurf_data/20220426/1651007224/outputs/1651007880_mask.txt\n",
      "[ 2022-04-26 21:18:03 ]  Reading /data/smurf_data/20220426/1651007224/outputs/1651007880.dat\n",
      "Processing data records from /data/smurf_data/20220426/1651007224/outputs/1651007880.dat\n",
      "Processed 401 data records from /data/smurf_data/20220426/1651007224/outputs/1651007880.dat\n",
      "Processed a total of 401 data records\n"
     ]
    },
    {
     "name": "stderr",
     "output_type": "stream",
     "text": [
      "/usr/local/lib/python3.6/dist-packages/scipy/signal/spectral.py:1963: UserWarning: nperseg = 4096 is greater than input length  = 401, using nperseg = 401\n",
      "  .format(nperseg, input_length))\n",
      "/usr/local/src/pysmurf/python/pysmurf/client/debug/smurf_noise.py:206: UserWarning: Data has no positive values, and therefore cannot be log-scaled.\n",
      "  ylim = ax[1].get_ylim()\n"
     ]
    },
    {
     "name": "stdout",
     "output_type": "stream",
     "text": [
      "20\n",
      "[ 2022-04-26 21:18:16 ]  /data/smurf_data/20220426/1651007224/outputs/1651007895_mask.txt\n",
      "[ 2022-04-26 21:18:18 ]  Reading /data/smurf_data/20220426/1651007224/outputs/1651007895.dat\n",
      "Processing data records from /data/smurf_data/20220426/1651007224/outputs/1651007895.dat\n",
      "Processed 401 data records from /data/smurf_data/20220426/1651007224/outputs/1651007895.dat\n",
      "Processed a total of 401 data records\n"
     ]
    },
    {
     "name": "stderr",
     "output_type": "stream",
     "text": [
      "/usr/local/lib/python3.6/dist-packages/scipy/signal/spectral.py:1963: UserWarning: nperseg = 4096 is greater than input length  = 401, using nperseg = 401\n",
      "  .format(nperseg, input_length))\n",
      "/usr/local/src/pysmurf/python/pysmurf/client/debug/smurf_noise.py:206: UserWarning: Data has no positive values, and therefore cannot be log-scaled.\n",
      "  ylim = ax[1].get_ylim()\n"
     ]
    },
    {
     "name": "stdout",
     "output_type": "stream",
     "text": [
      "18\n",
      "[ 2022-04-26 21:18:31 ]  /data/smurf_data/20220426/1651007224/outputs/1651007910_mask.txt\n",
      "[ 2022-04-26 21:18:33 ]  Reading /data/smurf_data/20220426/1651007224/outputs/1651007910.dat\n",
      "Processing data records from /data/smurf_data/20220426/1651007224/outputs/1651007910.dat\n",
      "Processed 401 data records from /data/smurf_data/20220426/1651007224/outputs/1651007910.dat\n",
      "Processed a total of 401 data records\n"
     ]
    },
    {
     "name": "stderr",
     "output_type": "stream",
     "text": [
      "/usr/local/lib/python3.6/dist-packages/scipy/signal/spectral.py:1963: UserWarning: nperseg = 4096 is greater than input length  = 401, using nperseg = 401\n",
      "  .format(nperseg, input_length))\n",
      "/usr/local/src/pysmurf/python/pysmurf/client/debug/smurf_noise.py:206: UserWarning: Data has no positive values, and therefore cannot be log-scaled.\n",
      "  ylim = ax[1].get_ylim()\n"
     ]
    },
    {
     "name": "stdout",
     "output_type": "stream",
     "text": [
      "16\n",
      "[ 2022-04-26 21:18:46 ]  /data/smurf_data/20220426/1651007224/outputs/1651007925_mask.txt\n",
      "[ 2022-04-26 21:18:48 ]  Reading /data/smurf_data/20220426/1651007224/outputs/1651007925.dat\n",
      "Processing data records from /data/smurf_data/20220426/1651007224/outputs/1651007925.dat\n",
      "Processed 401 data records from /data/smurf_data/20220426/1651007224/outputs/1651007925.dat\n",
      "Processed a total of 401 data records\n"
     ]
    },
    {
     "name": "stderr",
     "output_type": "stream",
     "text": [
      "/usr/local/lib/python3.6/dist-packages/scipy/signal/spectral.py:1963: UserWarning: nperseg = 4096 is greater than input length  = 401, using nperseg = 401\n",
      "  .format(nperseg, input_length))\n",
      "/usr/local/src/pysmurf/python/pysmurf/client/debug/smurf_noise.py:206: UserWarning: Data has no positive values, and therefore cannot be log-scaled.\n",
      "  ylim = ax[1].get_ylim()\n"
     ]
    },
    {
     "name": "stdout",
     "output_type": "stream",
     "text": [
      "14\n",
      "[ 2022-04-26 21:19:01 ]  /data/smurf_data/20220426/1651007224/outputs/1651007940_mask.txt\n",
      "[ 2022-04-26 21:19:03 ]  Reading /data/smurf_data/20220426/1651007224/outputs/1651007940.dat\n",
      "Processing data records from /data/smurf_data/20220426/1651007224/outputs/1651007940.dat\n",
      "Processed 401 data records from /data/smurf_data/20220426/1651007224/outputs/1651007940.dat\n",
      "Processed a total of 401 data records\n"
     ]
    },
    {
     "name": "stderr",
     "output_type": "stream",
     "text": [
      "/usr/local/lib/python3.6/dist-packages/scipy/signal/spectral.py:1963: UserWarning: nperseg = 4096 is greater than input length  = 401, using nperseg = 401\n",
      "  .format(nperseg, input_length))\n",
      "/usr/local/src/pysmurf/python/pysmurf/client/debug/smurf_noise.py:206: UserWarning: Data has no positive values, and therefore cannot be log-scaled.\n",
      "  ylim = ax[1].get_ylim()\n"
     ]
    },
    {
     "name": "stdout",
     "output_type": "stream",
     "text": [
      "12\n",
      "[ 2022-04-26 21:19:16 ]  /data/smurf_data/20220426/1651007224/outputs/1651007955_mask.txt\n",
      "[ 2022-04-26 21:19:18 ]  Reading /data/smurf_data/20220426/1651007224/outputs/1651007955.dat\n",
      "Processing data records from /data/smurf_data/20220426/1651007224/outputs/1651007955.dat\n",
      "Processed 400 data records from /data/smurf_data/20220426/1651007224/outputs/1651007955.dat\n",
      "Processed a total of 400 data records\n"
     ]
    },
    {
     "name": "stderr",
     "output_type": "stream",
     "text": [
      "/usr/local/lib/python3.6/dist-packages/scipy/signal/spectral.py:1963: UserWarning: nperseg = 4096 is greater than input length  = 400, using nperseg = 400\n",
      "  .format(nperseg, input_length))\n",
      "/usr/local/src/pysmurf/python/pysmurf/client/debug/smurf_noise.py:206: UserWarning: Data has no positive values, and therefore cannot be log-scaled.\n",
      "  ylim = ax[1].get_ylim()\n"
     ]
    },
    {
     "name": "stdout",
     "output_type": "stream",
     "text": [
      "10\n",
      "[ 2022-04-26 21:19:31 ]  /data/smurf_data/20220426/1651007224/outputs/1651007970_mask.txt\n",
      "[ 2022-04-26 21:19:33 ]  Reading /data/smurf_data/20220426/1651007224/outputs/1651007970.dat\n",
      "Processing data records from /data/smurf_data/20220426/1651007224/outputs/1651007970.dat\n",
      "Processed 401 data records from /data/smurf_data/20220426/1651007224/outputs/1651007970.dat\n",
      "Processed a total of 401 data records\n"
     ]
    },
    {
     "name": "stderr",
     "output_type": "stream",
     "text": [
      "/usr/local/lib/python3.6/dist-packages/scipy/signal/spectral.py:1963: UserWarning: nperseg = 4096 is greater than input length  = 401, using nperseg = 401\n",
      "  .format(nperseg, input_length))\n",
      "/usr/local/src/pysmurf/python/pysmurf/client/debug/smurf_noise.py:206: UserWarning: Data has no positive values, and therefore cannot be log-scaled.\n",
      "  ylim = ax[1].get_ylim()\n"
     ]
    },
    {
     "name": "stdout",
     "output_type": "stream",
     "text": [
      "8\n",
      "[ 2022-04-26 21:19:46 ]  /data/smurf_data/20220426/1651007224/outputs/1651007985_mask.txt\n",
      "[ 2022-04-26 21:19:48 ]  Reading /data/smurf_data/20220426/1651007224/outputs/1651007985.dat\n",
      "Processing data records from /data/smurf_data/20220426/1651007224/outputs/1651007985.dat\n",
      "Processed 404 data records from /data/smurf_data/20220426/1651007224/outputs/1651007985.dat\n",
      "Processed a total of 404 data records\n"
     ]
    },
    {
     "name": "stderr",
     "output_type": "stream",
     "text": [
      "/usr/local/lib/python3.6/dist-packages/scipy/signal/spectral.py:1963: UserWarning: nperseg = 4096 is greater than input length  = 404, using nperseg = 404\n",
      "  .format(nperseg, input_length))\n",
      "/usr/local/src/pysmurf/python/pysmurf/client/debug/smurf_noise.py:206: UserWarning: Data has no positive values, and therefore cannot be log-scaled.\n",
      "  ylim = ax[1].get_ylim()\n"
     ]
    },
    {
     "name": "stdout",
     "output_type": "stream",
     "text": [
      "6\n",
      "[ 2022-04-26 21:20:01 ]  /data/smurf_data/20220426/1651007224/outputs/1651008000_mask.txt\n",
      "[ 2022-04-26 21:20:03 ]  Reading /data/smurf_data/20220426/1651007224/outputs/1651008000.dat\n",
      "Processing data records from /data/smurf_data/20220426/1651007224/outputs/1651008000.dat\n",
      "Processed 400 data records from /data/smurf_data/20220426/1651007224/outputs/1651008000.dat\n",
      "Processed a total of 400 data records\n"
     ]
    },
    {
     "name": "stderr",
     "output_type": "stream",
     "text": [
      "/usr/local/lib/python3.6/dist-packages/scipy/signal/spectral.py:1963: UserWarning: nperseg = 4096 is greater than input length  = 400, using nperseg = 400\n",
      "  .format(nperseg, input_length))\n",
      "/usr/local/src/pysmurf/python/pysmurf/client/debug/smurf_noise.py:206: UserWarning: Data has no positive values, and therefore cannot be log-scaled.\n",
      "  ylim = ax[1].get_ylim()\n"
     ]
    },
    {
     "name": "stdout",
     "output_type": "stream",
     "text": [
      "4\n",
      "[ 2022-04-26 21:20:16 ]  /data/smurf_data/20220426/1651007224/outputs/1651008015_mask.txt\n",
      "[ 2022-04-26 21:20:18 ]  Reading /data/smurf_data/20220426/1651007224/outputs/1651008015.dat\n",
      "Processing data records from /data/smurf_data/20220426/1651007224/outputs/1651008015.dat\n",
      "Processed 400 data records from /data/smurf_data/20220426/1651007224/outputs/1651008015.dat\n",
      "Processed a total of 400 data records\n"
     ]
    },
    {
     "name": "stderr",
     "output_type": "stream",
     "text": [
      "/usr/local/lib/python3.6/dist-packages/scipy/signal/spectral.py:1963: UserWarning: nperseg = 4096 is greater than input length  = 400, using nperseg = 400\n",
      "  .format(nperseg, input_length))\n",
      "/usr/local/src/pysmurf/python/pysmurf/client/debug/smurf_noise.py:206: UserWarning: Data has no positive values, and therefore cannot be log-scaled.\n",
      "  ylim = ax[1].get_ylim()\n"
     ]
    },
    {
     "name": "stdout",
     "output_type": "stream",
     "text": [
      "2\n",
      "[ 2022-04-26 21:20:31 ]  /data/smurf_data/20220426/1651007224/outputs/1651008030_mask.txt\n",
      "[ 2022-04-26 21:20:33 ]  Reading /data/smurf_data/20220426/1651007224/outputs/1651008030.dat\n",
      "Processing data records from /data/smurf_data/20220426/1651007224/outputs/1651008030.dat\n",
      "Processed 400 data records from /data/smurf_data/20220426/1651007224/outputs/1651008030.dat\n",
      "Processed a total of 400 data records\n"
     ]
    },
    {
     "name": "stderr",
     "output_type": "stream",
     "text": [
      "/usr/local/lib/python3.6/dist-packages/scipy/signal/spectral.py:1963: UserWarning: nperseg = 4096 is greater than input length  = 400, using nperseg = 400\n",
      "  .format(nperseg, input_length))\n",
      "/usr/local/src/pysmurf/python/pysmurf/client/debug/smurf_noise.py:206: UserWarning: Data has no positive values, and therefore cannot be log-scaled.\n",
      "  ylim = ax[1].get_ylim()\n"
     ]
    },
    {
     "name": "stdout",
     "output_type": "stream",
     "text": [
      "0\n",
      "[ 2022-04-26 21:20:46 ]  /data/smurf_data/20220426/1651007224/outputs/1651008045_mask.txt\n",
      "[ 2022-04-26 21:20:48 ]  Reading /data/smurf_data/20220426/1651007224/outputs/1651008045.dat\n",
      "Processing data records from /data/smurf_data/20220426/1651007224/outputs/1651008045.dat\n",
      "Processed 401 data records from /data/smurf_data/20220426/1651007224/outputs/1651008045.dat\n",
      "Processed a total of 401 data records\n"
     ]
    },
    {
     "name": "stderr",
     "output_type": "stream",
     "text": [
      "/usr/local/lib/python3.6/dist-packages/scipy/signal/spectral.py:1963: UserWarning: nperseg = 4096 is greater than input length  = 401, using nperseg = 401\n",
      "  .format(nperseg, input_length))\n",
      "/usr/local/src/pysmurf/python/pysmurf/client/debug/smurf_noise.py:206: UserWarning: Data has no positive values, and therefore cannot be log-scaled.\n",
      "  ylim = ax[1].get_ylim()\n"
     ]
    }
   ],
   "source": [
    "# Noise floor dependence on tone power using attenuation\n",
    "# range 0 to 31, steps of 0.5dB, 31 corresponding to 15.5dB \n",
    "param_list = []\n",
    "\n",
    "for atten in np.arange(30,-2,-2):\n",
    "    print(atten)\n",
    "    S.set_att_uc(band,atten)\n",
    "    S.run_serial_gradient_descent(band)\n",
    "    S.run_serial_eta_scan(band)\n",
    "    #S.tracking_setup(band=band, \n",
    "    #                 channel=channel, \n",
    "    #                 reset_rate_khz=4, \n",
    "    #                 fraction_full_scale=0.65, \n",
    "    #                 lms_freq_hz=16e3, \n",
    "    #                 meas_flux_ramp_amp=False, \n",
    "    #                 make_plot=True, lms_gain=0, \n",
    "    #                 feedback_start_frac=0.125, \n",
    "    #                 feedback_end_frac=1-0.125, \n",
    "    #                 lms_enable1=1, \n",
    "    #                 lms_enable2=1, \n",
    "    #                 lms_enable3=1)\n",
    "    fileloc, params = S.take_noise_psd(channel=channel,\n",
    "                                       meas_time=2,\n",
    "                                       save_data=True,\n",
    "                                       show_plot=True,\n",
    "                                       make_channel_plot=True,\n",
    "                                       make_summary_plot=False,\n",
    "                                       return_noise_params=True,\n",
    "                                       write_log=False)\n",
    "    param_list.append(params)"
   ]
  },
  {
   "cell_type": "code",
   "execution_count": null,
   "id": "fda3fa8d",
   "metadata": {},
   "outputs": [],
   "source": [
    "for param in param_list:\n",
    "    print(param[1][1][0])"
   ]
  },
  {
   "cell_type": "code",
   "execution_count": null,
   "id": "01bc63cb",
   "metadata": {},
   "outputs": [],
   "source": []
  }
 ],
 "metadata": {
  "kernelspec": {
   "display_name": "Python 3",
   "language": "python",
   "name": "python3"
  },
  "language_info": {
   "codemirror_mode": {
    "name": "ipython",
    "version": 3
   },
   "file_extension": ".py",
   "mimetype": "text/x-python",
   "name": "python",
   "nbconvert_exporter": "python",
   "pygments_lexer": "ipython3",
   "version": "3.6.9"
  },
  "toc-showmarkdowntxt": false
 },
 "nbformat": 4,
 "nbformat_minor": 5
}
