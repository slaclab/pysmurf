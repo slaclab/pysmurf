{
 "cells": [
  {
   "cell_type": "markdown",
   "metadata": {},
   "source": [
    "## PySMuRF Setup"
   ]
  },
  {
   "cell_type": "code",
   "execution_count": 1,
   "metadata": {},
   "outputs": [],
   "source": [
    "import pysmurf.client\n",
    "import matplotlib.pyplot as plt\n",
    "import numpy as np\n",
    "from scipy import signal\n",
    "import epics\n",
    "import os\n",
    "import itertools\n",
    "import pickle\n",
    "from os.path import exists\n",
    "import signal\n",
    "\n",
    "%matplotlib inline"
   ]
  },
  {
   "cell_type": "markdown",
   "metadata": {},
   "source": [
    "Next we'll define the EPICS server prefix and experiment configuration file"
   ]
  },
  {
   "cell_type": "code",
   "execution_count": 2,
   "metadata": {},
   "outputs": [],
   "source": [
    "tone_power = 13\n",
    "epics_prefix = \"smurf_server_s2\"\n",
    "config_file  = \"/usr/local/src/pysmurf/cfg_files/mit/experiment_mit.cfg\"\n",
    "S = pysmurf.client.SmurfControl(epics_root=epics_prefix, cfg_file=config_file, setup=False, make_logfile=False)"
   ]
  },
  {
   "cell_type": "code",
   "execution_count": 3,
   "metadata": {},
   "outputs": [
    {
     "data": {
      "text/plain": [
       "(0, 168)"
      ]
     },
     "execution_count": 3,
     "metadata": {},
     "output_type": "execute_result"
    }
   ],
   "source": [
    "S.set_fixed_tone(4300, 13, write_log=False)"
   ]
  },
  {
   "cell_type": "markdown",
   "metadata": {},
   "source": [
    "Now can talk to system using S object."
   ]
  },
  {
   "cell_type": "code",
   "execution_count": 4,
   "metadata": {},
   "outputs": [
    {
     "name": "stdout",
     "output_type": "stream",
     "text": [
      "[ 2022-11-29 21:39:25 ]  Turning off tones\n",
      "[ 2022-11-29 21:39:33 ]  Turning off flux ramp\n",
      "[ 2022-11-29 21:39:33 ]  Turning off all TES biases\n"
     ]
    }
   ],
   "source": [
    "S.all_off()"
   ]
  },
  {
   "cell_type": "markdown",
   "metadata": {},
   "source": [
    "Note the PSD frequency is plotted +/- 0MHz. Each digitizer has complex data at 614.4MHz corresponding to +/- 307.2MHz BW at baseband.  For band=3 this is 0MHz + 5750MHz = 4250MHz.\n"
   ]
  },
  {
   "cell_type": "markdown",
   "metadata": {},
   "source": [
    "### Transfer function of the system\n",
    "\n",
    "Next we can look at a transfer function estimate.  This will play a known random number sequence through the DAC and record the ADC response.  We'll use cross correlation to generate a transfer function estimate:"
   ]
  },
  {
   "cell_type": "code",
   "execution_count": 5,
   "metadata": {
    "scrolled": true
   },
   "outputs": [
    {
     "name": "stdout",
     "output_type": "stream",
     "text": [
      "[ 2022-11-29 21:39:50 ]  caput smurf_server_s2:AMCc:FpgaTopLevel:AppTop:DaqMuxV2[0]:DataBufferSize 4096\n",
      "[ 2022-11-29 21:39:51 ]  caput smurf_server_s2:AMCc:FpgaTopLevel:AppTop:AppCore:DebugSelect[0] 0\n",
      "[ 2022-11-29 21:39:51 ]  ADC0 max count: 10317\n",
      "[ 2022-11-29 21:39:51 ]  ADC0 min count: -10503\n",
      "[ 2022-11-29 21:39:51 ]  \u001b[92mADC0 not saturated\u001b[00m\n",
      "[ 2022-11-29 21:39:51 ]  caput smurf_server_s2:AMCc:FpgaTopLevel:AppTop:DaqMuxV2[0]:DataBufferSize 524288\n",
      "[ 2022-11-29 21:39:51 ]  caput smurf_server_s2:AMCc:FpgaTopLevel:AppTop:AppCore:DebugSelect[0] 0\n",
      "[ 2022-11-29 21:39:51 ]  caput smurf_server_s2:AMCc:FpgaTopLevel:AppTop:DaqMuxV2[0]:DataBufferSize 524288\n",
      "[ 2022-11-29 21:39:51 ]  caput smurf_server_s2:AMCc:FpgaTopLevel:AppTop:AppCore:DebugSelect[0] 0\n",
      "[ 2022-11-29 21:39:51 ]  UC (DAC) att: 0\n",
      "[ 2022-11-29 21:39:51 ]  DC (ADC) att: 0\n",
      "[ 2022-11-29 21:39:51 ]  caput smurf_server_s2:AMCc:FpgaTopLevel:AppTop:DaqMuxV2[0]:DataBufferSize 4096\n",
      "[ 2022-11-29 21:39:51 ]  caput smurf_server_s2:AMCc:FpgaTopLevel:AppTop:AppCore:DebugSelect[0] 0\n",
      "[ 2022-11-29 21:39:51 ]  ADC0 max count: 9747\n",
      "[ 2022-11-29 21:39:51 ]  ADC0 min count: -9829\n",
      "[ 2022-11-29 21:39:51 ]  \u001b[92mADC0 not saturated\u001b[00m\n",
      "[ 2022-11-29 21:39:51 ]  caput smurf_server_s2:AMCc:FpgaTopLevel:AppTop:DaqMuxV2[0]:DataBufferSize 524288\n",
      "[ 2022-11-29 21:39:52 ]  caput smurf_server_s2:AMCc:FpgaTopLevel:AppTop:AppCore:DebugSelect[0] 0\n",
      "[ 2022-11-29 21:39:52 ]  caput smurf_server_s2:AMCc:FpgaTopLevel:AppTop:DaqMuxV2[0]:DataBufferSize 524288\n",
      "[ 2022-11-29 21:39:52 ]  caput smurf_server_s2:AMCc:FpgaTopLevel:AppTop:AppCore:DebugSelect[0] 0\n",
      "[ 2022-11-29 21:39:52 ]  UC (DAC) att: 0\n",
      "[ 2022-11-29 21:39:52 ]  DC (ADC) att: 0\n",
      "[ 2022-11-29 21:39:52 ]  caput smurf_server_s2:AMCc:FpgaTopLevel:AppTop:DaqMuxV2[0]:DataBufferSize 4096\n",
      "[ 2022-11-29 21:39:52 ]  caput smurf_server_s2:AMCc:FpgaTopLevel:AppTop:AppCore:DebugSelect[0] 0\n",
      "[ 2022-11-29 21:39:52 ]  ADC0 max count: 10808\n",
      "[ 2022-11-29 21:39:52 ]  ADC0 min count: -9781\n",
      "[ 2022-11-29 21:39:52 ]  \u001b[92mADC0 not saturated\u001b[00m\n",
      "[ 2022-11-29 21:39:52 ]  caput smurf_server_s2:AMCc:FpgaTopLevel:AppTop:DaqMuxV2[0]:DataBufferSize 524288\n",
      "[ 2022-11-29 21:39:52 ]  caput smurf_server_s2:AMCc:FpgaTopLevel:AppTop:AppCore:DebugSelect[0] 0\n",
      "[ 2022-11-29 21:39:52 ]  caput smurf_server_s2:AMCc:FpgaTopLevel:AppTop:DaqMuxV2[0]:DataBufferSize 524288\n",
      "[ 2022-11-29 21:39:52 ]  caput smurf_server_s2:AMCc:FpgaTopLevel:AppTop:AppCore:DebugSelect[0] 0\n",
      "[ 2022-11-29 21:39:53 ]  UC (DAC) att: 0\n",
      "[ 2022-11-29 21:39:53 ]  DC (ADC) att: 0\n",
      "[ 2022-11-29 21:39:53 ]  caput smurf_server_s2:AMCc:FpgaTopLevel:AppTop:DaqMuxV2[0]:DataBufferSize 4096\n",
      "[ 2022-11-29 21:39:53 ]  caput smurf_server_s2:AMCc:FpgaTopLevel:AppTop:AppCore:DebugSelect[0] 0\n",
      "[ 2022-11-29 21:39:53 ]  ADC0 max count: 10031\n",
      "[ 2022-11-29 21:39:53 ]  ADC0 min count: -9976\n",
      "[ 2022-11-29 21:39:53 ]  \u001b[92mADC0 not saturated\u001b[00m\n",
      "[ 2022-11-29 21:39:53 ]  caput smurf_server_s2:AMCc:FpgaTopLevel:AppTop:DaqMuxV2[0]:DataBufferSize 524288\n",
      "[ 2022-11-29 21:39:53 ]  caput smurf_server_s2:AMCc:FpgaTopLevel:AppTop:AppCore:DebugSelect[0] 0\n",
      "[ 2022-11-29 21:39:53 ]  caput smurf_server_s2:AMCc:FpgaTopLevel:AppTop:DaqMuxV2[0]:DataBufferSize 524288\n",
      "[ 2022-11-29 21:39:53 ]  caput smurf_server_s2:AMCc:FpgaTopLevel:AppTop:AppCore:DebugSelect[0] 0\n",
      "[ 2022-11-29 21:39:53 ]  UC (DAC) att: 0\n",
      "[ 2022-11-29 21:39:53 ]  DC (ADC) att: 0\n",
      "[ 2022-11-29 21:39:54 ]  caput smurf_server_s2:AMCc:FpgaTopLevel:AppTop:DaqMuxV2[0]:DataBufferSize 4096\n",
      "[ 2022-11-29 21:39:54 ]  caput smurf_server_s2:AMCc:FpgaTopLevel:AppTop:AppCore:DebugSelect[0] 0\n",
      "[ 2022-11-29 21:39:54 ]  ADC0 max count: 11122\n",
      "[ 2022-11-29 21:39:54 ]  ADC0 min count: -11601\n",
      "[ 2022-11-29 21:39:54 ]  \u001b[92mADC0 not saturated\u001b[00m\n",
      "[ 2022-11-29 21:39:54 ]  caput smurf_server_s2:AMCc:FpgaTopLevel:AppTop:DaqMuxV2[0]:DataBufferSize 524288\n",
      "[ 2022-11-29 21:39:54 ]  caput smurf_server_s2:AMCc:FpgaTopLevel:AppTop:AppCore:DebugSelect[0] 0\n",
      "[ 2022-11-29 21:39:54 ]  caput smurf_server_s2:AMCc:FpgaTopLevel:AppTop:DaqMuxV2[0]:DataBufferSize 524288\n",
      "[ 2022-11-29 21:39:54 ]  caput smurf_server_s2:AMCc:FpgaTopLevel:AppTop:AppCore:DebugSelect[0] 0\n",
      "[ 2022-11-29 21:39:54 ]  UC (DAC) att: 0\n",
      "[ 2022-11-29 21:39:54 ]  DC (ADC) att: 0\n",
      "[ 2022-11-29 21:39:54 ]  caput smurf_server_s2:AMCc:FpgaTopLevel:AppTop:DaqMuxV2[0]:DataBufferSize 4096\n",
      "[ 2022-11-29 21:39:54 ]  caput smurf_server_s2:AMCc:FpgaTopLevel:AppTop:AppCore:DebugSelect[0] 0\n",
      "[ 2022-11-29 21:39:54 ]  ADC0 max count: 10341\n",
      "[ 2022-11-29 21:39:54 ]  ADC0 min count: -12775\n",
      "[ 2022-11-29 21:39:54 ]  \u001b[92mADC0 not saturated\u001b[00m\n",
      "[ 2022-11-29 21:39:54 ]  caput smurf_server_s2:AMCc:FpgaTopLevel:AppTop:DaqMuxV2[0]:DataBufferSize 524288\n",
      "[ 2022-11-29 21:39:55 ]  caput smurf_server_s2:AMCc:FpgaTopLevel:AppTop:AppCore:DebugSelect[0] 0\n",
      "[ 2022-11-29 21:39:55 ]  caput smurf_server_s2:AMCc:FpgaTopLevel:AppTop:DaqMuxV2[0]:DataBufferSize 524288\n",
      "[ 2022-11-29 21:39:55 ]  caput smurf_server_s2:AMCc:FpgaTopLevel:AppTop:AppCore:DebugSelect[0] 0\n",
      "[ 2022-11-29 21:39:55 ]  UC (DAC) att: 0\n",
      "[ 2022-11-29 21:39:55 ]  DC (ADC) att: 0\n",
      "[ 2022-11-29 21:39:55 ]  caput smurf_server_s2:AMCc:FpgaTopLevel:AppTop:DaqMuxV2[0]:DataBufferSize 4096\n",
      "[ 2022-11-29 21:39:55 ]  caput smurf_server_s2:AMCc:FpgaTopLevel:AppTop:AppCore:DebugSelect[0] 0\n",
      "[ 2022-11-29 21:39:55 ]  ADC0 max count: 10430\n",
      "[ 2022-11-29 21:39:55 ]  ADC0 min count: -11078\n",
      "[ 2022-11-29 21:39:55 ]  \u001b[92mADC0 not saturated\u001b[00m\n",
      "[ 2022-11-29 21:39:55 ]  caput smurf_server_s2:AMCc:FpgaTopLevel:AppTop:DaqMuxV2[0]:DataBufferSize 524288\n",
      "[ 2022-11-29 21:39:55 ]  caput smurf_server_s2:AMCc:FpgaTopLevel:AppTop:AppCore:DebugSelect[0] 0\n",
      "[ 2022-11-29 21:39:55 ]  caput smurf_server_s2:AMCc:FpgaTopLevel:AppTop:DaqMuxV2[0]:DataBufferSize 524288\n",
      "[ 2022-11-29 21:39:55 ]  caput smurf_server_s2:AMCc:FpgaTopLevel:AppTop:AppCore:DebugSelect[0] 0\n",
      "[ 2022-11-29 21:39:56 ]  UC (DAC) att: 0\n",
      "[ 2022-11-29 21:39:56 ]  DC (ADC) att: 0\n",
      "[ 2022-11-29 21:39:56 ]  caput smurf_server_s2:AMCc:FpgaTopLevel:AppTop:DaqMuxV2[0]:DataBufferSize 4096\n",
      "[ 2022-11-29 21:39:56 ]  caput smurf_server_s2:AMCc:FpgaTopLevel:AppTop:AppCore:DebugSelect[0] 0\n",
      "[ 2022-11-29 21:39:56 ]  ADC0 max count: 10696\n",
      "[ 2022-11-29 21:39:56 ]  ADC0 min count: -10498\n",
      "[ 2022-11-29 21:39:56 ]  \u001b[92mADC0 not saturated\u001b[00m\n",
      "[ 2022-11-29 21:39:56 ]  caput smurf_server_s2:AMCc:FpgaTopLevel:AppTop:DaqMuxV2[0]:DataBufferSize 524288\n",
      "[ 2022-11-29 21:39:56 ]  caput smurf_server_s2:AMCc:FpgaTopLevel:AppTop:AppCore:DebugSelect[0] 0\n",
      "[ 2022-11-29 21:39:56 ]  caput smurf_server_s2:AMCc:FpgaTopLevel:AppTop:DaqMuxV2[0]:DataBufferSize 524288\n",
      "[ 2022-11-29 21:39:56 ]  caput smurf_server_s2:AMCc:FpgaTopLevel:AppTop:AppCore:DebugSelect[0] 0\n",
      "[ 2022-11-29 21:39:56 ]  UC (DAC) att: 0\n",
      "[ 2022-11-29 21:39:56 ]  DC (ADC) att: 0\n",
      "[ 2022-11-29 21:39:57 ]  caput smurf_server_s2:AMCc:FpgaTopLevel:AppTop:DaqMuxV2[0]:DataBufferSize 4096\n",
      "[ 2022-11-29 21:39:57 ]  caput smurf_server_s2:AMCc:FpgaTopLevel:AppTop:AppCore:DebugSelect[0] 0\n",
      "[ 2022-11-29 21:39:57 ]  ADC0 max count: 10149\n",
      "[ 2022-11-29 21:39:57 ]  ADC0 min count: -10523\n",
      "[ 2022-11-29 21:39:57 ]  \u001b[92mADC0 not saturated\u001b[00m\n",
      "[ 2022-11-29 21:39:57 ]  caput smurf_server_s2:AMCc:FpgaTopLevel:AppTop:DaqMuxV2[0]:DataBufferSize 524288\n",
      "[ 2022-11-29 21:39:57 ]  caput smurf_server_s2:AMCc:FpgaTopLevel:AppTop:AppCore:DebugSelect[0] 0\n",
      "[ 2022-11-29 21:39:57 ]  caput smurf_server_s2:AMCc:FpgaTopLevel:AppTop:DaqMuxV2[0]:DataBufferSize 524288\n",
      "[ 2022-11-29 21:39:57 ]  caput smurf_server_s2:AMCc:FpgaTopLevel:AppTop:AppCore:DebugSelect[0] 0\n",
      "[ 2022-11-29 21:39:57 ]  UC (DAC) att: 0\n",
      "[ 2022-11-29 21:39:57 ]  DC (ADC) att: 0\n",
      "[ 2022-11-29 21:39:58 ]  caput smurf_server_s2:AMCc:FpgaTopLevel:AppTop:DaqMuxV2[0]:DataBufferSize 4096\n",
      "[ 2022-11-29 21:39:58 ]  caput smurf_server_s2:AMCc:FpgaTopLevel:AppTop:AppCore:DebugSelect[0] 0\n",
      "[ 2022-11-29 21:39:58 ]  ADC0 max count: 10160\n",
      "[ 2022-11-29 21:39:58 ]  ADC0 min count: -10172\n",
      "[ 2022-11-29 21:39:58 ]  \u001b[92mADC0 not saturated\u001b[00m\n",
      "[ 2022-11-29 21:39:58 ]  caput smurf_server_s2:AMCc:FpgaTopLevel:AppTop:DaqMuxV2[0]:DataBufferSize 524288\n",
      "[ 2022-11-29 21:39:58 ]  caput smurf_server_s2:AMCc:FpgaTopLevel:AppTop:AppCore:DebugSelect[0] 0\n",
      "[ 2022-11-29 21:39:58 ]  caput smurf_server_s2:AMCc:FpgaTopLevel:AppTop:DaqMuxV2[0]:DataBufferSize 524288\n",
      "[ 2022-11-29 21:39:58 ]  caput smurf_server_s2:AMCc:FpgaTopLevel:AppTop:AppCore:DebugSelect[0] 0\n"
     ]
    },
    {
     "name": "stdout",
     "output_type": "stream",
     "text": [
      "[ 2022-11-29 21:39:58 ]  UC (DAC) att: 0\n",
      "[ 2022-11-29 21:39:58 ]  DC (ADC) att: 0\n"
     ]
    },
    {
     "data": {
      "image/png": "[encoded data removed]",
      "text/plain": [
       "<Figure size 396x216 with 1 Axes>"
      ]
     },
     "metadata": {
      "needs_background": "light"
     },
     "output_type": "display_data"
    }
   ],
   "source": [
    "# For the UC attenuators, the range you can supply is between 0-31 (an integer) where each integer step adds +0.5dB to the attenuation\n",
    "S.set_att_uc(b=0,val=0) # Make sure upconvert attenuators which set the SMuRF output power are zero\n",
    "f,resp=S.full_band_resp(band=0, make_plot=True, show_plot=True, n_scan=10)"
   ]
  },
  {
   "cell_type": "markdown",
   "metadata": {},
   "source": [
    "#### The response is measured about 0MHz baseband which for band=0 is 4250 MHz RF.  We expect two resonators in band 0 ; one at 4.014 GHz and one at 4.388 GHz, or at  MHz and  MHz."
   ]
  },
  {
   "cell_type": "code",
   "execution_count": 6,
   "metadata": {},
   "outputs": [
    {
     "data": {
      "image/png": "[encoded data removed]",
      "text/plain": [
       "<Figure size 432x288 with 1 Axes>"
      ]
     },
     "metadata": {
      "needs_background": "light"
     },
     "output_type": "display_data"
    },
    {
     "data": {
      "image/png": "[encoded data removed]",
      "text/plain": [
       "<Figure size 432x288 with 1 Axes>"
      ]
     },
     "metadata": {
      "needs_background": "light"
     },
     "output_type": "display_data"
    }
   ],
   "source": [
    "f_res_arr = [4.013e9, 4.3872e9] # expected resonant frequencies\n",
    "q_exp_arr = [4000,10000] # expected coupled quality factors\n",
    "\n",
    "for f_res, q_exp in zip(f_res_arr, q_exp_arr):\n",
    "    df = f_res/q_exp*2\n",
    "    f_res_band = np.mod(f_res,500e6)-250e6\n",
    "    plt.xlim((f_res_band-df),(f_res_band+df))\n",
    "    plt.ylim(-15,5)\n",
    "    plt.plot(f,10.*np.log10(np.abs(resp)))\n",
    "    plt.show()"
   ]
  },
  {
   "cell_type": "markdown",
   "metadata": {},
   "source": [
    "### Identifying resonator locations\n",
    "\n",
    "Each SMuRF band is processed by an oversampled x2 polyphase filter bank.  The filter bank breaks the +/-307.2MHz band into subbands.  Subband 0...127 correspond to -307.2MHz...307.2MHz.  Only subbands +/-250MHz are processed.  We can do a tone sweep to see the subband structure and identify resonator locations within each subband.  The plot shows the interleaved subbands in different colors."
   ]
  },
  {
   "cell_type": "code",
   "execution_count": 7,
   "metadata": {},
   "outputs": [
    {
     "name": "stdout",
     "output_type": "stream",
     "text": [
      "[ 2022-03-19 00:04:21 ]  Sweeping across frequencies 4000.0MHz to 4500.0MHz\n",
      "[ 2022-03-19 00:04:21 ]  Working on band 0\n",
      "[ 2022-03-19 00:04:56 ]  serial find freq complete ; etaScanInProgress = 0\n"
     ]
    },
    {
     "name": "stderr",
     "output_type": "stream",
     "text": [
      "/usr/local/src/pysmurf/python/pysmurf/client/tune/smurf_tune.py:896: RuntimeWarning: invalid value encountered in double_scalars\n",
      "  if 1-amp[idx]/med_amp[idx] > amp_cut:\n"
     ]
    },
    {
     "data": {
      "image/png": "[encoded data removed]",
      "text/plain": [
       "<Figure size 720x288 with 1 Axes>"
      ]
     },
     "metadata": {
      "needs_background": "light"
     },
     "output_type": "display_data"
    },
    {
     "data": {
      "text/plain": [
       "(array([[0., 0., 0., ..., 0., 0., 0.],\n",
       "        [0., 0., 0., ..., 0., 0., 0.],\n",
       "        [0., 0., 0., ..., 0., 0., 0.],\n",
       "        ...,\n",
       "        [0., 0., 0., ..., 0., 0., 0.],\n",
       "        [0., 0., 0., ..., 0., 0., 0.],\n",
       "        [0., 0., 0., ..., 0., 0., 0.]]),\n",
       " array([[0.+0.j, 0.+0.j, 0.+0.j, ..., 0.+0.j, 0.+0.j, 0.+0.j],\n",
       "        [0.+0.j, 0.+0.j, 0.+0.j, ..., 0.+0.j, 0.+0.j, 0.+0.j],\n",
       "        [0.+0.j, 0.+0.j, 0.+0.j, ..., 0.+0.j, 0.+0.j, 0.+0.j],\n",
       "        ...,\n",
       "        [0.+0.j, 0.+0.j, 0.+0.j, ..., 0.+0.j, 0.+0.j, 0.+0.j],\n",
       "        [0.+0.j, 0.+0.j, 0.+0.j, ..., 0.+0.j, 0.+0.j, 0.+0.j],\n",
       "        [0.+0.j, 0.+0.j, 0.+0.j, ..., 0.+0.j, 0.+0.j, 0.+0.j]]))"
      ]
     },
     "execution_count": 7,
     "metadata": {},
     "output_type": "execute_result"
    }
   ],
   "source": [
    "S.find_freq(band=0, tone_power=tone_power, make_plot=True, show_plot=True)"
   ]
  },
  {
   "cell_type": "markdown",
   "metadata": {},
   "source": [
    "### Fine resolution resonator scans\n",
    "Next we run a fine resonator scan and set the nominal tone frequency, drive power and rotation.  Feedback operates on the RF demodulated Q and performs feedback to drive Q to 0."
   ]
  },
  {
   "cell_type": "code",
   "execution_count": 8,
   "metadata": {},
   "outputs": [
    {
     "name": "stdout",
     "output_type": "stream",
     "text": [
      "[ 2022-03-19 00:04:59 ]  freq 4012.7600 - 1 of 2\n",
      "[ 2022-03-19 00:04:59 ]  freq 4387.1600 - 2 of 2\n",
      "[ 2022-03-19 00:04:59 ]  Writing new channel assignment to /data/smurf_data/tune/1647648300_channel_assignment_b0.txt\n",
      "[ 2022-03-19 00:04:59 ]  Old master assignment file: /data/smurf_data/tune/1647638760_channel_assignment_b0.txt\n",
      "[ 2022-03-19 00:04:59 ]  New master assignment file: /data/smurf_data/tune/1647648300_channel_assignment_b0.txt\n",
      "[ 2022-03-19 00:05:01 ]  serial find freq complete ; etaScanInProgress = 0\n",
      "[ 2022-03-19 00:05:01 ]  Assigning channels\n",
      "[ 2022-03-19 00:05:01 ]  Writing new channel assignment to /data/smurf_data/tune/1647648302_channel_assignment_b0.txt\n",
      "[ 2022-03-19 00:05:01 ]  Old master assignment file: /data/smurf_data/tune/1647648300_channel_assignment_b0.txt\n",
      "[ 2022-03-19 00:05:01 ]  New master assignment file: /data/smurf_data/tune/1647648302_channel_assignment_b0.txt\n",
      "[ 2022-03-19 00:05:01 ]  Saving to : /data/smurf_data/tune/1647648302_tune.npy\n",
      "[ 2022-03-19 00:05:01 ]  Relocking...\n",
      "[ 2022-03-19 00:05:03 ]  Setting on 2 channels on band 0\n",
      "[ 2022-03-19 00:05:04 ]  Eta plot 1 of 2\n",
      "[ 2022-03-19 00:05:05 ]  Eta plot 2 of 2\n",
      "These plots are saved at: /data/smurf_data/20220319/1647648242/plots\n"
     ]
    }
   ],
   "source": [
    "S.setup_notches(band=0, tone_power=tone_power, sweep_width=1, delta_freq=0.1, df_sweep=0.01, new_master_assignment=True)\n",
    "# Plots will be saved in S.plot_dir\n",
    "S.plot_tune_summary(band=0, eta_scan=True)\n",
    "print(\"These plots are saved at: \" + S.plot_dir)\n",
    "# run a gradient descent to find resonator dip\n",
    "S.run_serial_gradient_descent(0) \n",
    "# run eta scan to normalize resonator gain (delta Q -> delta frequency) and apply rotation such that Q is nominally 0\n",
    "S.run_serial_eta_scan(0) "
   ]
  },
  {
   "cell_type": "code",
   "execution_count": 9,
   "metadata": {},
   "outputs": [
    {
     "data": {
      "text/plain": [
       "'/data/smurf_data/20220319/1647648242/plots'"
      ]
     },
     "execution_count": 9,
     "metadata": {},
     "output_type": "execute_result"
    }
   ],
   "source": [
    "S.plot_dir"
   ]
  },
  {
   "cell_type": "markdown",
   "metadata": {},
   "source": [
    "# Tracking on the resonators"
   ]
  },
  {
   "cell_type": "markdown",
   "metadata": {},
   "source": [
    "First let's check if we see the resonators respond to the flux ramp at all.  For that you can disable tracking and turn the flux ramp on ; you should see the resonator modulate in the error plot.  "
   ]
  },
  {
   "cell_type": "code",
   "execution_count": 10,
   "metadata": {},
   "outputs": [],
   "source": [
    "S.flux_ramp_off()\n",
    "S.set_feedback_enable(0,1)"
   ]
  },
  {
   "cell_type": "code",
   "execution_count": 11,
   "metadata": {},
   "outputs": [],
   "source": [
    "S.set_filter_disable(False)\n",
    "S.set_downsample_factor(20)"
   ]
  },
  {
   "cell_type": "code",
   "execution_count": 12,
   "metadata": {
    "scrolled": true
   },
   "outputs": [
    {
     "data": {
      "text/plain": [
       "array([ 92, 121])"
      ]
     },
     "execution_count": 12,
     "metadata": {},
     "output_type": "execute_result"
    }
   ],
   "source": [
    "S.which_on(0)"
   ]
  },
  {
   "cell_type": "code",
   "execution_count": 14,
   "metadata": {
    "scrolled": true
   },
   "outputs": [
    {
     "name": "stdout",
     "output_type": "stream",
     "text": [
      "[ 2022-03-19 00:05:42 ]  Starting fraction full scale : 0.099\n",
      "[ 2022-03-19 00:05:42 ]  Percent full scale = 9.852%\n",
      "[ 2022-03-19 00:05:42 ]  caput smurf_server_s2:AMCc:FpgaTopLevel:AppTop:AppCore:SysgenCryo:Base[0]:singleChannelReadout 0\n",
      "[ 2022-03-19 00:05:42 ]  caput smurf_server_s2:AMCc:FpgaTopLevel:AppTop:AppCore:SysgenCryo:Base[0]:singleChannelReadoutOpt2 0\n",
      "[ 2022-03-19 00:05:42 ]  Writing to file : /data/smurf_data/20220319/1647648242/outputs/1647648343.dat\n",
      "[ 2022-03-19 00:05:42 ]  caput smurf_server_s2:AMCc:FpgaTopLevel:AppTop:DaqMuxV2[0]:DataBufferSize 524288\n",
      "[ 2022-03-19 00:05:42 ]  caput smurf_server_s2:AMCc:FpgaTopLevel:AppTop:AppCore:DebugSelect[0] 0\n",
      "[ 2022-03-19 00:05:42 ]  Data acquisition in progress...\n",
      "[ 2022-03-19 00:05:42 ]  caput smurf_server_s2:AMCc:FpgaTopLevel:AppTop:DaqMuxV2[0]:TriggerDaq 1\n",
      "[ 2022-03-19 00:05:44 ]  Done taking data\n",
      "[ 2022-03-19 00:05:44 ]  Number of channels on : 2\n",
      "[ 2022-03-19 00:05:44 ]  Number of channels on with flux ramp response : 2\n",
      "[ 2022-03-19 00:05:44 ]  Percent full scale = nan%\n"
     ]
    },
    {
     "ename": "ValueError",
     "evalue": "cannot convert float NaN to integer",
     "output_type": "error",
     "traceback": [
      "\u001b[0;31m---------------------------------------------------------------------------\u001b[0m",
      "\u001b[0;31mTypeError\u001b[0m                                 Traceback (most recent call last)",
      "\u001b[0;32m/usr/local/lib/python3.6/dist-packages/epics/ca.py\u001b[0m in \u001b[0;36mput\u001b[0;34m(chid, value, wait, timeout, callback, callback_data)\u001b[0m\n\u001b[1;32m   1674\u001b[0m             \u001b[0;32mtry\u001b[0m\u001b[0;34m:\u001b[0m\u001b[0;34m\u001b[0m\u001b[0;34m\u001b[0m\u001b[0m\n\u001b[0;32m-> 1675\u001b[0;31m                 \u001b[0mdata\u001b[0m\u001b[0;34m[\u001b[0m\u001b[0;36m0\u001b[0m\u001b[0;34m]\u001b[0m \u001b[0;34m=\u001b[0m \u001b[0mvalue\u001b[0m\u001b[0;34m\u001b[0m\u001b[0;34m\u001b[0m\u001b[0m\n\u001b[0m\u001b[1;32m   1676\u001b[0m             \u001b[0;32mexcept\u001b[0m \u001b[0mTypeError\u001b[0m\u001b[0;34m:\u001b[0m\u001b[0;34m\u001b[0m\u001b[0;34m\u001b[0m\u001b[0m\n",
      "\u001b[0;31mTypeError\u001b[0m: int expected instead of float",
      "\nDuring handling of the above exception, another exception occurred:\n",
      "\u001b[0;31mValueError\u001b[0m                                Traceback (most recent call last)",
      "\u001b[0;32m<ipython-input-14-27ef6d2583b4>\u001b[0m in \u001b[0;36m<module>\u001b[0;34m\u001b[0m\n\u001b[0;32m----> 1\u001b[0;31m \u001b[0mS\u001b[0m\u001b[0;34m.\u001b[0m\u001b[0mtracking_setup\u001b[0m\u001b[0;34m(\u001b[0m\u001b[0mband\u001b[0m\u001b[0;34m=\u001b[0m\u001b[0;36m0\u001b[0m\u001b[0;34m,\u001b[0m\u001b[0mchannel\u001b[0m\u001b[0;34m=\u001b[0m\u001b[0mS\u001b[0m\u001b[0;34m.\u001b[0m\u001b[0mwhich_on\u001b[0m\u001b[0;34m(\u001b[0m\u001b[0;36m0\u001b[0m\u001b[0;34m)\u001b[0m\u001b[0;34m,\u001b[0m\u001b[0mreset_rate_khz\u001b[0m\u001b[0;34m=\u001b[0m\u001b[0;36m4\u001b[0m\u001b[0;34m,\u001b[0m \u001b[0mfraction_full_scale\u001b[0m\u001b[0;34m=\u001b[0m\u001b[0;36m0.8\u001b[0m\u001b[0;34m,\u001b[0m\u001b[0mmake_plot\u001b[0m\u001b[0;34m=\u001b[0m\u001b[0;32mTrue\u001b[0m\u001b[0;34m,\u001b[0m\u001b[0mshow_plot\u001b[0m\u001b[0;34m=\u001b[0m\u001b[0;32mTrue\u001b[0m\u001b[0;34m,\u001b[0m \u001b[0mlms_freq_hz\u001b[0m\u001b[0;34m=\u001b[0m\u001b[0;32mNone\u001b[0m\u001b[0;34m,\u001b[0m \u001b[0mmeas_flux_ramp_amp\u001b[0m\u001b[0;34m=\u001b[0m\u001b[0;32mTrue\u001b[0m\u001b[0;34m,\u001b[0m \u001b[0mn_phi0\u001b[0m\u001b[0;34m=\u001b[0m\u001b[0;36m3\u001b[0m\u001b[0;34m,\u001b[0m \u001b[0mfeedback_start_frac\u001b[0m\u001b[0;34m=\u001b[0m\u001b[0;36m0.05\u001b[0m\u001b[0;34m,\u001b[0m \u001b[0mfeedback_end_frac\u001b[0m\u001b[0;34m=\u001b[0m\u001b[0;36m0.95\u001b[0m\u001b[0;34m,\u001b[0m \u001b[0mlms_gain\u001b[0m\u001b[0;34m=\u001b[0m\u001b[0;36m1\u001b[0m\u001b[0;34m)\u001b[0m\u001b[0;34m\u001b[0m\u001b[0;34m\u001b[0m\u001b[0m\n\u001b[0m",
      "\u001b[0;32m/usr/local/src/pysmurf/python/pysmurf/client/util/pub.py\u001b[0m in \u001b[0;36mwrapper\u001b[0;34m(S, pub_action, *args, **kwargs)\u001b[0m\n\u001b[1;32m     48\u001b[0m                     \u001b[0mS\u001b[0m\u001b[0;34m.\u001b[0m\u001b[0mpub\u001b[0m\u001b[0;34m.\u001b[0m\u001b[0m_action_ts\u001b[0m \u001b[0;34m=\u001b[0m \u001b[0mS\u001b[0m\u001b[0;34m.\u001b[0m\u001b[0mget_timestamp\u001b[0m\u001b[0;34m(\u001b[0m\u001b[0;34m)\u001b[0m\u001b[0;34m\u001b[0m\u001b[0;34m\u001b[0m\u001b[0m\n\u001b[1;32m     49\u001b[0m \u001b[0;34m\u001b[0m\u001b[0m\n\u001b[0;32m---> 50\u001b[0;31m                 \u001b[0mrv\u001b[0m \u001b[0;34m=\u001b[0m \u001b[0mfunc\u001b[0m\u001b[0;34m(\u001b[0m\u001b[0mS\u001b[0m\u001b[0;34m,\u001b[0m \u001b[0;34m*\u001b[0m\u001b[0margs\u001b[0m\u001b[0;34m,\u001b[0m \u001b[0;34m**\u001b[0m\u001b[0mkwargs\u001b[0m\u001b[0;34m)\u001b[0m\u001b[0;34m\u001b[0m\u001b[0;34m\u001b[0m\u001b[0m\n\u001b[0m\u001b[1;32m     51\u001b[0m \u001b[0;34m\u001b[0m\u001b[0m\n\u001b[1;32m     52\u001b[0m             \u001b[0;32mfinally\u001b[0m\u001b[0;34m:\u001b[0m\u001b[0;34m\u001b[0m\u001b[0;34m\u001b[0m\u001b[0m\n",
      "\u001b[0;32m/usr/local/src/pysmurf/python/pysmurf/client/tune/smurf_tune.py\u001b[0m in \u001b[0;36mtracking_setup\u001b[0;34m(self, band, channel, reset_rate_khz, write_log, make_plot, save_plot, show_plot, nsamp, lms_freq_hz, meas_lms_freq, meas_flux_ramp_amp, n_phi0, flux_ramp, fraction_full_scale, lms_enable1, lms_enable2, lms_enable3, lms_gain, return_data, new_epics_root, feedback_start_frac, feedback_end_frac, setup_flux_ramp, plotname_append)\u001b[0m\n\u001b[1;32m   2578\u001b[0m         \u001b[0;32mif\u001b[0m \u001b[0msetup_flux_ramp\u001b[0m\u001b[0;34m:\u001b[0m\u001b[0;34m\u001b[0m\u001b[0;34m\u001b[0m\u001b[0m\n\u001b[1;32m   2579\u001b[0m             self.flux_ramp_setup(reset_rate_khz, fraction_full_scale,\n\u001b[0;32m-> 2580\u001b[0;31m                              write_log=write_log, new_epics_root=new_epics_root)\n\u001b[0m\u001b[1;32m   2581\u001b[0m         \u001b[0;32melse\u001b[0m\u001b[0;34m:\u001b[0m\u001b[0;34m\u001b[0m\u001b[0;34m\u001b[0m\u001b[0m\n\u001b[1;32m   2582\u001b[0m             self.log(\"Not changing flux ramp status. Use setup_flux_ramp \" +\n",
      "\u001b[0;32m/usr/local/src/pysmurf/python/pysmurf/client/util/pub.py\u001b[0m in \u001b[0;36mwrapper\u001b[0;34m(S, pub_action, *args, **kwargs)\u001b[0m\n\u001b[1;32m     48\u001b[0m                     \u001b[0mS\u001b[0m\u001b[0;34m.\u001b[0m\u001b[0mpub\u001b[0m\u001b[0;34m.\u001b[0m\u001b[0m_action_ts\u001b[0m \u001b[0;34m=\u001b[0m \u001b[0mS\u001b[0m\u001b[0;34m.\u001b[0m\u001b[0mget_timestamp\u001b[0m\u001b[0;34m(\u001b[0m\u001b[0;34m)\u001b[0m\u001b[0;34m\u001b[0m\u001b[0;34m\u001b[0m\u001b[0m\n\u001b[1;32m     49\u001b[0m \u001b[0;34m\u001b[0m\u001b[0m\n\u001b[0;32m---> 50\u001b[0;31m                 \u001b[0mrv\u001b[0m \u001b[0;34m=\u001b[0m \u001b[0mfunc\u001b[0m\u001b[0;34m(\u001b[0m\u001b[0mS\u001b[0m\u001b[0;34m,\u001b[0m \u001b[0;34m*\u001b[0m\u001b[0margs\u001b[0m\u001b[0;34m,\u001b[0m \u001b[0;34m**\u001b[0m\u001b[0mkwargs\u001b[0m\u001b[0;34m)\u001b[0m\u001b[0;34m\u001b[0m\u001b[0;34m\u001b[0m\u001b[0m\n\u001b[0m\u001b[1;32m     51\u001b[0m \u001b[0;34m\u001b[0m\u001b[0m\n\u001b[1;32m     52\u001b[0m             \u001b[0;32mfinally\u001b[0m\u001b[0;34m:\u001b[0m\u001b[0;34m\u001b[0m\u001b[0;34m\u001b[0m\u001b[0m\n",
      "\u001b[0;32m/usr/local/src/pysmurf/python/pysmurf/client/tune/smurf_tune.py\u001b[0m in \u001b[0;36mflux_ramp_setup\u001b[0;34m(self, reset_rate_khz, fraction_full_scale, df_range, band, write_log, new_epics_root)\u001b[0m\n\u001b[1;32m   3149\u001b[0m         self.set_fast_slow_step_size(FastSlowStepSize,\n\u001b[1;32m   3150\u001b[0m             \u001b[0mnew_epics_root\u001b[0m\u001b[0;34m=\u001b[0m\u001b[0mnew_epics_root\u001b[0m\u001b[0;34m,\u001b[0m\u001b[0;34m\u001b[0m\u001b[0;34m\u001b[0m\u001b[0m\n\u001b[0;32m-> 3151\u001b[0;31m             write_log=write_log)\n\u001b[0m\u001b[1;32m   3152\u001b[0m         self.set_fast_slow_rst_value(FastSlowRstValue,\n\u001b[1;32m   3153\u001b[0m             \u001b[0mnew_epics_root\u001b[0m\u001b[0;34m=\u001b[0m\u001b[0mnew_epics_root\u001b[0m\u001b[0;34m,\u001b[0m\u001b[0;34m\u001b[0m\u001b[0;34m\u001b[0m\u001b[0m\n",
      "\u001b[0;32m/usr/local/src/pysmurf/python/pysmurf/client/command/smurf_command.py\u001b[0m in \u001b[0;36mset_fast_slow_step_size\u001b[0;34m(self, val, **kwargs)\u001b[0m\n\u001b[1;32m   3821\u001b[0m         self._caput(\n\u001b[1;32m   3822\u001b[0m             \u001b[0mself\u001b[0m\u001b[0;34m.\u001b[0m\u001b[0mrtm_spi_root\u001b[0m \u001b[0;34m+\u001b[0m \u001b[0mself\u001b[0m\u001b[0;34m.\u001b[0m\u001b[0m_fast_slow_step_size_reg\u001b[0m\u001b[0;34m,\u001b[0m\u001b[0;34m\u001b[0m\u001b[0;34m\u001b[0m\u001b[0m\n\u001b[0;32m-> 3823\u001b[0;31m             val, **kwargs)\n\u001b[0m\u001b[1;32m   3824\u001b[0m \u001b[0;34m\u001b[0m\u001b[0m\n\u001b[1;32m   3825\u001b[0m     \u001b[0;32mdef\u001b[0m \u001b[0mget_fast_slow_step_size\u001b[0m\u001b[0;34m(\u001b[0m\u001b[0mself\u001b[0m\u001b[0;34m,\u001b[0m \u001b[0;34m**\u001b[0m\u001b[0mkwargs\u001b[0m\u001b[0;34m)\u001b[0m\u001b[0;34m:\u001b[0m\u001b[0;34m\u001b[0m\u001b[0;34m\u001b[0m\u001b[0m\n",
      "\u001b[0;32m/usr/local/src/pysmurf/python/pysmurf/client/command/smurf_command.py\u001b[0m in \u001b[0;36m_caput\u001b[0;34m(self, cmd, val, write_log, execute, wait_before, wait_after, wait_done, log_level, enable_poll, disable_poll, new_epics_root, **kwargs)\u001b[0m\n\u001b[1;32m     93\u001b[0m \u001b[0;34m\u001b[0m\u001b[0m\n\u001b[1;32m     94\u001b[0m         \u001b[0;32mif\u001b[0m \u001b[0mexecute\u001b[0m \u001b[0;32mand\u001b[0m \u001b[0;32mnot\u001b[0m \u001b[0mself\u001b[0m\u001b[0;34m.\u001b[0m\u001b[0moffline\u001b[0m\u001b[0;34m:\u001b[0m\u001b[0;34m\u001b[0m\u001b[0;34m\u001b[0m\u001b[0m\n\u001b[0;32m---> 95\u001b[0;31m             \u001b[0mepics\u001b[0m\u001b[0;34m.\u001b[0m\u001b[0mcaput\u001b[0m\u001b[0;34m(\u001b[0m\u001b[0mcmd\u001b[0m\u001b[0;34m,\u001b[0m \u001b[0mval\u001b[0m\u001b[0;34m,\u001b[0m \u001b[0mwait\u001b[0m\u001b[0;34m=\u001b[0m\u001b[0mwait_done\u001b[0m\u001b[0;34m,\u001b[0m \u001b[0;34m**\u001b[0m\u001b[0mkwargs\u001b[0m\u001b[0;34m)\u001b[0m\u001b[0;34m\u001b[0m\u001b[0;34m\u001b[0m\u001b[0m\n\u001b[0m\u001b[1;32m     96\u001b[0m \u001b[0;34m\u001b[0m\u001b[0m\n\u001b[1;32m     97\u001b[0m         \u001b[0;32mif\u001b[0m \u001b[0mwait_after\u001b[0m \u001b[0;32mis\u001b[0m \u001b[0;32mnot\u001b[0m \u001b[0;32mNone\u001b[0m\u001b[0;34m:\u001b[0m\u001b[0;34m\u001b[0m\u001b[0;34m\u001b[0m\u001b[0m\n",
      "\u001b[0;32m/usr/local/lib/python3.6/dist-packages/epics/__init__.py\u001b[0m in \u001b[0;36mcaput\u001b[0;34m(pvname, value, wait, timeout)\u001b[0m\n\u001b[1;32m     66\u001b[0m     \u001b[0;32mif\u001b[0m \u001b[0mthispv\u001b[0m\u001b[0;34m.\u001b[0m\u001b[0mconnected\u001b[0m\u001b[0;34m:\u001b[0m\u001b[0;34m\u001b[0m\u001b[0;34m\u001b[0m\u001b[0m\n\u001b[1;32m     67\u001b[0m         \u001b[0mtimeout\u001b[0m \u001b[0;34m-=\u001b[0m \u001b[0;34m(\u001b[0m\u001b[0mtime\u001b[0m\u001b[0;34m.\u001b[0m\u001b[0mtime\u001b[0m\u001b[0;34m(\u001b[0m\u001b[0;34m)\u001b[0m \u001b[0;34m-\u001b[0m \u001b[0mstart_time\u001b[0m\u001b[0;34m)\u001b[0m\u001b[0;34m\u001b[0m\u001b[0;34m\u001b[0m\u001b[0m\n\u001b[0;32m---> 68\u001b[0;31m         \u001b[0;32mreturn\u001b[0m \u001b[0mthispv\u001b[0m\u001b[0;34m.\u001b[0m\u001b[0mput\u001b[0m\u001b[0;34m(\u001b[0m\u001b[0mvalue\u001b[0m\u001b[0;34m,\u001b[0m \u001b[0mwait\u001b[0m\u001b[0;34m=\u001b[0m\u001b[0mwait\u001b[0m\u001b[0;34m,\u001b[0m \u001b[0mtimeout\u001b[0m\u001b[0;34m=\u001b[0m\u001b[0mtimeout\u001b[0m\u001b[0;34m)\u001b[0m\u001b[0;34m\u001b[0m\u001b[0;34m\u001b[0m\u001b[0m\n\u001b[0m\u001b[1;32m     69\u001b[0m \u001b[0;34m\u001b[0m\u001b[0m\n\u001b[1;32m     70\u001b[0m def caget(pvname, as_string=False, count=None, as_numpy=True,\n",
      "\u001b[0;32m/usr/local/lib/python3.6/dist-packages/epics/pv.py\u001b[0m in \u001b[0;36mwrapped\u001b[0;34m(self, *args, **kwargs)\u001b[0m\n\u001b[1;32m     46\u001b[0m             \u001b[0;32mraise\u001b[0m \u001b[0mRuntimeError\u001b[0m\u001b[0;34m(\u001b[0m\u001b[0;34m'Expected CA context is unset'\u001b[0m\u001b[0;34m)\u001b[0m\u001b[0;34m\u001b[0m\u001b[0;34m\u001b[0m\u001b[0m\n\u001b[1;32m     47\u001b[0m         \u001b[0;32melif\u001b[0m \u001b[0mexpected_context\u001b[0m \u001b[0;34m==\u001b[0m \u001b[0minitial_context\u001b[0m\u001b[0;34m:\u001b[0m\u001b[0;34m\u001b[0m\u001b[0;34m\u001b[0m\u001b[0m\n\u001b[0;32m---> 48\u001b[0;31m             \u001b[0;32mreturn\u001b[0m \u001b[0mfunc\u001b[0m\u001b[0;34m(\u001b[0m\u001b[0mself\u001b[0m\u001b[0;34m,\u001b[0m \u001b[0;34m*\u001b[0m\u001b[0margs\u001b[0m\u001b[0;34m,\u001b[0m \u001b[0;34m**\u001b[0m\u001b[0mkwargs\u001b[0m\u001b[0;34m)\u001b[0m\u001b[0;34m\u001b[0m\u001b[0;34m\u001b[0m\u001b[0m\n\u001b[0m\u001b[1;32m     49\u001b[0m \u001b[0;34m\u001b[0m\u001b[0m\n\u001b[1;32m     50\u001b[0m         \u001b[0;31m# If not using the expected context, switch to it here:\u001b[0m\u001b[0;34m\u001b[0m\u001b[0;34m\u001b[0m\u001b[0;34m\u001b[0m\u001b[0m\n",
      "\u001b[0;32m/usr/local/lib/python3.6/dist-packages/epics/pv.py\u001b[0m in \u001b[0;36mput\u001b[0;34m(self, value, wait, timeout, use_complete, callback, callback_data)\u001b[0m\n\u001b[1;32m    650\u001b[0m                       \u001b[0mwait\u001b[0m\u001b[0;34m=\u001b[0m\u001b[0mwait\u001b[0m\u001b[0;34m,\u001b[0m \u001b[0mtimeout\u001b[0m\u001b[0;34m=\u001b[0m\u001b[0mtimeout\u001b[0m\u001b[0;34m,\u001b[0m\u001b[0;34m\u001b[0m\u001b[0;34m\u001b[0m\u001b[0m\n\u001b[1;32m    651\u001b[0m                       \u001b[0mcallback\u001b[0m\u001b[0;34m=\u001b[0m\u001b[0m_put_callback\u001b[0m \u001b[0;32mif\u001b[0m \u001b[0muse_complete\u001b[0m \u001b[0;32mor\u001b[0m \u001b[0mcallback\u001b[0m \u001b[0;32melse\u001b[0m \u001b[0;32mNone\u001b[0m\u001b[0;34m,\u001b[0m\u001b[0;34m\u001b[0m\u001b[0;34m\u001b[0m\u001b[0m\n\u001b[0;32m--> 652\u001b[0;31m                       callback_data=callback_data)\n\u001b[0m\u001b[1;32m    653\u001b[0m \u001b[0;34m\u001b[0m\u001b[0m\n\u001b[1;32m    654\u001b[0m     \u001b[0;32mdef\u001b[0m \u001b[0m_set_charval\u001b[0m\u001b[0;34m(\u001b[0m\u001b[0mself\u001b[0m\u001b[0;34m,\u001b[0m \u001b[0mval\u001b[0m\u001b[0;34m,\u001b[0m \u001b[0mcall_ca\u001b[0m\u001b[0;34m=\u001b[0m\u001b[0;32mTrue\u001b[0m\u001b[0;34m,\u001b[0m \u001b[0mforce_long_string\u001b[0m\u001b[0;34m=\u001b[0m\u001b[0;32mFalse\u001b[0m\u001b[0;34m)\u001b[0m\u001b[0;34m:\u001b[0m\u001b[0;34m\u001b[0m\u001b[0;34m\u001b[0m\u001b[0m\n",
      "\u001b[0;32m/usr/local/lib/python3.6/dist-packages/epics/ca.py\u001b[0m in \u001b[0;36mwrapper\u001b[0;34m(*args, **kwds)\u001b[0m\n\u001b[1;32m    597\u001b[0m                                                 name(chid), timeout))\n\u001b[1;32m    598\u001b[0m \u001b[0;34m\u001b[0m\u001b[0m\n\u001b[0;32m--> 599\u001b[0;31m         \u001b[0;32mreturn\u001b[0m \u001b[0mfcn\u001b[0m\u001b[0;34m(\u001b[0m\u001b[0;34m*\u001b[0m\u001b[0margs\u001b[0m\u001b[0;34m,\u001b[0m \u001b[0;34m**\u001b[0m\u001b[0mkwds\u001b[0m\u001b[0;34m)\u001b[0m\u001b[0;34m\u001b[0m\u001b[0;34m\u001b[0m\u001b[0m\n\u001b[0m\u001b[1;32m    600\u001b[0m     \u001b[0;32mreturn\u001b[0m \u001b[0mwrapper\u001b[0m\u001b[0;34m\u001b[0m\u001b[0;34m\u001b[0m\u001b[0m\n\u001b[1;32m    601\u001b[0m \u001b[0;34m\u001b[0m\u001b[0m\n",
      "\u001b[0;32m/usr/local/lib/python3.6/dist-packages/epics/ca.py\u001b[0m in \u001b[0;36mput\u001b[0;34m(chid, value, wait, timeout, callback, callback_data)\u001b[0m\n\u001b[1;32m   1675\u001b[0m                 \u001b[0mdata\u001b[0m\u001b[0;34m[\u001b[0m\u001b[0;36m0\u001b[0m\u001b[0;34m]\u001b[0m \u001b[0;34m=\u001b[0m \u001b[0mvalue\u001b[0m\u001b[0;34m\u001b[0m\u001b[0;34m\u001b[0m\u001b[0m\n\u001b[1;32m   1676\u001b[0m             \u001b[0;32mexcept\u001b[0m \u001b[0mTypeError\u001b[0m\u001b[0;34m:\u001b[0m\u001b[0;34m\u001b[0m\u001b[0;34m\u001b[0m\u001b[0m\n\u001b[0;32m-> 1677\u001b[0;31m                 \u001b[0mdata\u001b[0m\u001b[0;34m[\u001b[0m\u001b[0;36m0\u001b[0m\u001b[0;34m]\u001b[0m \u001b[0;34m=\u001b[0m \u001b[0mtype\u001b[0m\u001b[0;34m(\u001b[0m\u001b[0mdata\u001b[0m\u001b[0;34m[\u001b[0m\u001b[0;36m0\u001b[0m\u001b[0;34m]\u001b[0m\u001b[0;34m)\u001b[0m\u001b[0;34m(\u001b[0m\u001b[0mvalue\u001b[0m\u001b[0;34m)\u001b[0m\u001b[0;34m\u001b[0m\u001b[0;34m\u001b[0m\u001b[0m\n\u001b[0m\u001b[1;32m   1678\u001b[0m             \u001b[0;32mexcept\u001b[0m\u001b[0;34m:\u001b[0m\u001b[0;34m\u001b[0m\u001b[0;34m\u001b[0m\u001b[0m\n\u001b[1;32m   1679\u001b[0m                 \u001b[0merrmsg\u001b[0m \u001b[0;34m=\u001b[0m \u001b[0;34m\"cannot put value '%s' to PV of type '%s'\"\u001b[0m\u001b[0;34m\u001b[0m\u001b[0;34m\u001b[0m\u001b[0m\n",
      "\u001b[0;31mValueError\u001b[0m: cannot convert float NaN to integer"
     ]
    }
   ],
   "source": [
    "S.tracking_setup(band=0,channel=S.which_on(0),reset_rate_khz=4, fraction_full_scale=0.8,make_plot=True,show_plot=True, lms_freq_hz=None, meas_flux_ramp_amp=True, n_phi0=3, feedback_start_frac=0.05, feedback_end_frac=0.95, lms_gain=1)"
   ]
  },
  {
   "cell_type": "markdown",
   "metadata": {},
   "source": [
    "# Let's try taking Noise"
   ]
  },
  {
   "cell_type": "markdown",
   "metadata": {},
   "source": [
    "The conversion from rad in phi0 to pA is done using this number;"
   ]
  },
  {
   "cell_type": "code",
   "execution_count": null,
   "metadata": {},
   "outputs": [],
   "source": [
    "S._pA_per_phi0"
   ]
  },
  {
   "cell_type": "markdown",
   "metadata": {},
   "source": [
    "Here's how you take 15 seconds of noise;"
   ]
  },
  {
   "cell_type": "code",
   "execution_count": null,
   "metadata": {
    "scrolled": true
   },
   "outputs": [],
   "source": [
    "#S.take_noise_psd(meas_time=30, show_plot=True)"
   ]
  },
  {
   "cell_type": "markdown",
   "metadata": {},
   "source": [
    "# Optimize over a couple of parameters."
   ]
  },
  {
   "cell_type": "code",
   "execution_count": null,
   "metadata": {},
   "outputs": [],
   "source": [
    "class TimeOutException(Exception):\n",
    "    def __init__(self, message):\n",
    "        super(TimeOutException, self).__init__(message)\n",
    "        \n",
    "def signal_handler(signum, frame):\n",
    "    raise TimeOutException(\"Timeout!\") \n",
    "    \n",
    "signal.signal(signal.SIGALRM, signal_handler)\n",
    "signal.alarm(200000)"
   ]
  },
  {
   "cell_type": "code",
   "execution_count": null,
   "metadata": {},
   "outputs": [],
   "source": [
    "if exists(S.output_dir+\"/noise_dict.pckl\"):\n",
    "    noise_dict = pickle.load( open( S.output_dir+\"/noise_dict.pckl\", \"rb\" ) )\n",
    "    print(\"Noise dictionary loaded from memory\")\n",
    "else:\n",
    "    noise_dict = {}"
   ]
  },
  {
   "cell_type": "code",
   "execution_count": null,
   "metadata": {
    "scrolled": true
   },
   "outputs": [],
   "source": [
    "param_list = []\n",
    "\n",
    "band = 0\n",
    "channel = 92\n",
    "tone_powers_arr = [11,12,13,14]\n",
    "att_arr = [0,2,4,6]\n",
    "phin_arr = [2,3,4]\n",
    "lms_gain_arr = [1,2,3,4]\n",
    "ramp_freq_arr = [3,4,6,10]\n",
    "\n",
    "combos = list(itertools.product(tone_powers_arr, att_arr,phin_arr,lms_gain_arr,ramp_freq_arr))\n",
    "\n",
    "for i,combo in enumerate(combos):\n",
    "    tone_power, att, phin, lms_gain,ramp_freq  = combo\n",
    "    print(i, tone_power, att, phin, lms_gain, ramp_freq)\n",
    "    \n",
    "    if combo in noise_dict:\n",
    "        print(\"Already performed\")\n",
    "        \n",
    "    else:\n",
    "        try:\n",
    "            S.set_att_uc(band,att)\n",
    "            S.setup_notches(band=band, \n",
    "                            tone_power=tone_power, \n",
    "                            sweep_width=1, \n",
    "                            delta_freq=0.1, \n",
    "                            df_sweep=0.002, \n",
    "                            new_master_assignment=True)\n",
    "            S.plot_tune_summary(band=0, eta_scan=True)\n",
    "            S.run_serial_gradient_descent(band)\n",
    "            S.run_serial_eta_scan(band)\n",
    "            S.set_feedback_enable(0,1)\n",
    "            S.set_filter_disable(True)\n",
    "            S.set_downsample_factor(1)\n",
    "            f, df, sync = S.tracking_setup(band=band, \n",
    "                             channel=channel, \n",
    "                             reset_rate_khz=ramp_freq, \n",
    "                             fraction_full_scale=0.85, \n",
    "                             lms_freq_hz=None, \n",
    "                             meas_flux_ramp_amp=True, \n",
    "                             n_phi0=phin,\n",
    "                             make_plot=True, \n",
    "                             lms_gain=lms_gain, \n",
    "                             feedback_start_frac=0.1, \n",
    "                             feedback_end_frac=1-0.1, \n",
    "                             lms_enable1=1, \n",
    "                             lms_enable2=1, \n",
    "                             lms_enable3=1)\n",
    "            \n",
    "            fileloc, params = S.take_noise_psd(channel=channel,\n",
    "                                               meas_time=60,\n",
    "                                               save_data=True,\n",
    "                                               show_plot=True,\n",
    "                                               make_channel_plot=True,\n",
    "                                               make_summary_plot=False,\n",
    "                                               return_noise_params=True,\n",
    "                                               write_log=False)\n",
    "            noise_dict[combo] = {}\n",
    "            noise_dict[combo]['tracking'] = [f, df, sync]\n",
    "            noise_dict[combo]['params'] = params\n",
    "            plt.show()\n",
    "            pickle.dump(noise_dict, open( S.output_dir+\"/noise_dict.pckl\", \"wb\" ) )\n",
    "        except ValueError as err:\n",
    "            print(\"Value error: {0}\".format(err))\n",
    "            S.all_off()\n",
    "            S.flux_ramp_off()\n",
    "            print(combo, \"Failed, skipping!\")\n",
    "            noise_dict[combo] = None\n",
    "        except TimeOutException as err: \n",
    "            print(\"Smurf died, restart manually, error: {0}\".format(err))\n",
    "            break\n",
    "        #except ChannelAccessGetFailure:\n",
    "            #print(\"Value error: {0}\".format(err))\n",
    "            #S.all_off()\n",
    "            #print(combo, \"Failed, skipping!\")\n",
    "            #noise_dict[combo] = None\n",
    "            "
   ]
  },
  {
   "cell_type": "code",
   "execution_count": null,
   "metadata": {},
   "outputs": [],
   "source": []
  },
  {
   "cell_type": "code",
   "execution_count": null,
   "metadata": {},
   "outputs": [],
   "source": []
  },
  {
   "cell_type": "code",
   "execution_count": null,
   "metadata": {},
   "outputs": [],
   "source": [
    "noise_dict"
   ]
  },
  {
   "cell_type": "code",
   "execution_count": null,
   "metadata": {},
   "outputs": [],
   "source": []
  },
  {
   "cell_type": "code",
   "execution_count": null,
   "metadata": {},
   "outputs": [],
   "source": [
    "pickle.dump(noise_dict, open( S.output_dir+\"/noise_dict.pckl\", \"wb\" ) )"
   ]
  },
  {
   "cell_type": "code",
   "execution_count": null,
   "metadata": {},
   "outputs": [],
   "source": [
    "pas_list = []\n",
    "for k,v in noise_dict.items():\n",
    "    if v!=None:\n",
    "        for i,res in enumerate(v['params'][0]):\n",
    "            if abs(res-4387)<2:\n",
    "                pas = v['params'][1][1][i]\n",
    "    pas_list.append(pas)"
   ]
  },
  {
   "cell_type": "code",
   "execution_count": null,
   "metadata": {},
   "outputs": [],
   "source": [
    "plt.hist(pas_list,bins=20)"
   ]
  },
  {
   "cell_type": "code",
   "execution_count": null,
   "metadata": {},
   "outputs": [],
   "source": [
    "noise_dict"
   ]
  },
  {
   "cell_type": "code",
   "execution_count": null,
   "metadata": {},
   "outputs": [],
   "source": []
  }
 ],
 "metadata": {
  "kernelspec": {
   "display_name": "Python 3",
   "language": "python",
   "name": "python3"
  },
  "language_info": {
   "codemirror_mode": {
    "name": "ipython",
    "version": 3
   },
   "file_extension": ".py",
   "mimetype": "text/x-python",
   "name": "python",
   "nbconvert_exporter": "python",
   "pygments_lexer": "ipython3",
   "version": "3.6.9"
  }
 },
 "nbformat": 4,
 "nbformat_minor": 4
}
